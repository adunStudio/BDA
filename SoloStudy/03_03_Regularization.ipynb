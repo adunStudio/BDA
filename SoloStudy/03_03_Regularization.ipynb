{
 "cells": [
  {
   "cell_type": "code",
   "execution_count": 22,
   "metadata": {
    "collapsed": true
   },
   "outputs": [
    {
     "data": {
      "text/plain": "   length   height   width\n0     8.4     2.11    1.41\n1    13.7     3.53    2.00\n2    15.0     3.82    2.43\n3    16.2     4.59    2.63\n4    17.4     4.59    2.94",
      "text/html": "<div>\n<style scoped>\n    .dataframe tbody tr th:only-of-type {\n        vertical-align: middle;\n    }\n\n    .dataframe tbody tr th {\n        vertical-align: top;\n    }\n\n    .dataframe thead th {\n        text-align: right;\n    }\n</style>\n<table border=\"1\" class=\"dataframe\">\n  <thead>\n    <tr style=\"text-align: right;\">\n      <th></th>\n      <th>length</th>\n      <th>height</th>\n      <th>width</th>\n    </tr>\n  </thead>\n  <tbody>\n    <tr>\n      <th>0</th>\n      <td>8.4</td>\n      <td>2.11</td>\n      <td>1.41</td>\n    </tr>\n    <tr>\n      <th>1</th>\n      <td>13.7</td>\n      <td>3.53</td>\n      <td>2.00</td>\n    </tr>\n    <tr>\n      <th>2</th>\n      <td>15.0</td>\n      <td>3.82</td>\n      <td>2.43</td>\n    </tr>\n    <tr>\n      <th>3</th>\n      <td>16.2</td>\n      <td>4.59</td>\n      <td>2.63</td>\n    </tr>\n    <tr>\n      <th>4</th>\n      <td>17.4</td>\n      <td>4.59</td>\n      <td>2.94</td>\n    </tr>\n  </tbody>\n</table>\n</div>"
     },
     "metadata": {},
     "output_type": "display_data"
    }
   ],
   "source": [
    "import pandas as pd\n",
    "\n",
    "df = pd.read_csv(\"https://bit.ly/perch_csv\")\n",
    "display(df.head())"
   ]
  },
  {
   "cell_type": "code",
   "execution_count": 23,
   "outputs": [
    {
     "data": {
      "text/plain": "array([[ 8.4 ,  2.11,  1.41],\n       [13.7 ,  3.53,  2.  ],\n       [15.  ,  3.82,  2.43],\n       [16.2 ,  4.59,  2.63],\n       [17.4 ,  4.59,  2.94],\n       [18.  ,  5.22,  3.32],\n       [18.7 ,  5.2 ,  3.12],\n       [19.  ,  5.64,  3.05],\n       [19.6 ,  5.14,  3.04],\n       [20.  ,  5.08,  2.77],\n       [21.  ,  5.69,  3.56],\n       [21.  ,  5.92,  3.31],\n       [21.  ,  5.69,  3.67],\n       [21.3 ,  6.38,  3.53],\n       [22.  ,  6.11,  3.41],\n       [22.  ,  5.64,  3.52],\n       [22.  ,  6.11,  3.52],\n       [22.  ,  5.88,  3.52],\n       [22.  ,  5.52,  4.  ],\n       [22.5 ,  5.86,  3.62],\n       [22.5 ,  6.79,  3.62],\n       [22.7 ,  5.95,  3.63],\n       [23.  ,  5.22,  3.63],\n       [23.5 ,  6.28,  3.72],\n       [24.  ,  7.29,  3.72],\n       [24.  ,  6.38,  3.82],\n       [24.6 ,  6.73,  4.17],\n       [25.  ,  6.44,  3.68],\n       [25.6 ,  6.56,  4.24],\n       [26.5 ,  7.17,  4.14],\n       [27.3 ,  8.32,  5.14],\n       [27.5 ,  7.17,  4.34],\n       [27.5 ,  7.05,  4.34],\n       [27.5 ,  7.28,  4.57],\n       [28.  ,  7.82,  4.2 ],\n       [28.7 ,  7.59,  4.64],\n       [30.  ,  7.62,  4.77],\n       [32.8 , 10.03,  6.02],\n       [34.5 , 10.26,  6.39],\n       [35.  , 11.49,  7.8 ],\n       [36.5 , 10.88,  6.86],\n       [36.  , 10.61,  6.74],\n       [37.  , 10.84,  6.26],\n       [37.  , 10.57,  6.37],\n       [39.  , 11.14,  7.49],\n       [39.  , 11.14,  6.  ],\n       [39.  , 12.43,  7.35],\n       [40.  , 11.93,  7.11],\n       [40.  , 11.73,  7.22],\n       [40.  , 12.38,  7.46],\n       [40.  , 11.14,  6.63],\n       [42.  , 12.8 ,  6.87],\n       [43.  , 11.93,  7.28],\n       [43.  , 12.51,  7.42],\n       [43.5 , 12.6 ,  8.14],\n       [44.  , 12.49,  7.6 ]])"
     },
     "metadata": {},
     "output_type": "display_data"
    }
   ],
   "source": [
    "perch_full = df.to_numpy()\n",
    "display(perch_full)"
   ],
   "metadata": {
    "collapsed": false
   }
  },
  {
   "cell_type": "code",
   "execution_count": 24,
   "outputs": [],
   "source": [
    "import numpy as np\n",
    "\n",
    "perch_weight = np.array([5.9, 32.0, 40.0, 51.5, 70.0, 100.0, 78.0, 80.0, 85.0, 85.0, 110.0,\n",
    "       115.0, 125.0, 130.0, 120.0, 120.0, 130.0, 135.0, 110.0, 130.0,\n",
    "       150.0, 145.0, 150.0, 170.0, 225.0, 145.0, 188.0, 180.0, 197.0,\n",
    "       218.0, 300.0, 260.0, 265.0, 250.0, 250.0, 300.0, 320.0, 514.0,\n",
    "       556.0, 840.0, 685.0, 700.0, 700.0, 690.0, 900.0, 650.0, 820.0,\n",
    "       850.0, 900.0, 1015.0, 820.0, 1100.0, 1000.0, 1100.0, 1000.0,\n",
    "       1000.0])"
   ],
   "metadata": {
    "collapsed": false
   }
  },
  {
   "cell_type": "code",
   "execution_count": 25,
   "outputs": [],
   "source": [
    "from sklearn.model_selection import train_test_split\n",
    "\n",
    "train_input, test_input, train_target, test_target = train_test_split(perch_full, perch_weight, random_state=42)"
   ],
   "metadata": {
    "collapsed": false
   }
  },
  {
   "cell_type": "code",
   "execution_count": 26,
   "outputs": [
    {
     "name": "stdout",
     "output_type": "stream",
     "text": [
      "(42, 3)\n",
      "(42, 9)\n"
     ]
    }
   ],
   "source": [
    "# 다중 회귀 모델 찾기\n",
    "\n",
    "from sklearn.preprocessing import PolynomialFeatures\n",
    "\n",
    "poly = PolynomialFeatures(include_bias=False)\n",
    "poly.fit(train_input) # 새롭게 만들 특성 조합을 찾는다.\n",
    "train_poly = poly.transform(train_input) # 실제로 변환한다.\n",
    "print(train_input.shape)\n",
    "print(train_poly.shape)\n",
    "test_poly = poly.transform(test_input)"
   ],
   "metadata": {
    "collapsed": false
   }
  },
  {
   "cell_type": "code",
   "execution_count": 27,
   "outputs": [
    {
     "name": "stdout",
     "output_type": "stream",
     "text": [
      "0.9903183436982125\n",
      "0.9714559911594168\n"
     ]
    }
   ],
   "source": [
    "from sklearn.linear_model import LinearRegression\n",
    "\n",
    "lr = LinearRegression()\n",
    "lr.fit(train_poly, train_target)\n",
    "print(lr.score(train_poly, train_target))\n",
    "print(lr.score(test_poly, test_target))"
   ],
   "metadata": {
    "collapsed": false
   }
  },
  {
   "cell_type": "code",
   "execution_count": 28,
   "outputs": [
    {
     "name": "stdout",
     "output_type": "stream",
     "text": [
      "(42, 3)\n",
      "(42, 9)\n"
     ]
    }
   ],
   "source": [
    "# 규제\n",
    "# 규제는 머신러닝 모델이 훈련 세트를 너무 과도하게 학습하지 못하도록 훼방하는 것\n",
    "\n",
    "# 그 전에 특성의 스케일을 살펴보자\n",
    "# 스케일이 정규화되지 않으면 여기에 곱해지는 계수 값도 차이 나게 된다.\n",
    "# 일반적으로 선형 회귀 모델에 규제를 적용할 때 계수 값의 크기가 서로 다르면 공정하게 제어디죄 않으므로 정규화를 ㅎㅐ야한다.\n",
    "# StandardScaler 클래스슬 사용해 평균과 표준편차를 구해 표준점수로 바꿔보자.\n",
    "\n",
    "from sklearn.preprocessing import StandardScaler\n",
    "\n",
    "ss = StandardScaler()\n",
    "ss.fit(train_poly)\n",
    "train_scaled = ss.transform(train_poly)\n",
    "test_scaled = ss.transform(test_poly)\n",
    "\n",
    "print(train_input.shape)\n",
    "print(train_poly.shape)"
   ],
   "metadata": {
    "collapsed": false
   }
  },
  {
   "cell_type": "code",
   "execution_count": 31,
   "outputs": [
    {
     "name": "stdout",
     "output_type": "stream",
     "text": [
      "0.9857915060511934\n",
      "0.9835057194929057\n"
     ]
    }
   ],
   "source": [
    "# 릿지 회귀\n",
    "# 릿지와 라쏘 모두 sklearn.linear_model 안에 있다.\n",
    "\n",
    "from sklearn.linear_model import Ridge\n",
    "\n",
    "ridge = Ridge()\n",
    "ridge.fit(train_scaled, train_target)\n",
    "print(ridge.score(train_scaled, train_target))\n",
    "print(ridge.score(test_scaled, test_target))"
   ],
   "metadata": {
    "collapsed": false
   }
  },
  {
   "cell_type": "code",
   "execution_count": 32,
   "outputs": [
    {
     "name": "stdout",
     "output_type": "stream",
     "text": [
      "0.986591255464559\n",
      "0.9846056618190413\n"
     ]
    }
   ],
   "source": [
    "from sklearn.linear_model import Lasso\n",
    "\n",
    "lasso = Lasso()\n",
    "lasso.fit(train_scaled, train_target)\n",
    "print(lasso.score(train_scaled, train_target))\n",
    "print(lasso.score(test_scaled, test_target))"
   ],
   "metadata": {
    "collapsed": false
   }
  },
  {
   "cell_type": "code",
   "execution_count": null,
   "outputs": [],
   "source": [],
   "metadata": {
    "collapsed": false
   }
  }
 ],
 "metadata": {
  "kernelspec": {
   "display_name": "Python 3",
   "language": "python",
   "name": "python3"
  },
  "language_info": {
   "codemirror_mode": {
    "name": "ipython",
    "version": 2
   },
   "file_extension": ".py",
   "mimetype": "text/x-python",
   "name": "python",
   "nbconvert_exporter": "python",
   "pygments_lexer": "ipython2",
   "version": "2.7.6"
  }
 },
 "nbformat": 4,
 "nbformat_minor": 0
}
