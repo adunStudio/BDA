{
 "cells": [
  {
   "cell_type": "code",
   "execution_count": 1,
   "metadata": {
    "collapsed": true
   },
   "outputs": [
    {
     "data": {
      "text/plain": "      alcohol  sugar    pH  class\n0         9.4    1.9  3.51    0.0\n1         9.8    2.6  3.20    0.0\n2         9.8    2.3  3.26    0.0\n3         9.8    1.9  3.16    0.0\n4         9.4    1.9  3.51    0.0\n...       ...    ...   ...    ...\n6492     11.2    1.6  3.27    1.0\n6493      9.6    8.0  3.15    1.0\n6494      9.4    1.2  2.99    1.0\n6495     12.8    1.1  3.34    1.0\n6496     11.8    0.8  3.26    1.0\n\n[6497 rows x 4 columns]",
      "text/html": "<div>\n<style scoped>\n    .dataframe tbody tr th:only-of-type {\n        vertical-align: middle;\n    }\n\n    .dataframe tbody tr th {\n        vertical-align: top;\n    }\n\n    .dataframe thead th {\n        text-align: right;\n    }\n</style>\n<table border=\"1\" class=\"dataframe\">\n  <thead>\n    <tr style=\"text-align: right;\">\n      <th></th>\n      <th>alcohol</th>\n      <th>sugar</th>\n      <th>pH</th>\n      <th>class</th>\n    </tr>\n  </thead>\n  <tbody>\n    <tr>\n      <th>0</th>\n      <td>9.4</td>\n      <td>1.9</td>\n      <td>3.51</td>\n      <td>0.0</td>\n    </tr>\n    <tr>\n      <th>1</th>\n      <td>9.8</td>\n      <td>2.6</td>\n      <td>3.20</td>\n      <td>0.0</td>\n    </tr>\n    <tr>\n      <th>2</th>\n      <td>9.8</td>\n      <td>2.3</td>\n      <td>3.26</td>\n      <td>0.0</td>\n    </tr>\n    <tr>\n      <th>3</th>\n      <td>9.8</td>\n      <td>1.9</td>\n      <td>3.16</td>\n      <td>0.0</td>\n    </tr>\n    <tr>\n      <th>4</th>\n      <td>9.4</td>\n      <td>1.9</td>\n      <td>3.51</td>\n      <td>0.0</td>\n    </tr>\n    <tr>\n      <th>...</th>\n      <td>...</td>\n      <td>...</td>\n      <td>...</td>\n      <td>...</td>\n    </tr>\n    <tr>\n      <th>6492</th>\n      <td>11.2</td>\n      <td>1.6</td>\n      <td>3.27</td>\n      <td>1.0</td>\n    </tr>\n    <tr>\n      <th>6493</th>\n      <td>9.6</td>\n      <td>8.0</td>\n      <td>3.15</td>\n      <td>1.0</td>\n    </tr>\n    <tr>\n      <th>6494</th>\n      <td>9.4</td>\n      <td>1.2</td>\n      <td>2.99</td>\n      <td>1.0</td>\n    </tr>\n    <tr>\n      <th>6495</th>\n      <td>12.8</td>\n      <td>1.1</td>\n      <td>3.34</td>\n      <td>1.0</td>\n    </tr>\n    <tr>\n      <th>6496</th>\n      <td>11.8</td>\n      <td>0.8</td>\n      <td>3.26</td>\n      <td>1.0</td>\n    </tr>\n  </tbody>\n</table>\n<p>6497 rows × 4 columns</p>\n</div>"
     },
     "metadata": {},
     "output_type": "display_data"
    }
   ],
   "source": [
    "import pandas as pd\n",
    "\n",
    "wine = pd.read_csv(\"https://bit.ly/wine-date\")\n",
    "display(wine)"
   ]
  },
  {
   "cell_type": "code",
   "execution_count": 2,
   "outputs": [
    {
     "name": "stdout",
     "output_type": "stream",
     "text": [
      "<class 'pandas.core.frame.DataFrame'>\n",
      "RangeIndex: 6497 entries, 0 to 6496\n",
      "Data columns (total 4 columns):\n",
      " #   Column   Non-Null Count  Dtype  \n",
      "---  ------   --------------  -----  \n",
      " 0   alcohol  6497 non-null   float64\n",
      " 1   sugar    6497 non-null   float64\n",
      " 2   pH       6497 non-null   float64\n",
      " 3   class    6497 non-null   float64\n",
      "dtypes: float64(4)\n",
      "memory usage: 203.2 KB\n"
     ]
    }
   ],
   "source": [
    "wine.info()"
   ],
   "metadata": {
    "collapsed": false
   }
  },
  {
   "cell_type": "code",
   "execution_count": 3,
   "outputs": [
    {
     "data": {
      "text/plain": "           alcohol        sugar           pH        class\ncount  6497.000000  6497.000000  6497.000000  6497.000000\nmean     10.491801     5.443235     3.218501     0.753886\nstd       1.192712     4.757804     0.160787     0.430779\nmin       8.000000     0.600000     2.720000     0.000000\n25%       9.500000     1.800000     3.110000     1.000000\n50%      10.300000     3.000000     3.210000     1.000000\n75%      11.300000     8.100000     3.320000     1.000000\nmax      14.900000    65.800000     4.010000     1.000000",
      "text/html": "<div>\n<style scoped>\n    .dataframe tbody tr th:only-of-type {\n        vertical-align: middle;\n    }\n\n    .dataframe tbody tr th {\n        vertical-align: top;\n    }\n\n    .dataframe thead th {\n        text-align: right;\n    }\n</style>\n<table border=\"1\" class=\"dataframe\">\n  <thead>\n    <tr style=\"text-align: right;\">\n      <th></th>\n      <th>alcohol</th>\n      <th>sugar</th>\n      <th>pH</th>\n      <th>class</th>\n    </tr>\n  </thead>\n  <tbody>\n    <tr>\n      <th>count</th>\n      <td>6497.000000</td>\n      <td>6497.000000</td>\n      <td>6497.000000</td>\n      <td>6497.000000</td>\n    </tr>\n    <tr>\n      <th>mean</th>\n      <td>10.491801</td>\n      <td>5.443235</td>\n      <td>3.218501</td>\n      <td>0.753886</td>\n    </tr>\n    <tr>\n      <th>std</th>\n      <td>1.192712</td>\n      <td>4.757804</td>\n      <td>0.160787</td>\n      <td>0.430779</td>\n    </tr>\n    <tr>\n      <th>min</th>\n      <td>8.000000</td>\n      <td>0.600000</td>\n      <td>2.720000</td>\n      <td>0.000000</td>\n    </tr>\n    <tr>\n      <th>25%</th>\n      <td>9.500000</td>\n      <td>1.800000</td>\n      <td>3.110000</td>\n      <td>1.000000</td>\n    </tr>\n    <tr>\n      <th>50%</th>\n      <td>10.300000</td>\n      <td>3.000000</td>\n      <td>3.210000</td>\n      <td>1.000000</td>\n    </tr>\n    <tr>\n      <th>75%</th>\n      <td>11.300000</td>\n      <td>8.100000</td>\n      <td>3.320000</td>\n      <td>1.000000</td>\n    </tr>\n    <tr>\n      <th>max</th>\n      <td>14.900000</td>\n      <td>65.800000</td>\n      <td>4.010000</td>\n      <td>1.000000</td>\n    </tr>\n  </tbody>\n</table>\n</div>"
     },
     "metadata": {},
     "output_type": "display_data"
    }
   ],
   "source": [
    "display(wine.describe())\n",
    "## 알콜,당도 vs pH값의 스케일이 다르다."
   ],
   "metadata": {
    "collapsed": false
   }
  },
  {
   "cell_type": "code",
   "execution_count": 4,
   "outputs": [],
   "source": [
    "wine_input  = wine[['alcohol', 'sugar', 'pH']].to_numpy()\n",
    "wine_target = wine['class'].to_numpy()"
   ],
   "metadata": {
    "collapsed": false
   }
  },
  {
   "cell_type": "code",
   "execution_count": 7,
   "outputs": [],
   "source": [
    "from sklearn.model_selection import train_test_split\n",
    "\n",
    "train_input, test_input, train_target, test_target = train_test_split(wine_input, wine_target, random_state=42, test_size=0.2)"
   ],
   "metadata": {
    "collapsed": false
   }
  },
  {
   "cell_type": "code",
   "execution_count": 8,
   "outputs": [],
   "source": [
    "from sklearn.preprocessing import StandardScaler\n",
    "\n",
    "ss = StandardScaler()\n",
    "ss.fit(train_input)\n",
    "train_scaled_input = ss.transform(train_input)\n",
    "test_scaled_input = ss.transform(test_input)"
   ],
   "metadata": {
    "collapsed": false
   }
  },
  {
   "cell_type": "code",
   "execution_count": 10,
   "outputs": [
    {
     "name": "stdout",
     "output_type": "stream",
     "text": [
      "0.7808350971714451\n",
      "0.7776923076923077\n"
     ]
    }
   ],
   "source": [
    "from sklearn.linear_model import LogisticRegression\n",
    "\n",
    "lr = LogisticRegression()\n",
    "lr.fit(train_scaled_input, train_target)\n",
    "\n",
    "print(lr.score(train_scaled_input, train_target))\n",
    "print(lr.score(test_scaled_input, test_target))"
   ],
   "metadata": {
    "collapsed": false
   }
  },
  {
   "cell_type": "code",
   "execution_count": 18,
   "outputs": [
    {
     "name": "stdout",
     "output_type": "stream",
     "text": [
      "0.8454877814123533\n",
      "0.8415384615384616\n"
     ]
    }
   ],
   "source": [
    "from sklearn.tree import DecisionTreeClassifier\n",
    "\n",
    "dc = DecisionTreeClassifier(max_depth=3, random_state=42)\n",
    "dc.fit(train_scaled_input, train_target)\n",
    "\n",
    "print(dc.score(train_scaled_input, train_target))\n",
    "print(dc.score(test_scaled_input, test_target))"
   ],
   "metadata": {
    "collapsed": false
   }
  }
 ],
 "metadata": {
  "kernelspec": {
   "display_name": "Python 3",
   "language": "python",
   "name": "python3"
  },
  "language_info": {
   "codemirror_mode": {
    "name": "ipython",
    "version": 2
   },
   "file_extension": ".py",
   "mimetype": "text/x-python",
   "name": "python",
   "nbconvert_exporter": "python",
   "pygments_lexer": "ipython2",
   "version": "2.7.6"
  }
 },
 "nbformat": 4,
 "nbformat_minor": 0
}
