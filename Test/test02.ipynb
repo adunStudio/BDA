{
 "cells": [
  {
   "cell_type": "code",
   "execution_count": 190,
   "metadata": {
    "collapsed": true
   },
   "outputs": [],
   "source": [
    "import pandas as pd"
   ]
  },
  {
   "cell_type": "code",
   "execution_count": 191,
   "outputs": [
    {
     "data": {
      "text/plain": "      CRIM   ZN  INDUS  CHAS    NOX     RM   AGE     DIS  RAD    TAX  PTRATIO  \\\n0  0.00632  NaN   2.31     0  0.538  6.575  65.2  4.0900    1  296.0     15.3   \n1  0.02731  NaN   7.07     0  0.469  6.421  78.9  4.9671    2  242.0     17.8   \n2  0.02729  NaN   7.07     0  0.469  7.185  61.1  4.9671    2  242.0     17.8   \n3  0.03237  NaN   2.18     0  0.458  6.998  45.8  6.0622    3  222.0     18.7   \n4  0.06905  0.0   2.18     0  0.458    NaN  54.2  6.0622    3  222.0     18.7   \n\n        B  LSTAT  MEDV  \n0  396.90   4.98  24.0  \n1  396.90   9.14  21.6  \n2  392.83   4.03  34.7  \n3  394.63   2.94  33.4  \n4  396.90   5.33  36.2  ",
      "text/html": "<div>\n<style scoped>\n    .dataframe tbody tr th:only-of-type {\n        vertical-align: middle;\n    }\n\n    .dataframe tbody tr th {\n        vertical-align: top;\n    }\n\n    .dataframe thead th {\n        text-align: right;\n    }\n</style>\n<table border=\"1\" class=\"dataframe\">\n  <thead>\n    <tr style=\"text-align: right;\">\n      <th></th>\n      <th>CRIM</th>\n      <th>ZN</th>\n      <th>INDUS</th>\n      <th>CHAS</th>\n      <th>NOX</th>\n      <th>RM</th>\n      <th>AGE</th>\n      <th>DIS</th>\n      <th>RAD</th>\n      <th>TAX</th>\n      <th>PTRATIO</th>\n      <th>B</th>\n      <th>LSTAT</th>\n      <th>MEDV</th>\n    </tr>\n  </thead>\n  <tbody>\n    <tr>\n      <th>0</th>\n      <td>0.00632</td>\n      <td>NaN</td>\n      <td>2.31</td>\n      <td>0</td>\n      <td>0.538</td>\n      <td>6.575</td>\n      <td>65.2</td>\n      <td>4.0900</td>\n      <td>1</td>\n      <td>296.0</td>\n      <td>15.3</td>\n      <td>396.90</td>\n      <td>4.98</td>\n      <td>24.0</td>\n    </tr>\n    <tr>\n      <th>1</th>\n      <td>0.02731</td>\n      <td>NaN</td>\n      <td>7.07</td>\n      <td>0</td>\n      <td>0.469</td>\n      <td>6.421</td>\n      <td>78.9</td>\n      <td>4.9671</td>\n      <td>2</td>\n      <td>242.0</td>\n      <td>17.8</td>\n      <td>396.90</td>\n      <td>9.14</td>\n      <td>21.6</td>\n    </tr>\n    <tr>\n      <th>2</th>\n      <td>0.02729</td>\n      <td>NaN</td>\n      <td>7.07</td>\n      <td>0</td>\n      <td>0.469</td>\n      <td>7.185</td>\n      <td>61.1</td>\n      <td>4.9671</td>\n      <td>2</td>\n      <td>242.0</td>\n      <td>17.8</td>\n      <td>392.83</td>\n      <td>4.03</td>\n      <td>34.7</td>\n    </tr>\n    <tr>\n      <th>3</th>\n      <td>0.03237</td>\n      <td>NaN</td>\n      <td>2.18</td>\n      <td>0</td>\n      <td>0.458</td>\n      <td>6.998</td>\n      <td>45.8</td>\n      <td>6.0622</td>\n      <td>3</td>\n      <td>222.0</td>\n      <td>18.7</td>\n      <td>394.63</td>\n      <td>2.94</td>\n      <td>33.4</td>\n    </tr>\n    <tr>\n      <th>4</th>\n      <td>0.06905</td>\n      <td>0.0</td>\n      <td>2.18</td>\n      <td>0</td>\n      <td>0.458</td>\n      <td>NaN</td>\n      <td>54.2</td>\n      <td>6.0622</td>\n      <td>3</td>\n      <td>222.0</td>\n      <td>18.7</td>\n      <td>396.90</td>\n      <td>5.33</td>\n      <td>36.2</td>\n    </tr>\n  </tbody>\n</table>\n</div>"
     },
     "metadata": {},
     "output_type": "display_data"
    }
   ],
   "source": [
    "df = pd.read_csv('https://raw.githubusercontent.com/Datamanim/datarepo/main/krdatacertificate/e2_p1_1.csv')\n",
    "display(df.head())"
   ],
   "metadata": {
    "collapsed": false
   }
  },
  {
   "cell_type": "code",
   "execution_count": 192,
   "outputs": [
    {
     "name": "stderr",
     "output_type": "stream",
     "text": [
      "/var/folders/ks/g557dmv54qsd_xmq2wm8fhhm0000gn/T/ipykernel_8392/276797823.py:8: SettingWithCopyWarning: \n",
      "A value is trying to be set on a copy of a slice from a DataFrame.\n",
      "Try using .loc[row_indexer,col_indexer] = value instead\n",
      "\n",
      "See the caveats in the documentation: https://pandas.pydata.org/pandas-docs/stable/user_guide/indexing.html#returning-a-view-versus-a-copy\n",
      "  target.loc[:9].CRIM = target.loc[:9].CRIM.min()\n"
     ]
    },
    {
     "data": {
      "text/plain": "6.710740791666667"
     },
     "execution_count": 192,
     "metadata": {},
     "output_type": "execute_result"
    }
   ],
   "source": [
    "\"\"\"\n",
    "주어진 Dataset에서 CRIM값이 가장 큰 10개의 지역을 구하고\n",
    "10개의 지역의 CRIM값을 그 중 가장 작은 값으로 대체하라. 그리고\n",
    "AGE 컬럼 값이 80이상인 대체 된 CRIM 평균값을 구하라\n",
    "\"\"\"\n",
    "\n",
    "target = df.sort_values(['CRIM'], ascending=False).reset_index(drop=True)\n",
    "target.loc[:9].CRIM = target.loc[:9].CRIM.min()\n",
    "target[target['AGE'] >= 80].CRIM.mean()"
   ],
   "metadata": {
    "collapsed": false
   }
  },
  {
   "cell_type": "code",
   "execution_count": 193,
   "outputs": [
    {
     "name": "stdout",
     "output_type": "stream",
     "text": [
      "0.027\n"
     ]
    }
   ],
   "source": [
    "\"\"\"\n",
    "1-1에서 사용한 데이터에서 RM 중앙값으로 해당 컬럼의 결측치를 대체하라\n",
    "그리고 해당 컬럼의 결측치 대치 전후의 표준편차 차이의 절댓값을 소숫점 이하 3째자리 까지 구하라\n",
    "\"\"\"\n",
    "prev_std = df['RM'].std()\n",
    "median = df['RM'].median()\n",
    "df['RM'] = df['RM'].fillna(median)\n",
    "current_std = df['RM'].std()\n",
    "\n",
    "print(abs(round(current_std - prev_std, 3)))"
   ],
   "metadata": {
    "collapsed": false
   }
  },
  {
   "cell_type": "code",
   "execution_count": 194,
   "outputs": [
    {
     "data": {
      "text/plain": "404.4101"
     },
     "metadata": {},
     "output_type": "display_data"
    }
   ],
   "source": [
    "\"\"\"\n",
    "주어진 Dataset의 DIS 평균으로 부터 1.5 * 표준편차를 벗어나는 영역을 이상치라고 판단하고\n",
    "DIS 컬럼의 이상치들의 합을 구하여라.\n",
    "\"\"\"\n",
    "\n",
    "mean = df['DIS'].mean()\n",
    "mean_max = mean + df['DIS'].std() * 1.5\n",
    "mean_min = mean - df['DIS'].std() * 1.5\n",
    "target = df[ (mean_min > df[\"DIS\"]) | (mean_max < df[\"DIS\"]) ]\n",
    "display(target.DIS.sum())"
   ],
   "metadata": {
    "collapsed": false
   }
  },
  {
   "cell_type": "code",
   "execution_count": 195,
   "outputs": [
    {
     "data": {
      "text/plain": "     ID Warehouse_block Mode_of_Shipment Customer_care_calls  Customer_rating  \\\n0  6045               A           Flight                   4                3   \n1    44               F             Ship                   3                1   \n2  7940               F             Road                   4                1   \n3  1596               F             Ship                   4                3   \n4  4395               A           Flight                   5                3   \n\n   Cost_of_the_Product  Prior_purchases Product_importance Gender  \\\n0                  266                5               high      F   \n1                  174                2                low      M   \n2                  154               10               high      M   \n3                  158                3             medium      F   \n4                  175                3                low      M   \n\n   Discount_offered  Weight_in_gms  \n0                 5           1590  \n1                44           1556  \n2                10           5674  \n3                27           1207  \n4                 7           4833  ",
      "text/html": "<div>\n<style scoped>\n    .dataframe tbody tr th:only-of-type {\n        vertical-align: middle;\n    }\n\n    .dataframe tbody tr th {\n        vertical-align: top;\n    }\n\n    .dataframe thead th {\n        text-align: right;\n    }\n</style>\n<table border=\"1\" class=\"dataframe\">\n  <thead>\n    <tr style=\"text-align: right;\">\n      <th></th>\n      <th>ID</th>\n      <th>Warehouse_block</th>\n      <th>Mode_of_Shipment</th>\n      <th>Customer_care_calls</th>\n      <th>Customer_rating</th>\n      <th>Cost_of_the_Product</th>\n      <th>Prior_purchases</th>\n      <th>Product_importance</th>\n      <th>Gender</th>\n      <th>Discount_offered</th>\n      <th>Weight_in_gms</th>\n    </tr>\n  </thead>\n  <tbody>\n    <tr>\n      <th>0</th>\n      <td>6045</td>\n      <td>A</td>\n      <td>Flight</td>\n      <td>4</td>\n      <td>3</td>\n      <td>266</td>\n      <td>5</td>\n      <td>high</td>\n      <td>F</td>\n      <td>5</td>\n      <td>1590</td>\n    </tr>\n    <tr>\n      <th>1</th>\n      <td>44</td>\n      <td>F</td>\n      <td>Ship</td>\n      <td>3</td>\n      <td>1</td>\n      <td>174</td>\n      <td>2</td>\n      <td>low</td>\n      <td>M</td>\n      <td>44</td>\n      <td>1556</td>\n    </tr>\n    <tr>\n      <th>2</th>\n      <td>7940</td>\n      <td>F</td>\n      <td>Road</td>\n      <td>4</td>\n      <td>1</td>\n      <td>154</td>\n      <td>10</td>\n      <td>high</td>\n      <td>M</td>\n      <td>10</td>\n      <td>5674</td>\n    </tr>\n    <tr>\n      <th>3</th>\n      <td>1596</td>\n      <td>F</td>\n      <td>Ship</td>\n      <td>4</td>\n      <td>3</td>\n      <td>158</td>\n      <td>3</td>\n      <td>medium</td>\n      <td>F</td>\n      <td>27</td>\n      <td>1207</td>\n    </tr>\n    <tr>\n      <th>4</th>\n      <td>4395</td>\n      <td>A</td>\n      <td>Flight</td>\n      <td>5</td>\n      <td>3</td>\n      <td>175</td>\n      <td>3</td>\n      <td>low</td>\n      <td>M</td>\n      <td>7</td>\n      <td>4833</td>\n    </tr>\n  </tbody>\n</table>\n</div>"
     },
     "metadata": {},
     "output_type": "display_data"
    },
    {
     "data": {
      "text/plain": "     ID  Reached.on.Time_Y.N\n0  6045                    0\n1    44                    1\n2  7940                    1\n3  1596                    1\n4  4395                    1",
      "text/html": "<div>\n<style scoped>\n    .dataframe tbody tr th:only-of-type {\n        vertical-align: middle;\n    }\n\n    .dataframe tbody tr th {\n        vertical-align: top;\n    }\n\n    .dataframe thead th {\n        text-align: right;\n    }\n</style>\n<table border=\"1\" class=\"dataframe\">\n  <thead>\n    <tr style=\"text-align: right;\">\n      <th></th>\n      <th>ID</th>\n      <th>Reached.on.Time_Y.N</th>\n    </tr>\n  </thead>\n  <tbody>\n    <tr>\n      <th>0</th>\n      <td>6045</td>\n      <td>0</td>\n    </tr>\n    <tr>\n      <th>1</th>\n      <td>44</td>\n      <td>1</td>\n    </tr>\n    <tr>\n      <th>2</th>\n      <td>7940</td>\n      <td>1</td>\n    </tr>\n    <tr>\n      <th>3</th>\n      <td>1596</td>\n      <td>1</td>\n    </tr>\n    <tr>\n      <th>4</th>\n      <td>4395</td>\n      <td>1</td>\n    </tr>\n  </tbody>\n</table>\n</div>"
     },
     "metadata": {},
     "output_type": "display_data"
    },
    {
     "data": {
      "text/plain": "     ID Warehouse_block Mode_of_Shipment Customer_care_calls  Customer_rating  \\\n0  6811               D             Ship                   5                2   \n1  4320               F             Ship                   3                5   \n2  5732               F             Road                   3                4   \n3  7429               D             Ship                   4                2   \n4  2191               D           Flight                   4                5   \n\n   Cost_of_the_Product  Prior_purchases Product_importance Gender  \\\n0                  259                5                low      F   \n1                  133                3             medium      F   \n2                  191                5             medium      F   \n3                  221                3                low      M   \n4                  230                2                low      F   \n\n   Discount_offered  Weight_in_gms  \n0                 7           1032  \n1                 4           5902  \n2                 4           4243  \n3                10           4126  \n4                38           2890  ",
      "text/html": "<div>\n<style scoped>\n    .dataframe tbody tr th:only-of-type {\n        vertical-align: middle;\n    }\n\n    .dataframe tbody tr th {\n        vertical-align: top;\n    }\n\n    .dataframe thead th {\n        text-align: right;\n    }\n</style>\n<table border=\"1\" class=\"dataframe\">\n  <thead>\n    <tr style=\"text-align: right;\">\n      <th></th>\n      <th>ID</th>\n      <th>Warehouse_block</th>\n      <th>Mode_of_Shipment</th>\n      <th>Customer_care_calls</th>\n      <th>Customer_rating</th>\n      <th>Cost_of_the_Product</th>\n      <th>Prior_purchases</th>\n      <th>Product_importance</th>\n      <th>Gender</th>\n      <th>Discount_offered</th>\n      <th>Weight_in_gms</th>\n    </tr>\n  </thead>\n  <tbody>\n    <tr>\n      <th>0</th>\n      <td>6811</td>\n      <td>D</td>\n      <td>Ship</td>\n      <td>5</td>\n      <td>2</td>\n      <td>259</td>\n      <td>5</td>\n      <td>low</td>\n      <td>F</td>\n      <td>7</td>\n      <td>1032</td>\n    </tr>\n    <tr>\n      <th>1</th>\n      <td>4320</td>\n      <td>F</td>\n      <td>Ship</td>\n      <td>3</td>\n      <td>5</td>\n      <td>133</td>\n      <td>3</td>\n      <td>medium</td>\n      <td>F</td>\n      <td>4</td>\n      <td>5902</td>\n    </tr>\n    <tr>\n      <th>2</th>\n      <td>5732</td>\n      <td>F</td>\n      <td>Road</td>\n      <td>3</td>\n      <td>4</td>\n      <td>191</td>\n      <td>5</td>\n      <td>medium</td>\n      <td>F</td>\n      <td>4</td>\n      <td>4243</td>\n    </tr>\n    <tr>\n      <th>3</th>\n      <td>7429</td>\n      <td>D</td>\n      <td>Ship</td>\n      <td>4</td>\n      <td>2</td>\n      <td>221</td>\n      <td>3</td>\n      <td>low</td>\n      <td>M</td>\n      <td>10</td>\n      <td>4126</td>\n    </tr>\n    <tr>\n      <th>4</th>\n      <td>2191</td>\n      <td>D</td>\n      <td>Flight</td>\n      <td>4</td>\n      <td>5</td>\n      <td>230</td>\n      <td>2</td>\n      <td>low</td>\n      <td>F</td>\n      <td>38</td>\n      <td>2890</td>\n    </tr>\n  </tbody>\n</table>\n</div>"
     },
     "metadata": {},
     "output_type": "display_data"
    }
   ],
   "source": [
    "import pandas as pd\n",
    "#데이터 로드\n",
    "x_train = pd.read_csv(\"https://raw.githubusercontent.com/Datamanim/datarepo/main/shipping/X_train.csv\")\n",
    "y_train = pd.read_csv(\"https://raw.githubusercontent.com/Datamanim/datarepo/main/shipping/y_train.csv\")\n",
    "x_test= pd.read_csv(\"https://raw.githubusercontent.com/Datamanim/datarepo/main/shipping/X_test.csv\")\n",
    "\n",
    "\n",
    "display(x_train.head())\n",
    "display(y_train.head())\n",
    "display(x_test.head())"
   ],
   "metadata": {
    "collapsed": false
   }
  },
  {
   "cell_type": "code",
   "execution_count": 196,
   "outputs": [],
   "source": [
    "drop_column = ['ID']\n",
    "x_train_drop = x_train.drop(columns=drop_column)\n",
    "x_test_drop = x_test.drop(columns=drop_column)"
   ],
   "metadata": {
    "collapsed": false
   }
  },
  {
   "cell_type": "code",
   "execution_count": 197,
   "outputs": [],
   "source": [
    "from sklearn.model_selection import train_test_split\n",
    "from sklearn.ensemble import RandomForestClassifier"
   ],
   "metadata": {
    "collapsed": false
   }
  },
  {
   "cell_type": "code",
   "execution_count": 198,
   "outputs": [
    {
     "data": {
      "text/plain": "      Customer_rating  Cost_of_the_Product  Prior_purchases  Discount_offered  \\\n0                   3                  266                5                 5   \n1                   1                  174                2                44   \n2                   1                  154               10                10   \n3                   3                  158                3                27   \n4                   3                  175                3                 7   \n...               ...                  ...              ...               ...   \n6593                2                  221                6                 4   \n6594                5                  256                3                10   \n6595                1                  217                4                 1   \n6596                5                  174                3                 8   \n6597                2                  257                4                 1   \n\n      Weight_in_gms  Warehouse_block_A  Warehouse_block_B  Warehouse_block_C  \\\n0              1590               True              False              False   \n1              1556              False              False              False   \n2              5674              False              False              False   \n3              1207              False              False              False   \n4              4833               True              False              False   \n...             ...                ...                ...                ...   \n6593           1952              False              False              False   \n6594           4504              False              False              False   \n6595           5761              False              False              False   \n6596           5576              False              False              False   \n6597           1513              False              False               True   \n\n      Warehouse_block_D  Warehouse_block_F  ...  Customer_care_calls_2  \\\n0                 False              False  ...                  False   \n1                 False               True  ...                  False   \n2                 False               True  ...                  False   \n3                 False               True  ...                  False   \n4                 False              False  ...                  False   \n...                 ...                ...  ...                    ...   \n6593              False               True  ...                  False   \n6594              False               True  ...                  False   \n6595              False               True  ...                  False   \n6596              False               True  ...                  False   \n6597              False              False  ...                  False   \n\n      Customer_care_calls_3  Customer_care_calls_4  Customer_care_calls_5  \\\n0                     False                   True                  False   \n1                      True                  False                  False   \n2                     False                   True                  False   \n3                     False                   True                  False   \n4                     False                  False                   True   \n...                     ...                    ...                    ...   \n6593                  False                  False                   True   \n6594                  False                   True                  False   \n6595                   True                  False                  False   \n6596                  False                   True                  False   \n6597                  False                  False                  False   \n\n      Customer_care_calls_6  Product_importance_high  Product_importance_low  \\\n0                     False                     True                   False   \n1                     False                    False                    True   \n2                     False                     True                   False   \n3                     False                    False                   False   \n4                     False                    False                    True   \n...                     ...                      ...                     ...   \n6593                  False                    False                   False   \n6594                  False                    False                   False   \n6595                  False                    False                   False   \n6596                  False                    False                   False   \n6597                   True                    False                   False   \n\n      Product_importance_medium  Gender_F  Gender_M  \n0                         False      True     False  \n1                         False     False      True  \n2                         False     False      True  \n3                          True      True     False  \n4                         False     False      True  \n...                         ...       ...       ...  \n6593                       True     False      True  \n6594                       True     False      True  \n6595                       True      True     False  \n6596                       True      True     False  \n6597                       True     False      True  \n\n[6598 rows x 24 columns]",
      "text/html": "<div>\n<style scoped>\n    .dataframe tbody tr th:only-of-type {\n        vertical-align: middle;\n    }\n\n    .dataframe tbody tr th {\n        vertical-align: top;\n    }\n\n    .dataframe thead th {\n        text-align: right;\n    }\n</style>\n<table border=\"1\" class=\"dataframe\">\n  <thead>\n    <tr style=\"text-align: right;\">\n      <th></th>\n      <th>Customer_rating</th>\n      <th>Cost_of_the_Product</th>\n      <th>Prior_purchases</th>\n      <th>Discount_offered</th>\n      <th>Weight_in_gms</th>\n      <th>Warehouse_block_A</th>\n      <th>Warehouse_block_B</th>\n      <th>Warehouse_block_C</th>\n      <th>Warehouse_block_D</th>\n      <th>Warehouse_block_F</th>\n      <th>...</th>\n      <th>Customer_care_calls_2</th>\n      <th>Customer_care_calls_3</th>\n      <th>Customer_care_calls_4</th>\n      <th>Customer_care_calls_5</th>\n      <th>Customer_care_calls_6</th>\n      <th>Product_importance_high</th>\n      <th>Product_importance_low</th>\n      <th>Product_importance_medium</th>\n      <th>Gender_F</th>\n      <th>Gender_M</th>\n    </tr>\n  </thead>\n  <tbody>\n    <tr>\n      <th>0</th>\n      <td>3</td>\n      <td>266</td>\n      <td>5</td>\n      <td>5</td>\n      <td>1590</td>\n      <td>True</td>\n      <td>False</td>\n      <td>False</td>\n      <td>False</td>\n      <td>False</td>\n      <td>...</td>\n      <td>False</td>\n      <td>False</td>\n      <td>True</td>\n      <td>False</td>\n      <td>False</td>\n      <td>True</td>\n      <td>False</td>\n      <td>False</td>\n      <td>True</td>\n      <td>False</td>\n    </tr>\n    <tr>\n      <th>1</th>\n      <td>1</td>\n      <td>174</td>\n      <td>2</td>\n      <td>44</td>\n      <td>1556</td>\n      <td>False</td>\n      <td>False</td>\n      <td>False</td>\n      <td>False</td>\n      <td>True</td>\n      <td>...</td>\n      <td>False</td>\n      <td>True</td>\n      <td>False</td>\n      <td>False</td>\n      <td>False</td>\n      <td>False</td>\n      <td>True</td>\n      <td>False</td>\n      <td>False</td>\n      <td>True</td>\n    </tr>\n    <tr>\n      <th>2</th>\n      <td>1</td>\n      <td>154</td>\n      <td>10</td>\n      <td>10</td>\n      <td>5674</td>\n      <td>False</td>\n      <td>False</td>\n      <td>False</td>\n      <td>False</td>\n      <td>True</td>\n      <td>...</td>\n      <td>False</td>\n      <td>False</td>\n      <td>True</td>\n      <td>False</td>\n      <td>False</td>\n      <td>True</td>\n      <td>False</td>\n      <td>False</td>\n      <td>False</td>\n      <td>True</td>\n    </tr>\n    <tr>\n      <th>3</th>\n      <td>3</td>\n      <td>158</td>\n      <td>3</td>\n      <td>27</td>\n      <td>1207</td>\n      <td>False</td>\n      <td>False</td>\n      <td>False</td>\n      <td>False</td>\n      <td>True</td>\n      <td>...</td>\n      <td>False</td>\n      <td>False</td>\n      <td>True</td>\n      <td>False</td>\n      <td>False</td>\n      <td>False</td>\n      <td>False</td>\n      <td>True</td>\n      <td>True</td>\n      <td>False</td>\n    </tr>\n    <tr>\n      <th>4</th>\n      <td>3</td>\n      <td>175</td>\n      <td>3</td>\n      <td>7</td>\n      <td>4833</td>\n      <td>True</td>\n      <td>False</td>\n      <td>False</td>\n      <td>False</td>\n      <td>False</td>\n      <td>...</td>\n      <td>False</td>\n      <td>False</td>\n      <td>False</td>\n      <td>True</td>\n      <td>False</td>\n      <td>False</td>\n      <td>True</td>\n      <td>False</td>\n      <td>False</td>\n      <td>True</td>\n    </tr>\n    <tr>\n      <th>...</th>\n      <td>...</td>\n      <td>...</td>\n      <td>...</td>\n      <td>...</td>\n      <td>...</td>\n      <td>...</td>\n      <td>...</td>\n      <td>...</td>\n      <td>...</td>\n      <td>...</td>\n      <td>...</td>\n      <td>...</td>\n      <td>...</td>\n      <td>...</td>\n      <td>...</td>\n      <td>...</td>\n      <td>...</td>\n      <td>...</td>\n      <td>...</td>\n      <td>...</td>\n      <td>...</td>\n    </tr>\n    <tr>\n      <th>6593</th>\n      <td>2</td>\n      <td>221</td>\n      <td>6</td>\n      <td>4</td>\n      <td>1952</td>\n      <td>False</td>\n      <td>False</td>\n      <td>False</td>\n      <td>False</td>\n      <td>True</td>\n      <td>...</td>\n      <td>False</td>\n      <td>False</td>\n      <td>False</td>\n      <td>True</td>\n      <td>False</td>\n      <td>False</td>\n      <td>False</td>\n      <td>True</td>\n      <td>False</td>\n      <td>True</td>\n    </tr>\n    <tr>\n      <th>6594</th>\n      <td>5</td>\n      <td>256</td>\n      <td>3</td>\n      <td>10</td>\n      <td>4504</td>\n      <td>False</td>\n      <td>False</td>\n      <td>False</td>\n      <td>False</td>\n      <td>True</td>\n      <td>...</td>\n      <td>False</td>\n      <td>False</td>\n      <td>True</td>\n      <td>False</td>\n      <td>False</td>\n      <td>False</td>\n      <td>False</td>\n      <td>True</td>\n      <td>False</td>\n      <td>True</td>\n    </tr>\n    <tr>\n      <th>6595</th>\n      <td>1</td>\n      <td>217</td>\n      <td>4</td>\n      <td>1</td>\n      <td>5761</td>\n      <td>False</td>\n      <td>False</td>\n      <td>False</td>\n      <td>False</td>\n      <td>True</td>\n      <td>...</td>\n      <td>False</td>\n      <td>True</td>\n      <td>False</td>\n      <td>False</td>\n      <td>False</td>\n      <td>False</td>\n      <td>False</td>\n      <td>True</td>\n      <td>True</td>\n      <td>False</td>\n    </tr>\n    <tr>\n      <th>6596</th>\n      <td>5</td>\n      <td>174</td>\n      <td>3</td>\n      <td>8</td>\n      <td>5576</td>\n      <td>False</td>\n      <td>False</td>\n      <td>False</td>\n      <td>False</td>\n      <td>True</td>\n      <td>...</td>\n      <td>False</td>\n      <td>False</td>\n      <td>True</td>\n      <td>False</td>\n      <td>False</td>\n      <td>False</td>\n      <td>False</td>\n      <td>True</td>\n      <td>True</td>\n      <td>False</td>\n    </tr>\n    <tr>\n      <th>6597</th>\n      <td>2</td>\n      <td>257</td>\n      <td>4</td>\n      <td>1</td>\n      <td>1513</td>\n      <td>False</td>\n      <td>False</td>\n      <td>True</td>\n      <td>False</td>\n      <td>False</td>\n      <td>...</td>\n      <td>False</td>\n      <td>False</td>\n      <td>False</td>\n      <td>False</td>\n      <td>True</td>\n      <td>False</td>\n      <td>False</td>\n      <td>True</td>\n      <td>False</td>\n      <td>True</td>\n    </tr>\n  </tbody>\n</table>\n<p>6598 rows × 24 columns</p>\n</div>"
     },
     "metadata": {},
     "output_type": "display_data"
    }
   ],
   "source": [
    "x_train_dummies = pd.get_dummies(x_train_drop)\n",
    "display(x_train_dummies)\n",
    "x_test_dummies = pd.get_dummies(x_test_drop)\n",
    "x_test_dummies = x_test_dummies[x_train_dummies.columns]"
   ],
   "metadata": {
    "collapsed": false
   }
  },
  {
   "cell_type": "code",
   "execution_count": 199,
   "outputs": [],
   "source": [
    "y = y_train['Reached.on.Time_Y.N']"
   ],
   "metadata": {
    "collapsed": false
   }
  },
  {
   "cell_type": "code",
   "execution_count": 200,
   "outputs": [],
   "source": [
    "X_train, X_validation, Y_train, Y_validation = train_test_split(x_train_dummies, y)"
   ],
   "metadata": {
    "collapsed": false
   }
  },
  {
   "cell_type": "code",
   "execution_count": 201,
   "outputs": [
    {
     "data": {
      "text/plain": "RandomForestClassifier()",
      "text/html": "<style>#sk-container-id-4 {color: black;background-color: white;}#sk-container-id-4 pre{padding: 0;}#sk-container-id-4 div.sk-toggleable {background-color: white;}#sk-container-id-4 label.sk-toggleable__label {cursor: pointer;display: block;width: 100%;margin-bottom: 0;padding: 0.3em;box-sizing: border-box;text-align: center;}#sk-container-id-4 label.sk-toggleable__label-arrow:before {content: \"▸\";float: left;margin-right: 0.25em;color: #696969;}#sk-container-id-4 label.sk-toggleable__label-arrow:hover:before {color: black;}#sk-container-id-4 div.sk-estimator:hover label.sk-toggleable__label-arrow:before {color: black;}#sk-container-id-4 div.sk-toggleable__content {max-height: 0;max-width: 0;overflow: hidden;text-align: left;background-color: #f0f8ff;}#sk-container-id-4 div.sk-toggleable__content pre {margin: 0.2em;color: black;border-radius: 0.25em;background-color: #f0f8ff;}#sk-container-id-4 input.sk-toggleable__control:checked~div.sk-toggleable__content {max-height: 200px;max-width: 100%;overflow: auto;}#sk-container-id-4 input.sk-toggleable__control:checked~label.sk-toggleable__label-arrow:before {content: \"▾\";}#sk-container-id-4 div.sk-estimator input.sk-toggleable__control:checked~label.sk-toggleable__label {background-color: #d4ebff;}#sk-container-id-4 div.sk-label input.sk-toggleable__control:checked~label.sk-toggleable__label {background-color: #d4ebff;}#sk-container-id-4 input.sk-hidden--visually {border: 0;clip: rect(1px 1px 1px 1px);clip: rect(1px, 1px, 1px, 1px);height: 1px;margin: -1px;overflow: hidden;padding: 0;position: absolute;width: 1px;}#sk-container-id-4 div.sk-estimator {font-family: monospace;background-color: #f0f8ff;border: 1px dotted black;border-radius: 0.25em;box-sizing: border-box;margin-bottom: 0.5em;}#sk-container-id-4 div.sk-estimator:hover {background-color: #d4ebff;}#sk-container-id-4 div.sk-parallel-item::after {content: \"\";width: 100%;border-bottom: 1px solid gray;flex-grow: 1;}#sk-container-id-4 div.sk-label:hover label.sk-toggleable__label {background-color: #d4ebff;}#sk-container-id-4 div.sk-serial::before {content: \"\";position: absolute;border-left: 1px solid gray;box-sizing: border-box;top: 0;bottom: 0;left: 50%;z-index: 0;}#sk-container-id-4 div.sk-serial {display: flex;flex-direction: column;align-items: center;background-color: white;padding-right: 0.2em;padding-left: 0.2em;position: relative;}#sk-container-id-4 div.sk-item {position: relative;z-index: 1;}#sk-container-id-4 div.sk-parallel {display: flex;align-items: stretch;justify-content: center;background-color: white;position: relative;}#sk-container-id-4 div.sk-item::before, #sk-container-id-4 div.sk-parallel-item::before {content: \"\";position: absolute;border-left: 1px solid gray;box-sizing: border-box;top: 0;bottom: 0;left: 50%;z-index: -1;}#sk-container-id-4 div.sk-parallel-item {display: flex;flex-direction: column;z-index: 1;position: relative;background-color: white;}#sk-container-id-4 div.sk-parallel-item:first-child::after {align-self: flex-end;width: 50%;}#sk-container-id-4 div.sk-parallel-item:last-child::after {align-self: flex-start;width: 50%;}#sk-container-id-4 div.sk-parallel-item:only-child::after {width: 0;}#sk-container-id-4 div.sk-dashed-wrapped {border: 1px dashed gray;margin: 0 0.4em 0.5em 0.4em;box-sizing: border-box;padding-bottom: 0.4em;background-color: white;}#sk-container-id-4 div.sk-label label {font-family: monospace;font-weight: bold;display: inline-block;line-height: 1.2em;}#sk-container-id-4 div.sk-label-container {text-align: center;}#sk-container-id-4 div.sk-container {/* jupyter's `normalize.less` sets `[hidden] { display: none; }` but bootstrap.min.css set `[hidden] { display: none !important; }` so we also need the `!important` here to be able to override the default hidden behavior on the sphinx rendered scikit-learn.org. See: https://github.com/scikit-learn/scikit-learn/issues/21755 */display: inline-block !important;position: relative;}#sk-container-id-4 div.sk-text-repr-fallback {display: none;}</style><div id=\"sk-container-id-4\" class=\"sk-top-container\"><div class=\"sk-text-repr-fallback\"><pre>RandomForestClassifier()</pre><b>In a Jupyter environment, please rerun this cell to show the HTML representation or trust the notebook. <br />On GitHub, the HTML representation is unable to render, please try loading this page with nbviewer.org.</b></div><div class=\"sk-container\" hidden><div class=\"sk-item\"><div class=\"sk-estimator sk-toggleable\"><input class=\"sk-toggleable__control sk-hidden--visually\" id=\"sk-estimator-id-4\" type=\"checkbox\" checked><label for=\"sk-estimator-id-4\" class=\"sk-toggleable__label sk-toggleable__label-arrow\">RandomForestClassifier</label><div class=\"sk-toggleable__content\"><pre>RandomForestClassifier()</pre></div></div></div></div></div>"
     },
     "execution_count": 201,
     "metadata": {},
     "output_type": "execute_result"
    }
   ],
   "source": [
    "rf = RandomForestClassifier()\n",
    "rf.fit(X_train, Y_train)"
   ],
   "metadata": {
    "collapsed": false
   }
  },
  {
   "cell_type": "code",
   "execution_count": 202,
   "outputs": [
    {
     "data": {
      "text/plain": "['ConfusionMatrixDisplay',\n 'DetCurveDisplay',\n 'DistanceMetric',\n 'PrecisionRecallDisplay',\n 'PredictionErrorDisplay',\n 'RocCurveDisplay',\n 'SCORERS',\n '__all__',\n '__builtins__',\n '__cached__',\n '__doc__',\n '__file__',\n '__loader__',\n '__name__',\n '__package__',\n '__path__',\n '__spec__',\n '_base',\n '_classification',\n '_dist_metrics',\n '_pairwise_distances_reduction',\n '_pairwise_fast',\n '_plot',\n '_ranking',\n '_regression',\n '_scorer',\n 'accuracy_score',\n 'adjusted_mutual_info_score',\n 'adjusted_rand_score',\n 'auc',\n 'average_precision_score',\n 'balanced_accuracy_score',\n 'brier_score_loss',\n 'calinski_harabasz_score',\n 'check_scoring',\n 'class_likelihood_ratios',\n 'classification_report',\n 'cluster',\n 'cohen_kappa_score',\n 'completeness_score',\n 'confusion_matrix',\n 'consensus_score',\n 'coverage_error',\n 'd2_absolute_error_score',\n 'd2_pinball_score',\n 'd2_tweedie_score',\n 'davies_bouldin_score',\n 'dcg_score',\n 'det_curve',\n 'euclidean_distances',\n 'explained_variance_score',\n 'f1_score',\n 'fbeta_score',\n 'fowlkes_mallows_score',\n 'get_scorer',\n 'get_scorer_names',\n 'hamming_loss',\n 'hinge_loss',\n 'homogeneity_completeness_v_measure',\n 'homogeneity_score',\n 'jaccard_score',\n 'label_ranking_average_precision_score',\n 'label_ranking_loss',\n 'log_loss',\n 'make_scorer',\n 'matthews_corrcoef',\n 'max_error',\n 'mean_absolute_error',\n 'mean_absolute_percentage_error',\n 'mean_gamma_deviance',\n 'mean_pinball_loss',\n 'mean_poisson_deviance',\n 'mean_squared_error',\n 'mean_squared_log_error',\n 'mean_tweedie_deviance',\n 'median_absolute_error',\n 'multilabel_confusion_matrix',\n 'mutual_info_score',\n 'nan_euclidean_distances',\n 'ndcg_score',\n 'normalized_mutual_info_score',\n 'pair_confusion_matrix',\n 'pairwise',\n 'pairwise_distances',\n 'pairwise_distances_argmin',\n 'pairwise_distances_argmin_min',\n 'pairwise_distances_chunked',\n 'pairwise_kernels',\n 'precision_recall_curve',\n 'precision_recall_fscore_support',\n 'precision_score',\n 'r2_score',\n 'rand_score',\n 'recall_score',\n 'roc_auc_score',\n 'roc_curve',\n 'silhouette_samples',\n 'silhouette_score',\n 'top_k_accuracy_score',\n 'v_measure_score',\n 'zero_one_loss']"
     },
     "execution_count": 202,
     "metadata": {},
     "output_type": "execute_result"
    }
   ],
   "source": [
    "dir(sklearn.metrics)\n"
   ],
   "metadata": {
    "collapsed": false
   }
  },
  {
   "cell_type": "code",
   "execution_count": 203,
   "outputs": [
    {
     "data": {
      "text/plain": "array([1, 1, 0, ..., 1, 1, 0])"
     },
     "metadata": {},
     "output_type": "display_data"
    },
    {
     "data": {
      "text/plain": "array([0.83, 0.77, 0.05, ..., 0.76, 1.  , 0.16])"
     },
     "metadata": {},
     "output_type": "display_data"
    }
   ],
   "source": [
    "from sklearn.metrics import accuracy_score , f1_score, recall_score, roc_auc_score ,precision_score\n",
    "\n",
    "#model_score\n",
    "predict_train_label = rf.predict(X_train)\n",
    "display(predict_train_label)\n",
    "predict_train_proba = rf.predict_proba(X_train)[:,1]\n",
    "display(predict_train_proba)\n",
    "\n",
    "predict_validation_label = rf.predict(X_validation)\n",
    "predict_validation_prob = rf.predict_proba(X_validation)[:,1]"
   ],
   "metadata": {
    "collapsed": false
   }
  },
  {
   "cell_type": "code",
   "execution_count": 207,
   "outputs": [
    {
     "name": "stdout",
     "output_type": "stream",
     "text": [
      "train accuracy : 1.0\n",
      "validation accuracy : 0.6521212121212121\n",
      "\n",
      "\n",
      "train f1_score : 1.0\n",
      "validation f1_score : 0.6890574214517876\n",
      "\n",
      "\n",
      "train recall_score : 1.0\n",
      "validation recall_score : 0.6536485097636177\n",
      "\n",
      "\n",
      "train precision_score : 1.0\n",
      "validation precision_score : 0.7285223367697594\n",
      "\n",
      "\n",
      "train auc : 1.0\n",
      "validation auc : 0.7340983511987624\n"
     ]
    }
   ],
   "source": [
    "# 문제에서 묻는 것에 따라 모델 성능 확인하기\n",
    "# 정확도 (accuracy) , f1_score , recall , precision -> model.predict로 결과뽑기\n",
    "# auc , 확률이라는 표현있으면 model.predict_proba로 결과뽑고 첫번째 행의 값을 가져오기 model.predict_proba()[:,1]\n",
    "print('train accuracy :', accuracy_score(Y_train,predict_train_label))\n",
    "print('validation accuracy :', accuracy_score(Y_validation,predict_validation_label))\n",
    "print('\\n')\n",
    "print('train f1_score :', f1_score(Y_train,predict_train_label))\n",
    "print('validation f1_score :', f1_score(Y_validation,predict_validation_label))\n",
    "print('\\n')\n",
    "print('train recall_score :', recall_score(Y_train,predict_train_label))\n",
    "print('validation recall_score :', recall_score(Y_validation,predict_validation_label))\n",
    "print('\\n')\n",
    "print('train precision_score :', precision_score(Y_train,predict_train_label))\n",
    "print('validation precision_score :', precision_score(Y_validation,predict_validation_label))\n",
    "print('\\n')\n",
    "print('train auc :', roc_auc_score(Y_train,predict_train_proba))\n",
    "print('validation auc :', roc_auc_score(Y_validation,predict_validation_prob))\n",
    "\n",
    "\n",
    "# test데이터 마찬가지 위와 같은 방식\n",
    "predict_test_label = rf.predict(x_test_dummies)\n",
    "predict_test_proba = rf.predict_proba(x_test_dummies)[:,1]\n",
    "\n",
    "\n",
    "# accuracy, f1_score, recall, precision\n",
    "pd.DataFrame({'ID': x_test.ID, 'Reached.on.Time_Y.N': predict_test_label}).to_csv('./003000000_1.csv', index=False)\n",
    "\n",
    "# auc, 확률\n",
    "pd.DataFrame({'ID': x_test.ID, 'Reached.on.Time_Y.N': predict_test_proba}).to_csv('./003000000_2.csv', index=False)"
   ],
   "metadata": {
    "collapsed": false
   }
  }
 ],
 "metadata": {
  "kernelspec": {
   "display_name": "Python 3",
   "language": "python",
   "name": "python3"
  },
  "language_info": {
   "codemirror_mode": {
    "name": "ipython",
    "version": 2
   },
   "file_extension": ".py",
   "mimetype": "text/x-python",
   "name": "python",
   "nbconvert_exporter": "python",
   "pygments_lexer": "ipython2",
   "version": "2.7.6"
  }
 },
 "nbformat": 4,
 "nbformat_minor": 0
}
