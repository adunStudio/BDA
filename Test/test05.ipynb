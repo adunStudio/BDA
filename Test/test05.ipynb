{
 "cells": [
  {
   "cell_type": "markdown",
   "source": [
    "# 1유형"
   ],
   "metadata": {
    "collapsed": false
   }
  },
  {
   "cell_type": "code",
   "execution_count": 1,
   "outputs": [],
   "source": [],
   "metadata": {
    "collapsed": false,
    "pycharm": {
     "name": "#%%ㄱ\n"
    }
   }
  },
  {
   "cell_type": "code",
   "execution_count": 2,
   "outputs": [],
   "source": [
    "import pandas as pd"
   ],
   "metadata": {
    "collapsed": false
   }
  },
  {
   "cell_type": "code",
   "execution_count": 3,
   "outputs": [
    {
     "data": {
      "text/plain": "   시도명 시군구명 종량제봉투종류 종량제봉투처리방식 종량제봉투용도 종량제봉투사용대상  1L가격  1.5L가격  2L가격  2.5L가격  \\\n0  경기도  안양시    규격봉투       매립용   생활쓰레기      사업장용     0       0     0       0   \n1  경기도  안양시    규격봉투       매립용   생활쓰레기        기타     0       0     0       0   \n2  경기도  안양시    규격봉투       소각용  음식물쓰레기       가정용     0      50     0      80   \n3  경기도  안양시    규격봉투       소각용  음식물쓰레기      사업장용     0      50     0      80   \n4  경기도  안양시    규격봉투       소각용  음식물쓰레기        기타     0      50     0      80   \n\n   ...  60L가격  75L가격  100L가격  120L가격  125L가격  관리부서명       관리부서전화번호  \\\n0  ...      0   2100       0       0       0  자원순환과  031-8045-5448   \n1  ...      0   2100       0       0       0  자원순환과  031-8045-5448   \n2  ...      0      0       0       0       0  자원순환과  031-8045-5448   \n3  ...      0      0       0       0       0  자원순환과  031-8045-5448   \n4  ...      0      0       0       0       0  자원순환과  031-8045-5448   \n\n      데이터기준일자   제공기관코드    제공기관명  \n0  2022-08-12  3830000  경기도 안양시  \n1  2022-08-12  3830000  경기도 안양시  \n2  2022-08-12  3830000  경기도 안양시  \n3  2022-08-12  3830000  경기도 안양시  \n4  2022-08-12  3830000  경기도 안양시  \n\n[5 rows x 26 columns]",
      "text/html": "<div>\n<style scoped>\n    .dataframe tbody tr th:only-of-type {\n        vertical-align: middle;\n    }\n\n    .dataframe tbody tr th {\n        vertical-align: top;\n    }\n\n    .dataframe thead th {\n        text-align: right;\n    }\n</style>\n<table border=\"1\" class=\"dataframe\">\n  <thead>\n    <tr style=\"text-align: right;\">\n      <th></th>\n      <th>시도명</th>\n      <th>시군구명</th>\n      <th>종량제봉투종류</th>\n      <th>종량제봉투처리방식</th>\n      <th>종량제봉투용도</th>\n      <th>종량제봉투사용대상</th>\n      <th>1L가격</th>\n      <th>1.5L가격</th>\n      <th>2L가격</th>\n      <th>2.5L가격</th>\n      <th>...</th>\n      <th>60L가격</th>\n      <th>75L가격</th>\n      <th>100L가격</th>\n      <th>120L가격</th>\n      <th>125L가격</th>\n      <th>관리부서명</th>\n      <th>관리부서전화번호</th>\n      <th>데이터기준일자</th>\n      <th>제공기관코드</th>\n      <th>제공기관명</th>\n    </tr>\n  </thead>\n  <tbody>\n    <tr>\n      <th>0</th>\n      <td>경기도</td>\n      <td>안양시</td>\n      <td>규격봉투</td>\n      <td>매립용</td>\n      <td>생활쓰레기</td>\n      <td>사업장용</td>\n      <td>0</td>\n      <td>0</td>\n      <td>0</td>\n      <td>0</td>\n      <td>...</td>\n      <td>0</td>\n      <td>2100</td>\n      <td>0</td>\n      <td>0</td>\n      <td>0</td>\n      <td>자원순환과</td>\n      <td>031-8045-5448</td>\n      <td>2022-08-12</td>\n      <td>3830000</td>\n      <td>경기도 안양시</td>\n    </tr>\n    <tr>\n      <th>1</th>\n      <td>경기도</td>\n      <td>안양시</td>\n      <td>규격봉투</td>\n      <td>매립용</td>\n      <td>생활쓰레기</td>\n      <td>기타</td>\n      <td>0</td>\n      <td>0</td>\n      <td>0</td>\n      <td>0</td>\n      <td>...</td>\n      <td>0</td>\n      <td>2100</td>\n      <td>0</td>\n      <td>0</td>\n      <td>0</td>\n      <td>자원순환과</td>\n      <td>031-8045-5448</td>\n      <td>2022-08-12</td>\n      <td>3830000</td>\n      <td>경기도 안양시</td>\n    </tr>\n    <tr>\n      <th>2</th>\n      <td>경기도</td>\n      <td>안양시</td>\n      <td>규격봉투</td>\n      <td>소각용</td>\n      <td>음식물쓰레기</td>\n      <td>가정용</td>\n      <td>0</td>\n      <td>50</td>\n      <td>0</td>\n      <td>80</td>\n      <td>...</td>\n      <td>0</td>\n      <td>0</td>\n      <td>0</td>\n      <td>0</td>\n      <td>0</td>\n      <td>자원순환과</td>\n      <td>031-8045-5448</td>\n      <td>2022-08-12</td>\n      <td>3830000</td>\n      <td>경기도 안양시</td>\n    </tr>\n    <tr>\n      <th>3</th>\n      <td>경기도</td>\n      <td>안양시</td>\n      <td>규격봉투</td>\n      <td>소각용</td>\n      <td>음식물쓰레기</td>\n      <td>사업장용</td>\n      <td>0</td>\n      <td>50</td>\n      <td>0</td>\n      <td>80</td>\n      <td>...</td>\n      <td>0</td>\n      <td>0</td>\n      <td>0</td>\n      <td>0</td>\n      <td>0</td>\n      <td>자원순환과</td>\n      <td>031-8045-5448</td>\n      <td>2022-08-12</td>\n      <td>3830000</td>\n      <td>경기도 안양시</td>\n    </tr>\n    <tr>\n      <th>4</th>\n      <td>경기도</td>\n      <td>안양시</td>\n      <td>규격봉투</td>\n      <td>소각용</td>\n      <td>음식물쓰레기</td>\n      <td>기타</td>\n      <td>0</td>\n      <td>50</td>\n      <td>0</td>\n      <td>80</td>\n      <td>...</td>\n      <td>0</td>\n      <td>0</td>\n      <td>0</td>\n      <td>0</td>\n      <td>0</td>\n      <td>자원순환과</td>\n      <td>031-8045-5448</td>\n      <td>2022-08-12</td>\n      <td>3830000</td>\n      <td>경기도 안양시</td>\n    </tr>\n  </tbody>\n</table>\n<p>5 rows × 26 columns</p>\n</div>"
     },
     "metadata": {},
     "output_type": "display_data"
    }
   ],
   "source": [
    "df = pd.read_csv('https://raw.githubusercontent.com/Datamanim/datarepo/main/krdatacertificate/e5_p1_1_.csv')\n",
    "display(df.head(5))"
   ],
   "metadata": {
    "collapsed": false
   }
  },
  {
   "cell_type": "code",
   "execution_count": 4,
   "outputs": [
    {
     "name": "stdout",
     "output_type": "stream",
     "text": [
      "<class 'pandas.core.frame.DataFrame'>\n",
      "RangeIndex: 762 entries, 0 to 761\n",
      "Data columns (total 26 columns):\n",
      " #   Column     Non-Null Count  Dtype \n",
      "---  ------     --------------  ----- \n",
      " 0   시도명        762 non-null    object\n",
      " 1   시군구명       762 non-null    object\n",
      " 2   종량제봉투종류    762 non-null    object\n",
      " 3   종량제봉투처리방식  762 non-null    object\n",
      " 4   종량제봉투용도    762 non-null    object\n",
      " 5   종량제봉투사용대상  762 non-null    object\n",
      " 6   1L가격       762 non-null    int64 \n",
      " 7   1.5L가격     762 non-null    int64 \n",
      " 8   2L가격       762 non-null    int64 \n",
      " 9   2.5L가격     762 non-null    int64 \n",
      " 10  3L가격       762 non-null    int64 \n",
      " 11  5L가격       762 non-null    int64 \n",
      " 12  10L가격      762 non-null    int64 \n",
      " 13  20L가격      762 non-null    int64 \n",
      " 14  30L가격      762 non-null    int64 \n",
      " 15  50L가격      762 non-null    int64 \n",
      " 16  60L가격      762 non-null    int64 \n",
      " 17  75L가격      762 non-null    int64 \n",
      " 18  100L가격     762 non-null    int64 \n",
      " 19  120L가격     762 non-null    int64 \n",
      " 20  125L가격     762 non-null    int64 \n",
      " 21  관리부서명      762 non-null    object\n",
      " 22  관리부서전화번호   762 non-null    object\n",
      " 23  데이터기준일자    762 non-null    object\n",
      " 24  제공기관코드     762 non-null    object\n",
      " 25  제공기관명      762 non-null    object\n",
      "dtypes: int64(15), object(11)\n",
      "memory usage: 154.9+ KB\n"
     ]
    }
   ],
   "source": [
    "df.info()"
   ],
   "metadata": {
    "collapsed": false
   }
  },
  {
   "cell_type": "code",
   "execution_count": 73,
   "outputs": [
    {
     "name": "stderr",
     "output_type": "stream",
     "text": [
      "/var/folders/ks/g557dmv54qsd_xmq2wm8fhhm0000gn/T/ipykernel_40979/3029270884.py:10: SettingWithCopyWarning: \n",
      "A value is trying to be set on a copy of a slice from a DataFrame.\n",
      "Try using .loc[row_indexer,col_indexer] = value instead\n",
      "\n",
      "See the caveats in the documentation: https://pandas.pydata.org/pandas-docs/stable/user_guide/indexing.html#returning-a-view-versus-a-copy\n",
      "  target['차이가격'] = target.loc[:, '20L가격'] - target.loc[:,'5L가격']\n"
     ]
    },
    {
     "data": {
      "text/plain": "          차이가격\n시도명           \n제주특별자치도  580.0\n부산광역시    593.0\n인천광역시    619.0",
      "text/html": "<div>\n<style scoped>\n    .dataframe tbody tr th:only-of-type {\n        vertical-align: middle;\n    }\n\n    .dataframe tbody tr th {\n        vertical-align: top;\n    }\n\n    .dataframe thead th {\n        text-align: right;\n    }\n</style>\n<table border=\"1\" class=\"dataframe\">\n  <thead>\n    <tr style=\"text-align: right;\">\n      <th></th>\n      <th>차이가격</th>\n    </tr>\n    <tr>\n      <th>시도명</th>\n      <th></th>\n    </tr>\n  </thead>\n  <tbody>\n    <tr>\n      <th>제주특별자치도</th>\n      <td>580.0</td>\n    </tr>\n    <tr>\n      <th>부산광역시</th>\n      <td>593.0</td>\n    </tr>\n    <tr>\n      <th>인천광역시</th>\n      <td>619.0</td>\n    </tr>\n  </tbody>\n</table>\n</div>"
     },
     "metadata": {},
     "output_type": "display_data"
    },
    {
     "name": "stdout",
     "output_type": "stream",
     "text": [
      "619.0\n"
     ]
    }
   ],
   "source": [
    "\"\"\"\n",
    "1-1\n",
    "\n",
    "20L가격과 5L가격이 모두 0원이 아닌 데이터만 필터를 한 후,\n",
    "각 row별로 20L가격과 5L가격의 차이를 ‘차이가격’ 이라 부른다고 하자.\n",
    "시도명 별 차이가격의 평균가격을 비교할때 그 값이 가장 큰 금액을 반올림하여 소숫점 이하 1자리까지 구하여라\n",
    "\"\"\"\n",
    "\n",
    "target = df.loc[(df['20L가격'] != 0) & (df['5L가격'] != 0)]\n",
    "target['차이가격'] = target.loc[:, '20L가격'] - target.loc[:,'5L가격']\n",
    "group = target.groupby('시도명')['차이가격'].mean().sort_values().to_frame().tail(3)\n",
    "result = group['차이가격'].max().round(1)\n",
    "display(group)\n",
    "print(result)"
   ],
   "metadata": {
    "collapsed": false
   }
  },
  {
   "cell_type": "code",
   "execution_count": 74,
   "outputs": [
    {
     "data": {
      "text/plain": "       ID  height(cm)  weight(kg)\n0  user_1       173.0        67.5\n1  user_2       149.5        82.5\n2  user_3       143.8        64.6\n3  user_4       163.1        87.2\n4  user_5       159.6        77.1",
      "text/html": "<div>\n<style scoped>\n    .dataframe tbody tr th:only-of-type {\n        vertical-align: middle;\n    }\n\n    .dataframe tbody tr th {\n        vertical-align: top;\n    }\n\n    .dataframe thead th {\n        text-align: right;\n    }\n</style>\n<table border=\"1\" class=\"dataframe\">\n  <thead>\n    <tr style=\"text-align: right;\">\n      <th></th>\n      <th>ID</th>\n      <th>height(cm)</th>\n      <th>weight(kg)</th>\n    </tr>\n  </thead>\n  <tbody>\n    <tr>\n      <th>0</th>\n      <td>user_1</td>\n      <td>173.0</td>\n      <td>67.5</td>\n    </tr>\n    <tr>\n      <th>1</th>\n      <td>user_2</td>\n      <td>149.5</td>\n      <td>82.5</td>\n    </tr>\n    <tr>\n      <th>2</th>\n      <td>user_3</td>\n      <td>143.8</td>\n      <td>64.6</td>\n    </tr>\n    <tr>\n      <th>3</th>\n      <td>user_4</td>\n      <td>163.1</td>\n      <td>87.2</td>\n    </tr>\n    <tr>\n      <th>4</th>\n      <td>user_5</td>\n      <td>159.6</td>\n      <td>77.1</td>\n    </tr>\n  </tbody>\n</table>\n</div>"
     },
     "metadata": {},
     "output_type": "display_data"
    }
   ],
   "source": [
    "df = pd.read_csv('https://raw.githubusercontent.com/Datamanim/datarepo/main/krdatacertificate/e5_p1_2_.csv')\n",
    "display(df.head(5))"
   ],
   "metadata": {
    "collapsed": false
   }
  },
  {
   "cell_type": "code",
   "execution_count": 75,
   "outputs": [
    {
     "name": "stdout",
     "output_type": "stream",
     "text": [
      "<class 'pandas.core.frame.DataFrame'>\n",
      "RangeIndex: 10000 entries, 0 to 9999\n",
      "Data columns (total 3 columns):\n",
      " #   Column      Non-Null Count  Dtype  \n",
      "---  ------      --------------  -----  \n",
      " 0   ID          10000 non-null  object \n",
      " 1   height(cm)  10000 non-null  float64\n",
      " 2   weight(kg)  10000 non-null  float64\n",
      "dtypes: float64(2), object(1)\n",
      "memory usage: 234.5+ KB\n"
     ]
    }
   ],
   "source": [
    "df.info()"
   ],
   "metadata": {
    "collapsed": false
   }
  },
  {
   "cell_type": "code",
   "execution_count": 88,
   "outputs": [
    {
     "data": {
      "text/plain": "              ID  height(cm)  weight(kg)     BMI\n0         user_1       173.0        67.5      정상\n1         user_2       149.5        82.5  초고도 비만\n2         user_3       143.8        64.6  초고도 비만\n3         user_4       163.1        87.2  초고도 비만\n4         user_5       159.6        77.1  초고도 비만\n...          ...         ...         ...     ...\n9995   user_9996       144.0        74.4  초고도 비만\n9996   user_9997       161.1        84.1  초고도 비만\n9997   user_9998       137.1        68.9  초고도 비만\n9998   user_9999       187.5        89.2  초고도 비만\n9999  user_10000       172.3        77.5  초고도 비만\n\n[10000 rows x 4 columns]",
      "text/html": "<div>\n<style scoped>\n    .dataframe tbody tr th:only-of-type {\n        vertical-align: middle;\n    }\n\n    .dataframe tbody tr th {\n        vertical-align: top;\n    }\n\n    .dataframe thead th {\n        text-align: right;\n    }\n</style>\n<table border=\"1\" class=\"dataframe\">\n  <thead>\n    <tr style=\"text-align: right;\">\n      <th></th>\n      <th>ID</th>\n      <th>height(cm)</th>\n      <th>weight(kg)</th>\n      <th>BMI</th>\n    </tr>\n  </thead>\n  <tbody>\n    <tr>\n      <th>0</th>\n      <td>user_1</td>\n      <td>173.0</td>\n      <td>67.5</td>\n      <td>정상</td>\n    </tr>\n    <tr>\n      <th>1</th>\n      <td>user_2</td>\n      <td>149.5</td>\n      <td>82.5</td>\n      <td>초고도 비만</td>\n    </tr>\n    <tr>\n      <th>2</th>\n      <td>user_3</td>\n      <td>143.8</td>\n      <td>64.6</td>\n      <td>초고도 비만</td>\n    </tr>\n    <tr>\n      <th>3</th>\n      <td>user_4</td>\n      <td>163.1</td>\n      <td>87.2</td>\n      <td>초고도 비만</td>\n    </tr>\n    <tr>\n      <th>4</th>\n      <td>user_5</td>\n      <td>159.6</td>\n      <td>77.1</td>\n      <td>초고도 비만</td>\n    </tr>\n    <tr>\n      <th>...</th>\n      <td>...</td>\n      <td>...</td>\n      <td>...</td>\n      <td>...</td>\n    </tr>\n    <tr>\n      <th>9995</th>\n      <td>user_9996</td>\n      <td>144.0</td>\n      <td>74.4</td>\n      <td>초고도 비만</td>\n    </tr>\n    <tr>\n      <th>9996</th>\n      <td>user_9997</td>\n      <td>161.1</td>\n      <td>84.1</td>\n      <td>초고도 비만</td>\n    </tr>\n    <tr>\n      <th>9997</th>\n      <td>user_9998</td>\n      <td>137.1</td>\n      <td>68.9</td>\n      <td>초고도 비만</td>\n    </tr>\n    <tr>\n      <th>9998</th>\n      <td>user_9999</td>\n      <td>187.5</td>\n      <td>89.2</td>\n      <td>초고도 비만</td>\n    </tr>\n    <tr>\n      <th>9999</th>\n      <td>user_10000</td>\n      <td>172.3</td>\n      <td>77.5</td>\n      <td>초고도 비만</td>\n    </tr>\n  </tbody>\n</table>\n<p>10000 rows × 4 columns</p>\n</div>"
     },
     "metadata": {},
     "output_type": "display_data"
    },
    {
     "name": "stdout",
     "output_type": "stream",
     "text": [
      "8998\n"
     ]
    }
   ],
   "source": [
    "\"\"\"\n",
    "1-2\n",
    "\n",
    "BMI는 몸무게(kg) / (키(M) * 키(M)) 로 정의 된다.\n",
    "초고도 비만은 BMI 25이상 ,\n",
    "고도 비반은 BMI 25미만 - 23이상 ,\n",
    "정상은 23미만 - 18.5이상\n",
    "저체중은 18.5미만으로 정의 된다.\n",
    "\n",
    "주어진 데이터에서 초고도비만 인원 + 저체중 인원 의 숫자는?\n",
    "\"\"\"\n",
    "\n",
    "def getBMI(x):\n",
    "    bmi = x['weight(kg)'] / ((x['height(cm)'] / 100) ** 2)\n",
    "\n",
    "    if bmi >= 25:\n",
    "        return '초고도 비만'\n",
    "    elif bmi >= 23:\n",
    "        return '고도 비만'\n",
    "    elif bmi >= 18.5:\n",
    "        return '정상'\n",
    "    else:\n",
    "        return '저체중'\n",
    "\n",
    "df['BMI'] = df[['weight(kg)', 'height(cm)']].apply(getBMI, axis=1)\n",
    "display(df)\n",
    "\n",
    "count_a = len(df.loc[df['BMI'] == '초고도 비만'])\n",
    "count_b = len(df.loc[df['BMI'] == '저체중'])\n",
    "\n",
    "print(count_a + count_b)"
   ],
   "metadata": {
    "collapsed": false
   }
  },
  {
   "cell_type": "code",
   "execution_count": 89,
   "outputs": [
    {
     "data": {
      "text/plain": "    지역  초등학교_전출_도내  초등학교_전출_도외  초등학교_전입_도내  초등학교_전입_도외  중학교_전출_도내  중학교_전출_도외  \\\n0  종로구         221         132         255         126         63         71   \n1   중구         295         139         203         100         66         43   \n2  용산구         380         269         302         174        134         78   \n3  성동구         643         344         376         221        154        103   \n4  광진구         560         382         595         312        165        158   \n\n   중학교_전입_도내  중학교_전입_도외  고등학교_전출_도내  고등학교_전출_도외  고등학교_전입_도내  고등학교_전입_도외    년도  \n0        104         73         203          72         166          75  2012  \n1         58         44         156          37         104          39  2012  \n2         91        106         102          66         113          48  2012  \n3         98         82         179          37         153          41  2012  \n4        158        118         115          70         154          66  2012  ",
      "text/html": "<div>\n<style scoped>\n    .dataframe tbody tr th:only-of-type {\n        vertical-align: middle;\n    }\n\n    .dataframe tbody tr th {\n        vertical-align: top;\n    }\n\n    .dataframe thead th {\n        text-align: right;\n    }\n</style>\n<table border=\"1\" class=\"dataframe\">\n  <thead>\n    <tr style=\"text-align: right;\">\n      <th></th>\n      <th>지역</th>\n      <th>초등학교_전출_도내</th>\n      <th>초등학교_전출_도외</th>\n      <th>초등학교_전입_도내</th>\n      <th>초등학교_전입_도외</th>\n      <th>중학교_전출_도내</th>\n      <th>중학교_전출_도외</th>\n      <th>중학교_전입_도내</th>\n      <th>중학교_전입_도외</th>\n      <th>고등학교_전출_도내</th>\n      <th>고등학교_전출_도외</th>\n      <th>고등학교_전입_도내</th>\n      <th>고등학교_전입_도외</th>\n      <th>년도</th>\n    </tr>\n  </thead>\n  <tbody>\n    <tr>\n      <th>0</th>\n      <td>종로구</td>\n      <td>221</td>\n      <td>132</td>\n      <td>255</td>\n      <td>126</td>\n      <td>63</td>\n      <td>71</td>\n      <td>104</td>\n      <td>73</td>\n      <td>203</td>\n      <td>72</td>\n      <td>166</td>\n      <td>75</td>\n      <td>2012</td>\n    </tr>\n    <tr>\n      <th>1</th>\n      <td>중구</td>\n      <td>295</td>\n      <td>139</td>\n      <td>203</td>\n      <td>100</td>\n      <td>66</td>\n      <td>43</td>\n      <td>58</td>\n      <td>44</td>\n      <td>156</td>\n      <td>37</td>\n      <td>104</td>\n      <td>39</td>\n      <td>2012</td>\n    </tr>\n    <tr>\n      <th>2</th>\n      <td>용산구</td>\n      <td>380</td>\n      <td>269</td>\n      <td>302</td>\n      <td>174</td>\n      <td>134</td>\n      <td>78</td>\n      <td>91</td>\n      <td>106</td>\n      <td>102</td>\n      <td>66</td>\n      <td>113</td>\n      <td>48</td>\n      <td>2012</td>\n    </tr>\n    <tr>\n      <th>3</th>\n      <td>성동구</td>\n      <td>643</td>\n      <td>344</td>\n      <td>376</td>\n      <td>221</td>\n      <td>154</td>\n      <td>103</td>\n      <td>98</td>\n      <td>82</td>\n      <td>179</td>\n      <td>37</td>\n      <td>153</td>\n      <td>41</td>\n      <td>2012</td>\n    </tr>\n    <tr>\n      <th>4</th>\n      <td>광진구</td>\n      <td>560</td>\n      <td>382</td>\n      <td>595</td>\n      <td>312</td>\n      <td>165</td>\n      <td>158</td>\n      <td>158</td>\n      <td>118</td>\n      <td>115</td>\n      <td>70</td>\n      <td>154</td>\n      <td>66</td>\n      <td>2012</td>\n    </tr>\n  </tbody>\n</table>\n</div>"
     },
     "metadata": {},
     "output_type": "display_data"
    }
   ],
   "source": [
    "df = pd.read_csv('https://raw.githubusercontent.com/Datamanim/datarepo/main/krdatacertificate/e5_p1_3.csv')\n",
    "display(df.head(5))"
   ],
   "metadata": {
    "collapsed": false
   }
  },
  {
   "cell_type": "code",
   "execution_count": 90,
   "outputs": [
    {
     "name": "stdout",
     "output_type": "stream",
     "text": [
      "<class 'pandas.core.frame.DataFrame'>\n",
      "RangeIndex: 250 entries, 0 to 249\n",
      "Data columns (total 14 columns):\n",
      " #   Column      Non-Null Count  Dtype \n",
      "---  ------      --------------  ----- \n",
      " 0   지역          250 non-null    object\n",
      " 1   초등학교_전출_도내  250 non-null    int64 \n",
      " 2   초등학교_전출_도외  250 non-null    int64 \n",
      " 3   초등학교_전입_도내  250 non-null    int64 \n",
      " 4   초등학교_전입_도외  250 non-null    int64 \n",
      " 5   중학교_전출_도내   250 non-null    int64 \n",
      " 6   중학교_전출_도외   250 non-null    int64 \n",
      " 7   중학교_전입_도내   250 non-null    int64 \n",
      " 8   중학교_전입_도외   250 non-null    int64 \n",
      " 9   고등학교_전출_도내  250 non-null    int64 \n",
      " 10  고등학교_전출_도외  250 non-null    int64 \n",
      " 11  고등학교_전입_도내  250 non-null    int64 \n",
      " 12  고등학교_전입_도외  250 non-null    int64 \n",
      " 13  년도          250 non-null    int64 \n",
      "dtypes: int64(13), object(1)\n",
      "memory usage: 27.5+ KB\n"
     ]
    }
   ],
   "source": [
    "df.info()"
   ],
   "metadata": {
    "collapsed": false
   }
  },
  {
   "cell_type": "code",
   "execution_count": 91,
   "outputs": [
    {
     "name": "stdout",
     "output_type": "stream",
     "text": [
      "13853\n"
     ]
    }
   ],
   "source": [
    "\"\"\"\n",
    "1-3\n",
    "\n",
    "순유입인원은 초중고 도내,도외 전입인원에서 초중고 도내, 도외 전출인원을 뺀값이다.\n",
    "각년도별로 가장 큰 순유입인원을 가진 지역구의 순유입인원을 구하고 전체 기간의 해당 순유입인원들의 합을 구하여라\n",
    "\"\"\"\n",
    "\n",
    "df['순유입인원'] = df[[x for x in df.columns if '전입' in x]].sum(axis=1) -df[[x for x in df.columns if '전출' in x ]].sum(axis=1)\n",
    "\n",
    "result = df.groupby('년도')['순유입인원'].max().sum().sum()\n",
    "print(result)"
   ],
   "metadata": {
    "collapsed": false
   }
  }
 ],
 "metadata": {
  "kernelspec": {
   "display_name": "Python 3",
   "language": "python",
   "name": "python3"
  },
  "language_info": {
   "codemirror_mode": {
    "name": "ipython",
    "version": 2
   },
   "file_extension": ".py",
   "mimetype": "text/x-python",
   "name": "python",
   "nbconvert_exporter": "python",
   "pygments_lexer": "ipython2",
   "version": "2.7.6"
  }
 },
 "nbformat": 4,
 "nbformat_minor": 0
}
