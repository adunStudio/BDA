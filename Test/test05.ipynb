{
 "cells": [
  {
   "cell_type": "markdown",
   "source": [
    "# 1유형"
   ],
   "metadata": {
    "collapsed": false
   }
  },
  {
   "cell_type": "code",
   "execution_count": 115,
   "outputs": [],
   "source": [],
   "metadata": {
    "collapsed": false,
    "pycharm": {
     "name": "#%%ㄱ\n"
    }
   }
  },
  {
   "cell_type": "code",
   "execution_count": 116,
   "outputs": [],
   "source": [
    "import pandas as pd"
   ],
   "metadata": {
    "collapsed": false
   }
  },
  {
   "cell_type": "code",
   "execution_count": 117,
   "outputs": [
    {
     "data": {
      "text/plain": "   시도명 시군구명 종량제봉투종류 종량제봉투처리방식 종량제봉투용도 종량제봉투사용대상  1L가격  1.5L가격  2L가격  2.5L가격  \\\n0  경기도  안양시    규격봉투       매립용   생활쓰레기      사업장용     0       0     0       0   \n1  경기도  안양시    규격봉투       매립용   생활쓰레기        기타     0       0     0       0   \n2  경기도  안양시    규격봉투       소각용  음식물쓰레기       가정용     0      50     0      80   \n3  경기도  안양시    규격봉투       소각용  음식물쓰레기      사업장용     0      50     0      80   \n4  경기도  안양시    규격봉투       소각용  음식물쓰레기        기타     0      50     0      80   \n\n   ...  60L가격  75L가격  100L가격  120L가격  125L가격  관리부서명       관리부서전화번호  \\\n0  ...      0   2100       0       0       0  자원순환과  031-8045-5448   \n1  ...      0   2100       0       0       0  자원순환과  031-8045-5448   \n2  ...      0      0       0       0       0  자원순환과  031-8045-5448   \n3  ...      0      0       0       0       0  자원순환과  031-8045-5448   \n4  ...      0      0       0       0       0  자원순환과  031-8045-5448   \n\n      데이터기준일자   제공기관코드    제공기관명  \n0  2022-08-12  3830000  경기도 안양시  \n1  2022-08-12  3830000  경기도 안양시  \n2  2022-08-12  3830000  경기도 안양시  \n3  2022-08-12  3830000  경기도 안양시  \n4  2022-08-12  3830000  경기도 안양시  \n\n[5 rows x 26 columns]",
      "text/html": "<div>\n<style scoped>\n    .dataframe tbody tr th:only-of-type {\n        vertical-align: middle;\n    }\n\n    .dataframe tbody tr th {\n        vertical-align: top;\n    }\n\n    .dataframe thead th {\n        text-align: right;\n    }\n</style>\n<table border=\"1\" class=\"dataframe\">\n  <thead>\n    <tr style=\"text-align: right;\">\n      <th></th>\n      <th>시도명</th>\n      <th>시군구명</th>\n      <th>종량제봉투종류</th>\n      <th>종량제봉투처리방식</th>\n      <th>종량제봉투용도</th>\n      <th>종량제봉투사용대상</th>\n      <th>1L가격</th>\n      <th>1.5L가격</th>\n      <th>2L가격</th>\n      <th>2.5L가격</th>\n      <th>...</th>\n      <th>60L가격</th>\n      <th>75L가격</th>\n      <th>100L가격</th>\n      <th>120L가격</th>\n      <th>125L가격</th>\n      <th>관리부서명</th>\n      <th>관리부서전화번호</th>\n      <th>데이터기준일자</th>\n      <th>제공기관코드</th>\n      <th>제공기관명</th>\n    </tr>\n  </thead>\n  <tbody>\n    <tr>\n      <th>0</th>\n      <td>경기도</td>\n      <td>안양시</td>\n      <td>규격봉투</td>\n      <td>매립용</td>\n      <td>생활쓰레기</td>\n      <td>사업장용</td>\n      <td>0</td>\n      <td>0</td>\n      <td>0</td>\n      <td>0</td>\n      <td>...</td>\n      <td>0</td>\n      <td>2100</td>\n      <td>0</td>\n      <td>0</td>\n      <td>0</td>\n      <td>자원순환과</td>\n      <td>031-8045-5448</td>\n      <td>2022-08-12</td>\n      <td>3830000</td>\n      <td>경기도 안양시</td>\n    </tr>\n    <tr>\n      <th>1</th>\n      <td>경기도</td>\n      <td>안양시</td>\n      <td>규격봉투</td>\n      <td>매립용</td>\n      <td>생활쓰레기</td>\n      <td>기타</td>\n      <td>0</td>\n      <td>0</td>\n      <td>0</td>\n      <td>0</td>\n      <td>...</td>\n      <td>0</td>\n      <td>2100</td>\n      <td>0</td>\n      <td>0</td>\n      <td>0</td>\n      <td>자원순환과</td>\n      <td>031-8045-5448</td>\n      <td>2022-08-12</td>\n      <td>3830000</td>\n      <td>경기도 안양시</td>\n    </tr>\n    <tr>\n      <th>2</th>\n      <td>경기도</td>\n      <td>안양시</td>\n      <td>규격봉투</td>\n      <td>소각용</td>\n      <td>음식물쓰레기</td>\n      <td>가정용</td>\n      <td>0</td>\n      <td>50</td>\n      <td>0</td>\n      <td>80</td>\n      <td>...</td>\n      <td>0</td>\n      <td>0</td>\n      <td>0</td>\n      <td>0</td>\n      <td>0</td>\n      <td>자원순환과</td>\n      <td>031-8045-5448</td>\n      <td>2022-08-12</td>\n      <td>3830000</td>\n      <td>경기도 안양시</td>\n    </tr>\n    <tr>\n      <th>3</th>\n      <td>경기도</td>\n      <td>안양시</td>\n      <td>규격봉투</td>\n      <td>소각용</td>\n      <td>음식물쓰레기</td>\n      <td>사업장용</td>\n      <td>0</td>\n      <td>50</td>\n      <td>0</td>\n      <td>80</td>\n      <td>...</td>\n      <td>0</td>\n      <td>0</td>\n      <td>0</td>\n      <td>0</td>\n      <td>0</td>\n      <td>자원순환과</td>\n      <td>031-8045-5448</td>\n      <td>2022-08-12</td>\n      <td>3830000</td>\n      <td>경기도 안양시</td>\n    </tr>\n    <tr>\n      <th>4</th>\n      <td>경기도</td>\n      <td>안양시</td>\n      <td>규격봉투</td>\n      <td>소각용</td>\n      <td>음식물쓰레기</td>\n      <td>기타</td>\n      <td>0</td>\n      <td>50</td>\n      <td>0</td>\n      <td>80</td>\n      <td>...</td>\n      <td>0</td>\n      <td>0</td>\n      <td>0</td>\n      <td>0</td>\n      <td>0</td>\n      <td>자원순환과</td>\n      <td>031-8045-5448</td>\n      <td>2022-08-12</td>\n      <td>3830000</td>\n      <td>경기도 안양시</td>\n    </tr>\n  </tbody>\n</table>\n<p>5 rows × 26 columns</p>\n</div>"
     },
     "metadata": {},
     "output_type": "display_data"
    }
   ],
   "source": [
    "df = pd.read_csv('https://raw.githubusercontent.com/Datamanim/datarepo/main/krdatacertificate/e5_p1_1_.csv')\n",
    "display(df.head(5))"
   ],
   "metadata": {
    "collapsed": false
   }
  },
  {
   "cell_type": "code",
   "execution_count": 118,
   "outputs": [
    {
     "name": "stdout",
     "output_type": "stream",
     "text": [
      "<class 'pandas.core.frame.DataFrame'>\n",
      "RangeIndex: 762 entries, 0 to 761\n",
      "Data columns (total 26 columns):\n",
      " #   Column     Non-Null Count  Dtype \n",
      "---  ------     --------------  ----- \n",
      " 0   시도명        762 non-null    object\n",
      " 1   시군구명       762 non-null    object\n",
      " 2   종량제봉투종류    762 non-null    object\n",
      " 3   종량제봉투처리방식  762 non-null    object\n",
      " 4   종량제봉투용도    762 non-null    object\n",
      " 5   종량제봉투사용대상  762 non-null    object\n",
      " 6   1L가격       762 non-null    int64 \n",
      " 7   1.5L가격     762 non-null    int64 \n",
      " 8   2L가격       762 non-null    int64 \n",
      " 9   2.5L가격     762 non-null    int64 \n",
      " 10  3L가격       762 non-null    int64 \n",
      " 11  5L가격       762 non-null    int64 \n",
      " 12  10L가격      762 non-null    int64 \n",
      " 13  20L가격      762 non-null    int64 \n",
      " 14  30L가격      762 non-null    int64 \n",
      " 15  50L가격      762 non-null    int64 \n",
      " 16  60L가격      762 non-null    int64 \n",
      " 17  75L가격      762 non-null    int64 \n",
      " 18  100L가격     762 non-null    int64 \n",
      " 19  120L가격     762 non-null    int64 \n",
      " 20  125L가격     762 non-null    int64 \n",
      " 21  관리부서명      762 non-null    object\n",
      " 22  관리부서전화번호   762 non-null    object\n",
      " 23  데이터기준일자    762 non-null    object\n",
      " 24  제공기관코드     762 non-null    object\n",
      " 25  제공기관명      762 non-null    object\n",
      "dtypes: int64(15), object(11)\n",
      "memory usage: 154.9+ KB\n"
     ]
    }
   ],
   "source": [
    "df.info()"
   ],
   "metadata": {
    "collapsed": false
   }
  },
  {
   "cell_type": "code",
   "execution_count": 119,
   "outputs": [
    {
     "name": "stderr",
     "output_type": "stream",
     "text": [
      "/var/folders/ks/g557dmv54qsd_xmq2wm8fhhm0000gn/T/ipykernel_44123/3029270884.py:10: SettingWithCopyWarning: \n",
      "A value is trying to be set on a copy of a slice from a DataFrame.\n",
      "Try using .loc[row_indexer,col_indexer] = value instead\n",
      "\n",
      "See the caveats in the documentation: https://pandas.pydata.org/pandas-docs/stable/user_guide/indexing.html#returning-a-view-versus-a-copy\n",
      "  target['차이가격'] = target.loc[:, '20L가격'] - target.loc[:,'5L가격']\n"
     ]
    },
    {
     "data": {
      "text/plain": "          차이가격\n시도명           \n제주특별자치도  580.0\n부산광역시    593.0\n인천광역시    619.0",
      "text/html": "<div>\n<style scoped>\n    .dataframe tbody tr th:only-of-type {\n        vertical-align: middle;\n    }\n\n    .dataframe tbody tr th {\n        vertical-align: top;\n    }\n\n    .dataframe thead th {\n        text-align: right;\n    }\n</style>\n<table border=\"1\" class=\"dataframe\">\n  <thead>\n    <tr style=\"text-align: right;\">\n      <th></th>\n      <th>차이가격</th>\n    </tr>\n    <tr>\n      <th>시도명</th>\n      <th></th>\n    </tr>\n  </thead>\n  <tbody>\n    <tr>\n      <th>제주특별자치도</th>\n      <td>580.0</td>\n    </tr>\n    <tr>\n      <th>부산광역시</th>\n      <td>593.0</td>\n    </tr>\n    <tr>\n      <th>인천광역시</th>\n      <td>619.0</td>\n    </tr>\n  </tbody>\n</table>\n</div>"
     },
     "metadata": {},
     "output_type": "display_data"
    },
    {
     "name": "stdout",
     "output_type": "stream",
     "text": [
      "619.0\n"
     ]
    }
   ],
   "source": [
    "\"\"\"\n",
    "1-1\n",
    "\n",
    "20L가격과 5L가격이 모두 0원이 아닌 데이터만 필터를 한 후,\n",
    "각 row별로 20L가격과 5L가격의 차이를 ‘차이가격’ 이라 부른다고 하자.\n",
    "시도명 별 차이가격의 평균가격을 비교할때 그 값이 가장 큰 금액을 반올림하여 소숫점 이하 1자리까지 구하여라\n",
    "\"\"\"\n",
    "\n",
    "target = df.loc[(df['20L가격'] != 0) & (df['5L가격'] != 0)]\n",
    "target['차이가격'] = target.loc[:, '20L가격'] - target.loc[:,'5L가격']\n",
    "group = target.groupby('시도명')['차이가격'].mean().sort_values().to_frame().tail(3)\n",
    "result = group['차이가격'].max().round(1)\n",
    "display(group)\n",
    "print(result)"
   ],
   "metadata": {
    "collapsed": false
   }
  },
  {
   "cell_type": "code",
   "execution_count": 120,
   "outputs": [
    {
     "data": {
      "text/plain": "       ID  height(cm)  weight(kg)\n0  user_1       173.0        67.5\n1  user_2       149.5        82.5\n2  user_3       143.8        64.6\n3  user_4       163.1        87.2\n4  user_5       159.6        77.1",
      "text/html": "<div>\n<style scoped>\n    .dataframe tbody tr th:only-of-type {\n        vertical-align: middle;\n    }\n\n    .dataframe tbody tr th {\n        vertical-align: top;\n    }\n\n    .dataframe thead th {\n        text-align: right;\n    }\n</style>\n<table border=\"1\" class=\"dataframe\">\n  <thead>\n    <tr style=\"text-align: right;\">\n      <th></th>\n      <th>ID</th>\n      <th>height(cm)</th>\n      <th>weight(kg)</th>\n    </tr>\n  </thead>\n  <tbody>\n    <tr>\n      <th>0</th>\n      <td>user_1</td>\n      <td>173.0</td>\n      <td>67.5</td>\n    </tr>\n    <tr>\n      <th>1</th>\n      <td>user_2</td>\n      <td>149.5</td>\n      <td>82.5</td>\n    </tr>\n    <tr>\n      <th>2</th>\n      <td>user_3</td>\n      <td>143.8</td>\n      <td>64.6</td>\n    </tr>\n    <tr>\n      <th>3</th>\n      <td>user_4</td>\n      <td>163.1</td>\n      <td>87.2</td>\n    </tr>\n    <tr>\n      <th>4</th>\n      <td>user_5</td>\n      <td>159.6</td>\n      <td>77.1</td>\n    </tr>\n  </tbody>\n</table>\n</div>"
     },
     "metadata": {},
     "output_type": "display_data"
    }
   ],
   "source": [
    "df = pd.read_csv('https://raw.githubusercontent.com/Datamanim/datarepo/main/krdatacertificate/e5_p1_2_.csv')\n",
    "display(df.head(5))"
   ],
   "metadata": {
    "collapsed": false
   }
  },
  {
   "cell_type": "code",
   "execution_count": 121,
   "outputs": [
    {
     "name": "stdout",
     "output_type": "stream",
     "text": [
      "<class 'pandas.core.frame.DataFrame'>\n",
      "RangeIndex: 10000 entries, 0 to 9999\n",
      "Data columns (total 3 columns):\n",
      " #   Column      Non-Null Count  Dtype  \n",
      "---  ------      --------------  -----  \n",
      " 0   ID          10000 non-null  object \n",
      " 1   height(cm)  10000 non-null  float64\n",
      " 2   weight(kg)  10000 non-null  float64\n",
      "dtypes: float64(2), object(1)\n",
      "memory usage: 234.5+ KB\n"
     ]
    }
   ],
   "source": [
    "df.info()"
   ],
   "metadata": {
    "collapsed": false
   }
  },
  {
   "cell_type": "code",
   "execution_count": 122,
   "outputs": [
    {
     "data": {
      "text/plain": "              ID  height(cm)  weight(kg)     BMI\n0         user_1       173.0        67.5      정상\n1         user_2       149.5        82.5  초고도 비만\n2         user_3       143.8        64.6  초고도 비만\n3         user_4       163.1        87.2  초고도 비만\n4         user_5       159.6        77.1  초고도 비만\n...          ...         ...         ...     ...\n9995   user_9996       144.0        74.4  초고도 비만\n9996   user_9997       161.1        84.1  초고도 비만\n9997   user_9998       137.1        68.9  초고도 비만\n9998   user_9999       187.5        89.2  초고도 비만\n9999  user_10000       172.3        77.5  초고도 비만\n\n[10000 rows x 4 columns]",
      "text/html": "<div>\n<style scoped>\n    .dataframe tbody tr th:only-of-type {\n        vertical-align: middle;\n    }\n\n    .dataframe tbody tr th {\n        vertical-align: top;\n    }\n\n    .dataframe thead th {\n        text-align: right;\n    }\n</style>\n<table border=\"1\" class=\"dataframe\">\n  <thead>\n    <tr style=\"text-align: right;\">\n      <th></th>\n      <th>ID</th>\n      <th>height(cm)</th>\n      <th>weight(kg)</th>\n      <th>BMI</th>\n    </tr>\n  </thead>\n  <tbody>\n    <tr>\n      <th>0</th>\n      <td>user_1</td>\n      <td>173.0</td>\n      <td>67.5</td>\n      <td>정상</td>\n    </tr>\n    <tr>\n      <th>1</th>\n      <td>user_2</td>\n      <td>149.5</td>\n      <td>82.5</td>\n      <td>초고도 비만</td>\n    </tr>\n    <tr>\n      <th>2</th>\n      <td>user_3</td>\n      <td>143.8</td>\n      <td>64.6</td>\n      <td>초고도 비만</td>\n    </tr>\n    <tr>\n      <th>3</th>\n      <td>user_4</td>\n      <td>163.1</td>\n      <td>87.2</td>\n      <td>초고도 비만</td>\n    </tr>\n    <tr>\n      <th>4</th>\n      <td>user_5</td>\n      <td>159.6</td>\n      <td>77.1</td>\n      <td>초고도 비만</td>\n    </tr>\n    <tr>\n      <th>...</th>\n      <td>...</td>\n      <td>...</td>\n      <td>...</td>\n      <td>...</td>\n    </tr>\n    <tr>\n      <th>9995</th>\n      <td>user_9996</td>\n      <td>144.0</td>\n      <td>74.4</td>\n      <td>초고도 비만</td>\n    </tr>\n    <tr>\n      <th>9996</th>\n      <td>user_9997</td>\n      <td>161.1</td>\n      <td>84.1</td>\n      <td>초고도 비만</td>\n    </tr>\n    <tr>\n      <th>9997</th>\n      <td>user_9998</td>\n      <td>137.1</td>\n      <td>68.9</td>\n      <td>초고도 비만</td>\n    </tr>\n    <tr>\n      <th>9998</th>\n      <td>user_9999</td>\n      <td>187.5</td>\n      <td>89.2</td>\n      <td>초고도 비만</td>\n    </tr>\n    <tr>\n      <th>9999</th>\n      <td>user_10000</td>\n      <td>172.3</td>\n      <td>77.5</td>\n      <td>초고도 비만</td>\n    </tr>\n  </tbody>\n</table>\n<p>10000 rows × 4 columns</p>\n</div>"
     },
     "metadata": {},
     "output_type": "display_data"
    },
    {
     "name": "stdout",
     "output_type": "stream",
     "text": [
      "8998\n"
     ]
    }
   ],
   "source": [
    "\"\"\"\n",
    "1-2\n",
    "\n",
    "BMI는 몸무게(kg) / (키(M) * 키(M)) 로 정의 된다.\n",
    "초고도 비만은 BMI 25이상 ,\n",
    "고도 비반은 BMI 25미만 - 23이상 ,\n",
    "정상은 23미만 - 18.5이상\n",
    "저체중은 18.5미만으로 정의 된다.\n",
    "\n",
    "주어진 데이터에서 초고도비만 인원 + 저체중 인원 의 숫자는?\n",
    "\"\"\"\n",
    "\n",
    "def getBMI(x):\n",
    "    bmi = x['weight(kg)'] / ((x['height(cm)'] / 100) ** 2)\n",
    "\n",
    "    if bmi >= 25:\n",
    "        return '초고도 비만'\n",
    "    elif bmi >= 23:\n",
    "        return '고도 비만'\n",
    "    elif bmi >= 18.5:\n",
    "        return '정상'\n",
    "    else:\n",
    "        return '저체중'\n",
    "\n",
    "df['BMI'] = df[['weight(kg)', 'height(cm)']].apply(getBMI, axis=1)\n",
    "display(df)\n",
    "\n",
    "count_a = len(df.loc[df['BMI'] == '초고도 비만'])\n",
    "count_b = len(df.loc[df['BMI'] == '저체중'])\n",
    "\n",
    "print(count_a + count_b)"
   ],
   "metadata": {
    "collapsed": false
   }
  },
  {
   "cell_type": "code",
   "execution_count": 123,
   "outputs": [
    {
     "data": {
      "text/plain": "    지역  초등학교_전출_도내  초등학교_전출_도외  초등학교_전입_도내  초등학교_전입_도외  중학교_전출_도내  중학교_전출_도외  \\\n0  종로구         221         132         255         126         63         71   \n1   중구         295         139         203         100         66         43   \n2  용산구         380         269         302         174        134         78   \n3  성동구         643         344         376         221        154        103   \n4  광진구         560         382         595         312        165        158   \n\n   중학교_전입_도내  중학교_전입_도외  고등학교_전출_도내  고등학교_전출_도외  고등학교_전입_도내  고등학교_전입_도외    년도  \n0        104         73         203          72         166          75  2012  \n1         58         44         156          37         104          39  2012  \n2         91        106         102          66         113          48  2012  \n3         98         82         179          37         153          41  2012  \n4        158        118         115          70         154          66  2012  ",
      "text/html": "<div>\n<style scoped>\n    .dataframe tbody tr th:only-of-type {\n        vertical-align: middle;\n    }\n\n    .dataframe tbody tr th {\n        vertical-align: top;\n    }\n\n    .dataframe thead th {\n        text-align: right;\n    }\n</style>\n<table border=\"1\" class=\"dataframe\">\n  <thead>\n    <tr style=\"text-align: right;\">\n      <th></th>\n      <th>지역</th>\n      <th>초등학교_전출_도내</th>\n      <th>초등학교_전출_도외</th>\n      <th>초등학교_전입_도내</th>\n      <th>초등학교_전입_도외</th>\n      <th>중학교_전출_도내</th>\n      <th>중학교_전출_도외</th>\n      <th>중학교_전입_도내</th>\n      <th>중학교_전입_도외</th>\n      <th>고등학교_전출_도내</th>\n      <th>고등학교_전출_도외</th>\n      <th>고등학교_전입_도내</th>\n      <th>고등학교_전입_도외</th>\n      <th>년도</th>\n    </tr>\n  </thead>\n  <tbody>\n    <tr>\n      <th>0</th>\n      <td>종로구</td>\n      <td>221</td>\n      <td>132</td>\n      <td>255</td>\n      <td>126</td>\n      <td>63</td>\n      <td>71</td>\n      <td>104</td>\n      <td>73</td>\n      <td>203</td>\n      <td>72</td>\n      <td>166</td>\n      <td>75</td>\n      <td>2012</td>\n    </tr>\n    <tr>\n      <th>1</th>\n      <td>중구</td>\n      <td>295</td>\n      <td>139</td>\n      <td>203</td>\n      <td>100</td>\n      <td>66</td>\n      <td>43</td>\n      <td>58</td>\n      <td>44</td>\n      <td>156</td>\n      <td>37</td>\n      <td>104</td>\n      <td>39</td>\n      <td>2012</td>\n    </tr>\n    <tr>\n      <th>2</th>\n      <td>용산구</td>\n      <td>380</td>\n      <td>269</td>\n      <td>302</td>\n      <td>174</td>\n      <td>134</td>\n      <td>78</td>\n      <td>91</td>\n      <td>106</td>\n      <td>102</td>\n      <td>66</td>\n      <td>113</td>\n      <td>48</td>\n      <td>2012</td>\n    </tr>\n    <tr>\n      <th>3</th>\n      <td>성동구</td>\n      <td>643</td>\n      <td>344</td>\n      <td>376</td>\n      <td>221</td>\n      <td>154</td>\n      <td>103</td>\n      <td>98</td>\n      <td>82</td>\n      <td>179</td>\n      <td>37</td>\n      <td>153</td>\n      <td>41</td>\n      <td>2012</td>\n    </tr>\n    <tr>\n      <th>4</th>\n      <td>광진구</td>\n      <td>560</td>\n      <td>382</td>\n      <td>595</td>\n      <td>312</td>\n      <td>165</td>\n      <td>158</td>\n      <td>158</td>\n      <td>118</td>\n      <td>115</td>\n      <td>70</td>\n      <td>154</td>\n      <td>66</td>\n      <td>2012</td>\n    </tr>\n  </tbody>\n</table>\n</div>"
     },
     "metadata": {},
     "output_type": "display_data"
    }
   ],
   "source": [
    "df = pd.read_csv('https://raw.githubusercontent.com/Datamanim/datarepo/main/krdatacertificate/e5_p1_3.csv')\n",
    "display(df.head(5))"
   ],
   "metadata": {
    "collapsed": false
   }
  },
  {
   "cell_type": "code",
   "execution_count": 124,
   "outputs": [
    {
     "name": "stdout",
     "output_type": "stream",
     "text": [
      "<class 'pandas.core.frame.DataFrame'>\n",
      "RangeIndex: 250 entries, 0 to 249\n",
      "Data columns (total 14 columns):\n",
      " #   Column      Non-Null Count  Dtype \n",
      "---  ------      --------------  ----- \n",
      " 0   지역          250 non-null    object\n",
      " 1   초등학교_전출_도내  250 non-null    int64 \n",
      " 2   초등학교_전출_도외  250 non-null    int64 \n",
      " 3   초등학교_전입_도내  250 non-null    int64 \n",
      " 4   초등학교_전입_도외  250 non-null    int64 \n",
      " 5   중학교_전출_도내   250 non-null    int64 \n",
      " 6   중학교_전출_도외   250 non-null    int64 \n",
      " 7   중학교_전입_도내   250 non-null    int64 \n",
      " 8   중학교_전입_도외   250 non-null    int64 \n",
      " 9   고등학교_전출_도내  250 non-null    int64 \n",
      " 10  고등학교_전출_도외  250 non-null    int64 \n",
      " 11  고등학교_전입_도내  250 non-null    int64 \n",
      " 12  고등학교_전입_도외  250 non-null    int64 \n",
      " 13  년도          250 non-null    int64 \n",
      "dtypes: int64(13), object(1)\n",
      "memory usage: 27.5+ KB\n"
     ]
    }
   ],
   "source": [
    "df.info()"
   ],
   "metadata": {
    "collapsed": false
   }
  },
  {
   "cell_type": "code",
   "execution_count": 125,
   "outputs": [
    {
     "name": "stdout",
     "output_type": "stream",
     "text": [
      "13853\n"
     ]
    }
   ],
   "source": [
    "\"\"\"\n",
    "1-3\n",
    "\n",
    "순유입인원은 초중고 도내,도외 전입인원에서 초중고 도내, 도외 전출인원을 뺀값이다.\n",
    "각년도별로 가장 큰 순유입인원을 가진 지역구의 순유입인원을 구하고 전체 기간의 해당 순유입인원들의 합을 구하여라\n",
    "\"\"\"\n",
    "\n",
    "df['순유입인원'] = df[[x for x in df.columns if '전입' in x]].sum(axis=1) -df[[x for x in df.columns if '전출' in x ]].sum(axis=1)\n",
    "\n",
    "result = df.groupby('년도')['순유입인원'].max().sum().sum()\n",
    "print(result)"
   ],
   "metadata": {
    "collapsed": false
   }
  },
  {
   "cell_type": "code",
   "execution_count": 126,
   "outputs": [],
   "source": [
    "import pandas as pd\n",
    "data       = pd.read_csv('https://raw.githubusercontent.com/Datamanim/datarepo/main/krdatacertificate/e5_p2_train_.csv')\n",
    "validation = pd.read_csv('https://raw.githubusercontent.com/Datamanim/datarepo/main/krdatacertificate/e5_p2_test_.csv')"
   ],
   "metadata": {
    "collapsed": false
   }
  },
  {
   "cell_type": "code",
   "execution_count": 127,
   "outputs": [
    {
     "name": "stdout",
     "output_type": "stream",
     "text": [
      "<class 'pandas.core.frame.DataFrame'>\n",
      "RangeIndex: 9823 entries, 0 to 9822\n",
      "Data columns (total 10 columns):\n",
      " #   Column        Non-Null Count  Dtype  \n",
      "---  ------        --------------  -----  \n",
      " 0   ID            9823 non-null   int64  \n",
      " 1   model         9823 non-null   object \n",
      " 2   year          9823 non-null   int64  \n",
      " 3   price         9823 non-null   int64  \n",
      " 4   transmission  9823 non-null   object \n",
      " 5   mileage       9823 non-null   int64  \n",
      " 6   fuelType      9823 non-null   object \n",
      " 7   tax           9823 non-null   int64  \n",
      " 8   mpg           9823 non-null   float64\n",
      " 9   engineSize    9823 non-null   float64\n",
      "dtypes: float64(2), int64(5), object(3)\n",
      "memory usage: 767.5+ KB\n"
     ]
    },
    {
     "data": {
      "text/plain": "None"
     },
     "metadata": {},
     "output_type": "display_data"
    },
    {
     "data": {
      "text/plain": "      ID      model  year  price transmission  mileage fuelType  tax   mpg  \\\n0  10170    A Class  2012  11940    Automatic    46000   Diesel   30  64.2   \n1   9551   CL Class  2020  38624    Semi-Auto       19   Petrol  150  36.7   \n2   1790    A Class  2013   8500       Manual    69031   Petrol  125  51.4   \n3  10018    B Class  2015  13998    Automatic    34739   Diesel  125  56.5   \n4    142    E Class  2017  20998    Semi-Auto    21352   Diesel   20  72.4   \n\n   engineSize  \n0         2.1  \n1         2.0  \n2         1.6  \n3         2.1  \n4         2.0  ",
      "text/html": "<div>\n<style scoped>\n    .dataframe tbody tr th:only-of-type {\n        vertical-align: middle;\n    }\n\n    .dataframe tbody tr th {\n        vertical-align: top;\n    }\n\n    .dataframe thead th {\n        text-align: right;\n    }\n</style>\n<table border=\"1\" class=\"dataframe\">\n  <thead>\n    <tr style=\"text-align: right;\">\n      <th></th>\n      <th>ID</th>\n      <th>model</th>\n      <th>year</th>\n      <th>price</th>\n      <th>transmission</th>\n      <th>mileage</th>\n      <th>fuelType</th>\n      <th>tax</th>\n      <th>mpg</th>\n      <th>engineSize</th>\n    </tr>\n  </thead>\n  <tbody>\n    <tr>\n      <th>0</th>\n      <td>10170</td>\n      <td>A Class</td>\n      <td>2012</td>\n      <td>11940</td>\n      <td>Automatic</td>\n      <td>46000</td>\n      <td>Diesel</td>\n      <td>30</td>\n      <td>64.2</td>\n      <td>2.1</td>\n    </tr>\n    <tr>\n      <th>1</th>\n      <td>9551</td>\n      <td>CL Class</td>\n      <td>2020</td>\n      <td>38624</td>\n      <td>Semi-Auto</td>\n      <td>19</td>\n      <td>Petrol</td>\n      <td>150</td>\n      <td>36.7</td>\n      <td>2.0</td>\n    </tr>\n    <tr>\n      <th>2</th>\n      <td>1790</td>\n      <td>A Class</td>\n      <td>2013</td>\n      <td>8500</td>\n      <td>Manual</td>\n      <td>69031</td>\n      <td>Petrol</td>\n      <td>125</td>\n      <td>51.4</td>\n      <td>1.6</td>\n    </tr>\n    <tr>\n      <th>3</th>\n      <td>10018</td>\n      <td>B Class</td>\n      <td>2015</td>\n      <td>13998</td>\n      <td>Automatic</td>\n      <td>34739</td>\n      <td>Diesel</td>\n      <td>125</td>\n      <td>56.5</td>\n      <td>2.1</td>\n    </tr>\n    <tr>\n      <th>4</th>\n      <td>142</td>\n      <td>E Class</td>\n      <td>2017</td>\n      <td>20998</td>\n      <td>Semi-Auto</td>\n      <td>21352</td>\n      <td>Diesel</td>\n      <td>20</td>\n      <td>72.4</td>\n      <td>2.0</td>\n    </tr>\n  </tbody>\n</table>\n</div>"
     },
     "metadata": {},
     "output_type": "display_data"
    }
   ],
   "source": [
    "display(data.info())\n",
    "display(data.head())"
   ],
   "metadata": {
    "collapsed": false
   }
  },
  {
   "cell_type": "code",
   "execution_count": 128,
   "outputs": [
    {
     "name": "stdout",
     "output_type": "stream",
     "text": [
      "<class 'pandas.core.frame.DataFrame'>\n",
      "RangeIndex: 3296 entries, 0 to 3295\n",
      "Data columns (total 9 columns):\n",
      " #   Column        Non-Null Count  Dtype  \n",
      "---  ------        --------------  -----  \n",
      " 0   ID            3296 non-null   int64  \n",
      " 1   model         3296 non-null   object \n",
      " 2   year          3296 non-null   int64  \n",
      " 3   transmission  3296 non-null   object \n",
      " 4   mileage       3296 non-null   int64  \n",
      " 5   fuelType      3296 non-null   object \n",
      " 6   tax           3296 non-null   int64  \n",
      " 7   mpg           3296 non-null   float64\n",
      " 8   engineSize    3296 non-null   float64\n",
      "dtypes: float64(2), int64(4), object(3)\n",
      "memory usage: 231.9+ KB\n"
     ]
    },
    {
     "data": {
      "text/plain": "None"
     },
     "metadata": {},
     "output_type": "display_data"
    },
    {
     "data": {
      "text/plain": "   ID       model  year transmission  mileage fuelType  tax   mpg  engineSize\n0   0         SLK  2005    Automatic    63000   Petrol  325  32.1         1.8\n1   2    SL CLASS  2016    Automatic     6200   Petrol  555  28.0         5.5\n2  14   GLA Class  2016    Automatic    41713   Diesel  125  56.6         2.1\n3  15     B Class  2017    Automatic    24841   Diesel  150  68.9         1.5\n4  18     B Class  2017    Automatic    14128   Diesel  150  68.9         2.1",
      "text/html": "<div>\n<style scoped>\n    .dataframe tbody tr th:only-of-type {\n        vertical-align: middle;\n    }\n\n    .dataframe tbody tr th {\n        vertical-align: top;\n    }\n\n    .dataframe thead th {\n        text-align: right;\n    }\n</style>\n<table border=\"1\" class=\"dataframe\">\n  <thead>\n    <tr style=\"text-align: right;\">\n      <th></th>\n      <th>ID</th>\n      <th>model</th>\n      <th>year</th>\n      <th>transmission</th>\n      <th>mileage</th>\n      <th>fuelType</th>\n      <th>tax</th>\n      <th>mpg</th>\n      <th>engineSize</th>\n    </tr>\n  </thead>\n  <tbody>\n    <tr>\n      <th>0</th>\n      <td>0</td>\n      <td>SLK</td>\n      <td>2005</td>\n      <td>Automatic</td>\n      <td>63000</td>\n      <td>Petrol</td>\n      <td>325</td>\n      <td>32.1</td>\n      <td>1.8</td>\n    </tr>\n    <tr>\n      <th>1</th>\n      <td>2</td>\n      <td>SL CLASS</td>\n      <td>2016</td>\n      <td>Automatic</td>\n      <td>6200</td>\n      <td>Petrol</td>\n      <td>555</td>\n      <td>28.0</td>\n      <td>5.5</td>\n    </tr>\n    <tr>\n      <th>2</th>\n      <td>14</td>\n      <td>GLA Class</td>\n      <td>2016</td>\n      <td>Automatic</td>\n      <td>41713</td>\n      <td>Diesel</td>\n      <td>125</td>\n      <td>56.6</td>\n      <td>2.1</td>\n    </tr>\n    <tr>\n      <th>3</th>\n      <td>15</td>\n      <td>B Class</td>\n      <td>2017</td>\n      <td>Automatic</td>\n      <td>24841</td>\n      <td>Diesel</td>\n      <td>150</td>\n      <td>68.9</td>\n      <td>1.5</td>\n    </tr>\n    <tr>\n      <th>4</th>\n      <td>18</td>\n      <td>B Class</td>\n      <td>2017</td>\n      <td>Automatic</td>\n      <td>14128</td>\n      <td>Diesel</td>\n      <td>150</td>\n      <td>68.9</td>\n      <td>2.1</td>\n    </tr>\n  </tbody>\n</table>\n</div>"
     },
     "metadata": {},
     "output_type": "display_data"
    }
   ],
   "source": [
    "display(validation.info())\n",
    "display(validation.head())"
   ],
   "metadata": {
    "collapsed": false
   }
  },
  {
   "cell_type": "code",
   "execution_count": 129,
   "outputs": [
    {
     "data": {
      "text/plain": "      year  mileage  tax   mpg  engineSize  model_ A Class  model_ B Class  \\\n0     2012    46000   30  64.2         2.1            True           False   \n1     2020       19  150  36.7         2.0           False           False   \n2     2013    69031  125  51.4         1.6            True           False   \n3     2015    34739  125  56.5         2.1           False            True   \n4     2017    21352   20  72.4         2.0           False           False   \n...    ...      ...  ...   ...         ...             ...             ...   \n9818  2016    25317  570  24.1         6.0           False           False   \n9819  2016    34903   20  68.9         2.1           False           False   \n9820  2015    86890   20  64.2         2.1            True           False   \n9821  2016    27958    0  80.7         1.5            True           False   \n9822  2015    31878   20  65.7         2.1           False           False   \n\n      model_ C Class  model_ CL Class  model_ CLA Class  ...  model_200  \\\n0              False            False             False  ...      False   \n1              False             True             False  ...      False   \n2              False            False             False  ...      False   \n3              False            False             False  ...      False   \n4              False            False             False  ...      False   \n...              ...              ...               ...  ...        ...   \n9818           False            False             False  ...      False   \n9819            True            False             False  ...      False   \n9820           False            False             False  ...      False   \n9821           False            False             False  ...      False   \n9822            True            False             False  ...      False   \n\n      model_230  transmission_Automatic  transmission_Manual  \\\n0         False                    True                False   \n1         False                   False                False   \n2         False                   False                 True   \n3         False                    True                False   \n4         False                   False                False   \n...         ...                     ...                  ...   \n9818      False                   False                False   \n9819      False                   False                 True   \n9820      False                    True                False   \n9821      False                   False                 True   \n9822      False                   False                False   \n\n      transmission_Other  transmission_Semi-Auto  fuelType_Diesel  \\\n0                  False                   False             True   \n1                  False                    True            False   \n2                  False                   False            False   \n3                  False                   False             True   \n4                  False                    True             True   \n...                  ...                     ...              ...   \n9818               False                    True            False   \n9819               False                   False             True   \n9820               False                   False             True   \n9821               False                   False             True   \n9822               False                    True             True   \n\n      fuelType_Hybrid  fuelType_Other  fuelType_Petrol  \n0               False           False            False  \n1               False           False             True  \n2               False           False             True  \n3               False           False            False  \n4               False           False            False  \n...               ...             ...              ...  \n9818            False           False             True  \n9819            False           False            False  \n9820            False           False            False  \n9821            False           False            False  \n9822            False           False            False  \n\n[9823 rows x 39 columns]",
      "text/html": "<div>\n<style scoped>\n    .dataframe tbody tr th:only-of-type {\n        vertical-align: middle;\n    }\n\n    .dataframe tbody tr th {\n        vertical-align: top;\n    }\n\n    .dataframe thead th {\n        text-align: right;\n    }\n</style>\n<table border=\"1\" class=\"dataframe\">\n  <thead>\n    <tr style=\"text-align: right;\">\n      <th></th>\n      <th>year</th>\n      <th>mileage</th>\n      <th>tax</th>\n      <th>mpg</th>\n      <th>engineSize</th>\n      <th>model_ A Class</th>\n      <th>model_ B Class</th>\n      <th>model_ C Class</th>\n      <th>model_ CL Class</th>\n      <th>model_ CLA Class</th>\n      <th>...</th>\n      <th>model_200</th>\n      <th>model_230</th>\n      <th>transmission_Automatic</th>\n      <th>transmission_Manual</th>\n      <th>transmission_Other</th>\n      <th>transmission_Semi-Auto</th>\n      <th>fuelType_Diesel</th>\n      <th>fuelType_Hybrid</th>\n      <th>fuelType_Other</th>\n      <th>fuelType_Petrol</th>\n    </tr>\n  </thead>\n  <tbody>\n    <tr>\n      <th>0</th>\n      <td>2012</td>\n      <td>46000</td>\n      <td>30</td>\n      <td>64.2</td>\n      <td>2.1</td>\n      <td>True</td>\n      <td>False</td>\n      <td>False</td>\n      <td>False</td>\n      <td>False</td>\n      <td>...</td>\n      <td>False</td>\n      <td>False</td>\n      <td>True</td>\n      <td>False</td>\n      <td>False</td>\n      <td>False</td>\n      <td>True</td>\n      <td>False</td>\n      <td>False</td>\n      <td>False</td>\n    </tr>\n    <tr>\n      <th>1</th>\n      <td>2020</td>\n      <td>19</td>\n      <td>150</td>\n      <td>36.7</td>\n      <td>2.0</td>\n      <td>False</td>\n      <td>False</td>\n      <td>False</td>\n      <td>True</td>\n      <td>False</td>\n      <td>...</td>\n      <td>False</td>\n      <td>False</td>\n      <td>False</td>\n      <td>False</td>\n      <td>False</td>\n      <td>True</td>\n      <td>False</td>\n      <td>False</td>\n      <td>False</td>\n      <td>True</td>\n    </tr>\n    <tr>\n      <th>2</th>\n      <td>2013</td>\n      <td>69031</td>\n      <td>125</td>\n      <td>51.4</td>\n      <td>1.6</td>\n      <td>True</td>\n      <td>False</td>\n      <td>False</td>\n      <td>False</td>\n      <td>False</td>\n      <td>...</td>\n      <td>False</td>\n      <td>False</td>\n      <td>False</td>\n      <td>True</td>\n      <td>False</td>\n      <td>False</td>\n      <td>False</td>\n      <td>False</td>\n      <td>False</td>\n      <td>True</td>\n    </tr>\n    <tr>\n      <th>3</th>\n      <td>2015</td>\n      <td>34739</td>\n      <td>125</td>\n      <td>56.5</td>\n      <td>2.1</td>\n      <td>False</td>\n      <td>True</td>\n      <td>False</td>\n      <td>False</td>\n      <td>False</td>\n      <td>...</td>\n      <td>False</td>\n      <td>False</td>\n      <td>True</td>\n      <td>False</td>\n      <td>False</td>\n      <td>False</td>\n      <td>True</td>\n      <td>False</td>\n      <td>False</td>\n      <td>False</td>\n    </tr>\n    <tr>\n      <th>4</th>\n      <td>2017</td>\n      <td>21352</td>\n      <td>20</td>\n      <td>72.4</td>\n      <td>2.0</td>\n      <td>False</td>\n      <td>False</td>\n      <td>False</td>\n      <td>False</td>\n      <td>False</td>\n      <td>...</td>\n      <td>False</td>\n      <td>False</td>\n      <td>False</td>\n      <td>False</td>\n      <td>False</td>\n      <td>True</td>\n      <td>True</td>\n      <td>False</td>\n      <td>False</td>\n      <td>False</td>\n    </tr>\n    <tr>\n      <th>...</th>\n      <td>...</td>\n      <td>...</td>\n      <td>...</td>\n      <td>...</td>\n      <td>...</td>\n      <td>...</td>\n      <td>...</td>\n      <td>...</td>\n      <td>...</td>\n      <td>...</td>\n      <td>...</td>\n      <td>...</td>\n      <td>...</td>\n      <td>...</td>\n      <td>...</td>\n      <td>...</td>\n      <td>...</td>\n      <td>...</td>\n      <td>...</td>\n      <td>...</td>\n      <td>...</td>\n    </tr>\n    <tr>\n      <th>9818</th>\n      <td>2016</td>\n      <td>25317</td>\n      <td>570</td>\n      <td>24.1</td>\n      <td>6.0</td>\n      <td>False</td>\n      <td>False</td>\n      <td>False</td>\n      <td>False</td>\n      <td>False</td>\n      <td>...</td>\n      <td>False</td>\n      <td>False</td>\n      <td>False</td>\n      <td>False</td>\n      <td>False</td>\n      <td>True</td>\n      <td>False</td>\n      <td>False</td>\n      <td>False</td>\n      <td>True</td>\n    </tr>\n    <tr>\n      <th>9819</th>\n      <td>2016</td>\n      <td>34903</td>\n      <td>20</td>\n      <td>68.9</td>\n      <td>2.1</td>\n      <td>False</td>\n      <td>False</td>\n      <td>True</td>\n      <td>False</td>\n      <td>False</td>\n      <td>...</td>\n      <td>False</td>\n      <td>False</td>\n      <td>False</td>\n      <td>True</td>\n      <td>False</td>\n      <td>False</td>\n      <td>True</td>\n      <td>False</td>\n      <td>False</td>\n      <td>False</td>\n    </tr>\n    <tr>\n      <th>9820</th>\n      <td>2015</td>\n      <td>86890</td>\n      <td>20</td>\n      <td>64.2</td>\n      <td>2.1</td>\n      <td>True</td>\n      <td>False</td>\n      <td>False</td>\n      <td>False</td>\n      <td>False</td>\n      <td>...</td>\n      <td>False</td>\n      <td>False</td>\n      <td>True</td>\n      <td>False</td>\n      <td>False</td>\n      <td>False</td>\n      <td>True</td>\n      <td>False</td>\n      <td>False</td>\n      <td>False</td>\n    </tr>\n    <tr>\n      <th>9821</th>\n      <td>2016</td>\n      <td>27958</td>\n      <td>0</td>\n      <td>80.7</td>\n      <td>1.5</td>\n      <td>True</td>\n      <td>False</td>\n      <td>False</td>\n      <td>False</td>\n      <td>False</td>\n      <td>...</td>\n      <td>False</td>\n      <td>False</td>\n      <td>False</td>\n      <td>True</td>\n      <td>False</td>\n      <td>False</td>\n      <td>True</td>\n      <td>False</td>\n      <td>False</td>\n      <td>False</td>\n    </tr>\n    <tr>\n      <th>9822</th>\n      <td>2015</td>\n      <td>31878</td>\n      <td>20</td>\n      <td>65.7</td>\n      <td>2.1</td>\n      <td>False</td>\n      <td>False</td>\n      <td>True</td>\n      <td>False</td>\n      <td>False</td>\n      <td>...</td>\n      <td>False</td>\n      <td>False</td>\n      <td>False</td>\n      <td>False</td>\n      <td>False</td>\n      <td>True</td>\n      <td>True</td>\n      <td>False</td>\n      <td>False</td>\n      <td>False</td>\n    </tr>\n  </tbody>\n</table>\n<p>9823 rows × 39 columns</p>\n</div>"
     },
     "metadata": {},
     "output_type": "display_data"
    },
    {
     "data": {
      "text/plain": "      year  mileage  tax   mpg  engineSize  model_ A Class  model_ B Class  \\\n0     2005    63000  325  32.1         1.8           False           False   \n1     2016     6200  555  28.0         5.5           False           False   \n2     2016    41713  125  56.6         2.1           False           False   \n3     2017    24841  150  68.9         1.5           False            True   \n4     2017    14128  150  68.9         2.1           False            True   \n...    ...      ...  ...   ...         ...             ...             ...   \n3291  2016    27804  260  42.8         3.0           False           False   \n3292  2019    10635  145  44.1         1.5           False           False   \n3293  2016    14000  125  56.5         2.1           False           False   \n3294  2017    20477  145  68.9         2.1            True           False   \n3295  2019     5000  145  61.4         2.0           False           False   \n\n      model_ C Class  model_ CL Class  model_ CLA Class  ...  model_200  \\\n0              False            False             False  ...          0   \n1              False            False             False  ...          0   \n2              False            False             False  ...          0   \n3              False            False             False  ...          0   \n4              False            False             False  ...          0   \n...              ...              ...               ...  ...        ...   \n3291           False            False             False  ...          0   \n3292            True            False             False  ...          0   \n3293           False            False             False  ...          0   \n3294           False            False             False  ...          0   \n3295            True            False             False  ...          0   \n\n      model_230  transmission_Automatic  transmission_Manual  \\\n0             0                    True                False   \n1             0                    True                False   \n2             0                    True                False   \n3             0                    True                False   \n4             0                    True                False   \n...         ...                     ...                  ...   \n3291          0                    True                False   \n3292          0                    True                False   \n3293          0                    True                False   \n3294          0                    True                False   \n3295          0                    True                False   \n\n      transmission_Other  transmission_Semi-Auto  fuelType_Diesel  \\\n0                      0                   False            False   \n1                      0                   False            False   \n2                      0                   False             True   \n3                      0                   False             True   \n4                      0                   False             True   \n...                  ...                     ...              ...   \n3291                   0                   False             True   \n3292                   0                   False            False   \n3293                   0                   False             True   \n3294                   0                   False             True   \n3295                   0                   False             True   \n\n      fuelType_Hybrid  fuelType_Other  fuelType_Petrol  \n0               False               0             True  \n1               False               0             True  \n2               False               0            False  \n3               False               0            False  \n4               False               0            False  \n...               ...             ...              ...  \n3291            False               0            False  \n3292            False               0             True  \n3293            False               0            False  \n3294            False               0            False  \n3295            False               0            False  \n\n[3296 rows x 39 columns]",
      "text/html": "<div>\n<style scoped>\n    .dataframe tbody tr th:only-of-type {\n        vertical-align: middle;\n    }\n\n    .dataframe tbody tr th {\n        vertical-align: top;\n    }\n\n    .dataframe thead th {\n        text-align: right;\n    }\n</style>\n<table border=\"1\" class=\"dataframe\">\n  <thead>\n    <tr style=\"text-align: right;\">\n      <th></th>\n      <th>year</th>\n      <th>mileage</th>\n      <th>tax</th>\n      <th>mpg</th>\n      <th>engineSize</th>\n      <th>model_ A Class</th>\n      <th>model_ B Class</th>\n      <th>model_ C Class</th>\n      <th>model_ CL Class</th>\n      <th>model_ CLA Class</th>\n      <th>...</th>\n      <th>model_200</th>\n      <th>model_230</th>\n      <th>transmission_Automatic</th>\n      <th>transmission_Manual</th>\n      <th>transmission_Other</th>\n      <th>transmission_Semi-Auto</th>\n      <th>fuelType_Diesel</th>\n      <th>fuelType_Hybrid</th>\n      <th>fuelType_Other</th>\n      <th>fuelType_Petrol</th>\n    </tr>\n  </thead>\n  <tbody>\n    <tr>\n      <th>0</th>\n      <td>2005</td>\n      <td>63000</td>\n      <td>325</td>\n      <td>32.1</td>\n      <td>1.8</td>\n      <td>False</td>\n      <td>False</td>\n      <td>False</td>\n      <td>False</td>\n      <td>False</td>\n      <td>...</td>\n      <td>0</td>\n      <td>0</td>\n      <td>True</td>\n      <td>False</td>\n      <td>0</td>\n      <td>False</td>\n      <td>False</td>\n      <td>False</td>\n      <td>0</td>\n      <td>True</td>\n    </tr>\n    <tr>\n      <th>1</th>\n      <td>2016</td>\n      <td>6200</td>\n      <td>555</td>\n      <td>28.0</td>\n      <td>5.5</td>\n      <td>False</td>\n      <td>False</td>\n      <td>False</td>\n      <td>False</td>\n      <td>False</td>\n      <td>...</td>\n      <td>0</td>\n      <td>0</td>\n      <td>True</td>\n      <td>False</td>\n      <td>0</td>\n      <td>False</td>\n      <td>False</td>\n      <td>False</td>\n      <td>0</td>\n      <td>True</td>\n    </tr>\n    <tr>\n      <th>2</th>\n      <td>2016</td>\n      <td>41713</td>\n      <td>125</td>\n      <td>56.6</td>\n      <td>2.1</td>\n      <td>False</td>\n      <td>False</td>\n      <td>False</td>\n      <td>False</td>\n      <td>False</td>\n      <td>...</td>\n      <td>0</td>\n      <td>0</td>\n      <td>True</td>\n      <td>False</td>\n      <td>0</td>\n      <td>False</td>\n      <td>True</td>\n      <td>False</td>\n      <td>0</td>\n      <td>False</td>\n    </tr>\n    <tr>\n      <th>3</th>\n      <td>2017</td>\n      <td>24841</td>\n      <td>150</td>\n      <td>68.9</td>\n      <td>1.5</td>\n      <td>False</td>\n      <td>True</td>\n      <td>False</td>\n      <td>False</td>\n      <td>False</td>\n      <td>...</td>\n      <td>0</td>\n      <td>0</td>\n      <td>True</td>\n      <td>False</td>\n      <td>0</td>\n      <td>False</td>\n      <td>True</td>\n      <td>False</td>\n      <td>0</td>\n      <td>False</td>\n    </tr>\n    <tr>\n      <th>4</th>\n      <td>2017</td>\n      <td>14128</td>\n      <td>150</td>\n      <td>68.9</td>\n      <td>2.1</td>\n      <td>False</td>\n      <td>True</td>\n      <td>False</td>\n      <td>False</td>\n      <td>False</td>\n      <td>...</td>\n      <td>0</td>\n      <td>0</td>\n      <td>True</td>\n      <td>False</td>\n      <td>0</td>\n      <td>False</td>\n      <td>True</td>\n      <td>False</td>\n      <td>0</td>\n      <td>False</td>\n    </tr>\n    <tr>\n      <th>...</th>\n      <td>...</td>\n      <td>...</td>\n      <td>...</td>\n      <td>...</td>\n      <td>...</td>\n      <td>...</td>\n      <td>...</td>\n      <td>...</td>\n      <td>...</td>\n      <td>...</td>\n      <td>...</td>\n      <td>...</td>\n      <td>...</td>\n      <td>...</td>\n      <td>...</td>\n      <td>...</td>\n      <td>...</td>\n      <td>...</td>\n      <td>...</td>\n      <td>...</td>\n      <td>...</td>\n    </tr>\n    <tr>\n      <th>3291</th>\n      <td>2016</td>\n      <td>27804</td>\n      <td>260</td>\n      <td>42.8</td>\n      <td>3.0</td>\n      <td>False</td>\n      <td>False</td>\n      <td>False</td>\n      <td>False</td>\n      <td>False</td>\n      <td>...</td>\n      <td>0</td>\n      <td>0</td>\n      <td>True</td>\n      <td>False</td>\n      <td>0</td>\n      <td>False</td>\n      <td>True</td>\n      <td>False</td>\n      <td>0</td>\n      <td>False</td>\n    </tr>\n    <tr>\n      <th>3292</th>\n      <td>2019</td>\n      <td>10635</td>\n      <td>145</td>\n      <td>44.1</td>\n      <td>1.5</td>\n      <td>False</td>\n      <td>False</td>\n      <td>True</td>\n      <td>False</td>\n      <td>False</td>\n      <td>...</td>\n      <td>0</td>\n      <td>0</td>\n      <td>True</td>\n      <td>False</td>\n      <td>0</td>\n      <td>False</td>\n      <td>False</td>\n      <td>False</td>\n      <td>0</td>\n      <td>True</td>\n    </tr>\n    <tr>\n      <th>3293</th>\n      <td>2016</td>\n      <td>14000</td>\n      <td>125</td>\n      <td>56.5</td>\n      <td>2.1</td>\n      <td>False</td>\n      <td>False</td>\n      <td>False</td>\n      <td>False</td>\n      <td>False</td>\n      <td>...</td>\n      <td>0</td>\n      <td>0</td>\n      <td>True</td>\n      <td>False</td>\n      <td>0</td>\n      <td>False</td>\n      <td>True</td>\n      <td>False</td>\n      <td>0</td>\n      <td>False</td>\n    </tr>\n    <tr>\n      <th>3294</th>\n      <td>2017</td>\n      <td>20477</td>\n      <td>145</td>\n      <td>68.9</td>\n      <td>2.1</td>\n      <td>True</td>\n      <td>False</td>\n      <td>False</td>\n      <td>False</td>\n      <td>False</td>\n      <td>...</td>\n      <td>0</td>\n      <td>0</td>\n      <td>True</td>\n      <td>False</td>\n      <td>0</td>\n      <td>False</td>\n      <td>True</td>\n      <td>False</td>\n      <td>0</td>\n      <td>False</td>\n    </tr>\n    <tr>\n      <th>3295</th>\n      <td>2019</td>\n      <td>5000</td>\n      <td>145</td>\n      <td>61.4</td>\n      <td>2.0</td>\n      <td>False</td>\n      <td>False</td>\n      <td>True</td>\n      <td>False</td>\n      <td>False</td>\n      <td>...</td>\n      <td>0</td>\n      <td>0</td>\n      <td>True</td>\n      <td>False</td>\n      <td>0</td>\n      <td>False</td>\n      <td>True</td>\n      <td>False</td>\n      <td>0</td>\n      <td>False</td>\n    </tr>\n  </tbody>\n</table>\n<p>3296 rows × 39 columns</p>\n</div>"
     },
     "metadata": {},
     "output_type": "display_data"
    },
    {
     "name": "stdout",
     "output_type": "stream",
     "text": [
      "(9823, 39)\n",
      "(3296, 39)\n"
     ]
    }
   ],
   "source": [
    "y = data['price']\n",
    "data_drop = data.drop(columns=[\"ID\", 'price'])\n",
    "validation_drop = validation.drop(columns=[\"ID\"])\n",
    "\n",
    "\n",
    "#display(data_drop.head())\n",
    "#display(validation_drop.head())\n",
    "\n",
    "data_dummies = pd.get_dummies(data_drop)\n",
    "validation_dummies = pd.get_dummies(validation_drop).reindex(columns=data_dummies.columns, fill_value=0)\n",
    "\n",
    "\n",
    "display(data_dummies)\n",
    "\n",
    "display(validation_dummies)\n",
    "print(data_dummies.shape)\n",
    "print(validation_dummies.shape)"
   ],
   "metadata": {
    "collapsed": false
   }
  },
  {
   "cell_type": "code",
   "execution_count": 130,
   "outputs": [],
   "source": [
    "from sklearn.model_selection import train_test_split\n",
    "\n",
    "train_input, test_input, train_target, test_target = train_test_split(data_dummies, y)"
   ],
   "metadata": {
    "collapsed": false
   }
  },
  {
   "cell_type": "code",
   "execution_count": 131,
   "outputs": [
    {
     "name": "stdout",
     "output_type": "stream",
     "text": [
      "0.9924210685699623\n",
      "0.9491780241173656\n"
     ]
    }
   ],
   "source": [
    "from sklearn.ensemble import RandomForestRegressor\n",
    "\n",
    "rf = RandomForestRegressor()\n",
    "rf.fit(train_input, train_target)\n",
    "\n",
    "print(rf.score(train_input, train_target))\n",
    "print(rf.score(test_input, test_target))"
   ],
   "metadata": {
    "collapsed": false
   }
  },
  {
   "cell_type": "code",
   "execution_count": 137,
   "outputs": [
    {
     "data": {
      "text/plain": "      year  mileage  tax   mpg  engineSize  model_ A Class  model_ B Class  \\\n0     2005    63000  325  32.1         1.8           False           False   \n1     2016     6200  555  28.0         5.5           False           False   \n2     2016    41713  125  56.6         2.1           False           False   \n3     2017    24841  150  68.9         1.5           False            True   \n4     2017    14128  150  68.9         2.1           False            True   \n...    ...      ...  ...   ...         ...             ...             ...   \n3291  2016    27804  260  42.8         3.0           False           False   \n3292  2019    10635  145  44.1         1.5           False           False   \n3293  2016    14000  125  56.5         2.1           False           False   \n3294  2017    20477  145  68.9         2.1            True           False   \n3295  2019     5000  145  61.4         2.0           False           False   \n\n      model_ C Class  model_ CL Class  model_ CLA Class  ...  model_200  \\\n0              False            False             False  ...          0   \n1              False            False             False  ...          0   \n2              False            False             False  ...          0   \n3              False            False             False  ...          0   \n4              False            False             False  ...          0   \n...              ...              ...               ...  ...        ...   \n3291           False            False             False  ...          0   \n3292            True            False             False  ...          0   \n3293           False            False             False  ...          0   \n3294           False            False             False  ...          0   \n3295            True            False             False  ...          0   \n\n      model_230  transmission_Automatic  transmission_Manual  \\\n0             0                    True                False   \n1             0                    True                False   \n2             0                    True                False   \n3             0                    True                False   \n4             0                    True                False   \n...         ...                     ...                  ...   \n3291          0                    True                False   \n3292          0                    True                False   \n3293          0                    True                False   \n3294          0                    True                False   \n3295          0                    True                False   \n\n      transmission_Other  transmission_Semi-Auto  fuelType_Diesel  \\\n0                      0                   False            False   \n1                      0                   False            False   \n2                      0                   False             True   \n3                      0                   False             True   \n4                      0                   False             True   \n...                  ...                     ...              ...   \n3291                   0                   False             True   \n3292                   0                   False            False   \n3293                   0                   False             True   \n3294                   0                   False             True   \n3295                   0                   False             True   \n\n      fuelType_Hybrid  fuelType_Other  fuelType_Petrol  \n0               False               0             True  \n1               False               0             True  \n2               False               0            False  \n3               False               0            False  \n4               False               0            False  \n...               ...             ...              ...  \n3291            False               0            False  \n3292            False               0             True  \n3293            False               0            False  \n3294            False               0            False  \n3295            False               0            False  \n\n[3296 rows x 39 columns]",
      "text/html": "<div>\n<style scoped>\n    .dataframe tbody tr th:only-of-type {\n        vertical-align: middle;\n    }\n\n    .dataframe tbody tr th {\n        vertical-align: top;\n    }\n\n    .dataframe thead th {\n        text-align: right;\n    }\n</style>\n<table border=\"1\" class=\"dataframe\">\n  <thead>\n    <tr style=\"text-align: right;\">\n      <th></th>\n      <th>year</th>\n      <th>mileage</th>\n      <th>tax</th>\n      <th>mpg</th>\n      <th>engineSize</th>\n      <th>model_ A Class</th>\n      <th>model_ B Class</th>\n      <th>model_ C Class</th>\n      <th>model_ CL Class</th>\n      <th>model_ CLA Class</th>\n      <th>...</th>\n      <th>model_200</th>\n      <th>model_230</th>\n      <th>transmission_Automatic</th>\n      <th>transmission_Manual</th>\n      <th>transmission_Other</th>\n      <th>transmission_Semi-Auto</th>\n      <th>fuelType_Diesel</th>\n      <th>fuelType_Hybrid</th>\n      <th>fuelType_Other</th>\n      <th>fuelType_Petrol</th>\n    </tr>\n  </thead>\n  <tbody>\n    <tr>\n      <th>0</th>\n      <td>2005</td>\n      <td>63000</td>\n      <td>325</td>\n      <td>32.1</td>\n      <td>1.8</td>\n      <td>False</td>\n      <td>False</td>\n      <td>False</td>\n      <td>False</td>\n      <td>False</td>\n      <td>...</td>\n      <td>0</td>\n      <td>0</td>\n      <td>True</td>\n      <td>False</td>\n      <td>0</td>\n      <td>False</td>\n      <td>False</td>\n      <td>False</td>\n      <td>0</td>\n      <td>True</td>\n    </tr>\n    <tr>\n      <th>1</th>\n      <td>2016</td>\n      <td>6200</td>\n      <td>555</td>\n      <td>28.0</td>\n      <td>5.5</td>\n      <td>False</td>\n      <td>False</td>\n      <td>False</td>\n      <td>False</td>\n      <td>False</td>\n      <td>...</td>\n      <td>0</td>\n      <td>0</td>\n      <td>True</td>\n      <td>False</td>\n      <td>0</td>\n      <td>False</td>\n      <td>False</td>\n      <td>False</td>\n      <td>0</td>\n      <td>True</td>\n    </tr>\n    <tr>\n      <th>2</th>\n      <td>2016</td>\n      <td>41713</td>\n      <td>125</td>\n      <td>56.6</td>\n      <td>2.1</td>\n      <td>False</td>\n      <td>False</td>\n      <td>False</td>\n      <td>False</td>\n      <td>False</td>\n      <td>...</td>\n      <td>0</td>\n      <td>0</td>\n      <td>True</td>\n      <td>False</td>\n      <td>0</td>\n      <td>False</td>\n      <td>True</td>\n      <td>False</td>\n      <td>0</td>\n      <td>False</td>\n    </tr>\n    <tr>\n      <th>3</th>\n      <td>2017</td>\n      <td>24841</td>\n      <td>150</td>\n      <td>68.9</td>\n      <td>1.5</td>\n      <td>False</td>\n      <td>True</td>\n      <td>False</td>\n      <td>False</td>\n      <td>False</td>\n      <td>...</td>\n      <td>0</td>\n      <td>0</td>\n      <td>True</td>\n      <td>False</td>\n      <td>0</td>\n      <td>False</td>\n      <td>True</td>\n      <td>False</td>\n      <td>0</td>\n      <td>False</td>\n    </tr>\n    <tr>\n      <th>4</th>\n      <td>2017</td>\n      <td>14128</td>\n      <td>150</td>\n      <td>68.9</td>\n      <td>2.1</td>\n      <td>False</td>\n      <td>True</td>\n      <td>False</td>\n      <td>False</td>\n      <td>False</td>\n      <td>...</td>\n      <td>0</td>\n      <td>0</td>\n      <td>True</td>\n      <td>False</td>\n      <td>0</td>\n      <td>False</td>\n      <td>True</td>\n      <td>False</td>\n      <td>0</td>\n      <td>False</td>\n    </tr>\n    <tr>\n      <th>...</th>\n      <td>...</td>\n      <td>...</td>\n      <td>...</td>\n      <td>...</td>\n      <td>...</td>\n      <td>...</td>\n      <td>...</td>\n      <td>...</td>\n      <td>...</td>\n      <td>...</td>\n      <td>...</td>\n      <td>...</td>\n      <td>...</td>\n      <td>...</td>\n      <td>...</td>\n      <td>...</td>\n      <td>...</td>\n      <td>...</td>\n      <td>...</td>\n      <td>...</td>\n      <td>...</td>\n    </tr>\n    <tr>\n      <th>3291</th>\n      <td>2016</td>\n      <td>27804</td>\n      <td>260</td>\n      <td>42.8</td>\n      <td>3.0</td>\n      <td>False</td>\n      <td>False</td>\n      <td>False</td>\n      <td>False</td>\n      <td>False</td>\n      <td>...</td>\n      <td>0</td>\n      <td>0</td>\n      <td>True</td>\n      <td>False</td>\n      <td>0</td>\n      <td>False</td>\n      <td>True</td>\n      <td>False</td>\n      <td>0</td>\n      <td>False</td>\n    </tr>\n    <tr>\n      <th>3292</th>\n      <td>2019</td>\n      <td>10635</td>\n      <td>145</td>\n      <td>44.1</td>\n      <td>1.5</td>\n      <td>False</td>\n      <td>False</td>\n      <td>True</td>\n      <td>False</td>\n      <td>False</td>\n      <td>...</td>\n      <td>0</td>\n      <td>0</td>\n      <td>True</td>\n      <td>False</td>\n      <td>0</td>\n      <td>False</td>\n      <td>False</td>\n      <td>False</td>\n      <td>0</td>\n      <td>True</td>\n    </tr>\n    <tr>\n      <th>3293</th>\n      <td>2016</td>\n      <td>14000</td>\n      <td>125</td>\n      <td>56.5</td>\n      <td>2.1</td>\n      <td>False</td>\n      <td>False</td>\n      <td>False</td>\n      <td>False</td>\n      <td>False</td>\n      <td>...</td>\n      <td>0</td>\n      <td>0</td>\n      <td>True</td>\n      <td>False</td>\n      <td>0</td>\n      <td>False</td>\n      <td>True</td>\n      <td>False</td>\n      <td>0</td>\n      <td>False</td>\n    </tr>\n    <tr>\n      <th>3294</th>\n      <td>2017</td>\n      <td>20477</td>\n      <td>145</td>\n      <td>68.9</td>\n      <td>2.1</td>\n      <td>True</td>\n      <td>False</td>\n      <td>False</td>\n      <td>False</td>\n      <td>False</td>\n      <td>...</td>\n      <td>0</td>\n      <td>0</td>\n      <td>True</td>\n      <td>False</td>\n      <td>0</td>\n      <td>False</td>\n      <td>True</td>\n      <td>False</td>\n      <td>0</td>\n      <td>False</td>\n    </tr>\n    <tr>\n      <th>3295</th>\n      <td>2019</td>\n      <td>5000</td>\n      <td>145</td>\n      <td>61.4</td>\n      <td>2.0</td>\n      <td>False</td>\n      <td>False</td>\n      <td>True</td>\n      <td>False</td>\n      <td>False</td>\n      <td>...</td>\n      <td>0</td>\n      <td>0</td>\n      <td>True</td>\n      <td>False</td>\n      <td>0</td>\n      <td>False</td>\n      <td>True</td>\n      <td>False</td>\n      <td>0</td>\n      <td>False</td>\n    </tr>\n  </tbody>\n</table>\n<p>3296 rows × 39 columns</p>\n</div>"
     },
     "metadata": {},
     "output_type": "display_data"
    },
    {
     "name": "stdout",
     "output_type": "stream",
     "text": [
      "1023.9435265079792\n",
      "2729.199923378885\n"
     ]
    },
    {
     "data": {
      "text/plain": "         ID     price\n0         0   4399.15\n1         2  62621.30\n2        14  17240.50\n3        15  14686.32\n4        18  16960.14\n...     ...       ...\n3291  13096  27404.19\n3292  13098  24038.51\n3293  13101  23874.65\n3294  13109  17012.95\n3295  13112  29176.94\n\n[3296 rows x 2 columns]",
      "text/html": "<div>\n<style scoped>\n    .dataframe tbody tr th:only-of-type {\n        vertical-align: middle;\n    }\n\n    .dataframe tbody tr th {\n        vertical-align: top;\n    }\n\n    .dataframe thead th {\n        text-align: right;\n    }\n</style>\n<table border=\"1\" class=\"dataframe\">\n  <thead>\n    <tr style=\"text-align: right;\">\n      <th></th>\n      <th>ID</th>\n      <th>price</th>\n    </tr>\n  </thead>\n  <tbody>\n    <tr>\n      <th>0</th>\n      <td>0</td>\n      <td>4399.15</td>\n    </tr>\n    <tr>\n      <th>1</th>\n      <td>2</td>\n      <td>62621.30</td>\n    </tr>\n    <tr>\n      <th>2</th>\n      <td>14</td>\n      <td>17240.50</td>\n    </tr>\n    <tr>\n      <th>3</th>\n      <td>15</td>\n      <td>14686.32</td>\n    </tr>\n    <tr>\n      <th>4</th>\n      <td>18</td>\n      <td>16960.14</td>\n    </tr>\n    <tr>\n      <th>...</th>\n      <td>...</td>\n      <td>...</td>\n    </tr>\n    <tr>\n      <th>3291</th>\n      <td>13096</td>\n      <td>27404.19</td>\n    </tr>\n    <tr>\n      <th>3292</th>\n      <td>13098</td>\n      <td>24038.51</td>\n    </tr>\n    <tr>\n      <th>3293</th>\n      <td>13101</td>\n      <td>23874.65</td>\n    </tr>\n    <tr>\n      <th>3294</th>\n      <td>13109</td>\n      <td>17012.95</td>\n    </tr>\n    <tr>\n      <th>3295</th>\n      <td>13112</td>\n      <td>29176.94</td>\n    </tr>\n  </tbody>\n</table>\n<p>3296 rows × 2 columns</p>\n</div>"
     },
     "metadata": {},
     "output_type": "display_data"
    }
   ],
   "source": [
    "from sklearn.metrics import mean_squared_error\n",
    "\n",
    "train_predict = rf.predict(train_input)\n",
    "test_predict  = rf.predict(test_input)\n",
    "display(validation_dummies)\n",
    "validation_predict = rf.predict(validation_dummies)\n",
    "\n",
    "print(mean_squared_error(train_predict, train_target, squared=False))\n",
    "print(mean_squared_error(test_predict,  test_target, squared=False))\n",
    "\n",
    "df = pd.DataFrame()\n",
    "df['ID'] = validation['ID']\n",
    "df['price'] = validation_predict\n",
    "\n",
    "display(df)\n",
    "df.to_csv(\"./5555.csv\", index=False)"
   ],
   "metadata": {
    "collapsed": false
   }
  }
 ],
 "metadata": {
  "kernelspec": {
   "display_name": "Python 3",
   "language": "python",
   "name": "python3"
  },
  "language_info": {
   "codemirror_mode": {
    "name": "ipython",
    "version": 2
   },
   "file_extension": ".py",
   "mimetype": "text/x-python",
   "name": "python",
   "nbconvert_exporter": "python",
   "pygments_lexer": "ipython2",
   "version": "2.7.6"
  }
 },
 "nbformat": 4,
 "nbformat_minor": 0
}
