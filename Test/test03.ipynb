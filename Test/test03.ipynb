{
 "cells": [
  {
   "cell_type": "markdown",
   "source": [
    "# 유형 1"
   ],
   "metadata": {
    "collapsed": false
   }
  },
  {
   "cell_type": "code",
   "execution_count": 239,
   "outputs": [
    {
     "data": {
      "text/plain": "   longitude  latitude  housing_median_age  total_rooms  total_bedrooms  \\\n0    -122.23     37.88                41.0        880.0           129.0   \n1    -122.22     37.86                21.0       7099.0          1106.0   \n2    -122.24     37.85                52.0       1467.0           190.0   \n3    -122.25     37.85                52.0       1274.0           235.0   \n4    -122.25     37.85                52.0       1627.0           280.0   \n\n   population  households  median_income  median_house_value ocean_proximity  \n0       322.0       126.0         8.3252            452600.0        NEAR BAY  \n1      2401.0      1138.0         8.3014            358500.0        NEAR BAY  \n2       496.0       177.0         7.2574            352100.0        NEAR BAY  \n3       558.0       219.0         5.6431            341300.0        NEAR BAY  \n4       565.0       259.0         3.8462            342200.0        NEAR BAY  ",
      "text/html": "<div>\n<style scoped>\n    .dataframe tbody tr th:only-of-type {\n        vertical-align: middle;\n    }\n\n    .dataframe tbody tr th {\n        vertical-align: top;\n    }\n\n    .dataframe thead th {\n        text-align: right;\n    }\n</style>\n<table border=\"1\" class=\"dataframe\">\n  <thead>\n    <tr style=\"text-align: right;\">\n      <th></th>\n      <th>longitude</th>\n      <th>latitude</th>\n      <th>housing_median_age</th>\n      <th>total_rooms</th>\n      <th>total_bedrooms</th>\n      <th>population</th>\n      <th>households</th>\n      <th>median_income</th>\n      <th>median_house_value</th>\n      <th>ocean_proximity</th>\n    </tr>\n  </thead>\n  <tbody>\n    <tr>\n      <th>0</th>\n      <td>-122.23</td>\n      <td>37.88</td>\n      <td>41.0</td>\n      <td>880.0</td>\n      <td>129.0</td>\n      <td>322.0</td>\n      <td>126.0</td>\n      <td>8.3252</td>\n      <td>452600.0</td>\n      <td>NEAR BAY</td>\n    </tr>\n    <tr>\n      <th>1</th>\n      <td>-122.22</td>\n      <td>37.86</td>\n      <td>21.0</td>\n      <td>7099.0</td>\n      <td>1106.0</td>\n      <td>2401.0</td>\n      <td>1138.0</td>\n      <td>8.3014</td>\n      <td>358500.0</td>\n      <td>NEAR BAY</td>\n    </tr>\n    <tr>\n      <th>2</th>\n      <td>-122.24</td>\n      <td>37.85</td>\n      <td>52.0</td>\n      <td>1467.0</td>\n      <td>190.0</td>\n      <td>496.0</td>\n      <td>177.0</td>\n      <td>7.2574</td>\n      <td>352100.0</td>\n      <td>NEAR BAY</td>\n    </tr>\n    <tr>\n      <th>3</th>\n      <td>-122.25</td>\n      <td>37.85</td>\n      <td>52.0</td>\n      <td>1274.0</td>\n      <td>235.0</td>\n      <td>558.0</td>\n      <td>219.0</td>\n      <td>5.6431</td>\n      <td>341300.0</td>\n      <td>NEAR BAY</td>\n    </tr>\n    <tr>\n      <th>4</th>\n      <td>-122.25</td>\n      <td>37.85</td>\n      <td>52.0</td>\n      <td>1627.0</td>\n      <td>280.0</td>\n      <td>565.0</td>\n      <td>259.0</td>\n      <td>3.8462</td>\n      <td>342200.0</td>\n      <td>NEAR BAY</td>\n    </tr>\n  </tbody>\n</table>\n</div>"
     },
     "metadata": {},
     "output_type": "display_data"
    }
   ],
   "source": [
    "import pandas as pd\n",
    "df = pd.read_csv('https://raw.githubusercontent.com/Datamanim/datarepo/main/krdatacertificate/e3_p1_1.csv')\n",
    "display(df.head(5))"
   ],
   "metadata": {
    "collapsed": false
   }
  },
  {
   "cell_type": "code",
   "execution_count": 240,
   "outputs": [
    {
     "name": "stdout",
     "output_type": "stream",
     "text": [
      "<class 'pandas.core.frame.DataFrame'>\n",
      "RangeIndex: 20640 entries, 0 to 20639\n",
      "Data columns (total 10 columns):\n",
      " #   Column              Non-Null Count  Dtype  \n",
      "---  ------              --------------  -----  \n",
      " 0   longitude           20640 non-null  float64\n",
      " 1   latitude            20640 non-null  float64\n",
      " 2   housing_median_age  20317 non-null  float64\n",
      " 3   total_rooms         20640 non-null  float64\n",
      " 4   total_bedrooms      20433 non-null  float64\n",
      " 5   population          19690 non-null  float64\n",
      " 6   households          20640 non-null  float64\n",
      " 7   median_income       20406 non-null  float64\n",
      " 8   median_house_value  20596 non-null  float64\n",
      " 9   ocean_proximity     20640 non-null  object \n",
      "dtypes: float64(9), object(1)\n",
      "memory usage: 1.6+ MB\n"
     ]
    }
   ],
   "source": [
    "df.info()"
   ],
   "metadata": {
    "collapsed": false
   }
  },
  {
   "cell_type": "code",
   "execution_count": 241,
   "outputs": [
    {
     "name": "stdout",
     "output_type": "stream",
     "text": [
      "2.51\n"
     ]
    }
   ],
   "source": [
    "\"\"\"\n",
    "1-1\n",
    "결측치가 하나라도 존재하는 행의 경우 경우 해당 행을 삭제하라.\n",
    "그후 남은 데이터의 상위 70%에 해당하는 데이터만 남겨둔 후 median_income 컬럼의 1분위수를 반올림하여 소숫점이하 2째자리까지 구하여라\n",
    "\"\"\"\n",
    "\n",
    "df2 = df.copy()\n",
    "df2 = df2.dropna(axis=0)\n",
    "lidx = int((len(df2) * 0.7))\n",
    "target = df2.iloc[:lidx].reset_index(drop=True)\n",
    "result = round(target.median_income.describe()[\"25%\"], 2)\n",
    "result = target.median_income.quantile(0.25).round(2)\n",
    "print(result)"
   ],
   "metadata": {
    "collapsed": false
   }
  },
  {
   "cell_type": "code",
   "execution_count": 242,
   "outputs": [
    {
     "data": {
      "text/plain": "  Country Name Country Code  Year      Value\n0   Arab World          ARB  1968  2576068.3\n1   Arab World          ARB  1969  2843420.4\n2   Arab World          ARB  1970  3138550.0\n3   Arab World          ARB  1971  3642691.0\n4   Arab World          ARB  1972  4331605.7",
      "text/html": "<div>\n<style scoped>\n    .dataframe tbody tr th:only-of-type {\n        vertical-align: middle;\n    }\n\n    .dataframe tbody tr th {\n        vertical-align: top;\n    }\n\n    .dataframe thead th {\n        text-align: right;\n    }\n</style>\n<table border=\"1\" class=\"dataframe\">\n  <thead>\n    <tr style=\"text-align: right;\">\n      <th></th>\n      <th>Country Name</th>\n      <th>Country Code</th>\n      <th>Year</th>\n      <th>Value</th>\n    </tr>\n  </thead>\n  <tbody>\n    <tr>\n      <th>0</th>\n      <td>Arab World</td>\n      <td>ARB</td>\n      <td>1968</td>\n      <td>2576068.3</td>\n    </tr>\n    <tr>\n      <th>1</th>\n      <td>Arab World</td>\n      <td>ARB</td>\n      <td>1969</td>\n      <td>2843420.4</td>\n    </tr>\n    <tr>\n      <th>2</th>\n      <td>Arab World</td>\n      <td>ARB</td>\n      <td>1970</td>\n      <td>3138550.0</td>\n    </tr>\n    <tr>\n      <th>3</th>\n      <td>Arab World</td>\n      <td>ARB</td>\n      <td>1971</td>\n      <td>3642691.0</td>\n    </tr>\n    <tr>\n      <th>4</th>\n      <td>Arab World</td>\n      <td>ARB</td>\n      <td>1972</td>\n      <td>4331605.7</td>\n    </tr>\n  </tbody>\n</table>\n</div>"
     },
     "metadata": {},
     "output_type": "display_data"
    }
   ],
   "source": [
    "import pandas as pd\n",
    "df =pd.read_csv('https://raw.githubusercontent.com/Datamanim/datarepo/main/krdatacertificate/e3_p1_2.csv')\n",
    "df.head()\n",
    "display(df.head())"
   ],
   "metadata": {
    "collapsed": false
   }
  },
  {
   "cell_type": "code",
   "execution_count": 243,
   "outputs": [
    {
     "name": "stdout",
     "output_type": "stream",
     "text": [
      "<class 'pandas.core.frame.DataFrame'>\n",
      "RangeIndex: 11507 entries, 0 to 11506\n",
      "Data columns (total 4 columns):\n",
      " #   Column        Non-Null Count  Dtype  \n",
      "---  ------        --------------  -----  \n",
      " 0   Country Name  11507 non-null  object \n",
      " 1   Country Code  11507 non-null  object \n",
      " 2   Year          11507 non-null  int64  \n",
      " 3   Value         11507 non-null  float64\n",
      "dtypes: float64(1), int64(1), object(2)\n",
      "memory usage: 359.7+ KB\n"
     ]
    },
    {
     "data": {
      "text/plain": "None"
     },
     "metadata": {},
     "output_type": "display_data"
    }
   ],
   "source": [
    "display(df.info())"
   ],
   "metadata": {
    "collapsed": false
   }
  },
  {
   "cell_type": "code",
   "execution_count": 244,
   "outputs": [
    {
     "name": "stdout",
     "output_type": "stream",
     "text": [
      "5\n"
     ]
    }
   ],
   "source": [
    "\"\"\"\n",
    "1-2\n",
    "1990년도는 해당년도 평균 이하 GDP를 가지지만, 2010년도에는 해당년도 평균 이상 GDP를 가지는 국가의 숫자를 구하여라\n",
    "\"\"\"\n",
    "\n",
    "mean_1990 = df[df.Year == 1990].Value.mean()\n",
    "mean_2010 = df[df.Year == 2010].Value.mean()\n",
    "\n",
    "target_1990 = df[(df.Year == 1990) & (df.Value <= mean_1990)]\n",
    "target_2010 = df[(df.Year == 2010) & (df.Value >= mean_2010)]\n",
    "\n",
    "result = set(target_1990['Country Code']) & set(target_2010['Country Code'])\n",
    "cnt = len(result)\n",
    "\n",
    "print(cnt)"
   ],
   "metadata": {
    "collapsed": false
   }
  },
  {
   "cell_type": "code",
   "execution_count": 245,
   "outputs": [
    {
     "data": {
      "text/plain": "   PassengerId  Survived  Pclass  \\\n0            1         0     3.0   \n1            2         1     1.0   \n2            3         1     3.0   \n3            4         1     1.0   \n4            5         0     3.0   \n\n                                                Name     Sex   Age  SibSp  \\\n0                            Braund, Mr. Owen Harris    male  22.0    1.0   \n1  Cumings, Mrs. John Bradley (Florence Briggs Th...  female  38.0    1.0   \n2                             Heikkinen, Miss. Laina  female  26.0    0.0   \n3       Futrelle, Mrs. Jacques Heath (Lily May Peel)  female  35.0    1.0   \n4                           Allen, Mr. William Henry    male  35.0    0.0   \n\n   Parch            Ticket     Fare Cabin Embarked  \n0    0.0         A/5 21171   7.2500   NaN        S  \n1    0.0          PC 17599  71.2833   C85        C  \n2    0.0  STON/O2. 3101282   7.9250   C85        S  \n3    0.0            113803  53.1000  C123        S  \n4    0.0            373450   8.0500  C123        S  ",
      "text/html": "<div>\n<style scoped>\n    .dataframe tbody tr th:only-of-type {\n        vertical-align: middle;\n    }\n\n    .dataframe tbody tr th {\n        vertical-align: top;\n    }\n\n    .dataframe thead th {\n        text-align: right;\n    }\n</style>\n<table border=\"1\" class=\"dataframe\">\n  <thead>\n    <tr style=\"text-align: right;\">\n      <th></th>\n      <th>PassengerId</th>\n      <th>Survived</th>\n      <th>Pclass</th>\n      <th>Name</th>\n      <th>Sex</th>\n      <th>Age</th>\n      <th>SibSp</th>\n      <th>Parch</th>\n      <th>Ticket</th>\n      <th>Fare</th>\n      <th>Cabin</th>\n      <th>Embarked</th>\n    </tr>\n  </thead>\n  <tbody>\n    <tr>\n      <th>0</th>\n      <td>1</td>\n      <td>0</td>\n      <td>3.0</td>\n      <td>Braund, Mr. Owen Harris</td>\n      <td>male</td>\n      <td>22.0</td>\n      <td>1.0</td>\n      <td>0.0</td>\n      <td>A/5 21171</td>\n      <td>7.2500</td>\n      <td>NaN</td>\n      <td>S</td>\n    </tr>\n    <tr>\n      <th>1</th>\n      <td>2</td>\n      <td>1</td>\n      <td>1.0</td>\n      <td>Cumings, Mrs. John Bradley (Florence Briggs Th...</td>\n      <td>female</td>\n      <td>38.0</td>\n      <td>1.0</td>\n      <td>0.0</td>\n      <td>PC 17599</td>\n      <td>71.2833</td>\n      <td>C85</td>\n      <td>C</td>\n    </tr>\n    <tr>\n      <th>2</th>\n      <td>3</td>\n      <td>1</td>\n      <td>3.0</td>\n      <td>Heikkinen, Miss. Laina</td>\n      <td>female</td>\n      <td>26.0</td>\n      <td>0.0</td>\n      <td>0.0</td>\n      <td>STON/O2. 3101282</td>\n      <td>7.9250</td>\n      <td>C85</td>\n      <td>S</td>\n    </tr>\n    <tr>\n      <th>3</th>\n      <td>4</td>\n      <td>1</td>\n      <td>1.0</td>\n      <td>Futrelle, Mrs. Jacques Heath (Lily May Peel)</td>\n      <td>female</td>\n      <td>35.0</td>\n      <td>1.0</td>\n      <td>0.0</td>\n      <td>113803</td>\n      <td>53.1000</td>\n      <td>C123</td>\n      <td>S</td>\n    </tr>\n    <tr>\n      <th>4</th>\n      <td>5</td>\n      <td>0</td>\n      <td>3.0</td>\n      <td>Allen, Mr. William Henry</td>\n      <td>male</td>\n      <td>35.0</td>\n      <td>0.0</td>\n      <td>0.0</td>\n      <td>373450</td>\n      <td>8.0500</td>\n      <td>C123</td>\n      <td>S</td>\n    </tr>\n  </tbody>\n</table>\n</div>"
     },
     "metadata": {},
     "output_type": "display_data"
    }
   ],
   "source": [
    "df = pd.read_csv('https://raw.githubusercontent.com/Datamanim/datarepo/main/krdatacertificate/e3_p1_3.csv')\n",
    "display(df.head())"
   ],
   "metadata": {
    "collapsed": false
   }
  },
  {
   "cell_type": "code",
   "execution_count": 246,
   "outputs": [
    {
     "name": "stdout",
     "output_type": "stream",
     "text": [
      "<class 'pandas.core.frame.DataFrame'>\n",
      "RangeIndex: 891 entries, 0 to 890\n",
      "Data columns (total 12 columns):\n",
      " #   Column       Non-Null Count  Dtype  \n",
      "---  ------       --------------  -----  \n",
      " 0   PassengerId  891 non-null    int64  \n",
      " 1   Survived     891 non-null    int64  \n",
      " 2   Pclass       836 non-null    float64\n",
      " 3   Name         830 non-null    object \n",
      " 4   Sex          827 non-null    object \n",
      " 5   Age          847 non-null    float64\n",
      " 6   SibSp        836 non-null    float64\n",
      " 7   Parch        838 non-null    float64\n",
      " 8   Ticket       857 non-null    object \n",
      " 9   Fare         822 non-null    float64\n",
      " 10  Cabin        833 non-null    object \n",
      " 11  Embarked     842 non-null    object \n",
      "dtypes: float64(5), int64(2), object(5)\n",
      "memory usage: 83.7+ KB\n"
     ]
    }
   ],
   "source": [
    "df.info()"
   ],
   "metadata": {
    "collapsed": false
   }
  },
  {
   "cell_type": "code",
   "execution_count": 247,
   "outputs": [
    {
     "data": {
      "text/plain": "'Fare'"
     },
     "execution_count": 247,
     "metadata": {},
     "output_type": "execute_result"
    }
   ],
   "source": [
    "\"\"\"\n",
    "1-3\n",
    "\n",
    "데이터에서 결측치가 가장 많은 컬럼을 출력하라\n",
    "\"\"\"\n",
    "\n",
    "df.isna().sum().to_frame(\"cnt\").sort_values(\"cnt\", ascending=False).index[0]"
   ],
   "metadata": {
    "collapsed": false
   }
  },
  {
   "cell_type": "markdown",
   "source": [
    "# 타입 2유형"
   ],
   "metadata": {
    "collapsed": false
   }
  },
  {
   "cell_type": "code",
   "execution_count": 248,
   "outputs": [],
   "source": [
    "import pandas as pd\n",
    "train = pd.read_csv('https://raw.githubusercontent.com/Datamanim/datarepo/main/krdatacertificate/e3_p2_train_.csv')\n",
    "vad = pd.read_csv('https://raw.githubusercontent.com/Datamanim/datarepo/main/krdatacertificate/e3_p2_test_.csv')"
   ],
   "metadata": {
    "collapsed": false
   }
  },
  {
   "cell_type": "code",
   "execution_count": 249,
   "outputs": [
    {
     "data": {
      "text/plain": "        ID  Age               Employment Type GraduateOrNot  AnnualIncome  \\\n0     1008   26  Private Sector/Self Employed           Yes       1400000   \n1      199   30  Private Sector/Self Employed            No       1450000   \n2       86   32             Government Sector           Yes        900000   \n3      560   26  Private Sector/Self Employed           Yes       1400000   \n4      161   34  Private Sector/Self Employed            No       1400000   \n...    ...  ...                           ...           ...           ...   \n1485   584   29  Private Sector/Self Employed           Yes        900000   \n1486   353   31             Government Sector            No        300000   \n1487  1124   29  Private Sector/Self Employed           Yes       1100000   \n1488  1356   30  Private Sector/Self Employed            No        550000   \n1489  1686   28  Private Sector/Self Employed           Yes        800000   \n\n      FamilyMembers  ChronicDiseases FrequentFlyer EverTravelledAbroad  \\\n0                 5                0            No                 Yes   \n1                 5                0           Yes                 Yes   \n2                 4                0            No                  No   \n3                 7                0            No                 Yes   \n4                 3                1            No                 Yes   \n...             ...              ...           ...                 ...   \n1485              5                0            No                  No   \n1486              3                0            No                  No   \n1487              5                0           Yes                  No   \n1488              3                0           Yes                 Yes   \n1489              6                0            No                 Yes   \n\n      TravelInsurance  \n0                   1  \n1                   1  \n2                   0  \n3                   1  \n4                   1  \n...               ...  \n1485                0  \n1486                0  \n1487                0  \n1488                0  \n1489                0  \n\n[1490 rows x 10 columns]",
      "text/html": "<div>\n<style scoped>\n    .dataframe tbody tr th:only-of-type {\n        vertical-align: middle;\n    }\n\n    .dataframe tbody tr th {\n        vertical-align: top;\n    }\n\n    .dataframe thead th {\n        text-align: right;\n    }\n</style>\n<table border=\"1\" class=\"dataframe\">\n  <thead>\n    <tr style=\"text-align: right;\">\n      <th></th>\n      <th>ID</th>\n      <th>Age</th>\n      <th>Employment Type</th>\n      <th>GraduateOrNot</th>\n      <th>AnnualIncome</th>\n      <th>FamilyMembers</th>\n      <th>ChronicDiseases</th>\n      <th>FrequentFlyer</th>\n      <th>EverTravelledAbroad</th>\n      <th>TravelInsurance</th>\n    </tr>\n  </thead>\n  <tbody>\n    <tr>\n      <th>0</th>\n      <td>1008</td>\n      <td>26</td>\n      <td>Private Sector/Self Employed</td>\n      <td>Yes</td>\n      <td>1400000</td>\n      <td>5</td>\n      <td>0</td>\n      <td>No</td>\n      <td>Yes</td>\n      <td>1</td>\n    </tr>\n    <tr>\n      <th>1</th>\n      <td>199</td>\n      <td>30</td>\n      <td>Private Sector/Self Employed</td>\n      <td>No</td>\n      <td>1450000</td>\n      <td>5</td>\n      <td>0</td>\n      <td>Yes</td>\n      <td>Yes</td>\n      <td>1</td>\n    </tr>\n    <tr>\n      <th>2</th>\n      <td>86</td>\n      <td>32</td>\n      <td>Government Sector</td>\n      <td>Yes</td>\n      <td>900000</td>\n      <td>4</td>\n      <td>0</td>\n      <td>No</td>\n      <td>No</td>\n      <td>0</td>\n    </tr>\n    <tr>\n      <th>3</th>\n      <td>560</td>\n      <td>26</td>\n      <td>Private Sector/Self Employed</td>\n      <td>Yes</td>\n      <td>1400000</td>\n      <td>7</td>\n      <td>0</td>\n      <td>No</td>\n      <td>Yes</td>\n      <td>1</td>\n    </tr>\n    <tr>\n      <th>4</th>\n      <td>161</td>\n      <td>34</td>\n      <td>Private Sector/Self Employed</td>\n      <td>No</td>\n      <td>1400000</td>\n      <td>3</td>\n      <td>1</td>\n      <td>No</td>\n      <td>Yes</td>\n      <td>1</td>\n    </tr>\n    <tr>\n      <th>...</th>\n      <td>...</td>\n      <td>...</td>\n      <td>...</td>\n      <td>...</td>\n      <td>...</td>\n      <td>...</td>\n      <td>...</td>\n      <td>...</td>\n      <td>...</td>\n      <td>...</td>\n    </tr>\n    <tr>\n      <th>1485</th>\n      <td>584</td>\n      <td>29</td>\n      <td>Private Sector/Self Employed</td>\n      <td>Yes</td>\n      <td>900000</td>\n      <td>5</td>\n      <td>0</td>\n      <td>No</td>\n      <td>No</td>\n      <td>0</td>\n    </tr>\n    <tr>\n      <th>1486</th>\n      <td>353</td>\n      <td>31</td>\n      <td>Government Sector</td>\n      <td>No</td>\n      <td>300000</td>\n      <td>3</td>\n      <td>0</td>\n      <td>No</td>\n      <td>No</td>\n      <td>0</td>\n    </tr>\n    <tr>\n      <th>1487</th>\n      <td>1124</td>\n      <td>29</td>\n      <td>Private Sector/Self Employed</td>\n      <td>Yes</td>\n      <td>1100000</td>\n      <td>5</td>\n      <td>0</td>\n      <td>Yes</td>\n      <td>No</td>\n      <td>0</td>\n    </tr>\n    <tr>\n      <th>1488</th>\n      <td>1356</td>\n      <td>30</td>\n      <td>Private Sector/Self Employed</td>\n      <td>No</td>\n      <td>550000</td>\n      <td>3</td>\n      <td>0</td>\n      <td>Yes</td>\n      <td>Yes</td>\n      <td>0</td>\n    </tr>\n    <tr>\n      <th>1489</th>\n      <td>1686</td>\n      <td>28</td>\n      <td>Private Sector/Self Employed</td>\n      <td>Yes</td>\n      <td>800000</td>\n      <td>6</td>\n      <td>0</td>\n      <td>No</td>\n      <td>Yes</td>\n      <td>0</td>\n    </tr>\n  </tbody>\n</table>\n<p>1490 rows × 10 columns</p>\n</div>"
     },
     "metadata": {},
     "output_type": "display_data"
    }
   ],
   "source": [
    "display(train)"
   ],
   "metadata": {
    "collapsed": false
   }
  },
  {
   "cell_type": "code",
   "execution_count": 250,
   "outputs": [
    {
     "data": {
      "text/plain": "       ID  Age               Employment Type GraduateOrNot  AnnualIncome  \\\n0       6   31             Government Sector           Yes       1300000   \n1       9   33             Government Sector           Yes        800000   \n2      20   28  Private Sector/Self Employed           Yes       1150000   \n3      21   29  Private Sector/Self Employed           Yes        350000   \n4      23   28             Government Sector           Yes        600000   \n..    ...  ...                           ...           ...           ...   \n492  1964   28             Government Sector           Yes       1100000   \n493  1970   29  Private Sector/Self Employed           Yes        500000   \n494  1973   31  Private Sector/Self Employed           Yes       1350000   \n495  1976   32             Government Sector           Yes        900000   \n496  1982   33  Private Sector/Self Employed           Yes       1500000   \n\n     FamilyMembers  ChronicDiseases FrequentFlyer EverTravelledAbroad  \n0                4                0            No                  No  \n1                3                0           Yes                  No  \n2                6                0           Yes                  No  \n3                3                0            No                  No  \n4                9                0            No                  No  \n..             ...              ...           ...                 ...  \n492              4                0            No                  No  \n493              4                0            No                  No  \n494              3                0            No                 Yes  \n495              6                0            No                  No  \n496              4                0           Yes                 Yes  \n\n[497 rows x 9 columns]",
      "text/html": "<div>\n<style scoped>\n    .dataframe tbody tr th:only-of-type {\n        vertical-align: middle;\n    }\n\n    .dataframe tbody tr th {\n        vertical-align: top;\n    }\n\n    .dataframe thead th {\n        text-align: right;\n    }\n</style>\n<table border=\"1\" class=\"dataframe\">\n  <thead>\n    <tr style=\"text-align: right;\">\n      <th></th>\n      <th>ID</th>\n      <th>Age</th>\n      <th>Employment Type</th>\n      <th>GraduateOrNot</th>\n      <th>AnnualIncome</th>\n      <th>FamilyMembers</th>\n      <th>ChronicDiseases</th>\n      <th>FrequentFlyer</th>\n      <th>EverTravelledAbroad</th>\n    </tr>\n  </thead>\n  <tbody>\n    <tr>\n      <th>0</th>\n      <td>6</td>\n      <td>31</td>\n      <td>Government Sector</td>\n      <td>Yes</td>\n      <td>1300000</td>\n      <td>4</td>\n      <td>0</td>\n      <td>No</td>\n      <td>No</td>\n    </tr>\n    <tr>\n      <th>1</th>\n      <td>9</td>\n      <td>33</td>\n      <td>Government Sector</td>\n      <td>Yes</td>\n      <td>800000</td>\n      <td>3</td>\n      <td>0</td>\n      <td>Yes</td>\n      <td>No</td>\n    </tr>\n    <tr>\n      <th>2</th>\n      <td>20</td>\n      <td>28</td>\n      <td>Private Sector/Self Employed</td>\n      <td>Yes</td>\n      <td>1150000</td>\n      <td>6</td>\n      <td>0</td>\n      <td>Yes</td>\n      <td>No</td>\n    </tr>\n    <tr>\n      <th>3</th>\n      <td>21</td>\n      <td>29</td>\n      <td>Private Sector/Self Employed</td>\n      <td>Yes</td>\n      <td>350000</td>\n      <td>3</td>\n      <td>0</td>\n      <td>No</td>\n      <td>No</td>\n    </tr>\n    <tr>\n      <th>4</th>\n      <td>23</td>\n      <td>28</td>\n      <td>Government Sector</td>\n      <td>Yes</td>\n      <td>600000</td>\n      <td>9</td>\n      <td>0</td>\n      <td>No</td>\n      <td>No</td>\n    </tr>\n    <tr>\n      <th>...</th>\n      <td>...</td>\n      <td>...</td>\n      <td>...</td>\n      <td>...</td>\n      <td>...</td>\n      <td>...</td>\n      <td>...</td>\n      <td>...</td>\n      <td>...</td>\n    </tr>\n    <tr>\n      <th>492</th>\n      <td>1964</td>\n      <td>28</td>\n      <td>Government Sector</td>\n      <td>Yes</td>\n      <td>1100000</td>\n      <td>4</td>\n      <td>0</td>\n      <td>No</td>\n      <td>No</td>\n    </tr>\n    <tr>\n      <th>493</th>\n      <td>1970</td>\n      <td>29</td>\n      <td>Private Sector/Self Employed</td>\n      <td>Yes</td>\n      <td>500000</td>\n      <td>4</td>\n      <td>0</td>\n      <td>No</td>\n      <td>No</td>\n    </tr>\n    <tr>\n      <th>494</th>\n      <td>1973</td>\n      <td>31</td>\n      <td>Private Sector/Self Employed</td>\n      <td>Yes</td>\n      <td>1350000</td>\n      <td>3</td>\n      <td>0</td>\n      <td>No</td>\n      <td>Yes</td>\n    </tr>\n    <tr>\n      <th>495</th>\n      <td>1976</td>\n      <td>32</td>\n      <td>Government Sector</td>\n      <td>Yes</td>\n      <td>900000</td>\n      <td>6</td>\n      <td>0</td>\n      <td>No</td>\n      <td>No</td>\n    </tr>\n    <tr>\n      <th>496</th>\n      <td>1982</td>\n      <td>33</td>\n      <td>Private Sector/Self Employed</td>\n      <td>Yes</td>\n      <td>1500000</td>\n      <td>4</td>\n      <td>0</td>\n      <td>Yes</td>\n      <td>Yes</td>\n    </tr>\n  </tbody>\n</table>\n<p>497 rows × 9 columns</p>\n</div>"
     },
     "metadata": {},
     "output_type": "display_data"
    }
   ],
   "source": [
    "display(vad)"
   ],
   "metadata": {
    "collapsed": false
   }
  },
  {
   "cell_type": "code",
   "execution_count": 251,
   "outputs": [],
   "source": [
    "y = train[\"TravelInsurance\"]\n",
    "drop_columns = [\"ID\", \"TravelInsurance\"]\n",
    "train_drop = train.drop(columns=drop_columns)\n",
    "train_dummies = pd.get_dummies(train_drop)\n",
    "\n",
    "vad_drop = vad.drop(columns=[\"ID\"])\n",
    "vad_dummies = pd.get_dummies(vad_drop)"
   ],
   "metadata": {
    "collapsed": false
   }
  },
  {
   "cell_type": "code",
   "execution_count": 252,
   "outputs": [],
   "source": [
    "from sklearn.model_selection import train_test_split\n",
    "\n",
    "train_input, test_input, train_target, test_target = train_test_split(train_dummies, y,stratify=y, random_state=1)"
   ],
   "metadata": {
    "collapsed": false
   }
  },
  {
   "cell_type": "code",
   "execution_count": 253,
   "outputs": [],
   "source": [
    "from sklearn.preprocessing import StandardScaler\n",
    "\n",
    "ss = StandardScaler()\n",
    "ss.fit(train_input)\n",
    "\n",
    "train_ss_input = train_input #ss.transform(train_input)\n",
    "test_ss_input = test_input   #ss.transform(test_input)\n",
    "vad_ss_input = vad_dummies   ##ss.transform(vad_dummies)"
   ],
   "metadata": {
    "collapsed": false
   }
  },
  {
   "cell_type": "code",
   "execution_count": 254,
   "outputs": [],
   "source": [
    "from sklearn.preprocessing import StandardScaler"
   ],
   "metadata": {
    "collapsed": false
   }
  },
  {
   "cell_type": "code",
   "execution_count": 255,
   "outputs": [
    {
     "name": "stdout",
     "output_type": "stream",
     "text": [
      "0.9221128021486124\n",
      "0.8042895442359249\n"
     ]
    },
    {
     "data": {
      "text/plain": "'\\n종속 변수 : TravelInsurance , TravelInsurance가 1일 확률을 구해서 제출하라. 평가지표 : auc\\n제출 파일의 컬럼은 ID, proba 두개만 존재해야한다.\\n'"
     },
     "execution_count": 255,
     "metadata": {},
     "output_type": "execute_result"
    }
   ],
   "source": [
    "from sklearn.ensemble import RandomForestClassifier\n",
    "\n",
    "rf = RandomForestClassifier(random_state =14)\n",
    "rf.fit(train_ss_input, train_target)\n",
    "\n",
    "train_score = rf.score(train_ss_input, train_target)\n",
    "print(train_score)\n",
    "\n",
    "test_score = rf.score(test_ss_input, test_target)\n",
    "print(test_score)\n",
    "\n",
    "#print(help(rf))\n",
    "\"\"\"\n",
    "종속 변수 : TravelInsurance , TravelInsurance가 1일 확률을 구해서 제출하라. 평가지표 : auc\n",
    "제출 파일의 컬럼은 ID, proba 두개만 존재해야한다.\n",
    "\"\"\""
   ],
   "metadata": {
    "collapsed": false
   }
  },
  {
   "cell_type": "code",
   "execution_count": 256,
   "outputs": [
    {
     "name": "stdout",
     "output_type": "stream",
     "text": [
      "0.9818564309726658\n",
      "0.8268327067669172\n"
     ]
    },
    {
     "data": {
      "text/plain": "   ID     proba\n0   6  0.014286\n1   9  0.410000\n2  20  0.067333\n3  21  0.208167\n4  23  0.050000",
      "text/html": "<div>\n<style scoped>\n    .dataframe tbody tr th:only-of-type {\n        vertical-align: middle;\n    }\n\n    .dataframe tbody tr th {\n        vertical-align: top;\n    }\n\n    .dataframe thead th {\n        text-align: right;\n    }\n</style>\n<table border=\"1\" class=\"dataframe\">\n  <thead>\n    <tr style=\"text-align: right;\">\n      <th></th>\n      <th>ID</th>\n      <th>proba</th>\n    </tr>\n  </thead>\n  <tbody>\n    <tr>\n      <th>0</th>\n      <td>6</td>\n      <td>0.014286</td>\n    </tr>\n    <tr>\n      <th>1</th>\n      <td>9</td>\n      <td>0.410000</td>\n    </tr>\n    <tr>\n      <th>2</th>\n      <td>20</td>\n      <td>0.067333</td>\n    </tr>\n    <tr>\n      <th>3</th>\n      <td>21</td>\n      <td>0.208167</td>\n    </tr>\n    <tr>\n      <th>4</th>\n      <td>23</td>\n      <td>0.050000</td>\n    </tr>\n  </tbody>\n</table>\n</div>"
     },
     "metadata": {},
     "output_type": "display_data"
    }
   ],
   "source": [
    "train_predict = rf.predict_proba(train_ss_input)\n",
    "test_predict  = rf.predict_proba(test_ss_input)\n",
    "\n",
    "\n",
    "\n",
    "#print(train_predict)\n",
    "#print(test_predict)\n",
    "\n",
    "from sklearn.metrics import accuracy_score\n",
    "from sklearn.metrics import roc_auc_score\n",
    "\n",
    "#print(accuracy_score(train_predict, train_target))\n",
    "#print(accuracy_score(test_predict, test_target))\n",
    "\n",
    "import numpy as np\n",
    "\n",
    "print(roc_auc_score(train_target, train_predict[:,1]))\n",
    "print(roc_auc_score(test_target, test_predict[:,1]))\n",
    "\n",
    "result = rf.predict_proba(vad_ss_input)\n",
    "\n",
    "#print(result[:,1])\n",
    "\n",
    "##display(train_predict)\n",
    "##display(test_predict)\n",
    "d = pd.DataFrame({'ID': vad.ID, 'proba': result[:,1]})\n",
    "display(d.head())\n",
    "d.to_csv(\"./22222.csv\", index=False)"
   ],
   "metadata": {
    "collapsed": false
   }
  },
  {
   "cell_type": "code",
   "execution_count": 257,
   "outputs": [
    {
     "name": "stdout",
     "output_type": "stream",
     "text": [
      "Help on function mean_squared_error in module sklearn.metrics._regression:\n",
      "\n",
      "mean_squared_error(y_true, y_pred, *, sample_weight=None, multioutput='uniform_average', squared=True)\n",
      "    Mean squared error regression loss.\n",
      "    \n",
      "    Read more in the :ref:`User Guide <mean_squared_error>`.\n",
      "    \n",
      "    Parameters\n",
      "    ----------\n",
      "    y_true : array-like of shape (n_samples,) or (n_samples, n_outputs)\n",
      "        Ground truth (correct) target values.\n",
      "    \n",
      "    y_pred : array-like of shape (n_samples,) or (n_samples, n_outputs)\n",
      "        Estimated target values.\n",
      "    \n",
      "    sample_weight : array-like of shape (n_samples,), default=None\n",
      "        Sample weights.\n",
      "    \n",
      "    multioutput : {'raw_values', 'uniform_average'} or array-like of shape             (n_outputs,), default='uniform_average'\n",
      "        Defines aggregating of multiple output values.\n",
      "        Array-like value defines weights used to average errors.\n",
      "    \n",
      "        'raw_values' :\n",
      "            Returns a full set of errors in case of multioutput input.\n",
      "    \n",
      "        'uniform_average' :\n",
      "            Errors of all outputs are averaged with uniform weight.\n",
      "    \n",
      "    squared : bool, default=True\n",
      "        If True returns MSE value, if False returns RMSE value.\n",
      "    \n",
      "    Returns\n",
      "    -------\n",
      "    loss : float or ndarray of floats\n",
      "        A non-negative floating point value (the best value is 0.0), or an\n",
      "        array of floating point values, one for each individual target.\n",
      "    \n",
      "    Examples\n",
      "    --------\n",
      "    >>> from sklearn.metrics import mean_squared_error\n",
      "    >>> y_true = [3, -0.5, 2, 7]\n",
      "    >>> y_pred = [2.5, 0.0, 2, 8]\n",
      "    >>> mean_squared_error(y_true, y_pred)\n",
      "    0.375\n",
      "    >>> y_true = [3, -0.5, 2, 7]\n",
      "    >>> y_pred = [2.5, 0.0, 2, 8]\n",
      "    >>> mean_squared_error(y_true, y_pred, squared=False)\n",
      "    0.612...\n",
      "    >>> y_true = [[0.5, 1],[-1, 1],[7, -6]]\n",
      "    >>> y_pred = [[0, 2],[-1, 2],[8, -5]]\n",
      "    >>> mean_squared_error(y_true, y_pred)\n",
      "    0.708...\n",
      "    >>> mean_squared_error(y_true, y_pred, squared=False)\n",
      "    0.822...\n",
      "    >>> mean_squared_error(y_true, y_pred, multioutput='raw_values')\n",
      "    array([0.41666667, 1.        ])\n",
      "    >>> mean_squared_error(y_true, y_pred, multioutput=[0.3, 0.7])\n",
      "    0.825...\n",
      "\n"
     ]
    }
   ],
   "source": [
    "from sklearn.metrics import mean_squared_error\n",
    "\n",
    "help(mean_squared_error)"
   ],
   "metadata": {
    "collapsed": false
   }
  }
 ],
 "metadata": {
  "kernelspec": {
   "display_name": "Python 3",
   "language": "python",
   "name": "python3"
  },
  "language_info": {
   "codemirror_mode": {
    "name": "ipython",
    "version": 2
   },
   "file_extension": ".py",
   "mimetype": "text/x-python",
   "name": "python",
   "nbconvert_exporter": "python",
   "pygments_lexer": "ipython2",
   "version": "2.7.6"
  }
 },
 "nbformat": 4,
 "nbformat_minor": 0
}
