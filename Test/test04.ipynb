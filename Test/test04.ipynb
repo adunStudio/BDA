{
 "cells": [
  {
   "cell_type": "markdown",
   "source": [
    "# 유형 1"
   ],
   "metadata": {
    "collapsed": false
   }
  },
  {
   "cell_type": "code",
   "execution_count": 101,
   "outputs": [],
   "source": [
    "import pandas as pd"
   ],
   "metadata": {
    "collapsed": false
   }
  },
  {
   "cell_type": "code",
   "execution_count": 102,
   "outputs": [
    {
     "data": {
      "text/plain": "   Store        Date  Weekly_Sales  Holiday_Flag Temperature  Fuel_Price  \\\n0      1  05-02-2010    1643690.90             0       42.31       2.572   \n1      1  12-02-2010    1641957.44             1       38.51       2.548   \n2      1  19-02-2010    1611968.17             0       39.93       2.514   \n3      1  26-02-2010    1409727.59             0       46.63       2.561   \n4      1  05-03-2010    1554806.68             0        46.5       2.625   \n\n          CPI  Unemployment  \n0  211.096358         8.106  \n1  211.242170         8.106  \n2  211.289143         8.106  \n3  211.319643         8.106  \n4  211.350143         8.106  ",
      "text/html": "<div>\n<style scoped>\n    .dataframe tbody tr th:only-of-type {\n        vertical-align: middle;\n    }\n\n    .dataframe tbody tr th {\n        vertical-align: top;\n    }\n\n    .dataframe thead th {\n        text-align: right;\n    }\n</style>\n<table border=\"1\" class=\"dataframe\">\n  <thead>\n    <tr style=\"text-align: right;\">\n      <th></th>\n      <th>Store</th>\n      <th>Date</th>\n      <th>Weekly_Sales</th>\n      <th>Holiday_Flag</th>\n      <th>Temperature</th>\n      <th>Fuel_Price</th>\n      <th>CPI</th>\n      <th>Unemployment</th>\n    </tr>\n  </thead>\n  <tbody>\n    <tr>\n      <th>0</th>\n      <td>1</td>\n      <td>05-02-2010</td>\n      <td>1643690.90</td>\n      <td>0</td>\n      <td>42.31</td>\n      <td>2.572</td>\n      <td>211.096358</td>\n      <td>8.106</td>\n    </tr>\n    <tr>\n      <th>1</th>\n      <td>1</td>\n      <td>12-02-2010</td>\n      <td>1641957.44</td>\n      <td>1</td>\n      <td>38.51</td>\n      <td>2.548</td>\n      <td>211.242170</td>\n      <td>8.106</td>\n    </tr>\n    <tr>\n      <th>2</th>\n      <td>1</td>\n      <td>19-02-2010</td>\n      <td>1611968.17</td>\n      <td>0</td>\n      <td>39.93</td>\n      <td>2.514</td>\n      <td>211.289143</td>\n      <td>8.106</td>\n    </tr>\n    <tr>\n      <th>3</th>\n      <td>1</td>\n      <td>26-02-2010</td>\n      <td>1409727.59</td>\n      <td>0</td>\n      <td>46.63</td>\n      <td>2.561</td>\n      <td>211.319643</td>\n      <td>8.106</td>\n    </tr>\n    <tr>\n      <th>4</th>\n      <td>1</td>\n      <td>05-03-2010</td>\n      <td>1554806.68</td>\n      <td>0</td>\n      <td>46.5</td>\n      <td>2.625</td>\n      <td>211.350143</td>\n      <td>8.106</td>\n    </tr>\n  </tbody>\n</table>\n</div>"
     },
     "metadata": {},
     "output_type": "display_data"
    }
   ],
   "source": [
    "df = pd.read_csv('https://raw.githubusercontent.com/Datamanim/datarepo/main/krdatacertificate/e4_p1_1.csv')\n",
    "display(df.head())"
   ],
   "metadata": {
    "collapsed": false
   }
  },
  {
   "cell_type": "code",
   "execution_count": 103,
   "outputs": [
    {
     "name": "stdout",
     "output_type": "stream",
     "text": [
      "<class 'pandas.core.frame.DataFrame'>\n",
      "RangeIndex: 6435 entries, 0 to 6434\n",
      "Data columns (total 8 columns):\n",
      " #   Column        Non-Null Count  Dtype  \n",
      "---  ------        --------------  -----  \n",
      " 0   Store         6435 non-null   int64  \n",
      " 1   Date          6435 non-null   object \n",
      " 2   Weekly_Sales  6435 non-null   float64\n",
      " 3   Holiday_Flag  6435 non-null   int64  \n",
      " 4   Temperature   6435 non-null   object \n",
      " 5   Fuel_Price    6435 non-null   float64\n",
      " 6   CPI           6435 non-null   float64\n",
      " 7   Unemployment  6435 non-null   float64\n",
      "dtypes: float64(4), int64(2), object(2)\n",
      "memory usage: 402.3+ KB\n"
     ]
    }
   ],
   "source": [
    "df.info()"
   ],
   "metadata": {
    "collapsed": false
   }
  },
  {
   "cell_type": "code",
   "execution_count": 104,
   "outputs": [
    {
     "name": "stdout",
     "output_type": "stream",
     "text": [
      "27.48\n"
     ]
    }
   ],
   "source": [
    "\"\"\"\n",
    "1-1\n",
    "\n",
    "Temperature컬럼에서 숫자가 아닌 문자들을 제거후 숫자 타입으로 바꾸고 3분위수에서 1분위수의 차이를 소숫점 이하 2자리까지 구하여라\n",
    "\n",
    "\"\"\"\n",
    "target = df.copy()\n",
    "target['Temperature'] = target['Temperature'].map(lambda x : x.replace('*', ''))\n",
    "target['Temperature'] = target['Temperature'].astype(float)\n",
    "\n",
    "a = target['Temperature'].quantile(0.75)\n",
    "b = target['Temperature'].quantile(0.25)\n",
    "\n",
    "print(round(a - b, 3))"
   ],
   "metadata": {
    "collapsed": false
   }
  },
  {
   "cell_type": "code",
   "execution_count": 105,
   "outputs": [
    {
     "data": {
      "text/plain": "                                               Title     Video ID  \\\n0  Apple Pay Is Killing the Physical Wallet After...  wAZZ-UWGVHI   \n1                    The most EXPENSIVE thing I own.  b3x28s61q3c   \n2                 My New House Gaming Setup is SICK!  4mgePWWCAmA   \n3  Petrol Vs Liquid Nitrogen | Freezing Experimen...  kXiYSI7H2b0   \n4                     Best Back to School Tech 2022!  ErMwWXQxHp0   \n\n  Published At Keyword    Likes  Comments      Views  \n0   2022-08-23    tech   3407.0     672.0   135612.0  \n1   2022-08-24    tech  76779.0    4306.0  1758063.0  \n2   2022-08-23    tech  63825.0    3338.0  1564007.0  \n3   2022-08-23    tech  71566.0    1426.0   922918.0  \n4   2022-08-08    tech  96513.0    5155.0  1855644.0  ",
      "text/html": "<div>\n<style scoped>\n    .dataframe tbody tr th:only-of-type {\n        vertical-align: middle;\n    }\n\n    .dataframe tbody tr th {\n        vertical-align: top;\n    }\n\n    .dataframe thead th {\n        text-align: right;\n    }\n</style>\n<table border=\"1\" class=\"dataframe\">\n  <thead>\n    <tr style=\"text-align: right;\">\n      <th></th>\n      <th>Title</th>\n      <th>Video ID</th>\n      <th>Published At</th>\n      <th>Keyword</th>\n      <th>Likes</th>\n      <th>Comments</th>\n      <th>Views</th>\n    </tr>\n  </thead>\n  <tbody>\n    <tr>\n      <th>0</th>\n      <td>Apple Pay Is Killing the Physical Wallet After...</td>\n      <td>wAZZ-UWGVHI</td>\n      <td>2022-08-23</td>\n      <td>tech</td>\n      <td>3407.0</td>\n      <td>672.0</td>\n      <td>135612.0</td>\n    </tr>\n    <tr>\n      <th>1</th>\n      <td>The most EXPENSIVE thing I own.</td>\n      <td>b3x28s61q3c</td>\n      <td>2022-08-24</td>\n      <td>tech</td>\n      <td>76779.0</td>\n      <td>4306.0</td>\n      <td>1758063.0</td>\n    </tr>\n    <tr>\n      <th>2</th>\n      <td>My New House Gaming Setup is SICK!</td>\n      <td>4mgePWWCAmA</td>\n      <td>2022-08-23</td>\n      <td>tech</td>\n      <td>63825.0</td>\n      <td>3338.0</td>\n      <td>1564007.0</td>\n    </tr>\n    <tr>\n      <th>3</th>\n      <td>Petrol Vs Liquid Nitrogen | Freezing Experimen...</td>\n      <td>kXiYSI7H2b0</td>\n      <td>2022-08-23</td>\n      <td>tech</td>\n      <td>71566.0</td>\n      <td>1426.0</td>\n      <td>922918.0</td>\n    </tr>\n    <tr>\n      <th>4</th>\n      <td>Best Back to School Tech 2022!</td>\n      <td>ErMwWXQxHp0</td>\n      <td>2022-08-08</td>\n      <td>tech</td>\n      <td>96513.0</td>\n      <td>5155.0</td>\n      <td>1855644.0</td>\n    </tr>\n  </tbody>\n</table>\n</div>"
     },
     "metadata": {},
     "output_type": "display_data"
    }
   ],
   "source": [
    "import pandas as pd\n",
    "df = pd.read_csv('https://raw.githubusercontent.com/Datamanim/datarepo/main/krdatacertificate/e4_p1_2.csv')\n",
    "display(df.head(5))"
   ],
   "metadata": {
    "collapsed": false
   }
  },
  {
   "cell_type": "code",
   "execution_count": 106,
   "outputs": [
    {
     "name": "stdout",
     "output_type": "stream",
     "text": [
      "<class 'pandas.core.frame.DataFrame'>\n",
      "RangeIndex: 1881 entries, 0 to 1880\n",
      "Data columns (total 7 columns):\n",
      " #   Column        Non-Null Count  Dtype  \n",
      "---  ------        --------------  -----  \n",
      " 0   Title         1881 non-null   object \n",
      " 1   Video ID      1881 non-null   object \n",
      " 2   Published At  1881 non-null   object \n",
      " 3   Keyword       1881 non-null   object \n",
      " 4   Likes         1879 non-null   float64\n",
      " 5   Comments      1879 non-null   float64\n",
      " 6   Views         1879 non-null   float64\n",
      "dtypes: float64(3), object(4)\n",
      "memory usage: 103.0+ KB\n"
     ]
    }
   ],
   "source": [
    "df.info()"
   ],
   "metadata": {
    "collapsed": false
   }
  },
  {
   "cell_type": "code",
   "execution_count": 107,
   "outputs": [
    {
     "name": "stdout",
     "output_type": "stream",
     "text": [
      "1789084\n"
     ]
    },
    {
     "name": "stderr",
     "output_type": "stream",
     "text": [
      "/var/folders/ks/g557dmv54qsd_xmq2wm8fhhm0000gn/T/ipykernel_32489/4201481987.py:8: SettingWithCopyWarning: \n",
      "A value is trying to be set on a copy of a slice from a DataFrame.\n",
      "Try using .loc[row_indexer,col_indexer] = value instead\n",
      "\n",
      "See the caveats in the documentation: https://pandas.pydata.org/pandas-docs/stable/user_guide/indexing.html#returning-a-view-versus-a-copy\n",
      "  target['ratio'] = target['Likes'] / target['Comments']\n"
     ]
    }
   ],
   "source": [
    "\"\"\"\n",
    "1-2\n",
    "\n",
    "Likes를 Comments로 나눈 비율이 20이상이면서 Keyword값이 minecraft인 영상들의 Views값의 평균을 정수로 구하여라\n",
    "\"\"\"\n",
    "\n",
    "target = df[df[\"Keyword\"] == \"minecraft\"]\n",
    "target['ratio'] = target['Likes'] / target['Comments']\n",
    "target = target[target['ratio'] >= 20]\n",
    "result = int(target.Views.mean())\n",
    "print(result)"
   ],
   "metadata": {
    "collapsed": false
   }
  },
  {
   "cell_type": "code",
   "execution_count": 108,
   "outputs": [
    {
     "data": {
      "text/plain": "   show_id     type                                              title  \\\n0       s1    Movie                               Dick Johnson Is Dead   \n1       s2  TV Show                                      Blood & Water   \n2       s3  TV Show                                          Ganglands   \n3       s4  TV Show                              Jailbirds New Orleans   \n4       s5  TV Show                                       Kota Factory   \n..     ...      ...                                                ...   \n95     s96  TV Show                                         The Circle   \n96     s97    Movie  If I Leave Here Tomorrow: A Film About Lynyrd ...   \n97     s98  TV Show                                         Kid Cosmic   \n98     s99  TV Show                          Octonauts: Above & Beyond   \n99    s100  TV Show                                       On the Verge   \n\n           director                                               cast  \\\n0   Kirsten Johnson                                                NaN   \n1               NaN  Ama Qamata, Khosi Ngema, Gail Mabalane, Thaban...   \n2   Julien Leclercq  Sami Bouajila, Tracy Gotoas, Samuel Jouy, Nabi...   \n3               NaN                                                NaN   \n4               NaN  Mayur More, Jitendra Kumar, Ranjan Raj, Alam K...   \n..              ...                                                ...   \n95              NaN                                    Michelle Buteau   \n96    Stephen Kijak  Ronnie Van Zandt, Gary Rossington, Allen Colli...   \n97              NaN  Jack Fisher, Tom Kenny, Amanda C. Miller, Kim ...   \n98              NaN  Antonio Aakeel, Chipo Chung, Simon Foster, Ter...   \n99              NaN  Julie Delpy, Elisabeth Shue, Sarah Jones, Alex...   \n\n                          country          date_added  release_year rating  \\\n0                   United States  September 25, 2021          2020  PG-13   \n1                    South Africa  September 24, 2021          2021  TV-MA   \n2                             NaN  September 24, 2021          2021  TV-MA   \n3                             NaN  September 24, 2021          2021  TV-MA   \n4                           India  September 24, 2021          2021  TV-MA   \n..                            ...                 ...           ...    ...   \n95  United States, United Kingdom   September 8, 2021          2021  TV-MA   \n96                  United States   September 7, 2021          2018  TV-MA   \n97                  United States   September 7, 2021          2021  TV-Y7   \n98                 United Kingdom   September 7, 2021          2021   TV-Y   \n99          France, United States   September 7, 2021          2021  TV-MA   \n\n     duration                                          listed_in  \\\n0      90 min                                      Documentaries   \n1   2 Seasons    International TV Shows, TV Dramas, TV Mysteries   \n2    1 Season  Crime TV Shows, International TV Shows, TV Act...   \n3    1 Season                             Docuseries, Reality TV   \n4   2 Seasons  International TV Shows, Romantic TV Shows, TV ...   \n..        ...                                                ...   \n95  3 Seasons                                         Reality TV   \n96     97 min                    Documentaries, Music & Musicals   \n97  2 Seasons         Kids' TV, TV Comedies, TV Sci-Fi & Fantasy   \n98   1 Season                         British TV Shows, Kids' TV   \n99   1 Season                             TV Comedies, TV Dramas   \n\n                                          description  \n0   As her father nears the end of his life, filmm...  \n1   After crossing paths at a party, a Cape Town t...  \n2   To protect his family from a powerful drug lor...  \n3   Feuds, flirtations and toilet talk go down amo...  \n4   In a city of coaching centers known to train I...  \n..                                                ...  \n95  Status and strategy collide in this social exp...  \n96  Using interviews and archival footage, this do...  \n97  A boy's superhero dreams come true when he fin...  \n98  The Octonauts expand their exploration beyond ...  \n99  Four women — a chef, a single mom, an heiress ...  \n\n[100 rows x 12 columns]",
      "text/html": "<div>\n<style scoped>\n    .dataframe tbody tr th:only-of-type {\n        vertical-align: middle;\n    }\n\n    .dataframe tbody tr th {\n        vertical-align: top;\n    }\n\n    .dataframe thead th {\n        text-align: right;\n    }\n</style>\n<table border=\"1\" class=\"dataframe\">\n  <thead>\n    <tr style=\"text-align: right;\">\n      <th></th>\n      <th>show_id</th>\n      <th>type</th>\n      <th>title</th>\n      <th>director</th>\n      <th>cast</th>\n      <th>country</th>\n      <th>date_added</th>\n      <th>release_year</th>\n      <th>rating</th>\n      <th>duration</th>\n      <th>listed_in</th>\n      <th>description</th>\n    </tr>\n  </thead>\n  <tbody>\n    <tr>\n      <th>0</th>\n      <td>s1</td>\n      <td>Movie</td>\n      <td>Dick Johnson Is Dead</td>\n      <td>Kirsten Johnson</td>\n      <td>NaN</td>\n      <td>United States</td>\n      <td>September 25, 2021</td>\n      <td>2020</td>\n      <td>PG-13</td>\n      <td>90 min</td>\n      <td>Documentaries</td>\n      <td>As her father nears the end of his life, filmm...</td>\n    </tr>\n    <tr>\n      <th>1</th>\n      <td>s2</td>\n      <td>TV Show</td>\n      <td>Blood &amp; Water</td>\n      <td>NaN</td>\n      <td>Ama Qamata, Khosi Ngema, Gail Mabalane, Thaban...</td>\n      <td>South Africa</td>\n      <td>September 24, 2021</td>\n      <td>2021</td>\n      <td>TV-MA</td>\n      <td>2 Seasons</td>\n      <td>International TV Shows, TV Dramas, TV Mysteries</td>\n      <td>After crossing paths at a party, a Cape Town t...</td>\n    </tr>\n    <tr>\n      <th>2</th>\n      <td>s3</td>\n      <td>TV Show</td>\n      <td>Ganglands</td>\n      <td>Julien Leclercq</td>\n      <td>Sami Bouajila, Tracy Gotoas, Samuel Jouy, Nabi...</td>\n      <td>NaN</td>\n      <td>September 24, 2021</td>\n      <td>2021</td>\n      <td>TV-MA</td>\n      <td>1 Season</td>\n      <td>Crime TV Shows, International TV Shows, TV Act...</td>\n      <td>To protect his family from a powerful drug lor...</td>\n    </tr>\n    <tr>\n      <th>3</th>\n      <td>s4</td>\n      <td>TV Show</td>\n      <td>Jailbirds New Orleans</td>\n      <td>NaN</td>\n      <td>NaN</td>\n      <td>NaN</td>\n      <td>September 24, 2021</td>\n      <td>2021</td>\n      <td>TV-MA</td>\n      <td>1 Season</td>\n      <td>Docuseries, Reality TV</td>\n      <td>Feuds, flirtations and toilet talk go down amo...</td>\n    </tr>\n    <tr>\n      <th>4</th>\n      <td>s5</td>\n      <td>TV Show</td>\n      <td>Kota Factory</td>\n      <td>NaN</td>\n      <td>Mayur More, Jitendra Kumar, Ranjan Raj, Alam K...</td>\n      <td>India</td>\n      <td>September 24, 2021</td>\n      <td>2021</td>\n      <td>TV-MA</td>\n      <td>2 Seasons</td>\n      <td>International TV Shows, Romantic TV Shows, TV ...</td>\n      <td>In a city of coaching centers known to train I...</td>\n    </tr>\n    <tr>\n      <th>...</th>\n      <td>...</td>\n      <td>...</td>\n      <td>...</td>\n      <td>...</td>\n      <td>...</td>\n      <td>...</td>\n      <td>...</td>\n      <td>...</td>\n      <td>...</td>\n      <td>...</td>\n      <td>...</td>\n      <td>...</td>\n    </tr>\n    <tr>\n      <th>95</th>\n      <td>s96</td>\n      <td>TV Show</td>\n      <td>The Circle</td>\n      <td>NaN</td>\n      <td>Michelle Buteau</td>\n      <td>United States, United Kingdom</td>\n      <td>September 8, 2021</td>\n      <td>2021</td>\n      <td>TV-MA</td>\n      <td>3 Seasons</td>\n      <td>Reality TV</td>\n      <td>Status and strategy collide in this social exp...</td>\n    </tr>\n    <tr>\n      <th>96</th>\n      <td>s97</td>\n      <td>Movie</td>\n      <td>If I Leave Here Tomorrow: A Film About Lynyrd ...</td>\n      <td>Stephen Kijak</td>\n      <td>Ronnie Van Zandt, Gary Rossington, Allen Colli...</td>\n      <td>United States</td>\n      <td>September 7, 2021</td>\n      <td>2018</td>\n      <td>TV-MA</td>\n      <td>97 min</td>\n      <td>Documentaries, Music &amp; Musicals</td>\n      <td>Using interviews and archival footage, this do...</td>\n    </tr>\n    <tr>\n      <th>97</th>\n      <td>s98</td>\n      <td>TV Show</td>\n      <td>Kid Cosmic</td>\n      <td>NaN</td>\n      <td>Jack Fisher, Tom Kenny, Amanda C. Miller, Kim ...</td>\n      <td>United States</td>\n      <td>September 7, 2021</td>\n      <td>2021</td>\n      <td>TV-Y7</td>\n      <td>2 Seasons</td>\n      <td>Kids' TV, TV Comedies, TV Sci-Fi &amp; Fantasy</td>\n      <td>A boy's superhero dreams come true when he fin...</td>\n    </tr>\n    <tr>\n      <th>98</th>\n      <td>s99</td>\n      <td>TV Show</td>\n      <td>Octonauts: Above &amp; Beyond</td>\n      <td>NaN</td>\n      <td>Antonio Aakeel, Chipo Chung, Simon Foster, Ter...</td>\n      <td>United Kingdom</td>\n      <td>September 7, 2021</td>\n      <td>2021</td>\n      <td>TV-Y</td>\n      <td>1 Season</td>\n      <td>British TV Shows, Kids' TV</td>\n      <td>The Octonauts expand their exploration beyond ...</td>\n    </tr>\n    <tr>\n      <th>99</th>\n      <td>s100</td>\n      <td>TV Show</td>\n      <td>On the Verge</td>\n      <td>NaN</td>\n      <td>Julie Delpy, Elisabeth Shue, Sarah Jones, Alex...</td>\n      <td>France, United States</td>\n      <td>September 7, 2021</td>\n      <td>2021</td>\n      <td>TV-MA</td>\n      <td>1 Season</td>\n      <td>TV Comedies, TV Dramas</td>\n      <td>Four women — a chef, a single mom, an heiress ...</td>\n    </tr>\n  </tbody>\n</table>\n<p>100 rows × 12 columns</p>\n</div>"
     },
     "metadata": {},
     "output_type": "display_data"
    },
    {
     "name": "stdout",
     "output_type": "stream",
     "text": [
      "<class 'pandas.core.frame.DataFrame'>\n",
      "RangeIndex: 8807 entries, 0 to 8806\n",
      "Data columns (total 12 columns):\n",
      " #   Column        Non-Null Count  Dtype \n",
      "---  ------        --------------  ----- \n",
      " 0   show_id       8807 non-null   object\n",
      " 1   type          8807 non-null   object\n",
      " 2   title         8807 non-null   object\n",
      " 3   director      6173 non-null   object\n",
      " 4   cast          7982 non-null   object\n",
      " 5   country       7976 non-null   object\n",
      " 6   date_added    8797 non-null   object\n",
      " 7   release_year  8807 non-null   int64 \n",
      " 8   rating        8803 non-null   object\n",
      " 9   duration      8804 non-null   object\n",
      " 10  listed_in     8807 non-null   object\n",
      " 11  description   8807 non-null   object\n",
      "dtypes: int64(1), object(11)\n",
      "memory usage: 825.8+ KB\n"
     ]
    },
    {
     "data": {
      "text/plain": "None"
     },
     "metadata": {},
     "output_type": "display_data"
    }
   ],
   "source": [
    "df = pd.read_csv('https://raw.githubusercontent.com/Datamanim/datarepo/main/krdatacertificate/e4_p1_3.csv')\n",
    "display(df.head(100))\n",
    "display(df.info())"
   ],
   "metadata": {
    "collapsed": false
   }
  },
  {
   "cell_type": "code",
   "execution_count": 131,
   "outputs": [
    {
     "name": "stdout",
     "output_type": "stream",
     "text": [
      "6\n"
     ]
    }
   ],
   "source": [
    "\"\"\"\n",
    "1-3\n",
    "\n",
    "date_added가 2018년 1월 이면서 country가 United Kingdom 단독 제작인 데이터의 갯수\n",
    "\"\"\"\n",
    "\n",
    "target = df.copy()\n",
    "target = target.dropna(axis=0, subset=[\"date_added\"])\n",
    "target = target.loc[target['date_added'].str.contains(\"2018\")]\n",
    "target = target.loc[target['date_added'].str.contains(\"January\")]\n",
    "target = target.loc[target['country'] == 'United Kingdom']\n",
    "\n",
    "result = len(target)\n",
    "\n",
    "print(result)"
   ],
   "metadata": {
    "collapsed": false
   }
  }
 ],
 "metadata": {
  "kernelspec": {
   "display_name": "Python 3",
   "language": "python",
   "name": "python3"
  },
  "language_info": {
   "codemirror_mode": {
    "name": "ipython",
    "version": 2
   },
   "file_extension": ".py",
   "mimetype": "text/x-python",
   "name": "python",
   "nbconvert_exporter": "python",
   "pygments_lexer": "ipython2",
   "version": "2.7.6"
  }
 },
 "nbformat": 4,
 "nbformat_minor": 0
}
