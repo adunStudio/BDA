{
 "cells": [
  {
   "cell_type": "code",
   "execution_count": 43,
   "metadata": {
    "collapsed": true
   },
   "outputs": [],
   "source": [
    "import pandas as pd"
   ]
  },
  {
   "cell_type": "code",
   "execution_count": 44,
   "outputs": [],
   "source": [
    "df = pd.read_csv('https://raw.githubusercontent.com/Datamanim/datarepo/main/bicycle/seoul_bi.csv')"
   ],
   "metadata": {
    "collapsed": false
   }
  },
  {
   "cell_type": "code",
   "execution_count": 76,
   "outputs": [
    {
     "data": {
      "text/plain": "              대여일자  대여시간  대여소번호 대여구분코드 성별 연령대코드  이용건수     운동량   탄소량     이동거리  \\\n0       2021-06-01     0   3541    정기권  F  ~10대     1    0.00  0.00     0.00   \n1       2021-06-01     0    765    정기권  F  ~10대     1   27.21  0.35  1526.81   \n2       2021-06-01     0   2637    정기권  F  ~10대     1   41.40  0.37  1608.56   \n3       2021-06-01     0   2919    정기권  F  ~10대     1    0.00  0.00     0.00   \n4       2021-06-01     0    549    정기권  F  ~10대     1   13.04  0.17   731.55   \n...            ...   ...    ...    ... ..   ...   ...     ...   ...      ...   \n678945  2021-06-14    23   4623    정기권  M   60대     1   32.92  0.30  1279.01   \n678946  2021-06-14    23   2331    정기권  M   60대     1   11.88  0.09   400.00   \n678947  2021-06-14    23    722    정기권  M   60대     1   53.28  0.48  2070.00   \n678948  2021-06-14    23   3787    정기권  M  70대~     1  121.25  1.18  5103.30   \n678949  2021-06-14    23   1911    정기권  M  70대~     1   42.18  0.38  1638.70   \n\n        사용시간 day_name  \n0          8  Tuesday  \n1         19  Tuesday  \n2         18  Tuesday  \n3         75  Tuesday  \n4          6  Tuesday  \n...      ...      ...  \n678945    37   Monday  \n678946     4   Monday  \n678947    20   Monday  \n678948    86   Monday  \n678949    28   Monday  \n\n[678950 rows x 12 columns]",
      "text/html": "<div>\n<style scoped>\n    .dataframe tbody tr th:only-of-type {\n        vertical-align: middle;\n    }\n\n    .dataframe tbody tr th {\n        vertical-align: top;\n    }\n\n    .dataframe thead th {\n        text-align: right;\n    }\n</style>\n<table border=\"1\" class=\"dataframe\">\n  <thead>\n    <tr style=\"text-align: right;\">\n      <th></th>\n      <th>대여일자</th>\n      <th>대여시간</th>\n      <th>대여소번호</th>\n      <th>대여구분코드</th>\n      <th>성별</th>\n      <th>연령대코드</th>\n      <th>이용건수</th>\n      <th>운동량</th>\n      <th>탄소량</th>\n      <th>이동거리</th>\n      <th>사용시간</th>\n      <th>day_name</th>\n    </tr>\n  </thead>\n  <tbody>\n    <tr>\n      <th>0</th>\n      <td>2021-06-01</td>\n      <td>0</td>\n      <td>3541</td>\n      <td>정기권</td>\n      <td>F</td>\n      <td>~10대</td>\n      <td>1</td>\n      <td>0.00</td>\n      <td>0.00</td>\n      <td>0.00</td>\n      <td>8</td>\n      <td>Tuesday</td>\n    </tr>\n    <tr>\n      <th>1</th>\n      <td>2021-06-01</td>\n      <td>0</td>\n      <td>765</td>\n      <td>정기권</td>\n      <td>F</td>\n      <td>~10대</td>\n      <td>1</td>\n      <td>27.21</td>\n      <td>0.35</td>\n      <td>1526.81</td>\n      <td>19</td>\n      <td>Tuesday</td>\n    </tr>\n    <tr>\n      <th>2</th>\n      <td>2021-06-01</td>\n      <td>0</td>\n      <td>2637</td>\n      <td>정기권</td>\n      <td>F</td>\n      <td>~10대</td>\n      <td>1</td>\n      <td>41.40</td>\n      <td>0.37</td>\n      <td>1608.56</td>\n      <td>18</td>\n      <td>Tuesday</td>\n    </tr>\n    <tr>\n      <th>3</th>\n      <td>2021-06-01</td>\n      <td>0</td>\n      <td>2919</td>\n      <td>정기권</td>\n      <td>F</td>\n      <td>~10대</td>\n      <td>1</td>\n      <td>0.00</td>\n      <td>0.00</td>\n      <td>0.00</td>\n      <td>75</td>\n      <td>Tuesday</td>\n    </tr>\n    <tr>\n      <th>4</th>\n      <td>2021-06-01</td>\n      <td>0</td>\n      <td>549</td>\n      <td>정기권</td>\n      <td>F</td>\n      <td>~10대</td>\n      <td>1</td>\n      <td>13.04</td>\n      <td>0.17</td>\n      <td>731.55</td>\n      <td>6</td>\n      <td>Tuesday</td>\n    </tr>\n    <tr>\n      <th>...</th>\n      <td>...</td>\n      <td>...</td>\n      <td>...</td>\n      <td>...</td>\n      <td>...</td>\n      <td>...</td>\n      <td>...</td>\n      <td>...</td>\n      <td>...</td>\n      <td>...</td>\n      <td>...</td>\n      <td>...</td>\n    </tr>\n    <tr>\n      <th>678945</th>\n      <td>2021-06-14</td>\n      <td>23</td>\n      <td>4623</td>\n      <td>정기권</td>\n      <td>M</td>\n      <td>60대</td>\n      <td>1</td>\n      <td>32.92</td>\n      <td>0.30</td>\n      <td>1279.01</td>\n      <td>37</td>\n      <td>Monday</td>\n    </tr>\n    <tr>\n      <th>678946</th>\n      <td>2021-06-14</td>\n      <td>23</td>\n      <td>2331</td>\n      <td>정기권</td>\n      <td>M</td>\n      <td>60대</td>\n      <td>1</td>\n      <td>11.88</td>\n      <td>0.09</td>\n      <td>400.00</td>\n      <td>4</td>\n      <td>Monday</td>\n    </tr>\n    <tr>\n      <th>678947</th>\n      <td>2021-06-14</td>\n      <td>23</td>\n      <td>722</td>\n      <td>정기권</td>\n      <td>M</td>\n      <td>60대</td>\n      <td>1</td>\n      <td>53.28</td>\n      <td>0.48</td>\n      <td>2070.00</td>\n      <td>20</td>\n      <td>Monday</td>\n    </tr>\n    <tr>\n      <th>678948</th>\n      <td>2021-06-14</td>\n      <td>23</td>\n      <td>3787</td>\n      <td>정기권</td>\n      <td>M</td>\n      <td>70대~</td>\n      <td>1</td>\n      <td>121.25</td>\n      <td>1.18</td>\n      <td>5103.30</td>\n      <td>86</td>\n      <td>Monday</td>\n    </tr>\n    <tr>\n      <th>678949</th>\n      <td>2021-06-14</td>\n      <td>23</td>\n      <td>1911</td>\n      <td>정기권</td>\n      <td>M</td>\n      <td>70대~</td>\n      <td>1</td>\n      <td>42.18</td>\n      <td>0.38</td>\n      <td>1638.70</td>\n      <td>28</td>\n      <td>Monday</td>\n    </tr>\n  </tbody>\n</table>\n<p>678950 rows × 12 columns</p>\n</div>"
     },
     "metadata": {},
     "output_type": "display_data"
    }
   ],
   "source": [
    "display(df)"
   ],
   "metadata": {
    "collapsed": false
   }
  },
  {
   "cell_type": "code",
   "execution_count": 46,
   "outputs": [
    {
     "name": "stdout",
     "output_type": "stream",
     "text": [
      "<class 'pandas.core.frame.DataFrame'>\n",
      "RangeIndex: 678950 entries, 0 to 678949\n",
      "Data columns (total 11 columns):\n",
      " #   Column  Non-Null Count   Dtype  \n",
      "---  ------  --------------   -----  \n",
      " 0   대여일자    678950 non-null  object \n",
      " 1   대여시간    678950 non-null  int64  \n",
      " 2   대여소번호   678950 non-null  int64  \n",
      " 3   대여구분코드  678950 non-null  object \n",
      " 4   성별      678950 non-null  object \n",
      " 5   연령대코드   678950 non-null  object \n",
      " 6   이용건수    678950 non-null  int64  \n",
      " 7   운동량     678950 non-null  object \n",
      " 8   탄소량     678950 non-null  object \n",
      " 9   이동거리    678950 non-null  float64\n",
      " 10  사용시간    678950 non-null  int64  \n",
      "dtypes: float64(1), int64(4), object(6)\n",
      "memory usage: 57.0+ MB\n"
     ]
    }
   ],
   "source": [
    "df.info()"
   ],
   "metadata": {
    "collapsed": false
   }
  },
  {
   "cell_type": "code",
   "execution_count": 47,
   "outputs": [
    {
     "data": {
      "text/plain": "'2021-06-04'"
     },
     "metadata": {},
     "output_type": "display_data"
    }
   ],
   "source": [
    "\"\"\"\n",
    "Question 31\n",
    "\n",
    "대여일자별 데이터의 수를 데이터프레임으로 출력하고, 가장 많은 데이터가 있는 날짜를 출력하라\n",
    "\"\"\"\n",
    "\n",
    "result = df['대여일자'].value_counts().sort_index().to_frame()\n",
    "ans = result[result['count'] == result['count'].max()].index[0]\n",
    "display(ans)"
   ],
   "metadata": {
    "collapsed": false
   }
  },
  {
   "cell_type": "code",
   "execution_count": 53,
   "outputs": [
    {
     "name": "stdout",
     "output_type": "stream",
     "text": [
      "            count\n",
      "day_name         \n",
      "Wednesday  110607\n",
      "Friday     108877\n",
      "Monday     107568\n",
      "Tuesday    103704\n",
      "Saturday   101299\n",
      "Sunday      90918\n",
      "Thursday    55977\n"
     ]
    }
   ],
   "source": [
    "\"\"\"\n",
    "Question 32\n",
    "\n",
    "각 일자의 요일을 표기하고 (‘Monday’ ~’Sunday’) ‘day_name’컬럼을 추가하고 이를 이용하여 각 요일별 이용 횟수의 총합을 데이터 프레임으로 출력하라\n",
    "\"\"\"\n",
    "\n",
    "df['day_name'] = pd.to_datetime(df['대여일자'])\n",
    "df['day_name'] = df['day_name'].dt.day_name()\n",
    "\n",
    "ans = df['day_name'].value_counts().to_frame()\n",
    "print(ans)"
   ],
   "metadata": {
    "collapsed": false
   }
  },
  {
   "cell_type": "code",
   "execution_count": 75,
   "outputs": [
    {
     "name": "stdout",
     "output_type": "stream",
     "text": [
      "    day_name  대여소번호  size\n",
      "0  Wednesday    502   282\n",
      "1    Tuesday    502   267\n",
      "2   Thursday   2715   137\n",
      "3     Sunday    502   372\n",
      "4   Saturday    502   378\n",
      "5     Monday    502   242\n",
      "6     Friday    502   277\n"
     ]
    }
   ],
   "source": [
    "\"\"\"\n",
    "Question 33\n",
    "\n",
    "각 요일별 가장 많이 이용한 대여소의 이용횟수와 대여소 번호를 데이터 프레임으로 출력하라\n",
    "\"\"\"\n",
    "\n",
    "\n",
    "ans = df.groupby(['day_name', '대여소번호']).size().to_frame('size').sort_values(['day_name', 'size'], ascending=False).reset_index()\n",
    "ans = ans.drop_duplicates('day_name', keep='first').reset_index(drop=True)\n",
    "\n",
    "print(ans)"
   ],
   "metadata": {
    "collapsed": false
   }
  },
  {
   "cell_type": "code",
   "execution_count": 91,
   "outputs": [
    {
     "data": {
      "text/plain": "연령대코드\n20대     60167\n30대     31585\n40대     13794\n50대      4772\n60대       849\n70대~      169\n~10대    12021\nName: count, dtype: int64"
     },
     "metadata": {},
     "output_type": "display_data"
    },
    {
     "data": {
      "text/plain": "연령대코드\n20대     247561\n30대     186722\n40대     114799\n50대      70428\n60대      19288\n70대~      3227\n~10대     36925\nName: count, dtype: int64"
     },
     "metadata": {},
     "output_type": "display_data"
    },
    {
     "data": {
      "text/plain": "연령대코드\n~10대    0.325552\n20대     0.243039\n30대     0.169155\n40대     0.120158\n50대     0.067757\n70대~    0.052371\n60대     0.044017\nName: count, dtype: float64"
     },
     "metadata": {},
     "output_type": "display_data"
    },
    {
     "name": "stdout",
     "output_type": "stream",
     "text": [
      "~10대\n"
     ]
    }
   ],
   "source": [
    "\"\"\"\n",
    "Question 34\n",
    "\n",
    "나이대별 대여구분 코드의 (일일권/전체횟수) 비율을 구한 후 가장 높은 비율을 가지는 나이대를 확인하라. 일일권의 경우 일일권 과 일일권(비회원)을 모두 포함하라\n",
    "\"\"\"\n",
    "\n",
    "daily = df[df['대여구분코드'] != '정기권']['연령대코드'].value_counts().sort_index()\n",
    "total = df['연령대코드'].value_counts().sort_index()\n",
    "\n",
    "ratio = (daily/total).sort_values(ascending=False)\n",
    "\n",
    "\n",
    "display(daily)\n",
    "display(total)\n",
    "display(ratio)\n",
    "\n",
    "print(ratio.index[0])"
   ],
   "metadata": {
    "collapsed": false
   }
  },
  {
   "cell_type": "code",
   "execution_count": 99,
   "outputs": [
    {
     "data": {
      "text/plain": "              이동거리\n연령대코드             \n20대    3211.890552\n30대    3341.443859\n40대    3514.857416\n50대    3593.668100\n60대    3538.145737\n70대~   3085.039641\n~10대   2634.426279",
      "text/html": "<div>\n<style scoped>\n    .dataframe tbody tr th:only-of-type {\n        vertical-align: middle;\n    }\n\n    .dataframe tbody tr th {\n        vertical-align: top;\n    }\n\n    .dataframe thead th {\n        text-align: right;\n    }\n</style>\n<table border=\"1\" class=\"dataframe\">\n  <thead>\n    <tr style=\"text-align: right;\">\n      <th></th>\n      <th>이동거리</th>\n    </tr>\n    <tr>\n      <th>연령대코드</th>\n      <th></th>\n    </tr>\n  </thead>\n  <tbody>\n    <tr>\n      <th>20대</th>\n      <td>3211.890552</td>\n    </tr>\n    <tr>\n      <th>30대</th>\n      <td>3341.443859</td>\n    </tr>\n    <tr>\n      <th>40대</th>\n      <td>3514.857416</td>\n    </tr>\n    <tr>\n      <th>50대</th>\n      <td>3593.668100</td>\n    </tr>\n    <tr>\n      <th>60대</th>\n      <td>3538.145737</td>\n    </tr>\n    <tr>\n      <th>70대~</th>\n      <td>3085.039641</td>\n    </tr>\n    <tr>\n      <th>~10대</th>\n      <td>2634.426279</td>\n    </tr>\n  </tbody>\n</table>\n</div>"
     },
     "metadata": {},
     "output_type": "display_data"
    }
   ],
   "source": [
    "# 연령대별 평균 이동거리를 구하여라\n",
    "\n",
    "ans = df.groupby('연령대코드')['이동거리'].mean()\n",
    "ans = df[['연령대코드','이동거리']].groupby(['연령대코드']).mean()\n",
    "\n",
    "display(ans)"
   ],
   "metadata": {
    "collapsed": false
   }
  },
  {
   "cell_type": "code",
   "execution_count": 142,
   "outputs": [
    {
     "name": "stdout",
     "output_type": "stream",
     "text": [
      "1.613\n",
      "1.613\n"
     ]
    }
   ],
   "source": [
    "\"\"\"\n",
    "Question 36\n",
    "\n",
    "연령대 코드가 20대인 데이터를 추출하고,이동거리값이 추출한 데이터의 이동거리값의 평균 이상인 데이터를 추출한다.최종 추출된 데이터를 대여일자, 대여소 번호 순서로 내림차순 정렬 후 1행부터 200행까지의 탄소량의 평균을 소숫점 3째 자리까지 구하여라\n",
    "\"\"\"\n",
    "\n",
    "target = df[df.연령대코드 == '20대'].reset_index(drop=True)\n",
    "target = target[target['이동거리'] >= target.이동거리.mean()]\n",
    "target = target.sort_values(['대여일자', '대여소번호'], ascending=False)\n",
    "target = target.iloc[:200].reset_index(drop=True)\n",
    "ans = target['탄소량'].astype(float)\n",
    "ans = round(ans.sum() / len(ans), 3)\n",
    "print(ans)\n",
    "\n",
    "tw = df[df.연령대코드 =='20대'].reset_index(drop=True)\n",
    "tw_mean = tw[tw.이동거리 >= tw.이동거리.mean()].reset_index(drop=True)\n",
    "tw_mean['탄소량'] =tw_mean['탄소량'].astype('float')\n",
    "target =tw_mean.sort_values(['대여일자','대여소번호'], ascending=False).reset_index(drop=True).iloc[:200].탄소량\n",
    "result = round(target.sum()/len(target),3)\n",
    "print(result)"
   ],
   "metadata": {
    "collapsed": false
   }
  },
  {
   "cell_type": "code",
   "execution_count": 147,
   "outputs": [
    {
     "data": {
      "text/plain": "              대여시간        대여소번호         이용건수          이동거리         사용시간\ncount  2641.000000  2641.000000  2641.000000   2641.000000  2641.000000\nmean     15.587278  1707.502083     1.086331   2337.196770    21.176070\nstd       5.983441  1165.811401     0.343950   2720.808371    27.246192\nmin       0.000000   102.000000     1.000000      0.000000     1.000000\n25%      13.000000   785.000000     1.000000    820.000000     7.000000\n50%      17.000000  1372.000000     1.000000   1510.000000    12.000000\n75%      20.000000  2372.000000     1.000000   2805.140000    26.000000\nmax      23.000000  4856.000000     5.000000  27081.610000   517.000000",
      "text/html": "<div>\n<style scoped>\n    .dataframe tbody tr th:only-of-type {\n        vertical-align: middle;\n    }\n\n    .dataframe tbody tr th {\n        vertical-align: top;\n    }\n\n    .dataframe thead th {\n        text-align: right;\n    }\n</style>\n<table border=\"1\" class=\"dataframe\">\n  <thead>\n    <tr style=\"text-align: right;\">\n      <th></th>\n      <th>대여시간</th>\n      <th>대여소번호</th>\n      <th>이용건수</th>\n      <th>이동거리</th>\n      <th>사용시간</th>\n    </tr>\n  </thead>\n  <tbody>\n    <tr>\n      <th>count</th>\n      <td>2641.000000</td>\n      <td>2641.000000</td>\n      <td>2641.000000</td>\n      <td>2641.000000</td>\n      <td>2641.000000</td>\n    </tr>\n    <tr>\n      <th>mean</th>\n      <td>15.587278</td>\n      <td>1707.502083</td>\n      <td>1.086331</td>\n      <td>2337.196770</td>\n      <td>21.176070</td>\n    </tr>\n    <tr>\n      <th>std</th>\n      <td>5.983441</td>\n      <td>1165.811401</td>\n      <td>0.343950</td>\n      <td>2720.808371</td>\n      <td>27.246192</td>\n    </tr>\n    <tr>\n      <th>min</th>\n      <td>0.000000</td>\n      <td>102.000000</td>\n      <td>1.000000</td>\n      <td>0.000000</td>\n      <td>1.000000</td>\n    </tr>\n    <tr>\n      <th>25%</th>\n      <td>13.000000</td>\n      <td>785.000000</td>\n      <td>1.000000</td>\n      <td>820.000000</td>\n      <td>7.000000</td>\n    </tr>\n    <tr>\n      <th>50%</th>\n      <td>17.000000</td>\n      <td>1372.000000</td>\n      <td>1.000000</td>\n      <td>1510.000000</td>\n      <td>12.000000</td>\n    </tr>\n    <tr>\n      <th>75%</th>\n      <td>20.000000</td>\n      <td>2372.000000</td>\n      <td>1.000000</td>\n      <td>2805.140000</td>\n      <td>26.000000</td>\n    </tr>\n    <tr>\n      <th>max</th>\n      <td>23.000000</td>\n      <td>4856.000000</td>\n      <td>5.000000</td>\n      <td>27081.610000</td>\n      <td>517.000000</td>\n    </tr>\n  </tbody>\n</table>\n</div>"
     },
     "metadata": {},
     "output_type": "display_data"
    },
    {
     "name": "stdout",
     "output_type": "stream",
     "text": [
      "1.0\n"
     ]
    }
   ],
   "source": [
    "\"\"\"\n",
    "Question 37\n",
    "\n",
    "6월 7일 ~10대의 “이용건수”의 중앙값은?\n",
    "\"\"\"\n",
    "\n",
    "target = df[df.연령대코드 == \"~10대\"]\n",
    "target = target[target.대여일자 == '2021-06-07']\n",
    "\n",
    "display(target.describe())\n",
    "\n",
    "print(target.이용건수.median())"
   ],
   "metadata": {
    "collapsed": false
   }
  },
  {
   "cell_type": "code",
   "execution_count": 206,
   "outputs": [
    {
     "data": {
      "text/plain": "            이용 횟수\n대여시간 대여소번호       \n8    2701     119\n     646      115\n     1152      92\n7    259      104\n     230       77\n     726       77\n6    2744      45\n     1125      40\n     3214      36",
      "text/html": "<div>\n<style scoped>\n    .dataframe tbody tr th:only-of-type {\n        vertical-align: middle;\n    }\n\n    .dataframe tbody tr th {\n        vertical-align: top;\n    }\n\n    .dataframe thead th {\n        text-align: right;\n    }\n</style>\n<table border=\"1\" class=\"dataframe\">\n  <thead>\n    <tr style=\"text-align: right;\">\n      <th></th>\n      <th></th>\n      <th>이용 횟수</th>\n    </tr>\n    <tr>\n      <th>대여시간</th>\n      <th>대여소번호</th>\n      <th></th>\n    </tr>\n  </thead>\n  <tbody>\n    <tr>\n      <th rowspan=\"3\" valign=\"top\">8</th>\n      <th>2701</th>\n      <td>119</td>\n    </tr>\n    <tr>\n      <th>646</th>\n      <td>115</td>\n    </tr>\n    <tr>\n      <th>1152</th>\n      <td>92</td>\n    </tr>\n    <tr>\n      <th rowspan=\"3\" valign=\"top\">7</th>\n      <th>259</th>\n      <td>104</td>\n    </tr>\n    <tr>\n      <th>230</th>\n      <td>77</td>\n    </tr>\n    <tr>\n      <th>726</th>\n      <td>77</td>\n    </tr>\n    <tr>\n      <th rowspan=\"3\" valign=\"top\">6</th>\n      <th>2744</th>\n      <td>45</td>\n    </tr>\n    <tr>\n      <th>1125</th>\n      <td>40</td>\n    </tr>\n    <tr>\n      <th>3214</th>\n      <td>36</td>\n    </tr>\n  </tbody>\n</table>\n</div>"
     },
     "metadata": {},
     "output_type": "display_data"
    }
   ],
   "source": [
    "\"\"\"\n",
    "Question 38\n",
    "\n",
    "평일 (월~금) 출근 시간대(오전 6,7,8시)의 대여소별 이용 횟수를 구해서 데이터 프레임 형태로 표현한 후 각 대여시간별 이용 횟수의 상위 3개 대여소와 이용횟수를 출력하라\n",
    "\"\"\"\n",
    "\n",
    "target = df.copy()\n",
    "target.대여일자 = pd.to_datetime(target.대여일자)\n",
    "target = target[target.대여일자.dt.weekday < 5]\n",
    "target = target[target.대여시간.isin([6, 7, 8])]\n",
    "target = target[[\"대여시간\", \"대여소번호\"]].value_counts().to_frame('이용 횟수').sort_values(['대여시간', '이용 횟수'], ascending=False)\n",
    "\n",
    "\n",
    "display(target.groupby('대여시간').head(3))"
   ],
   "metadata": {
    "collapsed": false
   }
  },
  {
   "cell_type": "code",
   "execution_count": 220,
   "outputs": [
    {
     "name": "stdout",
     "output_type": "stream",
     "text": [
      "5092.139707505356\n"
     ]
    }
   ],
   "source": [
    "\"\"\"\n",
    "Question 39\n",
    "\n",
    "이동거리의 평균 이상의 이동거리 값을 가지는 데이터를 추출하여 추출데이터의 이동거리의 표본표준편차 값을 구하여라\n",
    "\"\"\"\n",
    "mean = df['이동거리'].mean()\n",
    "target = df[df['이동거리'] >= mean]\n",
    "\n",
    "print(target['이동거리'].std())\n",
    "\n"
   ],
   "metadata": {
    "collapsed": false
   }
  },
  {
   "cell_type": "code",
   "execution_count": 227,
   "outputs": [
    {
     "name": "stdout",
     "output_type": "stream",
     "text": [
      "            이동거리\n",
      "sex             \n",
      "남    3209.110871\n",
      "여    3468.575025\n"
     ]
    }
   ],
   "source": [
    "\"\"\"\n",
    "Question 40\n",
    "\n",
    "남성(‘M’ or ‘m’)과 여성(‘F’ or ‘f’)의 이동거리값의 평균값을 구하여라\n",
    "\"\"\"\n",
    "\n",
    "df['sex'] = df.성별.map(lambda x : \"남\" if x.lower() == 'm' else '여')\n",
    "\n",
    "print(df.groupby(['sex'])['이동거리'].mean().to_frame())"
   ],
   "metadata": {
    "collapsed": false
   }
  }
 ],
 "metadata": {
  "kernelspec": {
   "display_name": "Python 3",
   "language": "python",
   "name": "python3"
  },
  "language_info": {
   "codemirror_mode": {
    "name": "ipython",
    "version": 2
   },
   "file_extension": ".py",
   "mimetype": "text/x-python",
   "name": "python",
   "nbconvert_exporter": "python",
   "pygments_lexer": "ipython2",
   "version": "2.7.6"
  }
 },
 "nbformat": 4,
 "nbformat_minor": 0
}
