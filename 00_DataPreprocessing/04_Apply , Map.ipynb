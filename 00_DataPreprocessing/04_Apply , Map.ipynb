{
 "cells": [
  {
   "cell_type": "code",
   "execution_count": 1,
   "metadata": {
    "collapsed": true
   },
   "outputs": [],
   "source": [
    "import pandas as pd"
   ]
  },
  {
   "cell_type": "code",
   "execution_count": 5,
   "outputs": [],
   "source": [
    "df = pd.read_csv('https://raw.githubusercontent.com/Datamanim/pandas/main/BankChurnersUp.csv',index_col=0)\n",
    "ans = df.shape"
   ],
   "metadata": {
    "collapsed": false
   }
  },
  {
   "cell_type": "code",
   "execution_count": 6,
   "outputs": [
    {
     "data": {
      "text/plain": "(10127, 18)"
     },
     "execution_count": 6,
     "metadata": {},
     "output_type": "execute_result"
    }
   ],
   "source": [
    "ans"
   ],
   "metadata": {
    "collapsed": false
   }
  },
  {
   "cell_type": "code",
   "execution_count": 7,
   "outputs": [
    {
     "name": "stdout",
     "output_type": "stream",
     "text": [
      "<class 'pandas.core.frame.DataFrame'>\n",
      "Index: 10127 entries, 0 to 10126\n",
      "Data columns (total 18 columns):\n",
      " #   Column                    Non-Null Count  Dtype  \n",
      "---  ------                    --------------  -----  \n",
      " 0   CLIENTNUM                 10127 non-null  int64  \n",
      " 1   Attrition_Flag            10127 non-null  object \n",
      " 2   Customer_Age              10127 non-null  int64  \n",
      " 3   Gender                    10127 non-null  object \n",
      " 4   Dependent_count           10127 non-null  int64  \n",
      " 5   Education_Level           10127 non-null  object \n",
      " 6   Marital_Status            10127 non-null  object \n",
      " 7   Income_Category           10127 non-null  object \n",
      " 8   Card_Category             10127 non-null  object \n",
      " 9   Months_on_book            10127 non-null  int64  \n",
      " 10  Total_Relationship_Count  10127 non-null  int64  \n",
      " 11  Months_Inactive_12_mon    10127 non-null  int64  \n",
      " 12  Contacts_Count_12_mon     10127 non-null  int64  \n",
      " 13  Credit_Limit              10127 non-null  float64\n",
      " 14  Total_Revolving_Bal       10127 non-null  int64  \n",
      " 15  Avg_Open_To_Buy           10127 non-null  float64\n",
      " 16  Total_Amt_Chng_Q4_Q1      10127 non-null  float64\n",
      " 17  Total_Trans_Amt           10127 non-null  int64  \n",
      "dtypes: float64(3), int64(9), object(6)\n",
      "memory usage: 1.5+ MB\n"
     ]
    }
   ],
   "source": [
    "df.info()"
   ],
   "metadata": {
    "collapsed": false
   }
  },
  {
   "cell_type": "markdown",
   "source": [],
   "metadata": {
    "collapsed": false
   }
  },
  {
   "cell_type": "code",
   "execution_count": 13,
   "outputs": [
    {
     "name": "stdout",
     "output_type": "stream",
     "text": [
      "       CLIENTNUM     Attrition_Flag  Customer_Age Gender  Dependent_count  \\\n",
      "0      768805383  Existing Customer            45      M                3   \n",
      "1      818770008  Existing Customer            49      F                5   \n",
      "2      713982108  Existing Customer            51      M                3   \n",
      "3      769911858  Existing Customer            40      F                4   \n",
      "4      709106358  Existing Customer            40      M                3   \n",
      "...          ...                ...           ...    ...              ...   \n",
      "10122  772366833  Existing Customer            50      M                2   \n",
      "10123  710638233  Attrited Customer            41      M                2   \n",
      "10124  716506083  Attrited Customer            44      F                1   \n",
      "10125  717406983  Attrited Customer            30      M                2   \n",
      "10126  714337233  Attrited Customer            43      F                2   \n",
      "\n",
      "      Education_Level Marital_Status Income_Category Card_Category  \\\n",
      "0         High School        Married     $60K - $80K          Blue   \n",
      "1            Graduate         Single  Less than $40K          Blue   \n",
      "2            Graduate        Married    $80K - $120K          Blue   \n",
      "3         High School        Unknown  Less than $40K          Blue   \n",
      "4          Uneducated        Married     $60K - $80K          Blue   \n",
      "...               ...            ...             ...           ...   \n",
      "10122        Graduate         Single     $40K - $60K          Blue   \n",
      "10123         Unknown       Divorced     $40K - $60K          Blue   \n",
      "10124     High School        Married  Less than $40K          Blue   \n",
      "10125        Graduate        Unknown     $40K - $60K          Blue   \n",
      "10126        Graduate        Married  Less than $40K        Silver   \n",
      "\n",
      "       Months_on_book  Total_Relationship_Count  Months_Inactive_12_mon  \\\n",
      "0                  39                         5                       1   \n",
      "1                  44                         6                       1   \n",
      "2                  36                         4                       1   \n",
      "3                  34                         3                       4   \n",
      "4                  21                         5                       1   \n",
      "...               ...                       ...                     ...   \n",
      "10122              40                         3                       2   \n",
      "10123              25                         4                       2   \n",
      "10124              36                         5                       3   \n",
      "10125              36                         4                       3   \n",
      "10126              25                         6                       2   \n",
      "\n",
      "       Contacts_Count_12_mon  Credit_Limit  Total_Revolving_Bal  \\\n",
      "0                          3       12691.0                  777   \n",
      "1                          2        8256.0                  864   \n",
      "2                          0        3418.0                    0   \n",
      "3                          1        3313.0                 2517   \n",
      "4                          0        4716.0                    0   \n",
      "...                      ...           ...                  ...   \n",
      "10122                      3        4003.0                 1851   \n",
      "10123                      3        4277.0                 2186   \n",
      "10124                      4        5409.0                    0   \n",
      "10125                      3        5281.0                    0   \n",
      "10126                      4       10388.0                 1961   \n",
      "\n",
      "       Avg_Open_To_Buy  Total_Amt_Chng_Q4_Q1  Total_Trans_Amt newIncome  \n",
      "0              11914.0                 1.335             1144         c  \n",
      "1               7392.0                 1.541             1291         a  \n",
      "2               3418.0                 2.594             1887         d  \n",
      "3                796.0                 1.405             1171         a  \n",
      "4               4716.0                 2.175              816         c  \n",
      "...                ...                   ...              ...       ...  \n",
      "10122           2152.0                 0.703            15476         b  \n",
      "10123           2091.0                 0.804             8764         b  \n",
      "10124           5409.0                 0.819            10291         a  \n",
      "10125           5281.0                 0.535             8395         b  \n",
      "10126           8427.0                 0.703            10294         a  \n",
      "\n",
      "[10127 rows x 19 columns]\n"
     ]
    }
   ],
   "source": [
    "# Income_Category의 카테고리를 map 함수를 이용하여 다음과 같이 변경하여 newIncome 컬럼에 매핑하라\n",
    "\n",
    "dic = {\n",
    "    'Unknown'        : 'N',\n",
    "    'Less than $40K' : 'a',\n",
    "    '$40K - $60K'    : 'b',\n",
    "    '$60K - $80K'    : 'c',\n",
    "    '$80K - $120K'   : 'd',\n",
    "    '$120K +'        : 'e'\n",
    "}\n",
    "df[\"newIncome\"] = df[\"Income_Category\"].map(lambda x: dic[x])\n",
    "print(df)"
   ],
   "metadata": {
    "collapsed": false
   }
  },
  {
   "cell_type": "code",
   "execution_count": 15,
   "outputs": [
    {
     "name": "stdout",
     "output_type": "stream",
     "text": [
      "       CLIENTNUM     Attrition_Flag  Customer_Age Gender  Dependent_count  \\\n",
      "0      768805383  Existing Customer            45      M                3   \n",
      "1      818770008  Existing Customer            49      F                5   \n",
      "2      713982108  Existing Customer            51      M                3   \n",
      "3      769911858  Existing Customer            40      F                4   \n",
      "4      709106358  Existing Customer            40      M                3   \n",
      "...          ...                ...           ...    ...              ...   \n",
      "10122  772366833  Existing Customer            50      M                2   \n",
      "10123  710638233  Attrited Customer            41      M                2   \n",
      "10124  716506083  Attrited Customer            44      F                1   \n",
      "10125  717406983  Attrited Customer            30      M                2   \n",
      "10126  714337233  Attrited Customer            43      F                2   \n",
      "\n",
      "      Education_Level Marital_Status Income_Category Card_Category  \\\n",
      "0         High School        Married     $60K - $80K          Blue   \n",
      "1            Graduate         Single  Less than $40K          Blue   \n",
      "2            Graduate        Married    $80K - $120K          Blue   \n",
      "3         High School        Unknown  Less than $40K          Blue   \n",
      "4          Uneducated        Married     $60K - $80K          Blue   \n",
      "...               ...            ...             ...           ...   \n",
      "10122        Graduate         Single     $40K - $60K          Blue   \n",
      "10123         Unknown       Divorced     $40K - $60K          Blue   \n",
      "10124     High School        Married  Less than $40K          Blue   \n",
      "10125        Graduate        Unknown     $40K - $60K          Blue   \n",
      "10126        Graduate        Married  Less than $40K        Silver   \n",
      "\n",
      "       Months_on_book  Total_Relationship_Count  Months_Inactive_12_mon  \\\n",
      "0                  39                         5                       1   \n",
      "1                  44                         6                       1   \n",
      "2                  36                         4                       1   \n",
      "3                  34                         3                       4   \n",
      "4                  21                         5                       1   \n",
      "...               ...                       ...                     ...   \n",
      "10122              40                         3                       2   \n",
      "10123              25                         4                       2   \n",
      "10124              36                         5                       3   \n",
      "10125              36                         4                       3   \n",
      "10126              25                         6                       2   \n",
      "\n",
      "       Contacts_Count_12_mon  Credit_Limit  Total_Revolving_Bal  \\\n",
      "0                          3       12691.0                  777   \n",
      "1                          2        8256.0                  864   \n",
      "2                          0        3418.0                    0   \n",
      "3                          1        3313.0                 2517   \n",
      "4                          0        4716.0                    0   \n",
      "...                      ...           ...                  ...   \n",
      "10122                      3        4003.0                 1851   \n",
      "10123                      3        4277.0                 2186   \n",
      "10124                      4        5409.0                    0   \n",
      "10125                      3        5281.0                    0   \n",
      "10126                      4       10388.0                 1961   \n",
      "\n",
      "       Avg_Open_To_Buy  Total_Amt_Chng_Q4_Q1  Total_Trans_Amt newIncome  \n",
      "0              11914.0                 1.335             1144         c  \n",
      "1               7392.0                 1.541             1291         a  \n",
      "2               3418.0                 2.594             1887         d  \n",
      "3                796.0                 1.405             1171         a  \n",
      "4               4716.0                 2.175              816         c  \n",
      "...                ...                   ...              ...       ...  \n",
      "10122           2152.0                 0.703            15476         b  \n",
      "10123           2091.0                 0.804             8764         b  \n",
      "10124           5409.0                 0.819            10291         a  \n",
      "10125           5281.0                 0.535             8395         b  \n",
      "10126           8427.0                 0.703            10294         a  \n",
      "\n",
      "[10127 rows x 19 columns]\n"
     ]
    }
   ],
   "source": [
    "# Income_Category의 카테고리를 apply 함수를 이용하여 다음과 같이 변경하여 newIncome 컬럼에 매핑하라\n",
    "\n",
    "def changeCategory(x):\n",
    "    if x =='Unknown':\n",
    "        return 'N'\n",
    "    elif x =='Less than $40K':\n",
    "        return 'a'\n",
    "    elif x =='$40K - $60K':\n",
    "        return 'b'\n",
    "    elif x =='$60K - $80K':\n",
    "        return 'c'\n",
    "    elif x =='$80K - $120K':\n",
    "        return 'd'\n",
    "    elif x =='$120K +' :\n",
    "        return 'e'\n",
    "\n",
    "df[\"newIncome\"] = df[\"Income_Category\"].apply(changeCategory)\n",
    "print(df)"
   ],
   "metadata": {
    "collapsed": false
   }
  },
  {
   "cell_type": "code",
   "execution_count": 19,
   "outputs": [
    {
     "name": "stdout",
     "output_type": "stream",
     "text": [
      "AgeState\n",
      "20     195\n",
      "30    1841\n",
      "40    4561\n",
      "50    2998\n",
      "60     530\n",
      "70       2\n",
      "Name: count, dtype: int64\n"
     ]
    }
   ],
   "source": [
    "# Customer_Age의 값을 이용하여 나이 구간을 AgeState 컬럼으로 정의하라.\n",
    "# 0~9 : 0 , 10~19 :10 , 20~29 :20 … 각 구간의 빈도수를 출력하라\n",
    "df[\"AgeState\"] = df[\"Customer_Age\"].map(lambda x: x // 10 * 10)\n",
    "ans = df[\"AgeState\"].value_counts().sort_index()\n",
    "\n",
    "print(ans)"
   ],
   "metadata": {
    "collapsed": false
   }
  },
  {
   "cell_type": "code",
   "execution_count": 26,
   "outputs": [
    {
     "name": "stdout",
     "output_type": "stream",
     "text": [
      "newEduLevel\n",
      "0    6483\n",
      "1    3644\n",
      "Name: count, dtype: int64\n"
     ]
    }
   ],
   "source": [
    "# Education_Level의 값중 Graduate단어가 포함되는 값은 1 그렇지 않은 경우에는 0으로 변경하여 newEduLevel 컬럼을 정의하고 빈도수를 출력하라\n",
    "\n",
    "df[\"newEduLevel\"] = df[\"Education_Level\"].map(lambda x : 1 if 'Graduate' in x else 0 )\n",
    "ans = df['newEduLevel'].value_counts()\n",
    "\n",
    "print(ans)"
   ],
   "metadata": {
    "collapsed": false
   }
  },
  {
   "cell_type": "code",
   "execution_count": 29,
   "outputs": [
    {
     "name": "stdout",
     "output_type": "stream",
     "text": [
      "newState\n",
      "0    10120\n",
      "1        7\n",
      "Name: count, dtype: int64\n"
     ]
    }
   ],
   "source": [
    "\"\"\"\n",
    "Marital_Status 컬럼값이 Married 이고 Card_Category 컬럼의 값이 Platinum인 경우 1 그외의 경우에는 모두 0으로 하는 newState컬럼을 정의하라. newState의 각 값들의 빈도수를 출력하라\n",
    "\"\"\"\n",
    "def check(x):\n",
    "    if x.Marital_Status == 'Married' and x.Card_Category == 'Platinum':\n",
    "        return 1\n",
    "    else:\n",
    "        return 0\n",
    "\n",
    "df[\"newState\"] = df.apply(check, axis = 1)\n",
    "ans = df[\"newState\"].value_counts()\n",
    "print(ans)"
   ],
   "metadata": {
    "collapsed": false
   }
  },
  {
   "cell_type": "code",
   "execution_count": 36,
   "outputs": [
    {
     "name": "stdout",
     "output_type": "stream",
     "text": [
      "['M' 'F']\n"
     ]
    }
   ],
   "source": [
    "a = df['Gender'].unique()\n",
    "print(a)"
   ],
   "metadata": {
    "collapsed": false
   }
  },
  {
   "cell_type": "code",
   "execution_count": 38,
   "outputs": [
    {
     "name": "stdout",
     "output_type": "stream",
     "text": [
      "Gender\n",
      "female    5358\n",
      "male      4769\n",
      "Name: count, dtype: int64\n"
     ]
    }
   ],
   "source": [
    "#Gender 컬럼값 M인 경우 male F인 경우 female로 값을 변경하여 Gender 컬럼에 새롭게 정의하라. 각 value의 빈도를 출력하라\n",
    "\n",
    "df['Gender'] = df['Gender'].map(lambda x : 'male' if x == 'M' else 'female' if x =='F' else x)\n",
    "ans = df['Gender'].value_counts()\n",
    "print(ans)"
   ],
   "metadata": {
    "collapsed": false
   }
  }
 ],
 "metadata": {
  "kernelspec": {
   "display_name": "Python 3",
   "language": "python",
   "name": "python3"
  },
  "language_info": {
   "codemirror_mode": {
    "name": "ipython",
    "version": 2
   },
   "file_extension": ".py",
   "mimetype": "text/x-python",
   "name": "python",
   "nbconvert_exporter": "python",
   "pygments_lexer": "ipython2",
   "version": "2.7.6"
  }
 },
 "nbformat": 4,
 "nbformat_minor": 0
}
