{
 "cells": [
  {
   "cell_type": "code",
   "execution_count": 82,
   "metadata": {
    "collapsed": true
   },
   "outputs": [],
   "source": [
    "import pandas as pd"
   ]
  },
  {
   "cell_type": "code",
   "execution_count": 83,
   "outputs": [],
   "source": [
    "DataUrl = 'https://raw.githubusercontent.com/Datamanim/pandas/main/chipo.csv'\n",
    "df = pd.read_csv(DataUrl)"
   ],
   "metadata": {
    "collapsed": false
   }
  },
  {
   "cell_type": "code",
   "execution_count": 84,
   "outputs": [
    {
     "data": {
      "text/plain": "   order_id  quantity                              item_name  \\\n0         1         1           Chips and Fresh Tomato Salsa   \n1         1         1                                   Izze   \n2         1         1                       Nantucket Nectar   \n3         1         1  Chips and Tomatillo-Green Chili Salsa   \n4         2         2                           Chicken Bowl   \n\n                                  choice_description item_price  \n0                                                NaN     $2.39   \n1                                       [Clementine]     $3.39   \n2                                            [Apple]     $3.39   \n3                                                NaN     $2.39   \n4  [Tomatillo-Red Chili Salsa (Hot), [Black Beans...    $16.98   ",
      "text/html": "<div>\n<style scoped>\n    .dataframe tbody tr th:only-of-type {\n        vertical-align: middle;\n    }\n\n    .dataframe tbody tr th {\n        vertical-align: top;\n    }\n\n    .dataframe thead th {\n        text-align: right;\n    }\n</style>\n<table border=\"1\" class=\"dataframe\">\n  <thead>\n    <tr style=\"text-align: right;\">\n      <th></th>\n      <th>order_id</th>\n      <th>quantity</th>\n      <th>item_name</th>\n      <th>choice_description</th>\n      <th>item_price</th>\n    </tr>\n  </thead>\n  <tbody>\n    <tr>\n      <th>0</th>\n      <td>1</td>\n      <td>1</td>\n      <td>Chips and Fresh Tomato Salsa</td>\n      <td>NaN</td>\n      <td>$2.39</td>\n    </tr>\n    <tr>\n      <th>1</th>\n      <td>1</td>\n      <td>1</td>\n      <td>Izze</td>\n      <td>[Clementine]</td>\n      <td>$3.39</td>\n    </tr>\n    <tr>\n      <th>2</th>\n      <td>1</td>\n      <td>1</td>\n      <td>Nantucket Nectar</td>\n      <td>[Apple]</td>\n      <td>$3.39</td>\n    </tr>\n    <tr>\n      <th>3</th>\n      <td>1</td>\n      <td>1</td>\n      <td>Chips and Tomatillo-Green Chili Salsa</td>\n      <td>NaN</td>\n      <td>$2.39</td>\n    </tr>\n    <tr>\n      <th>4</th>\n      <td>2</td>\n      <td>2</td>\n      <td>Chicken Bowl</td>\n      <td>[Tomatillo-Red Chili Salsa (Hot), [Black Beans...</td>\n      <td>$16.98</td>\n    </tr>\n  </tbody>\n</table>\n</div>"
     },
     "execution_count": 84,
     "metadata": {},
     "output_type": "execute_result"
    }
   ],
   "source": [
    "df.head()"
   ],
   "metadata": {
    "collapsed": false
   }
  },
  {
   "cell_type": "code",
   "execution_count": 85,
   "outputs": [
    {
     "name": "stdout",
     "output_type": "stream",
     "text": [
      "<class 'pandas.core.frame.DataFrame'>\n",
      "RangeIndex: 4622 entries, 0 to 4621\n",
      "Data columns (total 5 columns):\n",
      " #   Column              Non-Null Count  Dtype \n",
      "---  ------              --------------  ----- \n",
      " 0   order_id            4622 non-null   int64 \n",
      " 1   quantity            4622 non-null   int64 \n",
      " 2   item_name           4622 non-null   object\n",
      " 3   choice_description  3376 non-null   object\n",
      " 4   item_price          4622 non-null   object\n",
      "dtypes: int64(2), object(3)\n",
      "memory usage: 180.7+ KB\n"
     ]
    }
   ],
   "source": [
    "df.info()"
   ],
   "metadata": {
    "collapsed": false
   }
  },
  {
   "cell_type": "code",
   "execution_count": 86,
   "outputs": [
    {
     "data": {
      "text/plain": "          order_id     quantity\ncount  4622.000000  4622.000000\nmean    927.254868     1.075725\nstd     528.890796     0.410186\nmin       1.000000     1.000000\n25%     477.250000     1.000000\n50%     926.000000     1.000000\n75%    1393.000000     1.000000\nmax    1834.000000    15.000000",
      "text/html": "<div>\n<style scoped>\n    .dataframe tbody tr th:only-of-type {\n        vertical-align: middle;\n    }\n\n    .dataframe tbody tr th {\n        vertical-align: top;\n    }\n\n    .dataframe thead th {\n        text-align: right;\n    }\n</style>\n<table border=\"1\" class=\"dataframe\">\n  <thead>\n    <tr style=\"text-align: right;\">\n      <th></th>\n      <th>order_id</th>\n      <th>quantity</th>\n    </tr>\n  </thead>\n  <tbody>\n    <tr>\n      <th>count</th>\n      <td>4622.000000</td>\n      <td>4622.000000</td>\n    </tr>\n    <tr>\n      <th>mean</th>\n      <td>927.254868</td>\n      <td>1.075725</td>\n    </tr>\n    <tr>\n      <th>std</th>\n      <td>528.890796</td>\n      <td>0.410186</td>\n    </tr>\n    <tr>\n      <th>min</th>\n      <td>1.000000</td>\n      <td>1.000000</td>\n    </tr>\n    <tr>\n      <th>25%</th>\n      <td>477.250000</td>\n      <td>1.000000</td>\n    </tr>\n    <tr>\n      <th>50%</th>\n      <td>926.000000</td>\n      <td>1.000000</td>\n    </tr>\n    <tr>\n      <th>75%</th>\n      <td>1393.000000</td>\n      <td>1.000000</td>\n    </tr>\n    <tr>\n      <th>max</th>\n      <td>1834.000000</td>\n      <td>15.000000</td>\n    </tr>\n  </tbody>\n</table>\n</div>"
     },
     "execution_count": 86,
     "metadata": {},
     "output_type": "execute_result"
    }
   ],
   "source": [
    "df.describe()"
   ],
   "metadata": {
    "collapsed": false
   }
  },
  {
   "cell_type": "code",
   "execution_count": 87,
   "outputs": [
    {
     "data": {
      "text/plain": "     order_id  quantity          item_name  \\\n409       178         3       Chicken Bowl   \n445       193         3               Bowl   \n689       284         3  Canned Soft Drink   \n818       338         3      Bottled Water   \n850       350         3  Canned Soft Drink   \n\n                                    choice_description item_price  \n409  [[Fresh Tomato Salsa (Mild), Tomatillo-Green C...    $32.94   \n445  [Braised Carnitas, Pinto Beans, [Sour Cream, C...    $22.20   \n689                                        [Diet Coke]     $3.75   \n818                                                NaN     $3.27   \n850                                           [Sprite]     $3.75   ",
      "text/html": "<div>\n<style scoped>\n    .dataframe tbody tr th:only-of-type {\n        vertical-align: middle;\n    }\n\n    .dataframe tbody tr th {\n        vertical-align: top;\n    }\n\n    .dataframe thead th {\n        text-align: right;\n    }\n</style>\n<table border=\"1\" class=\"dataframe\">\n  <thead>\n    <tr style=\"text-align: right;\">\n      <th></th>\n      <th>order_id</th>\n      <th>quantity</th>\n      <th>item_name</th>\n      <th>choice_description</th>\n      <th>item_price</th>\n    </tr>\n  </thead>\n  <tbody>\n    <tr>\n      <th>409</th>\n      <td>178</td>\n      <td>3</td>\n      <td>Chicken Bowl</td>\n      <td>[[Fresh Tomato Salsa (Mild), Tomatillo-Green C...</td>\n      <td>$32.94</td>\n    </tr>\n    <tr>\n      <th>445</th>\n      <td>193</td>\n      <td>3</td>\n      <td>Bowl</td>\n      <td>[Braised Carnitas, Pinto Beans, [Sour Cream, C...</td>\n      <td>$22.20</td>\n    </tr>\n    <tr>\n      <th>689</th>\n      <td>284</td>\n      <td>3</td>\n      <td>Canned Soft Drink</td>\n      <td>[Diet Coke]</td>\n      <td>$3.75</td>\n    </tr>\n    <tr>\n      <th>818</th>\n      <td>338</td>\n      <td>3</td>\n      <td>Bottled Water</td>\n      <td>NaN</td>\n      <td>$3.27</td>\n    </tr>\n    <tr>\n      <th>850</th>\n      <td>350</td>\n      <td>3</td>\n      <td>Canned Soft Drink</td>\n      <td>[Sprite]</td>\n      <td>$3.75</td>\n    </tr>\n  </tbody>\n</table>\n</div>"
     },
     "execution_count": 87,
     "metadata": {},
     "output_type": "execute_result"
    }
   ],
   "source": [
    "# quantity컬럼 값이 3인 데이터를 추출하여 첫 5행을 출력하라\n",
    "df[df['quantity'] == 3].head()"
   ],
   "metadata": {
    "collapsed": false
   }
  },
  {
   "cell_type": "code",
   "execution_count": 88,
   "outputs": [
    {
     "data": {
      "text/plain": "     order_id  quantity          item_name  \\\n409       178         3       Chicken Bowl   \n445       193         3               Bowl   \n689       284         3  Canned Soft Drink   \n818       338         3      Bottled Water   \n850       350         3  Canned Soft Drink   \n\n                                    choice_description item_price  \n409  [[Fresh Tomato Salsa (Mild), Tomatillo-Green C...    $32.94   \n445  [Braised Carnitas, Pinto Beans, [Sour Cream, C...    $22.20   \n689                                        [Diet Coke]     $3.75   \n818                                                NaN     $3.27   \n850                                           [Sprite]     $3.75   ",
      "text/html": "<div>\n<style scoped>\n    .dataframe tbody tr th:only-of-type {\n        vertical-align: middle;\n    }\n\n    .dataframe tbody tr th {\n        vertical-align: top;\n    }\n\n    .dataframe thead th {\n        text-align: right;\n    }\n</style>\n<table border=\"1\" class=\"dataframe\">\n  <thead>\n    <tr style=\"text-align: right;\">\n      <th></th>\n      <th>order_id</th>\n      <th>quantity</th>\n      <th>item_name</th>\n      <th>choice_description</th>\n      <th>item_price</th>\n    </tr>\n  </thead>\n  <tbody>\n    <tr>\n      <th>409</th>\n      <td>178</td>\n      <td>3</td>\n      <td>Chicken Bowl</td>\n      <td>[[Fresh Tomato Salsa (Mild), Tomatillo-Green C...</td>\n      <td>$32.94</td>\n    </tr>\n    <tr>\n      <th>445</th>\n      <td>193</td>\n      <td>3</td>\n      <td>Bowl</td>\n      <td>[Braised Carnitas, Pinto Beans, [Sour Cream, C...</td>\n      <td>$22.20</td>\n    </tr>\n    <tr>\n      <th>689</th>\n      <td>284</td>\n      <td>3</td>\n      <td>Canned Soft Drink</td>\n      <td>[Diet Coke]</td>\n      <td>$3.75</td>\n    </tr>\n    <tr>\n      <th>818</th>\n      <td>338</td>\n      <td>3</td>\n      <td>Bottled Water</td>\n      <td>NaN</td>\n      <td>$3.27</td>\n    </tr>\n    <tr>\n      <th>850</th>\n      <td>350</td>\n      <td>3</td>\n      <td>Canned Soft Drink</td>\n      <td>[Sprite]</td>\n      <td>$3.75</td>\n    </tr>\n  </tbody>\n</table>\n</div>"
     },
     "execution_count": 88,
     "metadata": {},
     "output_type": "execute_result"
    }
   ],
   "source": [
    "df.loc[df['quantity']==3].head()"
   ],
   "metadata": {
    "collapsed": false
   }
  },
  {
   "cell_type": "code",
   "execution_count": 89,
   "outputs": [],
   "source": [
    "# quantity컬럼 값이 3인 데이터를 추출하여 index를 0부터 정렬하고 첫 5행을 출력하라\n"
   ],
   "metadata": {
    "collapsed": false
   }
  },
  {
   "cell_type": "markdown",
   "source": [],
   "metadata": {
    "collapsed": false
   }
  },
  {
   "cell_type": "code",
   "execution_count": 90,
   "outputs": [
    {
     "data": {
      "text/plain": "   order_id  quantity          item_name  \\\n0       178         3       Chicken Bowl   \n1       193         3               Bowl   \n2       284         3  Canned Soft Drink   \n3       338         3      Bottled Water   \n4       350         3  Canned Soft Drink   \n\n                                  choice_description item_price  \n0  [[Fresh Tomato Salsa (Mild), Tomatillo-Green C...    $32.94   \n1  [Braised Carnitas, Pinto Beans, [Sour Cream, C...    $22.20   \n2                                        [Diet Coke]     $3.75   \n3                                                NaN     $3.27   \n4                                           [Sprite]     $3.75   ",
      "text/html": "<div>\n<style scoped>\n    .dataframe tbody tr th:only-of-type {\n        vertical-align: middle;\n    }\n\n    .dataframe tbody tr th {\n        vertical-align: top;\n    }\n\n    .dataframe thead th {\n        text-align: right;\n    }\n</style>\n<table border=\"1\" class=\"dataframe\">\n  <thead>\n    <tr style=\"text-align: right;\">\n      <th></th>\n      <th>order_id</th>\n      <th>quantity</th>\n      <th>item_name</th>\n      <th>choice_description</th>\n      <th>item_price</th>\n    </tr>\n  </thead>\n  <tbody>\n    <tr>\n      <th>0</th>\n      <td>178</td>\n      <td>3</td>\n      <td>Chicken Bowl</td>\n      <td>[[Fresh Tomato Salsa (Mild), Tomatillo-Green C...</td>\n      <td>$32.94</td>\n    </tr>\n    <tr>\n      <th>1</th>\n      <td>193</td>\n      <td>3</td>\n      <td>Bowl</td>\n      <td>[Braised Carnitas, Pinto Beans, [Sour Cream, C...</td>\n      <td>$22.20</td>\n    </tr>\n    <tr>\n      <th>2</th>\n      <td>284</td>\n      <td>3</td>\n      <td>Canned Soft Drink</td>\n      <td>[Diet Coke]</td>\n      <td>$3.75</td>\n    </tr>\n    <tr>\n      <th>3</th>\n      <td>338</td>\n      <td>3</td>\n      <td>Bottled Water</td>\n      <td>NaN</td>\n      <td>$3.27</td>\n    </tr>\n    <tr>\n      <th>4</th>\n      <td>350</td>\n      <td>3</td>\n      <td>Canned Soft Drink</td>\n      <td>[Sprite]</td>\n      <td>$3.75</td>\n    </tr>\n  </tbody>\n</table>\n</div>"
     },
     "execution_count": 90,
     "metadata": {},
     "output_type": "execute_result"
    }
   ],
   "source": [
    "df.loc[df['quantity']==3].reset_index(drop=True).head()"
   ],
   "metadata": {
    "collapsed": false
   }
  },
  {
   "cell_type": "code",
   "execution_count": 91,
   "outputs": [
    {
     "name": "stdout",
     "output_type": "stream",
     "text": [
      "      quantity item_price\n",
      "0            1     $2.39 \n",
      "1            1     $3.39 \n",
      "2            1     $3.39 \n",
      "3            1     $2.39 \n",
      "4            2    $16.98 \n",
      "...        ...        ...\n",
      "4617         1    $11.75 \n",
      "4618         1    $11.75 \n",
      "4619         1    $11.25 \n",
      "4620         1     $8.75 \n",
      "4621         1     $8.75 \n",
      "\n",
      "[4622 rows x 2 columns]\n"
     ]
    }
   ],
   "source": [
    "# quantity , item_price 두개의 컬럼으로 구성된 새로운 데이터 프레임을 정의하라\n",
    "print(df[[\"quantity\", \"item_price\"]].copy())"
   ],
   "metadata": {
    "collapsed": false
   }
  },
  {
   "cell_type": "code",
   "execution_count": 92,
   "outputs": [],
   "source": [
    "# item_price 컬럼의 달러표시 문자를 제거하고 float 타입으로 저장하여 new_price 컬럼에 저장하라"
   ],
   "metadata": {
    "collapsed": false
   }
  },
  {
   "cell_type": "code",
   "execution_count": 93,
   "outputs": [
    {
     "name": "stdout",
     "output_type": "stream",
     "text": [
      "      order_id  quantity                              item_name  \\\n",
      "0            1         1           Chips and Fresh Tomato Salsa   \n",
      "1            1         1                                   Izze   \n",
      "2            1         1                       Nantucket Nectar   \n",
      "3            1         1  Chips and Tomatillo-Green Chili Salsa   \n",
      "4            2         2                           Chicken Bowl   \n",
      "...        ...       ...                                    ...   \n",
      "4617      1833         1                          Steak Burrito   \n",
      "4618      1833         1                          Steak Burrito   \n",
      "4619      1834         1                     Chicken Salad Bowl   \n",
      "4620      1834         1                     Chicken Salad Bowl   \n",
      "4621      1834         1                     Chicken Salad Bowl   \n",
      "\n",
      "                                     choice_description item_price  new_price  \n",
      "0                                                   NaN     $2.39        2.39  \n",
      "1                                          [Clementine]     $3.39        3.39  \n",
      "2                                               [Apple]     $3.39        3.39  \n",
      "3                                                   NaN     $2.39        2.39  \n",
      "4     [Tomatillo-Red Chili Salsa (Hot), [Black Beans...    $16.98       16.98  \n",
      "...                                                 ...        ...        ...  \n",
      "4617  [Fresh Tomato Salsa, [Rice, Black Beans, Sour ...    $11.75       11.75  \n",
      "4618  [Fresh Tomato Salsa, [Rice, Sour Cream, Cheese...    $11.75       11.75  \n",
      "4619  [Fresh Tomato Salsa, [Fajita Vegetables, Pinto...    $11.25       11.25  \n",
      "4620  [Fresh Tomato Salsa, [Fajita Vegetables, Lettu...     $8.75        8.75  \n",
      "4621  [Fresh Tomato Salsa, [Fajita Vegetables, Pinto...     $8.75        8.75  \n",
      "\n",
      "[4622 rows x 6 columns]\n",
      "<class 'pandas.core.frame.DataFrame'>\n",
      "RangeIndex: 4622 entries, 0 to 4621\n",
      "Data columns (total 6 columns):\n",
      " #   Column              Non-Null Count  Dtype  \n",
      "---  ------              --------------  -----  \n",
      " 0   order_id            4622 non-null   int64  \n",
      " 1   quantity            4622 non-null   int64  \n",
      " 2   item_name           4622 non-null   object \n",
      " 3   choice_description  3376 non-null   object \n",
      " 4   item_price          4622 non-null   object \n",
      " 5   new_price           4622 non-null   float64\n",
      "dtypes: float64(1), int64(2), object(3)\n",
      "memory usage: 216.8+ KB\n",
      "None\n"
     ]
    }
   ],
   "source": [
    "df[\"new_price\"] = df[\"item_price\"].str[1:].astype(float)\n",
    "print(df)\n",
    "print(df.info())"
   ],
   "metadata": {
    "collapsed": false
   }
  },
  {
   "cell_type": "code",
   "execution_count": 94,
   "outputs": [
    {
     "name": "stdout",
     "output_type": "stream",
     "text": [
      "1652\n",
      "1652\n"
     ]
    }
   ],
   "source": [
    "# new_price 컬럼이 5이하의 값을 가지는 데이터프레임을 추출하고, 전체 갯수를 구하여라\n",
    "print(df.loc[df['new_price'] <= 5].shape[0])\n",
    "print(len(df.loc[df['new_price'] <= 5]))"
   ],
   "metadata": {
    "collapsed": false
   }
  },
  {
   "cell_type": "code",
   "execution_count": 95,
   "outputs": [
    {
     "name": "stdout",
     "output_type": "stream",
     "text": [
      "110\n",
      "     order_id  quantity           item_name  \\\n",
      "0          20         1  Chicken Salad Bowl   \n",
      "1          60         2  Chicken Salad Bowl   \n",
      "2          94         2  Chicken Salad Bowl   \n",
      "3         111         1  Chicken Salad Bowl   \n",
      "4         137         2  Chicken Salad Bowl   \n",
      "..        ...       ...                 ...   \n",
      "105      1813         2  Chicken Salad Bowl   \n",
      "106      1822         1  Chicken Salad Bowl   \n",
      "107      1834         1  Chicken Salad Bowl   \n",
      "108      1834         1  Chicken Salad Bowl   \n",
      "109      1834         1  Chicken Salad Bowl   \n",
      "\n",
      "                                    choice_description item_price  new_price  \n",
      "0    [Fresh Tomato Salsa, [Fajita Vegetables, Pinto...     $8.75        8.75  \n",
      "1    [Tomatillo Green Chili Salsa, [Sour Cream, Che...    $22.50       22.50  \n",
      "2    [Fresh Tomato Salsa, [Fajita Vegetables, Pinto...    $22.50       22.50  \n",
      "3    [Fresh Tomato Salsa, [Fajita Vegetables, Rice,...     $8.75        8.75  \n",
      "4              [Fresh Tomato Salsa, Fajita Vegetables]    $17.50       17.50  \n",
      "..                                                 ...        ...        ...  \n",
      "105  [Fresh Tomato Salsa, [Fajita Vegetables, Pinto...    $17.50       17.50  \n",
      "106  [Fresh Tomato Salsa, [Black Beans, Cheese, Gua...    $11.25       11.25  \n",
      "107  [Fresh Tomato Salsa, [Fajita Vegetables, Pinto...    $11.25       11.25  \n",
      "108  [Fresh Tomato Salsa, [Fajita Vegetables, Lettu...     $8.75        8.75  \n",
      "109  [Fresh Tomato Salsa, [Fajita Vegetables, Pinto...     $8.75        8.75  \n",
      "\n",
      "[110 rows x 6 columns]\n"
     ]
    }
   ],
   "source": [
    "# item_name명이 Chicken Salad Bowl 인 데이터 프레임을 추출하라고 index 값을 초기화 하여라\n",
    "af = df.loc[df['item_name'] == 'Chicken Salad Bowl']\n",
    "print(len(af))\n",
    "print(af.reset_index(drop=True))"
   ],
   "metadata": {
    "collapsed": false
   }
  },
  {
   "cell_type": "code",
   "execution_count": 96,
   "outputs": [
    {
     "name": "stdout",
     "output_type": "stream",
     "text": [
      "56\n",
      "     order_id  quantity           item_name  \\\n",
      "44         20         1  Chicken Salad Bowl   \n",
      "256       111         1  Chicken Salad Bowl   \n",
      "526       220         1  Chicken Salad Bowl   \n",
      "528       221         1  Chicken Salad Bowl   \n",
      "529       221         1  Chicken Salad Bowl   \n",
      "\n",
      "                                    choice_description item_price  new_price  \n",
      "44   [Fresh Tomato Salsa, [Fajita Vegetables, Pinto...     $8.75        8.75  \n",
      "256  [Fresh Tomato Salsa, [Fajita Vegetables, Rice,...     $8.75        8.75  \n",
      "526  [Roasted Chili Corn Salsa, [Black Beans, Sour ...     $8.75        8.75  \n",
      "528  [Tomatillo Green Chili Salsa, [Fajita Vegetabl...     $8.75        8.75  \n",
      "529  [Tomatillo Green Chili Salsa, [Fajita Vegetabl...     $8.75        8.75  \n"
     ]
    }
   ],
   "source": [
    "# new_price값이 9 이하이고 item_name 값이 Chicken Salad Bowl 인 데이터 프레임을 추출하라\n",
    "af = df.loc[(df['item_name'] == 'Chicken Salad Bowl') & (df['new_price'] <= 9)]\n",
    "print(len(af))\n",
    "print(af.head())\n"
   ],
   "metadata": {
    "collapsed": false
   }
  },
  {
   "cell_type": "code",
   "execution_count": 97,
   "outputs": [
    {
     "name": "stdout",
     "output_type": "stream",
     "text": [
      "   order_id  quantity      item_name choice_description item_price  new_price\n",
      "0       471         1  Bottled Water                NaN     $1.09        1.09\n",
      "1       338         1    Canned Soda        [Coca Cola]     $1.09        1.09\n",
      "2      1575         1    Canned Soda       [Dr. Pepper]     $1.09        1.09\n",
      "3        47         1    Canned Soda       [Dr. Pepper]     $1.09        1.09\n",
      "4      1014         1    Canned Soda        [Coca Cola]     $1.09        1.09\n"
     ]
    }
   ],
   "source": [
    "# df의 new_price 컬럼 값에 따라 오름차순으로 정리하고 index를 초기화 하여라\n",
    "print(df.sort_values(\"new_price\", ascending=True).reset_index(drop=True).head())"
   ],
   "metadata": {
    "collapsed": false
   }
  },
  {
   "cell_type": "code",
   "execution_count": 98,
   "outputs": [
    {
     "data": {
      "text/plain": "      order_id  quantity                              item_name  \\\n0            1         1           Chips and Fresh Tomato Salsa   \n3            1         1  Chips and Tomatillo-Green Chili Salsa   \n6            3         1                          Side of Chips   \n10           5         1                    Chips and Guacamole   \n14           7         1                    Chips and Guacamole   \n...        ...       ...                                    ...   \n4596      1826         1                    Chips and Guacamole   \n4600      1827         1                    Chips and Guacamole   \n4605      1828         1                    Chips and Guacamole   \n4613      1831         1                                  Chips   \n4616      1832         1                    Chips and Guacamole   \n\n     choice_description item_price  new_price  \n0                   NaN     $2.39        2.39  \n3                   NaN     $2.39        2.39  \n6                   NaN     $1.69        1.69  \n10                  NaN     $4.45        4.45  \n14                  NaN     $4.45        4.45  \n...                 ...        ...        ...  \n4596                NaN     $4.45        4.45  \n4600                NaN     $4.45        4.45  \n4605                NaN     $4.45        4.45  \n4613                NaN     $2.15        2.15  \n4616                NaN     $4.45        4.45  \n\n[1084 rows x 6 columns]",
      "text/html": "<div>\n<style scoped>\n    .dataframe tbody tr th:only-of-type {\n        vertical-align: middle;\n    }\n\n    .dataframe tbody tr th {\n        vertical-align: top;\n    }\n\n    .dataframe thead th {\n        text-align: right;\n    }\n</style>\n<table border=\"1\" class=\"dataframe\">\n  <thead>\n    <tr style=\"text-align: right;\">\n      <th></th>\n      <th>order_id</th>\n      <th>quantity</th>\n      <th>item_name</th>\n      <th>choice_description</th>\n      <th>item_price</th>\n      <th>new_price</th>\n    </tr>\n  </thead>\n  <tbody>\n    <tr>\n      <th>0</th>\n      <td>1</td>\n      <td>1</td>\n      <td>Chips and Fresh Tomato Salsa</td>\n      <td>NaN</td>\n      <td>$2.39</td>\n      <td>2.39</td>\n    </tr>\n    <tr>\n      <th>3</th>\n      <td>1</td>\n      <td>1</td>\n      <td>Chips and Tomatillo-Green Chili Salsa</td>\n      <td>NaN</td>\n      <td>$2.39</td>\n      <td>2.39</td>\n    </tr>\n    <tr>\n      <th>6</th>\n      <td>3</td>\n      <td>1</td>\n      <td>Side of Chips</td>\n      <td>NaN</td>\n      <td>$1.69</td>\n      <td>1.69</td>\n    </tr>\n    <tr>\n      <th>10</th>\n      <td>5</td>\n      <td>1</td>\n      <td>Chips and Guacamole</td>\n      <td>NaN</td>\n      <td>$4.45</td>\n      <td>4.45</td>\n    </tr>\n    <tr>\n      <th>14</th>\n      <td>7</td>\n      <td>1</td>\n      <td>Chips and Guacamole</td>\n      <td>NaN</td>\n      <td>$4.45</td>\n      <td>4.45</td>\n    </tr>\n    <tr>\n      <th>...</th>\n      <td>...</td>\n      <td>...</td>\n      <td>...</td>\n      <td>...</td>\n      <td>...</td>\n      <td>...</td>\n    </tr>\n    <tr>\n      <th>4596</th>\n      <td>1826</td>\n      <td>1</td>\n      <td>Chips and Guacamole</td>\n      <td>NaN</td>\n      <td>$4.45</td>\n      <td>4.45</td>\n    </tr>\n    <tr>\n      <th>4600</th>\n      <td>1827</td>\n      <td>1</td>\n      <td>Chips and Guacamole</td>\n      <td>NaN</td>\n      <td>$4.45</td>\n      <td>4.45</td>\n    </tr>\n    <tr>\n      <th>4605</th>\n      <td>1828</td>\n      <td>1</td>\n      <td>Chips and Guacamole</td>\n      <td>NaN</td>\n      <td>$4.45</td>\n      <td>4.45</td>\n    </tr>\n    <tr>\n      <th>4613</th>\n      <td>1831</td>\n      <td>1</td>\n      <td>Chips</td>\n      <td>NaN</td>\n      <td>$2.15</td>\n      <td>2.15</td>\n    </tr>\n    <tr>\n      <th>4616</th>\n      <td>1832</td>\n      <td>1</td>\n      <td>Chips and Guacamole</td>\n      <td>NaN</td>\n      <td>$4.45</td>\n      <td>4.45</td>\n    </tr>\n  </tbody>\n</table>\n<p>1084 rows × 6 columns</p>\n</div>"
     },
     "execution_count": 98,
     "metadata": {},
     "output_type": "execute_result"
    }
   ],
   "source": [
    "#df의 item_name 컬럼 값중 Chips 포함하는 경우의 데이터를 출력하라\n",
    "df.loc[df['item_name'].str.contains(\"Chips\")]\n"
   ],
   "metadata": {
    "collapsed": false
   }
  },
  {
   "cell_type": "code",
   "execution_count": 99,
   "outputs": [
    {
     "name": "stdout",
     "output_type": "stream",
     "text": [
      "      order_id                              item_name item_price\n",
      "0            1           Chips and Fresh Tomato Salsa     $2.39 \n",
      "1            1                                   Izze     $3.39 \n",
      "2            1                       Nantucket Nectar     $3.39 \n",
      "3            1  Chips and Tomatillo-Green Chili Salsa     $2.39 \n",
      "4            2                           Chicken Bowl    $16.98 \n",
      "...        ...                                    ...        ...\n",
      "4617      1833                          Steak Burrito    $11.75 \n",
      "4618      1833                          Steak Burrito    $11.75 \n",
      "4619      1834                     Chicken Salad Bowl    $11.25 \n",
      "4620      1834                     Chicken Salad Bowl     $8.75 \n",
      "4621      1834                     Chicken Salad Bowl     $8.75 \n",
      "\n",
      "[4622 rows x 3 columns]\n"
     ]
    }
   ],
   "source": [
    "# df의 짝수번째 컬럼만을 포함하는 데이터프레임을 출력하라\n",
    "print(df.loc[:,::2])"
   ],
   "metadata": {
    "collapsed": false
   }
  },
  {
   "cell_type": "code",
   "execution_count": 100,
   "outputs": [
    {
     "name": "stdout",
     "output_type": "stream",
     "text": [
      "   order_id  quantity                     item_name  \\\n",
      "0      1443        15  Chips and Fresh Tomato Salsa   \n",
      "1      1398         3                 Carnitas Bowl   \n",
      "2       511         4               Chicken Burrito   \n",
      "3      1443         4               Chicken Burrito   \n",
      "4      1443         3                Veggie Burrito   \n",
      "\n",
      "                                  choice_description item_price  new_price  \n",
      "0                                                NaN    $44.25       44.25  \n",
      "1  [Roasted Chili Corn Salsa, [Fajita Vegetables,...    $35.25       35.25  \n",
      "2  [Fresh Tomato Salsa, [Fajita Vegetables, Rice,...    $35.00       35.00  \n",
      "3  [Fresh Tomato Salsa, [Rice, Black Beans, Chees...    $35.00       35.00  \n",
      "4  [Fresh Tomato Salsa, [Fajita Vegetables, Rice,...    $33.75       33.75  \n"
     ]
    }
   ],
   "source": [
    "# df의 new_price 컬럼 값에 따라 내림차순으로 정리하고 index를 초기화 하여라\n",
    "\n",
    "Ans = df.sort_values(\"new_price\", ascending=False).reset_index(drop=True)\n",
    "print(Ans.head())"
   ],
   "metadata": {
    "collapsed": false
   }
  },
  {
   "cell_type": "code",
   "execution_count": 101,
   "outputs": [
    {
     "name": "stdout",
     "output_type": "stream",
     "text": [
      "      order_id  quantity    item_name  \\\n",
      "445        193         3         Bowl   \n",
      "664        276         1  Steak Salad   \n",
      "673        279         1         Bowl   \n",
      "752        311         1  Steak Salad   \n",
      "893        369         1  Steak Salad   \n",
      "3502      1406         1  Steak Salad   \n",
      "\n",
      "                                     choice_description item_price  new_price  \n",
      "445   [Braised Carnitas, Pinto Beans, [Sour Cream, C...    $22.20       22.20  \n",
      "664   [Tomatillo-Red Chili Salsa (Hot), [Black Beans...     $8.99        8.99  \n",
      "673   [Adobo-Marinated and Grilled Steak, [Sour Crea...     $7.40        7.40  \n",
      "752   [Tomatillo-Red Chili Salsa (Hot), [Black Beans...     $8.99        8.99  \n",
      "893   [Fresh Tomato Salsa (Mild), [Rice, Cheese, Sou...     $8.99        8.99  \n",
      "3502                        [[Lettuce, Fajita Veggies]]     $8.69        8.69  \n"
     ]
    }
   ],
   "source": [
    "# df의 item_name 컬럼 값이 Steak Salad 또는 Bowl 인 데이터를 인덱싱하라\n",
    "Ans = df[(df.item_name == 'Steak Salad') | (df.item_name == 'Bowl') ]\n",
    "print(Ans)"
   ],
   "metadata": {
    "collapsed": false
   }
  },
  {
   "cell_type": "code",
   "execution_count": 102,
   "outputs": [
    {
     "name": "stdout",
     "output_type": "stream",
     "text": [
      "     order_id  quantity    item_name  \\\n",
      "445       193         3         Bowl   \n",
      "664       276         1  Steak Salad   \n",
      "\n",
      "                                    choice_description item_price  new_price  \n",
      "445  [Braised Carnitas, Pinto Beans, [Sour Cream, C...    $22.20       22.20  \n",
      "664  [Tomatillo-Red Chili Salsa (Hot), [Black Beans...     $8.99        8.99  \n"
     ]
    }
   ],
   "source": [
    "# df의 item_name 컬럼 값이 Steak Salad 또는 Bowl 인 데이터를 데이터 프레임화 한 후, item_name를 기준으로 중복행이 있으면 제거하되 첫번째 케이스만 남겨라\n",
    "\n",
    "Ans = df[(df.item_name == 'Steak Salad') | (df.item_name == 'Bowl') ]\n",
    "Ans = Ans.drop_duplicates(\"item_name\")\n",
    "print(Ans)"
   ],
   "metadata": {
    "collapsed": false
   }
  },
  {
   "cell_type": "code",
   "execution_count": 103,
   "outputs": [
    {
     "name": "stdout",
     "output_type": "stream",
     "text": [
      "      order_id  quantity    item_name  \\\n",
      "673        279         1         Bowl   \n",
      "3502      1406         1  Steak Salad   \n",
      "\n",
      "                                     choice_description item_price  new_price  \n",
      "673   [Adobo-Marinated and Grilled Steak, [Sour Crea...     $7.40        7.40  \n",
      "3502                        [[Lettuce, Fajita Veggies]]     $8.69        8.69  \n"
     ]
    }
   ],
   "source": [
    "# df의 item_name 컬럼 값이 Steak Salad 또는 Bowl 인 데이터를 데이터 프레임화 한 후, item_name를 기준으로 중복행이 있으면 제거하되 마지막 케이스만 남겨라\n",
    "\n",
    "Ans = df[(df.item_name == 'Steak Salad') | (df.item_name == 'Bowl') ]\n",
    "Ans = Ans.drop_duplicates(\"item_name\", keep='last')\n",
    "print(Ans)\n",
    "#help(Ans.drop_duplicates)"
   ],
   "metadata": {
    "collapsed": false
   }
  },
  {
   "cell_type": "code",
   "execution_count": 104,
   "outputs": [
    {
     "name": "stdout",
     "output_type": "stream",
     "text": [
      "      order_id  quantity           item_name  \\\n",
      "4            2         2        Chicken Bowl   \n",
      "5            3         1        Chicken Bowl   \n",
      "7            4         1       Steak Burrito   \n",
      "8            4         1    Steak Soft Tacos   \n",
      "9            5         1       Steak Burrito   \n",
      "...        ...       ...                 ...   \n",
      "4617      1833         1       Steak Burrito   \n",
      "4618      1833         1       Steak Burrito   \n",
      "4619      1834         1  Chicken Salad Bowl   \n",
      "4620      1834         1  Chicken Salad Bowl   \n",
      "4621      1834         1  Chicken Salad Bowl   \n",
      "\n",
      "                                     choice_description item_price  new_price  \n",
      "4     [Tomatillo-Red Chili Salsa (Hot), [Black Beans...    $16.98       16.98  \n",
      "5     [Fresh Tomato Salsa (Mild), [Rice, Cheese, Sou...    $10.98       10.98  \n",
      "7     [Tomatillo Red Chili Salsa, [Fajita Vegetables...    $11.75       11.75  \n",
      "8     [Tomatillo Green Chili Salsa, [Pinto Beans, Ch...     $9.25        9.25  \n",
      "9     [Fresh Tomato Salsa, [Rice, Black Beans, Pinto...     $9.25        9.25  \n",
      "...                                                 ...        ...        ...  \n",
      "4617  [Fresh Tomato Salsa, [Rice, Black Beans, Sour ...    $11.75       11.75  \n",
      "4618  [Fresh Tomato Salsa, [Rice, Sour Cream, Cheese...    $11.75       11.75  \n",
      "4619  [Fresh Tomato Salsa, [Fajita Vegetables, Pinto...    $11.25       11.25  \n",
      "4620  [Fresh Tomato Salsa, [Fajita Vegetables, Lettu...     $8.75        8.75  \n",
      "4621  [Fresh Tomato Salsa, [Fajita Vegetables, Pinto...     $8.75        8.75  \n",
      "\n",
      "[2890 rows x 6 columns]\n"
     ]
    }
   ],
   "source": [
    "# df의 데이터 중 new_price값이 new_price값의 평균값 이상을 가지는 데이터들을 인덱싱하라\n",
    "\n",
    "Ans = df[df[\"new_price\"] > df[\"new_price\"].mean()]\n",
    "print(Ans)\n"
   ],
   "metadata": {
    "collapsed": false
   }
  },
  {
   "cell_type": "code",
   "execution_count": 105,
   "outputs": [
    {
     "name": "stdout",
     "output_type": "stream",
     "text": [
      "(20, 6)\n",
      "   order_id  quantity                              item_name  \\\n",
      "0         1         1           Chips and Fresh Tomato Salsa   \n",
      "1         1         1                            Fizzy Lizzy   \n",
      "2         1         1                       Nantucket Nectar   \n",
      "3         1         1  Chips and Tomatillo-Green Chili Salsa   \n",
      "4         2         2                           Chicken Bowl   \n",
      "\n",
      "                                  choice_description item_price  new_price  \n",
      "0                                                NaN     $2.39        2.39  \n",
      "1                                       [Clementine]     $3.39        3.39  \n",
      "2                                            [Apple]     $3.39        3.39  \n",
      "3                                                NaN     $2.39        2.39  \n",
      "4  [Tomatillo-Red Chili Salsa (Hot), [Black Beans...    $16.98       16.98  \n"
     ]
    }
   ],
   "source": [
    "# df의 데이터 중 item_name의 값이 Izze 데이터를 Fizzy Lizzy로 수정하라\n",
    "dfc = df.copy()\n",
    "dfc.loc[dfc['item_name'] == 'Izze', 'item_name'] = 'Fizzy Lizzy'\n",
    "\n",
    "print(dfc.loc[dfc['item_name'] == 'Fizzy Lizzy'].shape)\n",
    "print(dfc.head())\n"
   ],
   "metadata": {
    "collapsed": false
   }
  },
  {
   "cell_type": "code",
   "execution_count": 106,
   "outputs": [
    {
     "name": "stdout",
     "output_type": "stream",
     "text": [
      "1246\n"
     ]
    }
   ],
   "source": [
    "# df의 데이터 중 choice_description 값이 NaN 인 데이터의 갯수를 구하여라\n",
    "print(df['choice_description'].isnull().sum())"
   ],
   "metadata": {
    "collapsed": false
   }
  },
  {
   "cell_type": "code",
   "execution_count": 107,
   "outputs": [
    {
     "name": "stdout",
     "output_type": "stream",
     "text": [
      "      order_id  quantity                              item_name  \\\n",
      "0            1         1           Chips and Fresh Tomato Salsa   \n",
      "1            1         1                                   Izze   \n",
      "2            1         1                       Nantucket Nectar   \n",
      "3            1         1  Chips and Tomatillo-Green Chili Salsa   \n",
      "4            2         2                           Chicken Bowl   \n",
      "...        ...       ...                                    ...   \n",
      "4617      1833         1                          Steak Burrito   \n",
      "4618      1833         1                          Steak Burrito   \n",
      "4619      1834         1                     Chicken Salad Bowl   \n",
      "4620      1834         1                     Chicken Salad Bowl   \n",
      "4621      1834         1                     Chicken Salad Bowl   \n",
      "\n",
      "                                     choice_description item_price  new_price  \n",
      "0                                                NoData     $2.39        2.39  \n",
      "1                                          [Clementine]     $3.39        3.39  \n",
      "2                                               [Apple]     $3.39        3.39  \n",
      "3                                                NoData     $2.39        2.39  \n",
      "4     [Tomatillo-Red Chili Salsa (Hot), [Black Beans...    $16.98       16.98  \n",
      "...                                                 ...        ...        ...  \n",
      "4617  [Fresh Tomato Salsa, [Rice, Black Beans, Sour ...    $11.75       11.75  \n",
      "4618  [Fresh Tomato Salsa, [Rice, Sour Cream, Cheese...    $11.75       11.75  \n",
      "4619  [Fresh Tomato Salsa, [Fajita Vegetables, Pinto...    $11.25       11.25  \n",
      "4620  [Fresh Tomato Salsa, [Fajita Vegetables, Lettu...     $8.75        8.75  \n",
      "4621  [Fresh Tomato Salsa, [Fajita Vegetables, Pinto...     $8.75        8.75  \n",
      "\n",
      "[4622 rows x 6 columns]\n"
     ]
    }
   ],
   "source": [
    "# df의 데이터 중 choice_description 값이 NaN 인 데이터를 NoData 값으로 대체하라(loc 이용)\n",
    "#df.loc[df['choice_description'].isnull(), 'choice_description'] = 'NoData'\n",
    "df['choice_description'] = df['choice_description'].fillna('NoData')\n",
    "print(df)"
   ],
   "metadata": {
    "collapsed": false
   }
  },
  {
   "cell_type": "code",
   "execution_count": 108,
   "outputs": [
    {
     "name": "stdout",
     "output_type": "stream",
     "text": [
      "      order_id  quantity             item_name  \\\n",
      "4            2         2          Chicken Bowl   \n",
      "7            4         1         Steak Burrito   \n",
      "9            5         1         Steak Burrito   \n",
      "11           6         1  Chicken Crispy Tacos   \n",
      "12           6         1    Chicken Soft Tacos   \n",
      "...        ...       ...                   ...   \n",
      "4604      1828         1          Chicken Bowl   \n",
      "4608      1829         1        Veggie Burrito   \n",
      "4611      1830         1        Veggie Burrito   \n",
      "4612      1831         1         Carnitas Bowl   \n",
      "4617      1833         1         Steak Burrito   \n",
      "\n",
      "                                     choice_description item_price  new_price  \n",
      "4     [Tomatillo-Red Chili Salsa (Hot), [Black Beans...    $16.98       16.98  \n",
      "7     [Tomatillo Red Chili Salsa, [Fajita Vegetables...    $11.75       11.75  \n",
      "9     [Fresh Tomato Salsa, [Rice, Black Beans, Pinto...     $9.25        9.25  \n",
      "11    [Roasted Chili Corn Salsa, [Fajita Vegetables,...     $8.75        8.75  \n",
      "12    [Roasted Chili Corn Salsa, [Rice, Black Beans,...     $8.75        8.75  \n",
      "...                                                 ...        ...        ...  \n",
      "4604  [Fresh Tomato Salsa, [Rice, Black Beans, Chees...     $8.75        8.75  \n",
      "4608  [Tomatillo Red Chili Salsa, [Fajita Vegetables...    $11.25       11.25  \n",
      "4611  [Tomatillo Green Chili Salsa, [Rice, Fajita Ve...    $11.25       11.25  \n",
      "4612  [Fresh Tomato Salsa, [Fajita Vegetables, Rice,...     $9.25        9.25  \n",
      "4617  [Fresh Tomato Salsa, [Rice, Black Beans, Sour ...    $11.75       11.75  \n",
      "\n",
      "[1353 rows x 6 columns]\n"
     ]
    }
   ],
   "source": [
    "# df의 데이터 중 choice_description 값에 Black이 들어가는 경우를 인덱싱하라\n",
    "Ans = df.loc[df.choice_description.str.contains(\"Black\")]\n",
    "print(Ans)"
   ],
   "metadata": {
    "collapsed": false
   }
  },
  {
   "cell_type": "code",
   "execution_count": 109,
   "outputs": [
    {
     "name": "stdout",
     "output_type": "stream",
     "text": [
      "3900\n"
     ]
    }
   ],
   "source": [
    "# df의 데이터 중 choice_description 값에 Vegetables 들어가지 않는 경우의 갯수를 출력하라\n",
    "Ans = df.loc[df['choice_description'].str.contains('Vegetables') == False]\n",
    "print(len(Ans))"
   ],
   "metadata": {
    "collapsed": false
   }
  },
  {
   "cell_type": "code",
   "execution_count": 110,
   "outputs": [
    {
     "name": "stdout",
     "output_type": "stream",
     "text": [
      "      order_id  quantity         item_name         choice_description  \\\n",
      "2            1         1  Nantucket Nectar                    [Apple]   \n",
      "22          11         1  Nantucket Nectar       [Pomegranate Cherry]   \n",
      "105         46         1  Nantucket Nectar  [Pineapple Orange Banana]   \n",
      "173         77         1  Nantucket Nectar                    [Apple]   \n",
      "205         91         1  Nantucket Nectar             [Peach Orange]   \n",
      "436        189         1  Nantucket Nectar       [Pomegranate Cherry]   \n",
      "601        247         2  Nantucket Nectar  [Pineapple Orange Banana]   \n",
      "925        381         1  Nantucket Nectar       [Pomegranate Cherry]   \n",
      "1356       553         1  Nantucket Nectar       [Pomegranate Cherry]   \n",
      "1585       641         1  Nantucket Nectar             [Peach Orange]   \n",
      "1626       656         1  Nantucket Nectar  [Pineapple Orange Banana]   \n",
      "1706       690         1  Nantucket Nectar                    [Apple]   \n",
      "2162       872         1  Nantucket Nectar  [Pineapple Orange Banana]   \n",
      "2379       947         2  Nantucket Nectar             [Peach Orange]   \n",
      "2381       947         1  Nantucket Nectar                    [Apple]   \n",
      "2430       965         1  Nantucket Nectar       [Pomegranate Cherry]   \n",
      "2653      1053         1  Nantucket Nectar  [Pineapple Orange Banana]   \n",
      "2818      1118         1  Nantucket Nectar                    [Apple]   \n",
      "2838      1128         1  Nantucket Nectar             [Peach Orange]   \n",
      "2853      1133         1  Nantucket Nectar                    [Apple]   \n",
      "2949      1172         1  Nantucket Nectar             [Peach Orange]   \n",
      "3318      1330         1  Nantucket Nectar             [Peach Orange]   \n",
      "3368      1351         1  Nantucket Nectar  [Pineapple Orange Banana]   \n",
      "3570      1433         1  Nantucket Nectar  [Pineapple Orange Banana]   \n",
      "3845      1541         1  Nantucket Nectar             [Peach Orange]   \n",
      "4019      1609         1  Nantucket Nectar  [Pineapple Orange Banana]   \n",
      "4078      1632         1  Nantucket Nectar             [Peach Orange]   \n",
      "\n",
      "     item_price  new_price  \n",
      "2        $3.39        3.39  \n",
      "22       $3.39        3.39  \n",
      "105      $3.39        3.39  \n",
      "173      $3.39        3.39  \n",
      "205      $3.39        3.39  \n",
      "436      $3.39        3.39  \n",
      "601      $6.78        6.78  \n",
      "925      $3.39        3.39  \n",
      "1356     $3.39        3.39  \n",
      "1585     $3.39        3.39  \n",
      "1626     $3.39        3.39  \n",
      "1706     $3.39        3.39  \n",
      "2162     $3.39        3.39  \n",
      "2379     $6.78        6.78  \n",
      "2381     $3.39        3.39  \n",
      "2430     $3.39        3.39  \n",
      "2653     $3.39        3.39  \n",
      "2818     $3.39        3.39  \n",
      "2838     $3.39        3.39  \n",
      "2853     $3.39        3.39  \n",
      "2949     $3.39        3.39  \n",
      "3318     $3.39        3.39  \n",
      "3368     $3.39        3.39  \n",
      "3570     $3.39        3.39  \n",
      "3845     $3.39        3.39  \n",
      "4019     $3.39        3.39  \n",
      "4078     $3.39        3.39  \n"
     ]
    }
   ],
   "source": [
    "# df의 데이터 중 item_name 값이 N으로 시작하는 데이터를 모두 추출하라\n",
    "Ans = df.loc[df['item_name'].str[0] == 'N']\n",
    "Ans = df.loc[df['item_name'].str.startswith('N')]\n",
    "print(Ans)\n"
   ],
   "metadata": {
    "collapsed": false
   }
  },
  {
   "cell_type": "code",
   "execution_count": 111,
   "outputs": [
    {
     "name": "stdout",
     "output_type": "stream",
     "text": [
      "      order_id  quantity                              item_name  \\\n",
      "0            1         1           Chips and Fresh Tomato Salsa   \n",
      "2            1         1                       Nantucket Nectar   \n",
      "3            1         1  Chips and Tomatillo-Green Chili Salsa   \n",
      "8            4         1                       Steak Soft Tacos   \n",
      "10           5         1                    Chips and Guacamole   \n",
      "...        ...       ...                                    ...   \n",
      "4615      1832         1                     Chicken Soft Tacos   \n",
      "4616      1832         1                    Chips and Guacamole   \n",
      "4619      1834         1                     Chicken Salad Bowl   \n",
      "4620      1834         1                     Chicken Salad Bowl   \n",
      "4621      1834         1                     Chicken Salad Bowl   \n",
      "\n",
      "                                     choice_description item_price  new_price  \n",
      "0                                                NoData     $2.39        2.39  \n",
      "2                                               [Apple]     $3.39        3.39  \n",
      "3                                                NoData     $2.39        2.39  \n",
      "8     [Tomatillo Green Chili Salsa, [Pinto Beans, Ch...     $9.25        9.25  \n",
      "10                                               NoData     $4.45        4.45  \n",
      "...                                                 ...        ...        ...  \n",
      "4615   [Fresh Tomato Salsa, [Rice, Cheese, Sour Cream]]     $8.75        8.75  \n",
      "4616                                             NoData     $4.45        4.45  \n",
      "4619  [Fresh Tomato Salsa, [Fajita Vegetables, Pinto...    $11.25       11.25  \n",
      "4620  [Fresh Tomato Salsa, [Fajita Vegetables, Lettu...     $8.75        8.75  \n",
      "4621  [Fresh Tomato Salsa, [Fajita Vegetables, Pinto...     $8.75        8.75  \n",
      "\n",
      "[2373 rows x 6 columns]\n"
     ]
    }
   ],
   "source": [
    "# df의 데이터 중 item_name 값의 단어갯수가 15개 이상인 데이터를 인덱싱하라\n",
    "\n",
    "Ans = df.loc[df['item_name'].str.len() >= 15]\n",
    "print(Ans)"
   ],
   "metadata": {
    "collapsed": false
   }
  },
  {
   "cell_type": "code",
   "execution_count": 112,
   "outputs": [
    {
     "name": "stdout",
     "output_type": "stream",
     "text": [
      "1393\n"
     ]
    }
   ],
   "source": [
    "# df의 데이터 중 new_price값이 lst에 해당하는 경우의 데이터 프레임을 구하고 그 갯수를 출력하라 lst =[1.69, 2.39, 3.39, 4.45, 9.25, 10.98, 11.75, 16.98]\n",
    "lst =[1.69, 2.39, 3.39, 4.45, 9.25, 10.98, 11.75, 16.98]\n",
    "Ans = df.loc[df['new_price'].isin(lst)]\n",
    "print(len(Ans))"
   ],
   "metadata": {
    "collapsed": false
   }
  },
  {
   "cell_type": "markdown",
   "source": [],
   "metadata": {
    "collapsed": false
   }
  }
 ],
 "metadata": {
  "kernelspec": {
   "display_name": "Python 3",
   "language": "python",
   "name": "python3"
  },
  "language_info": {
   "codemirror_mode": {
    "name": "ipython",
    "version": 2
   },
   "file_extension": ".py",
   "mimetype": "text/x-python",
   "name": "python",
   "nbconvert_exporter": "python",
   "pygments_lexer": "ipython2",
   "version": "2.7.6"
  }
 },
 "nbformat": 4,
 "nbformat_minor": 0
}
