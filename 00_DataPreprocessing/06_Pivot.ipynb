{
 "cells": [
  {
   "cell_type": "code",
   "execution_count": 31,
   "metadata": {
    "collapsed": true
   },
   "outputs": [],
   "source": [
    "import pandas as pd\n",
    "\n",
    "df = pd.read_csv('https://raw.githubusercontent.com/Datamanim/pandas/main/under5MortalityRate.csv')"
   ]
  },
  {
   "cell_type": "code",
   "execution_count": 32,
   "outputs": [
    {
     "name": "stdout",
     "output_type": "stream",
     "text": [
      "<class 'pandas.core.frame.DataFrame'>\n",
      "RangeIndex: 29999 entries, 0 to 29998\n",
      "Data columns (total 5 columns):\n",
      " #   Column         Non-Null Count  Dtype \n",
      "---  ------         --------------  ----- \n",
      " 0   Location       29999 non-null  object\n",
      " 1   Period         29999 non-null  int64 \n",
      " 2   Indicator      29999 non-null  object\n",
      " 3   Dim1           29999 non-null  object\n",
      " 4   First Tooltip  29999 non-null  object\n",
      "dtypes: int64(1), object(4)\n",
      "memory usage: 1.1+ MB\n",
      "None\n"
     ]
    }
   ],
   "source": [
    "print(df.info())"
   ],
   "metadata": {
    "collapsed": false
   }
  },
  {
   "cell_type": "code",
   "execution_count": 33,
   "outputs": [
    {
     "name": "stdout",
     "output_type": "stream",
     "text": [
      "      Location  Period                                          Indicator  \\\n",
      "0  Afghanistan    2019  Under-five mortality rate (probability of dyin...   \n",
      "1  Afghanistan    2019  Under-five mortality rate (probability of dyin...   \n",
      "2  Afghanistan    2019  Under-five mortality rate (probability of dyin...   \n",
      "3  Afghanistan    2018  Under-five mortality rate (probability of dyin...   \n",
      "4  Afghanistan    2018  Under-five mortality rate (probability of dyin...   \n",
      "\n",
      "         Dim1        First Tooltip  \n",
      "0  Both sexes  60.27 [47.44-74.62]  \n",
      "1        Male  63.83 [50.04-79.16]  \n",
      "2      Female  56.57 [44.54-70.18]  \n",
      "3  Both sexes  62.54 [50.64-75.41]  \n",
      "4        Male  66.08 [53.41-79.76]  \n"
     ]
    }
   ],
   "source": [
    "print(df.head(5))"
   ],
   "metadata": {
    "collapsed": false
   }
  },
  {
   "cell_type": "code",
   "execution_count": 34,
   "outputs": [
    {
     "name": "stdout",
     "output_type": "stream",
     "text": [
      "      Location  Period        Dim1  First Tooltip\n",
      "0  Afghanistan    2019  Both sexes          60.27\n",
      "1  Afghanistan    2019        Male          63.83\n",
      "2  Afghanistan    2019      Female          56.57\n",
      "3  Afghanistan    2018  Both sexes          62.54\n"
     ]
    }
   ],
   "source": [
    "df.drop('Indicator', axis=1, inplace=True)\n",
    "df['First Tooltip'] = df['First Tooltip'].map(lambda x: float(x.split(\"[\")[0]))\n",
    "\n",
    "print(df.head(4))"
   ],
   "metadata": {
    "collapsed": false
   }
  },
  {
   "cell_type": "code",
   "execution_count": 35,
   "outputs": [
    {
     "name": "stdout",
     "output_type": "stream",
     "text": [
      "      Location  Period        Dim1  First Tooltip\n",
      "0  Afghanistan    2019  Both sexes          60.27\n",
      "3  Afghanistan    2018  Both sexes          62.54\n",
      "6  Afghanistan    2017  Both sexes          64.94\n"
     ]
    }
   ],
   "source": [
    "# 년도가 2015년 이상, Dim1이 Both sexes인 케이스만 추출하라\n",
    "\n",
    "ans = df.loc[(df.Period >= 2015) & (df.Dim1 == 'Both sexes')]\n",
    "print(ans.head(3))"
   ],
   "metadata": {
    "collapsed": false
   }
  },
  {
   "cell_type": "code",
   "execution_count": 36,
   "outputs": [
    {
     "name": "stdout",
     "output_type": "stream",
     "text": [
      "Period                                      2015   2016   2017   2018   2019\n",
      "Location                                                                    \n",
      "Afghanistan                                70.44  67.57  64.94  62.54  60.27\n",
      "Albania                                     9.57   9.42   9.42   9.53   9.68\n",
      "Algeria                                    25.18  24.79  24.32  23.81  23.26\n",
      "Andorra                                     3.53   3.37   3.22   3.09   2.97\n",
      "Angola                                     88.20  84.21  80.62  77.67  74.69\n",
      "...                                          ...    ...    ...    ...    ...\n",
      "Syrian Arab Republic                       23.18  23.27  22.97  22.11  21.53\n",
      "Tajikistan                                 37.75  36.82  35.81  34.80  33.78\n",
      "Thailand                                   10.80  10.32   9.86   9.42   9.01\n",
      "The former Yugoslav Republic of Macedonia  12.97  11.97   9.94   7.83   6.12\n",
      "Timor-Leste                                50.76  49.01  47.27  45.62  44.22\n",
      "\n",
      "[172 rows x 5 columns]\n"
     ]
    }
   ],
   "source": [
    "ans2 = ans.pivot_table(index=\"Location\", columns=\"Period\", values=\"First Tooltip\")\n",
    "print(ans2)"
   ],
   "metadata": {
    "collapsed": false
   }
  },
  {
   "cell_type": "code",
   "execution_count": 53,
   "outputs": [
    {
     "name": "stdout",
     "output_type": "stream",
     "text": [
      "Period            1950        1951        1952        1953\n",
      "Dim1                                                      \n",
      "Both sexes  147.700816  155.537544  157.811094  156.147206\n",
      "Female      140.909796  149.210175  151.516094  150.250882\n",
      "Male        154.151224  161.538246  163.760781  161.742059\n"
     ]
    }
   ],
   "source": [
    "# Dim1에 따른 년도별 사망비율의 평균을 구하라\n",
    "\n",
    "ans = df.pivot_table(index=\"Dim1\", columns=\"Period\", values=\"First Tooltip\", aggfunc=\"mean\")\n",
    "print(ans.iloc[:,:4])"
   ],
   "metadata": {
    "collapsed": false
   }
  }
 ],
 "metadata": {
  "kernelspec": {
   "display_name": "Python 3",
   "language": "python",
   "name": "python3"
  },
  "language_info": {
   "codemirror_mode": {
    "name": "ipython",
    "version": 2
   },
   "file_extension": ".py",
   "mimetype": "text/x-python",
   "name": "python",
   "nbconvert_exporter": "python",
   "pygments_lexer": "ipython2",
   "version": "2.7.6"
  }
 },
 "nbformat": 4,
 "nbformat_minor": 0
}
