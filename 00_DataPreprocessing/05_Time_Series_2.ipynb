{
 "cells": [
  {
   "cell_type": "code",
   "execution_count": 200,
   "metadata": {
    "collapsed": true
   },
   "outputs": [],
   "source": [
    "import pandas as pd"
   ]
  },
  {
   "cell_type": "code",
   "execution_count": 201,
   "outputs": [],
   "source": [
    "df = pd.read_csv('https://raw.githubusercontent.com/Datamanim/pandas/main/seoul_pm.csv')"
   ],
   "metadata": {
    "collapsed": false
   }
  },
  {
   "cell_type": "code",
   "execution_count": 202,
   "outputs": [
    {
     "name": "stdout",
     "output_type": "stream",
     "text": [
      "<class 'pandas.core.frame.DataFrame'>\n",
      "RangeIndex: 1239 entries, 0 to 1238\n",
      "Data columns (total 13 columns):\n",
      " #   Column     Non-Null Count  Dtype  \n",
      "---  ------     --------------  -----  \n",
      " 0   (년-월-일:시)  1239 non-null   object \n",
      " 1   PM10등급     1233 non-null   object \n",
      " 2   PM10       1233 non-null   float64\n",
      " 3   PM2.5등급    1232 non-null   object \n",
      " 4   PM2.5      1232 non-null   float64\n",
      " 5   오존등급       1232 non-null   object \n",
      " 6   오존         1232 non-null   float64\n",
      " 7   이산화질소등급    1232 non-null   object \n",
      " 8   이산화질소      1232 non-null   float64\n",
      " 9   일산화탄소등급    1232 non-null   object \n",
      " 10  일산화탄소      1232 non-null   float64\n",
      " 11  아황산가스등급    1232 non-null   object \n",
      " 12  아황산가스      1232 non-null   float64\n",
      "dtypes: float64(6), object(7)\n",
      "memory usage: 126.0+ KB\n"
     ]
    }
   ],
   "source": [
    "df.info()"
   ],
   "metadata": {
    "collapsed": false
   }
  },
  {
   "cell_type": "code",
   "execution_count": 203,
   "outputs": [
    {
     "data": {
      "text/plain": "(1239, 13)"
     },
     "execution_count": 203,
     "metadata": {},
     "output_type": "execute_result"
    }
   ],
   "source": [
    "df.shape"
   ],
   "metadata": {
    "collapsed": false
   }
  },
  {
   "cell_type": "code",
   "execution_count": 204,
   "outputs": [
    {
     "name": "stdout",
     "output_type": "stream",
     "text": [
      "             PM10        PM2.5           오존        이산화질소        일산화탄소  \\\n",
      "count  1233.00000  1232.000000  1232.000000  1232.000000  1232.000000   \n",
      "mean     70.27575    24.779221     0.033969     0.026808     0.433198   \n",
      "std     111.37555    22.347378     0.017302     0.014998     0.132501   \n",
      "min       3.00000     1.000000     0.002000     0.005000     0.300000   \n",
      "25%      28.00000    13.000000     0.022000     0.016000     0.300000   \n",
      "50%      43.00000    18.000000     0.034000     0.024000     0.400000   \n",
      "75%      66.00000    28.000000     0.043000     0.033000     0.500000   \n",
      "max    1024.00000   172.000000     0.123000     0.098000     1.400000   \n",
      "\n",
      "             아황산가스  \n",
      "count  1232.000000  \n",
      "mean      0.002809  \n",
      "std       0.001100  \n",
      "min       0.001000  \n",
      "25%       0.002000  \n",
      "50%       0.003000  \n",
      "75%       0.003000  \n",
      "max       0.011000  \n"
     ]
    }
   ],
   "source": [
    "print(df.describe())"
   ],
   "metadata": {
    "collapsed": false
   }
  },
  {
   "cell_type": "code",
   "execution_count": 205,
   "outputs": [
    {
     "name": "stdout",
     "output_type": "stream",
     "text": [
      "       (년-월-일:시) PM10등급  PM10 PM2.5등급  PM2.5 오존등급     오존 이산화질소등급  이산화질소  \\\n",
      "0  2021-05-15:15     보통  47.0      보통   19.0   좋음  0.017      좋음  0.023   \n",
      "1  2021-05-15:14     보통  43.0      보통   20.0   좋음  0.024      좋음  0.019   \n",
      "2  2021-05-15:13     보통  34.0      보통   24.0   보통  0.035      좋음  0.017   \n",
      "3  2021-05-15:12     보통  41.0      보통   27.0   보통  0.037      좋음  0.020   \n",
      "4  2021-05-15:11     보통  51.0      보통   34.0   보통  0.033      좋음  0.023   \n",
      "\n",
      "  일산화탄소등급  일산화탄소 아황산가스등급  아황산가스  \n",
      "0      좋음    0.4      좋음  0.003  \n",
      "1      좋음    0.3      좋음  0.003  \n",
      "2      좋음    0.4      좋음  0.004  \n",
      "3      좋음    0.4      좋음  0.004  \n",
      "4      좋음    0.4      좋음  0.005  \n"
     ]
    }
   ],
   "source": [
    "print(df.head())"
   ],
   "metadata": {
    "collapsed": false
   }
  },
  {
   "cell_type": "code",
   "execution_count": 206,
   "outputs": [
    {
     "name": "stdout",
     "output_type": "stream",
     "text": [
      "            (년-월-일:시) PM10등급  PM10 PM2.5등급  PM2.5 오존등급     오존 이산화질소등급  이산화질소  \\\n",
      "0 2021-05-15 15:00:00     보통  47.0      보통   19.0   좋음  0.017      좋음  0.023   \n",
      "1 2021-05-15 14:00:00     보통  43.0      보통   20.0   좋음  0.024      좋음  0.019   \n",
      "2 2021-05-15 13:00:00     보통  34.0      보통   24.0   보통  0.035      좋음  0.017   \n",
      "3 2021-05-15 12:00:00     보통  41.0      보통   27.0   보통  0.037      좋음  0.020   \n",
      "4 2021-05-15 11:00:00     보통  51.0      보통   34.0   보통  0.033      좋음  0.023   \n",
      "\n",
      "  일산화탄소등급  일산화탄소 아황산가스등급  아황산가스            datetime  \n",
      "0      좋음    0.4      좋음  0.003 2021-05-15 15:00:00  \n",
      "1      좋음    0.3      좋음  0.003 2021-05-15 14:00:00  \n",
      "2      좋음    0.4      좋음  0.004 2021-05-15 13:00:00  \n",
      "3      좋음    0.4      좋음  0.004 2021-05-15 12:00:00  \n",
      "4      좋음    0.4      좋음  0.005 2021-05-15 11:00:00  \n"
     ]
    }
   ],
   "source": [
    "\"\"\"\n",
    "Question 76\n",
    "\n",
    "년-월-일:시 컬럼을 pandas에서 인식할 수 있는 datetime 형태로 변경하라. 서울시의 제공데이터의 경우 0시가 24시로 표현된다\n",
    "\"\"\"\n",
    "def change_date(x):\n",
    "    import datetime\n",
    "    x_splits = x.split(\":\")\n",
    "    hour = x_splits[1]\n",
    "    date = x_splits[0]\n",
    "\n",
    "    if hour == '24':\n",
    "        hour = '00:00:00'\n",
    "        FinalDate = pd.to_datetime(date + \" \" + hour) + datetime.timedelta(days = 1)\n",
    "    else:\n",
    "        hour = hour + \":00:00\"\n",
    "        FinalDate = pd.to_datetime(date + \" \" + hour)\n",
    "\n",
    "    return FinalDate\n",
    "\n",
    "df['(년-월-일:시)'] = df['(년-월-일:시)'].apply(change_date)\n",
    "df['datetime'] = df['(년-월-일:시)']\n",
    "ans = df\n",
    "\n",
    "print(df.head())\n"
   ],
   "metadata": {
    "collapsed": false
   }
  },
  {
   "cell_type": "code",
   "execution_count": 207,
   "outputs": [
    {
     "name": "stdout",
     "output_type": "stream",
     "text": [
      "0    Saturday\n",
      "1    Saturday\n",
      "2    Saturday\n",
      "3    Saturday\n",
      "4    Saturday\n",
      "Name: dayName, dtype: object\n"
     ]
    }
   ],
   "source": [
    "\"\"\"\n",
    "Question 77\n",
    "\n",
    "일자별 영어요일 이름을 dayName 컬럼에 저장하라\n",
    "\"\"\"\n",
    "\n",
    "df[\"dayName\"] = df[\"(년-월-일:시)\"].dt.day_name()\n",
    "print(df['dayName'].head(5))"
   ],
   "metadata": {
    "collapsed": false
   }
  },
  {
   "cell_type": "code",
   "execution_count": 208,
   "outputs": [],
   "source": [
    "# 일자별 각 PM10등급의 빈도수를 파악하라\n",
    "#ans = df.groupby(['dayName', 'PM10등급'], as_index=False).size()\n",
    "#print(ans)"
   ],
   "metadata": {
    "collapsed": false
   }
  },
  {
   "cell_type": "code",
   "execution_count": 209,
   "outputs": [],
   "source": [
    "#print(ans.pivot(index='dayName', columns='PM10등급', values='size').fillna(0))"
   ],
   "metadata": {
    "collapsed": false
   }
  },
  {
   "cell_type": "code",
   "execution_count": 210,
   "outputs": [
    {
     "name": "stdout",
     "output_type": "stream",
     "text": [
      "2\n",
      "True\n"
     ]
    }
   ],
   "source": [
    "# 시간이 연속적으로 존재하며 결측치가 없는지 확인하라\n",
    "\n",
    "\n",
    "# 시간을 차분했을 경우 첫 값은 nan, 이후 모든 차분값이 동일하면 연속이라 판단한다.\n",
    "check = len(df['(년-월-일:시)'].diff().unique())\n",
    "if check == 2:\n",
    "    ans = True\n",
    "else:\n",
    "    ans = False\n",
    "\n",
    "print(check)\n",
    "print(ans)"
   ],
   "metadata": {
    "collapsed": false
   }
  },
  {
   "cell_type": "code",
   "execution_count": 211,
   "outputs": [
    {
     "name": "stdout",
     "output_type": "stream",
     "text": [
      "                    PM10등급  PM10 PM2.5등급  PM2.5 오존등급     오존 이산화질소등급  이산화질소  \\\n",
      "(년-월-일:시)                                                                    \n",
      "2021-05-15 15:00:00     보통  47.0      보통   19.0   좋음  0.017      좋음  0.023   \n",
      "2021-05-15 14:00:00     보통  43.0      보통   20.0   좋음  0.024      좋음  0.019   \n",
      "2021-05-15 13:00:00     보통  34.0      보통   24.0   보통  0.035      좋음  0.017   \n",
      "2021-05-15 12:00:00     보통  41.0      보통   27.0   보통  0.037      좋음  0.020   \n",
      "2021-05-15 11:00:00     보통  51.0      보통   34.0   보통  0.033      좋음  0.023   \n",
      "...                    ...   ...     ...    ...  ...    ...     ...    ...   \n",
      "2021-03-25 05:00:00     보통  39.0      보통   18.0   좋음  0.026      좋음  0.025   \n",
      "2021-03-25 04:00:00     보통  34.0      좋음   15.0   좋음  0.017      보통  0.033   \n",
      "2021-03-25 03:00:00     보통  35.0      좋음   13.0   좋음  0.029      좋음  0.025   \n",
      "2021-03-25 02:00:00     보통  35.0      좋음   13.0   보통  0.031      좋음  0.025   \n",
      "2021-03-25 01:00:00     보통  42.0      좋음   13.0   좋음  0.022      보통  0.037   \n",
      "\n",
      "                    일산화탄소등급  일산화탄소 아황산가스등급  아황산가스            datetime  \\\n",
      "(년-월-일:시)                                                               \n",
      "2021-05-15 15:00:00      좋음    0.4      좋음  0.003 2021-05-15 15:00:00   \n",
      "2021-05-15 14:00:00      좋음    0.3      좋음  0.003 2021-05-15 14:00:00   \n",
      "2021-05-15 13:00:00      좋음    0.4      좋음  0.004 2021-05-15 13:00:00   \n",
      "2021-05-15 12:00:00      좋음    0.4      좋음  0.004 2021-05-15 12:00:00   \n",
      "2021-05-15 11:00:00      좋음    0.4      좋음  0.005 2021-05-15 11:00:00   \n",
      "...                     ...    ...     ...    ...                 ...   \n",
      "2021-03-25 05:00:00      좋음    0.4      좋음  0.003 2021-03-25 05:00:00   \n",
      "2021-03-25 04:00:00      좋음    0.4      좋음  0.002 2021-03-25 04:00:00   \n",
      "2021-03-25 03:00:00      좋음    0.4      좋음  0.003 2021-03-25 03:00:00   \n",
      "2021-03-25 02:00:00      좋음    0.3      좋음  0.003 2021-03-25 02:00:00   \n",
      "2021-03-25 01:00:00      좋음    0.4      좋음  0.003 2021-03-25 01:00:00   \n",
      "\n",
      "                      dayName  \n",
      "(년-월-일:시)                      \n",
      "2021-05-15 15:00:00  Saturday  \n",
      "2021-05-15 14:00:00  Saturday  \n",
      "2021-05-15 13:00:00  Saturday  \n",
      "2021-05-15 12:00:00  Saturday  \n",
      "2021-05-15 11:00:00  Saturday  \n",
      "...                       ...  \n",
      "2021-03-25 05:00:00  Thursday  \n",
      "2021-03-25 04:00:00  Thursday  \n",
      "2021-03-25 03:00:00  Thursday  \n",
      "2021-03-25 02:00:00  Thursday  \n",
      "2021-03-25 01:00:00  Thursday  \n",
      "\n",
      "[1239 rows x 14 columns]\n"
     ]
    }
   ],
   "source": [
    "\"\"\"\n",
    "Question 81\n",
    "\n",
    "날짜 컬럼을 index로 만들어라\n",
    "\"\"\"\n",
    "\n",
    "Ans = df.set_index('(년-월-일:시)',inplace=True,drop=True)\n",
    "\n",
    "Ans =df\n",
    "\n",
    "print(Ans)"
   ],
   "metadata": {
    "collapsed": false
   }
  },
  {
   "cell_type": "code",
   "execution_count": 212,
   "outputs": [
    {
     "ename": "TypeError",
     "evalue": "'<=' not supported between instances of 'str' and 'float'",
     "output_type": "error",
     "traceback": [
      "\u001B[0;31m---------------------------------------------------------------------------\u001B[0m",
      "\u001B[0;31mNotImplementedError\u001B[0m                       Traceback (most recent call last)",
      "File \u001B[0;32m~/miniconda3/envs/BigData/lib/python3.10/site-packages/pandas/core/groupby/groupby.py:1490\u001B[0m, in \u001B[0;36mGroupBy._cython_agg_general.<locals>.array_func\u001B[0;34m(values)\u001B[0m\n\u001B[1;32m   1489\u001B[0m \u001B[38;5;28;01mtry\u001B[39;00m:\n\u001B[0;32m-> 1490\u001B[0m     result \u001B[38;5;241m=\u001B[39m \u001B[38;5;28;43mself\u001B[39;49m\u001B[38;5;241;43m.\u001B[39;49m\u001B[43mgrouper\u001B[49m\u001B[38;5;241;43m.\u001B[39;49m\u001B[43m_cython_operation\u001B[49m\u001B[43m(\u001B[49m\n\u001B[1;32m   1491\u001B[0m \u001B[43m        \u001B[49m\u001B[38;5;124;43m\"\u001B[39;49m\u001B[38;5;124;43maggregate\u001B[39;49m\u001B[38;5;124;43m\"\u001B[39;49m\u001B[43m,\u001B[49m\n\u001B[1;32m   1492\u001B[0m \u001B[43m        \u001B[49m\u001B[43mvalues\u001B[49m\u001B[43m,\u001B[49m\n\u001B[1;32m   1493\u001B[0m \u001B[43m        \u001B[49m\u001B[43mhow\u001B[49m\u001B[43m,\u001B[49m\n\u001B[1;32m   1494\u001B[0m \u001B[43m        \u001B[49m\u001B[43maxis\u001B[49m\u001B[38;5;241;43m=\u001B[39;49m\u001B[43mdata\u001B[49m\u001B[38;5;241;43m.\u001B[39;49m\u001B[43mndim\u001B[49m\u001B[43m \u001B[49m\u001B[38;5;241;43m-\u001B[39;49m\u001B[43m \u001B[49m\u001B[38;5;241;43m1\u001B[39;49m\u001B[43m,\u001B[49m\n\u001B[1;32m   1495\u001B[0m \u001B[43m        \u001B[49m\u001B[43mmin_count\u001B[49m\u001B[38;5;241;43m=\u001B[39;49m\u001B[43mmin_count\u001B[49m\u001B[43m,\u001B[49m\n\u001B[1;32m   1496\u001B[0m \u001B[43m        \u001B[49m\u001B[38;5;241;43m*\u001B[39;49m\u001B[38;5;241;43m*\u001B[39;49m\u001B[43mkwargs\u001B[49m\u001B[43m,\u001B[49m\n\u001B[1;32m   1497\u001B[0m \u001B[43m    \u001B[49m\u001B[43m)\u001B[49m\n\u001B[1;32m   1498\u001B[0m \u001B[38;5;28;01mexcept\u001B[39;00m \u001B[38;5;167;01mNotImplementedError\u001B[39;00m:\n\u001B[1;32m   1499\u001B[0m     \u001B[38;5;66;03m# generally if we have numeric_only=False\u001B[39;00m\n\u001B[1;32m   1500\u001B[0m     \u001B[38;5;66;03m# and non-applicable functions\u001B[39;00m\n\u001B[1;32m   1501\u001B[0m     \u001B[38;5;66;03m# try to python agg\u001B[39;00m\n\u001B[1;32m   1502\u001B[0m     \u001B[38;5;66;03m# TODO: shouldn't min_count matter?\u001B[39;00m\n",
      "File \u001B[0;32m~/miniconda3/envs/BigData/lib/python3.10/site-packages/pandas/core/groupby/ops.py:959\u001B[0m, in \u001B[0;36mBaseGrouper._cython_operation\u001B[0;34m(self, kind, values, how, axis, min_count, **kwargs)\u001B[0m\n\u001B[1;32m    958\u001B[0m ngroups \u001B[38;5;241m=\u001B[39m \u001B[38;5;28mself\u001B[39m\u001B[38;5;241m.\u001B[39mngroups\n\u001B[0;32m--> 959\u001B[0m \u001B[38;5;28;01mreturn\u001B[39;00m \u001B[43mcy_op\u001B[49m\u001B[38;5;241;43m.\u001B[39;49m\u001B[43mcython_operation\u001B[49m\u001B[43m(\u001B[49m\n\u001B[1;32m    960\u001B[0m \u001B[43m    \u001B[49m\u001B[43mvalues\u001B[49m\u001B[38;5;241;43m=\u001B[39;49m\u001B[43mvalues\u001B[49m\u001B[43m,\u001B[49m\n\u001B[1;32m    961\u001B[0m \u001B[43m    \u001B[49m\u001B[43maxis\u001B[49m\u001B[38;5;241;43m=\u001B[39;49m\u001B[43maxis\u001B[49m\u001B[43m,\u001B[49m\n\u001B[1;32m    962\u001B[0m \u001B[43m    \u001B[49m\u001B[43mmin_count\u001B[49m\u001B[38;5;241;43m=\u001B[39;49m\u001B[43mmin_count\u001B[49m\u001B[43m,\u001B[49m\n\u001B[1;32m    963\u001B[0m \u001B[43m    \u001B[49m\u001B[43mcomp_ids\u001B[49m\u001B[38;5;241;43m=\u001B[39;49m\u001B[43mids\u001B[49m\u001B[43m,\u001B[49m\n\u001B[1;32m    964\u001B[0m \u001B[43m    \u001B[49m\u001B[43mngroups\u001B[49m\u001B[38;5;241;43m=\u001B[39;49m\u001B[43mngroups\u001B[49m\u001B[43m,\u001B[49m\n\u001B[1;32m    965\u001B[0m \u001B[43m    \u001B[49m\u001B[38;5;241;43m*\u001B[39;49m\u001B[38;5;241;43m*\u001B[39;49m\u001B[43mkwargs\u001B[49m\u001B[43m,\u001B[49m\n\u001B[1;32m    966\u001B[0m \u001B[43m\u001B[49m\u001B[43m)\u001B[49m\n",
      "File \u001B[0;32m~/miniconda3/envs/BigData/lib/python3.10/site-packages/pandas/core/groupby/ops.py:657\u001B[0m, in \u001B[0;36mWrappedCythonOp.cython_operation\u001B[0;34m(self, values, axis, min_count, comp_ids, ngroups, **kwargs)\u001B[0m\n\u001B[1;32m    649\u001B[0m     \u001B[38;5;28;01mreturn\u001B[39;00m \u001B[38;5;28mself\u001B[39m\u001B[38;5;241m.\u001B[39m_ea_wrap_cython_operation(\n\u001B[1;32m    650\u001B[0m         values,\n\u001B[1;32m    651\u001B[0m         min_count\u001B[38;5;241m=\u001B[39mmin_count,\n\u001B[0;32m   (...)\u001B[0m\n\u001B[1;32m    654\u001B[0m         \u001B[38;5;241m*\u001B[39m\u001B[38;5;241m*\u001B[39mkwargs,\n\u001B[1;32m    655\u001B[0m     )\n\u001B[0;32m--> 657\u001B[0m \u001B[38;5;28;01mreturn\u001B[39;00m \u001B[38;5;28;43mself\u001B[39;49m\u001B[38;5;241;43m.\u001B[39;49m\u001B[43m_cython_op_ndim_compat\u001B[49m\u001B[43m(\u001B[49m\n\u001B[1;32m    658\u001B[0m \u001B[43m    \u001B[49m\u001B[43mvalues\u001B[49m\u001B[43m,\u001B[49m\n\u001B[1;32m    659\u001B[0m \u001B[43m    \u001B[49m\u001B[43mmin_count\u001B[49m\u001B[38;5;241;43m=\u001B[39;49m\u001B[43mmin_count\u001B[49m\u001B[43m,\u001B[49m\n\u001B[1;32m    660\u001B[0m \u001B[43m    \u001B[49m\u001B[43mngroups\u001B[49m\u001B[38;5;241;43m=\u001B[39;49m\u001B[43mngroups\u001B[49m\u001B[43m,\u001B[49m\n\u001B[1;32m    661\u001B[0m \u001B[43m    \u001B[49m\u001B[43mcomp_ids\u001B[49m\u001B[38;5;241;43m=\u001B[39;49m\u001B[43mcomp_ids\u001B[49m\u001B[43m,\u001B[49m\n\u001B[1;32m    662\u001B[0m \u001B[43m    \u001B[49m\u001B[43mmask\u001B[49m\u001B[38;5;241;43m=\u001B[39;49m\u001B[38;5;28;43;01mNone\u001B[39;49;00m\u001B[43m,\u001B[49m\n\u001B[1;32m    663\u001B[0m \u001B[43m    \u001B[49m\u001B[38;5;241;43m*\u001B[39;49m\u001B[38;5;241;43m*\u001B[39;49m\u001B[43mkwargs\u001B[49m\u001B[43m,\u001B[49m\n\u001B[1;32m    664\u001B[0m \u001B[43m\u001B[49m\u001B[43m)\u001B[49m\n",
      "File \u001B[0;32m~/miniconda3/envs/BigData/lib/python3.10/site-packages/pandas/core/groupby/ops.py:482\u001B[0m, in \u001B[0;36mWrappedCythonOp._cython_op_ndim_compat\u001B[0;34m(self, values, min_count, ngroups, comp_ids, mask, result_mask, **kwargs)\u001B[0m\n\u001B[1;32m    481\u001B[0m     result_mask \u001B[38;5;241m=\u001B[39m result_mask[\u001B[38;5;28;01mNone\u001B[39;00m, :]\n\u001B[0;32m--> 482\u001B[0m res \u001B[38;5;241m=\u001B[39m \u001B[38;5;28;43mself\u001B[39;49m\u001B[38;5;241;43m.\u001B[39;49m\u001B[43m_call_cython_op\u001B[49m\u001B[43m(\u001B[49m\n\u001B[1;32m    483\u001B[0m \u001B[43m    \u001B[49m\u001B[43mvalues2d\u001B[49m\u001B[43m,\u001B[49m\n\u001B[1;32m    484\u001B[0m \u001B[43m    \u001B[49m\u001B[43mmin_count\u001B[49m\u001B[38;5;241;43m=\u001B[39;49m\u001B[43mmin_count\u001B[49m\u001B[43m,\u001B[49m\n\u001B[1;32m    485\u001B[0m \u001B[43m    \u001B[49m\u001B[43mngroups\u001B[49m\u001B[38;5;241;43m=\u001B[39;49m\u001B[43mngroups\u001B[49m\u001B[43m,\u001B[49m\n\u001B[1;32m    486\u001B[0m \u001B[43m    \u001B[49m\u001B[43mcomp_ids\u001B[49m\u001B[38;5;241;43m=\u001B[39;49m\u001B[43mcomp_ids\u001B[49m\u001B[43m,\u001B[49m\n\u001B[1;32m    487\u001B[0m \u001B[43m    \u001B[49m\u001B[43mmask\u001B[49m\u001B[38;5;241;43m=\u001B[39;49m\u001B[43mmask\u001B[49m\u001B[43m,\u001B[49m\n\u001B[1;32m    488\u001B[0m \u001B[43m    \u001B[49m\u001B[43mresult_mask\u001B[49m\u001B[38;5;241;43m=\u001B[39;49m\u001B[43mresult_mask\u001B[49m\u001B[43m,\u001B[49m\n\u001B[1;32m    489\u001B[0m \u001B[43m    \u001B[49m\u001B[38;5;241;43m*\u001B[39;49m\u001B[38;5;241;43m*\u001B[39;49m\u001B[43mkwargs\u001B[49m\u001B[43m,\u001B[49m\n\u001B[1;32m    490\u001B[0m \u001B[43m\u001B[49m\u001B[43m)\u001B[49m\n\u001B[1;32m    491\u001B[0m \u001B[38;5;28;01mif\u001B[39;00m res\u001B[38;5;241m.\u001B[39mshape[\u001B[38;5;241m0\u001B[39m] \u001B[38;5;241m==\u001B[39m \u001B[38;5;241m1\u001B[39m:\n",
      "File \u001B[0;32m~/miniconda3/envs/BigData/lib/python3.10/site-packages/pandas/core/groupby/ops.py:541\u001B[0m, in \u001B[0;36mWrappedCythonOp._call_cython_op\u001B[0;34m(self, values, min_count, ngroups, comp_ids, mask, result_mask, **kwargs)\u001B[0m\n\u001B[1;32m    540\u001B[0m out_shape \u001B[38;5;241m=\u001B[39m \u001B[38;5;28mself\u001B[39m\u001B[38;5;241m.\u001B[39m_get_output_shape(ngroups, values)\n\u001B[0;32m--> 541\u001B[0m func \u001B[38;5;241m=\u001B[39m \u001B[38;5;28;43mself\u001B[39;49m\u001B[38;5;241;43m.\u001B[39;49m\u001B[43m_get_cython_function\u001B[49m\u001B[43m(\u001B[49m\u001B[38;5;28;43mself\u001B[39;49m\u001B[38;5;241;43m.\u001B[39;49m\u001B[43mkind\u001B[49m\u001B[43m,\u001B[49m\u001B[43m \u001B[49m\u001B[38;5;28;43mself\u001B[39;49m\u001B[38;5;241;43m.\u001B[39;49m\u001B[43mhow\u001B[49m\u001B[43m,\u001B[49m\u001B[43m \u001B[49m\u001B[43mvalues\u001B[49m\u001B[38;5;241;43m.\u001B[39;49m\u001B[43mdtype\u001B[49m\u001B[43m,\u001B[49m\u001B[43m \u001B[49m\u001B[43mis_numeric\u001B[49m\u001B[43m)\u001B[49m\n\u001B[1;32m    542\u001B[0m values \u001B[38;5;241m=\u001B[39m \u001B[38;5;28mself\u001B[39m\u001B[38;5;241m.\u001B[39m_get_cython_vals(values)\n",
      "File \u001B[0;32m~/miniconda3/envs/BigData/lib/python3.10/site-packages/pandas/core/groupby/ops.py:173\u001B[0m, in \u001B[0;36mWrappedCythonOp._get_cython_function\u001B[0;34m(cls, kind, how, dtype, is_numeric)\u001B[0m\n\u001B[1;32m    171\u001B[0m \u001B[38;5;28;01mif\u001B[39;00m \u001B[38;5;124m\"\u001B[39m\u001B[38;5;124mobject\u001B[39m\u001B[38;5;124m\"\u001B[39m \u001B[38;5;129;01mnot\u001B[39;00m \u001B[38;5;129;01min\u001B[39;00m f\u001B[38;5;241m.\u001B[39m__signatures__:\n\u001B[1;32m    172\u001B[0m     \u001B[38;5;66;03m# raise NotImplementedError here rather than TypeError later\u001B[39;00m\n\u001B[0;32m--> 173\u001B[0m     \u001B[38;5;28;01mraise\u001B[39;00m \u001B[38;5;167;01mNotImplementedError\u001B[39;00m(\n\u001B[1;32m    174\u001B[0m         \u001B[38;5;124mf\u001B[39m\u001B[38;5;124m\"\u001B[39m\u001B[38;5;124mfunction is not implemented for this dtype: \u001B[39m\u001B[38;5;124m\"\u001B[39m\n\u001B[1;32m    175\u001B[0m         \u001B[38;5;124mf\u001B[39m\u001B[38;5;124m\"\u001B[39m\u001B[38;5;124m[how->\u001B[39m\u001B[38;5;132;01m{\u001B[39;00mhow\u001B[38;5;132;01m}\u001B[39;00m\u001B[38;5;124m,dtype->\u001B[39m\u001B[38;5;132;01m{\u001B[39;00mdtype_str\u001B[38;5;132;01m}\u001B[39;00m\u001B[38;5;124m]\u001B[39m\u001B[38;5;124m\"\u001B[39m\n\u001B[1;32m    176\u001B[0m     )\n\u001B[1;32m    177\u001B[0m \u001B[38;5;28;01mreturn\u001B[39;00m f\n",
      "\u001B[0;31mNotImplementedError\u001B[0m: function is not implemented for this dtype: [how->min,dtype->object]",
      "\nDuring handling of the above exception, another exception occurred:\n",
      "\u001B[0;31mTypeError\u001B[0m                                 Traceback (most recent call last)",
      "Cell \u001B[0;32mIn[212], line 3\u001B[0m\n\u001B[1;32m      1\u001B[0m \u001B[38;5;66;03m# 데이터를 주단위로 뽑아서 최소,최대 평균, 표준표차를 구하여라\u001B[39;00m\n\u001B[0;32m----> 3\u001B[0m ans \u001B[38;5;241m=\u001B[39m \u001B[43mdf\u001B[49m\u001B[38;5;241;43m.\u001B[39;49m\u001B[43mresample\u001B[49m\u001B[43m(\u001B[49m\u001B[38;5;124;43m'\u001B[39;49m\u001B[38;5;124;43mW\u001B[39;49m\u001B[38;5;124;43m'\u001B[39;49m\u001B[43m)\u001B[49m\u001B[38;5;241;43m.\u001B[39;49m\u001B[43magg\u001B[49m\u001B[43m(\u001B[49m\u001B[43m[\u001B[49m\u001B[38;5;124;43m'\u001B[39;49m\u001B[38;5;124;43mmin\u001B[39;49m\u001B[38;5;124;43m'\u001B[39;49m\u001B[43m,\u001B[49m\u001B[38;5;124;43m'\u001B[39;49m\u001B[38;5;124;43mmax\u001B[39;49m\u001B[38;5;124;43m'\u001B[39;49m\u001B[43m,\u001B[49m\u001B[38;5;124;43m'\u001B[39;49m\u001B[38;5;124;43mmean\u001B[39;49m\u001B[38;5;124;43m'\u001B[39;49m\u001B[43m,\u001B[49m\u001B[38;5;124;43m'\u001B[39;49m\u001B[38;5;124;43mstd\u001B[39;49m\u001B[38;5;124;43m'\u001B[39;49m\u001B[43m]\u001B[49m\u001B[43m)\u001B[49m\n\u001B[1;32m      4\u001B[0m \u001B[38;5;28mprint\u001B[39m(ans\u001B[38;5;241m.\u001B[39mhead(\u001B[38;5;241m5\u001B[39m))\n",
      "File \u001B[0;32m~/miniconda3/envs/BigData/lib/python3.10/site-packages/pandas/core/resample.py:329\u001B[0m, in \u001B[0;36mResampler.aggregate\u001B[0;34m(self, func, *args, **kwargs)\u001B[0m\n\u001B[1;32m    321\u001B[0m \u001B[38;5;129m@doc\u001B[39m(\n\u001B[1;32m    322\u001B[0m     _shared_docs[\u001B[38;5;124m\"\u001B[39m\u001B[38;5;124maggregate\u001B[39m\u001B[38;5;124m\"\u001B[39m],\n\u001B[1;32m    323\u001B[0m     see_also\u001B[38;5;241m=\u001B[39m_agg_see_also_doc,\n\u001B[0;32m   (...)\u001B[0m\n\u001B[1;32m    327\u001B[0m )\n\u001B[1;32m    328\u001B[0m \u001B[38;5;28;01mdef\u001B[39;00m \u001B[38;5;21maggregate\u001B[39m(\u001B[38;5;28mself\u001B[39m, func\u001B[38;5;241m=\u001B[39m\u001B[38;5;28;01mNone\u001B[39;00m, \u001B[38;5;241m*\u001B[39margs, \u001B[38;5;241m*\u001B[39m\u001B[38;5;241m*\u001B[39mkwargs):\n\u001B[0;32m--> 329\u001B[0m     result \u001B[38;5;241m=\u001B[39m \u001B[43mResamplerWindowApply\u001B[49m\u001B[43m(\u001B[49m\u001B[38;5;28;43mself\u001B[39;49m\u001B[43m,\u001B[49m\u001B[43m \u001B[49m\u001B[43mfunc\u001B[49m\u001B[43m,\u001B[49m\u001B[43m \u001B[49m\u001B[43margs\u001B[49m\u001B[38;5;241;43m=\u001B[39;49m\u001B[43margs\u001B[49m\u001B[43m,\u001B[49m\u001B[43m \u001B[49m\u001B[43mkwargs\u001B[49m\u001B[38;5;241;43m=\u001B[39;49m\u001B[43mkwargs\u001B[49m\u001B[43m)\u001B[49m\u001B[38;5;241;43m.\u001B[39;49m\u001B[43magg\u001B[49m\u001B[43m(\u001B[49m\u001B[43m)\u001B[49m\n\u001B[1;32m    330\u001B[0m     \u001B[38;5;28;01mif\u001B[39;00m result \u001B[38;5;129;01mis\u001B[39;00m \u001B[38;5;28;01mNone\u001B[39;00m:\n\u001B[1;32m    331\u001B[0m         how \u001B[38;5;241m=\u001B[39m func\n",
      "File \u001B[0;32m~/miniconda3/envs/BigData/lib/python3.10/site-packages/pandas/core/apply.py:166\u001B[0m, in \u001B[0;36mApply.agg\u001B[0;34m(self)\u001B[0m\n\u001B[1;32m    163\u001B[0m     \u001B[38;5;28;01mreturn\u001B[39;00m \u001B[38;5;28mself\u001B[39m\u001B[38;5;241m.\u001B[39magg_dict_like()\n\u001B[1;32m    164\u001B[0m \u001B[38;5;28;01melif\u001B[39;00m is_list_like(arg):\n\u001B[1;32m    165\u001B[0m     \u001B[38;5;66;03m# we require a list, but not a 'str'\u001B[39;00m\n\u001B[0;32m--> 166\u001B[0m     \u001B[38;5;28;01mreturn\u001B[39;00m \u001B[38;5;28;43mself\u001B[39;49m\u001B[38;5;241;43m.\u001B[39;49m\u001B[43magg_list_like\u001B[49m\u001B[43m(\u001B[49m\u001B[43m)\u001B[49m\n\u001B[1;32m    168\u001B[0m \u001B[38;5;28;01mif\u001B[39;00m \u001B[38;5;28mcallable\u001B[39m(arg):\n\u001B[1;32m    169\u001B[0m     f \u001B[38;5;241m=\u001B[39m com\u001B[38;5;241m.\u001B[39mget_cython_func(arg)\n",
      "File \u001B[0;32m~/miniconda3/envs/BigData/lib/python3.10/site-packages/pandas/core/apply.py:355\u001B[0m, in \u001B[0;36mApply.agg_list_like\u001B[0;34m(self)\u001B[0m\n\u001B[1;32m    351\u001B[0m     new_res \u001B[38;5;241m=\u001B[39m colg\u001B[38;5;241m.\u001B[39maggregate(\n\u001B[1;32m    352\u001B[0m         arg, \u001B[38;5;28mself\u001B[39m\u001B[38;5;241m.\u001B[39maxis, \u001B[38;5;241m*\u001B[39m\u001B[38;5;28mself\u001B[39m\u001B[38;5;241m.\u001B[39margs, \u001B[38;5;241m*\u001B[39m\u001B[38;5;241m*\u001B[39m\u001B[38;5;28mself\u001B[39m\u001B[38;5;241m.\u001B[39mkwargs\n\u001B[1;32m    353\u001B[0m     )\n\u001B[1;32m    354\u001B[0m \u001B[38;5;28;01melse\u001B[39;00m:\n\u001B[0;32m--> 355\u001B[0m     new_res \u001B[38;5;241m=\u001B[39m \u001B[43mcolg\u001B[49m\u001B[38;5;241;43m.\u001B[39;49m\u001B[43maggregate\u001B[49m\u001B[43m(\u001B[49m\u001B[43marg\u001B[49m\u001B[43m,\u001B[49m\u001B[43m \u001B[49m\u001B[38;5;241;43m*\u001B[39;49m\u001B[38;5;28;43mself\u001B[39;49m\u001B[38;5;241;43m.\u001B[39;49m\u001B[43margs\u001B[49m\u001B[43m,\u001B[49m\u001B[43m \u001B[49m\u001B[38;5;241;43m*\u001B[39;49m\u001B[38;5;241;43m*\u001B[39;49m\u001B[38;5;28;43mself\u001B[39;49m\u001B[38;5;241;43m.\u001B[39;49m\u001B[43mkwargs\u001B[49m\u001B[43m)\u001B[49m\n\u001B[1;32m    356\u001B[0m results\u001B[38;5;241m.\u001B[39mappend(new_res)\n\u001B[1;32m    357\u001B[0m indices\u001B[38;5;241m.\u001B[39mappend(index)\n",
      "File \u001B[0;32m~/miniconda3/envs/BigData/lib/python3.10/site-packages/pandas/core/groupby/generic.py:238\u001B[0m, in \u001B[0;36mSeriesGroupBy.aggregate\u001B[0;34m(self, func, engine, engine_kwargs, *args, **kwargs)\u001B[0m\n\u001B[1;32m    234\u001B[0m \u001B[38;5;28;01melif\u001B[39;00m \u001B[38;5;28misinstance\u001B[39m(func, abc\u001B[38;5;241m.\u001B[39mIterable):\n\u001B[1;32m    235\u001B[0m     \u001B[38;5;66;03m# Catch instances of lists / tuples\u001B[39;00m\n\u001B[1;32m    236\u001B[0m     \u001B[38;5;66;03m# but not the class list / tuple itself.\u001B[39;00m\n\u001B[1;32m    237\u001B[0m     func \u001B[38;5;241m=\u001B[39m maybe_mangle_lambdas(func)\n\u001B[0;32m--> 238\u001B[0m     ret \u001B[38;5;241m=\u001B[39m \u001B[38;5;28;43mself\u001B[39;49m\u001B[38;5;241;43m.\u001B[39;49m\u001B[43m_aggregate_multiple_funcs\u001B[49m\u001B[43m(\u001B[49m\u001B[43mfunc\u001B[49m\u001B[43m,\u001B[49m\u001B[43m \u001B[49m\u001B[38;5;241;43m*\u001B[39;49m\u001B[43margs\u001B[49m\u001B[43m,\u001B[49m\u001B[43m \u001B[49m\u001B[38;5;241;43m*\u001B[39;49m\u001B[38;5;241;43m*\u001B[39;49m\u001B[43mkwargs\u001B[49m\u001B[43m)\u001B[49m\n\u001B[1;32m    239\u001B[0m     \u001B[38;5;28;01mif\u001B[39;00m relabeling:\n\u001B[1;32m    240\u001B[0m         \u001B[38;5;66;03m# columns is not narrowed by mypy from relabeling flag\u001B[39;00m\n\u001B[1;32m    241\u001B[0m         \u001B[38;5;28;01massert\u001B[39;00m columns \u001B[38;5;129;01mis\u001B[39;00m \u001B[38;5;129;01mnot\u001B[39;00m \u001B[38;5;28;01mNone\u001B[39;00m  \u001B[38;5;66;03m# for mypy\u001B[39;00m\n",
      "File \u001B[0;32m~/miniconda3/envs/BigData/lib/python3.10/site-packages/pandas/core/groupby/generic.py:316\u001B[0m, in \u001B[0;36mSeriesGroupBy._aggregate_multiple_funcs\u001B[0;34m(self, arg, *args, **kwargs)\u001B[0m\n\u001B[1;32m    314\u001B[0m     \u001B[38;5;28;01mfor\u001B[39;00m idx, (name, func) \u001B[38;5;129;01min\u001B[39;00m \u001B[38;5;28menumerate\u001B[39m(arg):\n\u001B[1;32m    315\u001B[0m         key \u001B[38;5;241m=\u001B[39m base\u001B[38;5;241m.\u001B[39mOutputKey(label\u001B[38;5;241m=\u001B[39mname, position\u001B[38;5;241m=\u001B[39midx)\n\u001B[0;32m--> 316\u001B[0m         results[key] \u001B[38;5;241m=\u001B[39m \u001B[38;5;28;43mself\u001B[39;49m\u001B[38;5;241;43m.\u001B[39;49m\u001B[43maggregate\u001B[49m\u001B[43m(\u001B[49m\u001B[43mfunc\u001B[49m\u001B[43m,\u001B[49m\u001B[43m \u001B[49m\u001B[38;5;241;43m*\u001B[39;49m\u001B[43margs\u001B[49m\u001B[43m,\u001B[49m\u001B[43m \u001B[49m\u001B[38;5;241;43m*\u001B[39;49m\u001B[38;5;241;43m*\u001B[39;49m\u001B[43mkwargs\u001B[49m\u001B[43m)\u001B[49m\n\u001B[1;32m    318\u001B[0m \u001B[38;5;28;01mif\u001B[39;00m \u001B[38;5;28many\u001B[39m(\u001B[38;5;28misinstance\u001B[39m(x, DataFrame) \u001B[38;5;28;01mfor\u001B[39;00m x \u001B[38;5;129;01min\u001B[39;00m results\u001B[38;5;241m.\u001B[39mvalues()):\n\u001B[1;32m    319\u001B[0m     \u001B[38;5;28;01mfrom\u001B[39;00m \u001B[38;5;21;01mpandas\u001B[39;00m \u001B[38;5;28;01mimport\u001B[39;00m concat\n",
      "File \u001B[0;32m~/miniconda3/envs/BigData/lib/python3.10/site-packages/pandas/core/groupby/generic.py:232\u001B[0m, in \u001B[0;36mSeriesGroupBy.aggregate\u001B[0;34m(self, func, engine, engine_kwargs, *args, **kwargs)\u001B[0m\n\u001B[1;32m    229\u001B[0m     kwargs \u001B[38;5;241m=\u001B[39m {}\n\u001B[1;32m    231\u001B[0m \u001B[38;5;28;01mif\u001B[39;00m \u001B[38;5;28misinstance\u001B[39m(func, \u001B[38;5;28mstr\u001B[39m):\n\u001B[0;32m--> 232\u001B[0m     \u001B[38;5;28;01mreturn\u001B[39;00m \u001B[38;5;28;43mgetattr\u001B[39;49m\u001B[43m(\u001B[49m\u001B[38;5;28;43mself\u001B[39;49m\u001B[43m,\u001B[49m\u001B[43m \u001B[49m\u001B[43mfunc\u001B[49m\u001B[43m)\u001B[49m\u001B[43m(\u001B[49m\u001B[38;5;241;43m*\u001B[39;49m\u001B[43margs\u001B[49m\u001B[43m,\u001B[49m\u001B[43m \u001B[49m\u001B[38;5;241;43m*\u001B[39;49m\u001B[38;5;241;43m*\u001B[39;49m\u001B[43mkwargs\u001B[49m\u001B[43m)\u001B[49m\n\u001B[1;32m    234\u001B[0m \u001B[38;5;28;01melif\u001B[39;00m \u001B[38;5;28misinstance\u001B[39m(func, abc\u001B[38;5;241m.\u001B[39mIterable):\n\u001B[1;32m    235\u001B[0m     \u001B[38;5;66;03m# Catch instances of lists / tuples\u001B[39;00m\n\u001B[1;32m    236\u001B[0m     \u001B[38;5;66;03m# but not the class list / tuple itself.\u001B[39;00m\n\u001B[1;32m    237\u001B[0m     func \u001B[38;5;241m=\u001B[39m maybe_mangle_lambdas(func)\n",
      "File \u001B[0;32m~/miniconda3/envs/BigData/lib/python3.10/site-packages/pandas/core/groupby/groupby.py:2293\u001B[0m, in \u001B[0;36mGroupBy.min\u001B[0;34m(self, numeric_only, min_count, engine, engine_kwargs)\u001B[0m\n\u001B[1;32m   2291\u001B[0m     \u001B[38;5;28;01mreturn\u001B[39;00m \u001B[38;5;28mself\u001B[39m\u001B[38;5;241m.\u001B[39m_numba_agg_general(sliding_min_max, engine_kwargs, \u001B[38;5;28;01mFalse\u001B[39;00m)\n\u001B[1;32m   2292\u001B[0m \u001B[38;5;28;01melse\u001B[39;00m:\n\u001B[0;32m-> 2293\u001B[0m     \u001B[38;5;28;01mreturn\u001B[39;00m \u001B[38;5;28;43mself\u001B[39;49m\u001B[38;5;241;43m.\u001B[39;49m\u001B[43m_agg_general\u001B[49m\u001B[43m(\u001B[49m\n\u001B[1;32m   2294\u001B[0m \u001B[43m        \u001B[49m\u001B[43mnumeric_only\u001B[49m\u001B[38;5;241;43m=\u001B[39;49m\u001B[43mnumeric_only\u001B[49m\u001B[43m,\u001B[49m\n\u001B[1;32m   2295\u001B[0m \u001B[43m        \u001B[49m\u001B[43mmin_count\u001B[49m\u001B[38;5;241;43m=\u001B[39;49m\u001B[43mmin_count\u001B[49m\u001B[43m,\u001B[49m\n\u001B[1;32m   2296\u001B[0m \u001B[43m        \u001B[49m\u001B[43malias\u001B[49m\u001B[38;5;241;43m=\u001B[39;49m\u001B[38;5;124;43m\"\u001B[39;49m\u001B[38;5;124;43mmin\u001B[39;49m\u001B[38;5;124;43m\"\u001B[39;49m\u001B[43m,\u001B[49m\n\u001B[1;32m   2297\u001B[0m \u001B[43m        \u001B[49m\u001B[43mnpfunc\u001B[49m\u001B[38;5;241;43m=\u001B[39;49m\u001B[43mnp\u001B[49m\u001B[38;5;241;43m.\u001B[39;49m\u001B[43mmin\u001B[49m\u001B[43m,\u001B[49m\n\u001B[1;32m   2298\u001B[0m \u001B[43m    \u001B[49m\u001B[43m)\u001B[49m\n",
      "File \u001B[0;32m~/miniconda3/envs/BigData/lib/python3.10/site-packages/pandas/core/groupby/groupby.py:1422\u001B[0m, in \u001B[0;36mGroupBy._agg_general\u001B[0;34m(self, numeric_only, min_count, alias, npfunc)\u001B[0m\n\u001B[1;32m   1413\u001B[0m \u001B[38;5;129m@final\u001B[39m\n\u001B[1;32m   1414\u001B[0m \u001B[38;5;28;01mdef\u001B[39;00m \u001B[38;5;21m_agg_general\u001B[39m(\n\u001B[1;32m   1415\u001B[0m     \u001B[38;5;28mself\u001B[39m,\n\u001B[0;32m   (...)\u001B[0m\n\u001B[1;32m   1420\u001B[0m     npfunc: Callable,\n\u001B[1;32m   1421\u001B[0m ):\n\u001B[0;32m-> 1422\u001B[0m     result \u001B[38;5;241m=\u001B[39m \u001B[38;5;28;43mself\u001B[39;49m\u001B[38;5;241;43m.\u001B[39;49m\u001B[43m_cython_agg_general\u001B[49m\u001B[43m(\u001B[49m\n\u001B[1;32m   1423\u001B[0m \u001B[43m        \u001B[49m\u001B[43mhow\u001B[49m\u001B[38;5;241;43m=\u001B[39;49m\u001B[43malias\u001B[49m\u001B[43m,\u001B[49m\n\u001B[1;32m   1424\u001B[0m \u001B[43m        \u001B[49m\u001B[43malt\u001B[49m\u001B[38;5;241;43m=\u001B[39;49m\u001B[43mnpfunc\u001B[49m\u001B[43m,\u001B[49m\n\u001B[1;32m   1425\u001B[0m \u001B[43m        \u001B[49m\u001B[43mnumeric_only\u001B[49m\u001B[38;5;241;43m=\u001B[39;49m\u001B[43mnumeric_only\u001B[49m\u001B[43m,\u001B[49m\n\u001B[1;32m   1426\u001B[0m \u001B[43m        \u001B[49m\u001B[43mmin_count\u001B[49m\u001B[38;5;241;43m=\u001B[39;49m\u001B[43mmin_count\u001B[49m\u001B[43m,\u001B[49m\n\u001B[1;32m   1427\u001B[0m \u001B[43m    \u001B[49m\u001B[43m)\u001B[49m\n\u001B[1;32m   1428\u001B[0m     \u001B[38;5;28;01mreturn\u001B[39;00m result\u001B[38;5;241m.\u001B[39m__finalize__(\u001B[38;5;28mself\u001B[39m\u001B[38;5;241m.\u001B[39mobj, method\u001B[38;5;241m=\u001B[39m\u001B[38;5;124m\"\u001B[39m\u001B[38;5;124mgroupby\u001B[39m\u001B[38;5;124m\"\u001B[39m)\n",
      "File \u001B[0;32m~/miniconda3/envs/BigData/lib/python3.10/site-packages/pandas/core/groupby/groupby.py:1507\u001B[0m, in \u001B[0;36mGroupBy._cython_agg_general\u001B[0;34m(self, how, alt, numeric_only, min_count, **kwargs)\u001B[0m\n\u001B[1;32m   1503\u001B[0m         result \u001B[38;5;241m=\u001B[39m \u001B[38;5;28mself\u001B[39m\u001B[38;5;241m.\u001B[39m_agg_py_fallback(values, ndim\u001B[38;5;241m=\u001B[39mdata\u001B[38;5;241m.\u001B[39mndim, alt\u001B[38;5;241m=\u001B[39malt)\n\u001B[1;32m   1505\u001B[0m     \u001B[38;5;28;01mreturn\u001B[39;00m result\n\u001B[0;32m-> 1507\u001B[0m new_mgr \u001B[38;5;241m=\u001B[39m \u001B[43mdata\u001B[49m\u001B[38;5;241;43m.\u001B[39;49m\u001B[43mgrouped_reduce\u001B[49m\u001B[43m(\u001B[49m\u001B[43marray_func\u001B[49m\u001B[43m)\u001B[49m\n\u001B[1;32m   1508\u001B[0m res \u001B[38;5;241m=\u001B[39m \u001B[38;5;28mself\u001B[39m\u001B[38;5;241m.\u001B[39m_wrap_agged_manager(new_mgr)\n\u001B[1;32m   1509\u001B[0m out \u001B[38;5;241m=\u001B[39m \u001B[38;5;28mself\u001B[39m\u001B[38;5;241m.\u001B[39m_wrap_aggregated_output(res)\n",
      "File \u001B[0;32m~/miniconda3/envs/BigData/lib/python3.10/site-packages/pandas/core/internals/base.py:197\u001B[0m, in \u001B[0;36mSingleDataManager.grouped_reduce\u001B[0;34m(self, func)\u001B[0m\n\u001B[1;32m    195\u001B[0m \u001B[38;5;28;01mdef\u001B[39;00m \u001B[38;5;21mgrouped_reduce\u001B[39m(\u001B[38;5;28mself\u001B[39m, func):\n\u001B[1;32m    196\u001B[0m     arr \u001B[38;5;241m=\u001B[39m \u001B[38;5;28mself\u001B[39m\u001B[38;5;241m.\u001B[39marray\n\u001B[0;32m--> 197\u001B[0m     res \u001B[38;5;241m=\u001B[39m \u001B[43mfunc\u001B[49m\u001B[43m(\u001B[49m\u001B[43marr\u001B[49m\u001B[43m)\u001B[49m\n\u001B[1;32m    198\u001B[0m     index \u001B[38;5;241m=\u001B[39m default_index(\u001B[38;5;28mlen\u001B[39m(res))\n\u001B[1;32m    200\u001B[0m     mgr \u001B[38;5;241m=\u001B[39m \u001B[38;5;28mtype\u001B[39m(\u001B[38;5;28mself\u001B[39m)\u001B[38;5;241m.\u001B[39mfrom_array(res, index)\n",
      "File \u001B[0;32m~/miniconda3/envs/BigData/lib/python3.10/site-packages/pandas/core/groupby/groupby.py:1503\u001B[0m, in \u001B[0;36mGroupBy._cython_agg_general.<locals>.array_func\u001B[0;34m(values)\u001B[0m\n\u001B[1;32m   1490\u001B[0m     result \u001B[38;5;241m=\u001B[39m \u001B[38;5;28mself\u001B[39m\u001B[38;5;241m.\u001B[39mgrouper\u001B[38;5;241m.\u001B[39m_cython_operation(\n\u001B[1;32m   1491\u001B[0m         \u001B[38;5;124m\"\u001B[39m\u001B[38;5;124maggregate\u001B[39m\u001B[38;5;124m\"\u001B[39m,\n\u001B[1;32m   1492\u001B[0m         values,\n\u001B[0;32m   (...)\u001B[0m\n\u001B[1;32m   1496\u001B[0m         \u001B[38;5;241m*\u001B[39m\u001B[38;5;241m*\u001B[39mkwargs,\n\u001B[1;32m   1497\u001B[0m     )\n\u001B[1;32m   1498\u001B[0m \u001B[38;5;28;01mexcept\u001B[39;00m \u001B[38;5;167;01mNotImplementedError\u001B[39;00m:\n\u001B[1;32m   1499\u001B[0m     \u001B[38;5;66;03m# generally if we have numeric_only=False\u001B[39;00m\n\u001B[1;32m   1500\u001B[0m     \u001B[38;5;66;03m# and non-applicable functions\u001B[39;00m\n\u001B[1;32m   1501\u001B[0m     \u001B[38;5;66;03m# try to python agg\u001B[39;00m\n\u001B[1;32m   1502\u001B[0m     \u001B[38;5;66;03m# TODO: shouldn't min_count matter?\u001B[39;00m\n\u001B[0;32m-> 1503\u001B[0m     result \u001B[38;5;241m=\u001B[39m \u001B[38;5;28;43mself\u001B[39;49m\u001B[38;5;241;43m.\u001B[39;49m\u001B[43m_agg_py_fallback\u001B[49m\u001B[43m(\u001B[49m\u001B[43mvalues\u001B[49m\u001B[43m,\u001B[49m\u001B[43m \u001B[49m\u001B[43mndim\u001B[49m\u001B[38;5;241;43m=\u001B[39;49m\u001B[43mdata\u001B[49m\u001B[38;5;241;43m.\u001B[39;49m\u001B[43mndim\u001B[49m\u001B[43m,\u001B[49m\u001B[43m \u001B[49m\u001B[43malt\u001B[49m\u001B[38;5;241;43m=\u001B[39;49m\u001B[43malt\u001B[49m\u001B[43m)\u001B[49m\n\u001B[1;32m   1505\u001B[0m \u001B[38;5;28;01mreturn\u001B[39;00m result\n",
      "File \u001B[0;32m~/miniconda3/envs/BigData/lib/python3.10/site-packages/pandas/core/groupby/groupby.py:1457\u001B[0m, in \u001B[0;36mGroupBy._agg_py_fallback\u001B[0;34m(self, values, ndim, alt)\u001B[0m\n\u001B[1;32m   1452\u001B[0m     ser \u001B[38;5;241m=\u001B[39m df\u001B[38;5;241m.\u001B[39miloc[:, \u001B[38;5;241m0\u001B[39m]\n\u001B[1;32m   1454\u001B[0m \u001B[38;5;66;03m# We do not get here with UDFs, so we know that our dtype\u001B[39;00m\n\u001B[1;32m   1455\u001B[0m \u001B[38;5;66;03m#  should always be preserved by the implemented aggregations\u001B[39;00m\n\u001B[1;32m   1456\u001B[0m \u001B[38;5;66;03m# TODO: Is this exactly right; see WrappedCythonOp get_result_dtype?\u001B[39;00m\n\u001B[0;32m-> 1457\u001B[0m res_values \u001B[38;5;241m=\u001B[39m \u001B[38;5;28;43mself\u001B[39;49m\u001B[38;5;241;43m.\u001B[39;49m\u001B[43mgrouper\u001B[49m\u001B[38;5;241;43m.\u001B[39;49m\u001B[43magg_series\u001B[49m\u001B[43m(\u001B[49m\u001B[43mser\u001B[49m\u001B[43m,\u001B[49m\u001B[43m \u001B[49m\u001B[43malt\u001B[49m\u001B[43m,\u001B[49m\u001B[43m \u001B[49m\u001B[43mpreserve_dtype\u001B[49m\u001B[38;5;241;43m=\u001B[39;49m\u001B[38;5;28;43;01mTrue\u001B[39;49;00m\u001B[43m)\u001B[49m\n\u001B[1;32m   1459\u001B[0m \u001B[38;5;28;01mif\u001B[39;00m \u001B[38;5;28misinstance\u001B[39m(values, Categorical):\n\u001B[1;32m   1460\u001B[0m     \u001B[38;5;66;03m# Because we only get here with known dtype-preserving\u001B[39;00m\n\u001B[1;32m   1461\u001B[0m     \u001B[38;5;66;03m#  reductions, we cast back to Categorical.\u001B[39;00m\n\u001B[1;32m   1462\u001B[0m     \u001B[38;5;66;03m# TODO: if we ever get \"rank\" working, exclude it here.\u001B[39;00m\n\u001B[1;32m   1463\u001B[0m     res_values \u001B[38;5;241m=\u001B[39m \u001B[38;5;28mtype\u001B[39m(values)\u001B[38;5;241m.\u001B[39m_from_sequence(res_values, dtype\u001B[38;5;241m=\u001B[39mvalues\u001B[38;5;241m.\u001B[39mdtype)\n",
      "File \u001B[0;32m~/miniconda3/envs/BigData/lib/python3.10/site-packages/pandas/core/groupby/ops.py:994\u001B[0m, in \u001B[0;36mBaseGrouper.agg_series\u001B[0;34m(self, obj, func, preserve_dtype)\u001B[0m\n\u001B[1;32m    987\u001B[0m \u001B[38;5;28;01mif\u001B[39;00m \u001B[38;5;28mlen\u001B[39m(obj) \u001B[38;5;241m>\u001B[39m \u001B[38;5;241m0\u001B[39m \u001B[38;5;129;01mand\u001B[39;00m \u001B[38;5;129;01mnot\u001B[39;00m \u001B[38;5;28misinstance\u001B[39m(obj\u001B[38;5;241m.\u001B[39m_values, np\u001B[38;5;241m.\u001B[39mndarray):\n\u001B[1;32m    988\u001B[0m     \u001B[38;5;66;03m# we can preserve a little bit more aggressively with EA dtype\u001B[39;00m\n\u001B[1;32m    989\u001B[0m     \u001B[38;5;66;03m#  because maybe_cast_pointwise_result will do a try/except\u001B[39;00m\n\u001B[1;32m    990\u001B[0m     \u001B[38;5;66;03m#  with _from_sequence.  NB we are assuming here that _from_sequence\u001B[39;00m\n\u001B[1;32m    991\u001B[0m     \u001B[38;5;66;03m#  is sufficiently strict that it casts appropriately.\u001B[39;00m\n\u001B[1;32m    992\u001B[0m     preserve_dtype \u001B[38;5;241m=\u001B[39m \u001B[38;5;28;01mTrue\u001B[39;00m\n\u001B[0;32m--> 994\u001B[0m result \u001B[38;5;241m=\u001B[39m \u001B[38;5;28;43mself\u001B[39;49m\u001B[38;5;241;43m.\u001B[39;49m\u001B[43m_aggregate_series_pure_python\u001B[49m\u001B[43m(\u001B[49m\u001B[43mobj\u001B[49m\u001B[43m,\u001B[49m\u001B[43m \u001B[49m\u001B[43mfunc\u001B[49m\u001B[43m)\u001B[49m\n\u001B[1;32m    996\u001B[0m npvalues \u001B[38;5;241m=\u001B[39m lib\u001B[38;5;241m.\u001B[39mmaybe_convert_objects(result, try_float\u001B[38;5;241m=\u001B[39m\u001B[38;5;28;01mFalse\u001B[39;00m)\n\u001B[1;32m    997\u001B[0m \u001B[38;5;28;01mif\u001B[39;00m preserve_dtype:\n",
      "File \u001B[0;32m~/miniconda3/envs/BigData/lib/python3.10/site-packages/pandas/core/groupby/ops.py:1015\u001B[0m, in \u001B[0;36mBaseGrouper._aggregate_series_pure_python\u001B[0;34m(self, obj, func)\u001B[0m\n\u001B[1;32m   1012\u001B[0m splitter \u001B[38;5;241m=\u001B[39m \u001B[38;5;28mself\u001B[39m\u001B[38;5;241m.\u001B[39m_get_splitter(obj, axis\u001B[38;5;241m=\u001B[39m\u001B[38;5;241m0\u001B[39m)\n\u001B[1;32m   1014\u001B[0m \u001B[38;5;28;01mfor\u001B[39;00m i, group \u001B[38;5;129;01min\u001B[39;00m \u001B[38;5;28menumerate\u001B[39m(splitter):\n\u001B[0;32m-> 1015\u001B[0m     res \u001B[38;5;241m=\u001B[39m \u001B[43mfunc\u001B[49m\u001B[43m(\u001B[49m\u001B[43mgroup\u001B[49m\u001B[43m)\u001B[49m\n\u001B[1;32m   1016\u001B[0m     res \u001B[38;5;241m=\u001B[39m libreduction\u001B[38;5;241m.\u001B[39mextract_result(res)\n\u001B[1;32m   1018\u001B[0m     \u001B[38;5;28;01mif\u001B[39;00m \u001B[38;5;129;01mnot\u001B[39;00m initialized:\n\u001B[1;32m   1019\u001B[0m         \u001B[38;5;66;03m# We only do this validation on the first iteration\u001B[39;00m\n",
      "File \u001B[0;32m~/miniconda3/envs/BigData/lib/python3.10/site-packages/numpy/core/fromnumeric.py:2953\u001B[0m, in \u001B[0;36mmin\u001B[0;34m(a, axis, out, keepdims, initial, where)\u001B[0m\n\u001B[1;32m   2836\u001B[0m \u001B[38;5;129m@array_function_dispatch\u001B[39m(_min_dispatcher)\n\u001B[1;32m   2837\u001B[0m \u001B[38;5;28;01mdef\u001B[39;00m \u001B[38;5;21mmin\u001B[39m(a, axis\u001B[38;5;241m=\u001B[39m\u001B[38;5;28;01mNone\u001B[39;00m, out\u001B[38;5;241m=\u001B[39m\u001B[38;5;28;01mNone\u001B[39;00m, keepdims\u001B[38;5;241m=\u001B[39mnp\u001B[38;5;241m.\u001B[39m_NoValue, initial\u001B[38;5;241m=\u001B[39mnp\u001B[38;5;241m.\u001B[39m_NoValue,\n\u001B[1;32m   2838\u001B[0m         where\u001B[38;5;241m=\u001B[39mnp\u001B[38;5;241m.\u001B[39m_NoValue):\n\u001B[1;32m   2839\u001B[0m \u001B[38;5;250m    \u001B[39m\u001B[38;5;124;03m\"\"\"\u001B[39;00m\n\u001B[1;32m   2840\u001B[0m \u001B[38;5;124;03m    Return the minimum of an array or minimum along an axis.\u001B[39;00m\n\u001B[1;32m   2841\u001B[0m \n\u001B[0;32m   (...)\u001B[0m\n\u001B[1;32m   2951\u001B[0m \u001B[38;5;124;03m    6\u001B[39;00m\n\u001B[1;32m   2952\u001B[0m \u001B[38;5;124;03m    \"\"\"\u001B[39;00m\n\u001B[0;32m-> 2953\u001B[0m     \u001B[38;5;28;01mreturn\u001B[39;00m \u001B[43m_wrapreduction\u001B[49m\u001B[43m(\u001B[49m\u001B[43ma\u001B[49m\u001B[43m,\u001B[49m\u001B[43m \u001B[49m\u001B[43mnp\u001B[49m\u001B[38;5;241;43m.\u001B[39;49m\u001B[43mminimum\u001B[49m\u001B[43m,\u001B[49m\u001B[43m \u001B[49m\u001B[38;5;124;43m'\u001B[39;49m\u001B[38;5;124;43mmin\u001B[39;49m\u001B[38;5;124;43m'\u001B[39;49m\u001B[43m,\u001B[49m\u001B[43m \u001B[49m\u001B[43maxis\u001B[49m\u001B[43m,\u001B[49m\u001B[43m \u001B[49m\u001B[38;5;28;43;01mNone\u001B[39;49;00m\u001B[43m,\u001B[49m\u001B[43m \u001B[49m\u001B[43mout\u001B[49m\u001B[43m,\u001B[49m\n\u001B[1;32m   2954\u001B[0m \u001B[43m                          \u001B[49m\u001B[43mkeepdims\u001B[49m\u001B[38;5;241;43m=\u001B[39;49m\u001B[43mkeepdims\u001B[49m\u001B[43m,\u001B[49m\u001B[43m \u001B[49m\u001B[43minitial\u001B[49m\u001B[38;5;241;43m=\u001B[39;49m\u001B[43minitial\u001B[49m\u001B[43m,\u001B[49m\u001B[43m \u001B[49m\u001B[43mwhere\u001B[49m\u001B[38;5;241;43m=\u001B[39;49m\u001B[43mwhere\u001B[49m\u001B[43m)\u001B[49m\n",
      "File \u001B[0;32m~/miniconda3/envs/BigData/lib/python3.10/site-packages/numpy/core/fromnumeric.py:86\u001B[0m, in \u001B[0;36m_wrapreduction\u001B[0;34m(obj, ufunc, method, axis, dtype, out, **kwargs)\u001B[0m\n\u001B[1;32m     84\u001B[0m             \u001B[38;5;28;01mreturn\u001B[39;00m reduction(axis\u001B[38;5;241m=\u001B[39maxis, dtype\u001B[38;5;241m=\u001B[39mdtype, out\u001B[38;5;241m=\u001B[39mout, \u001B[38;5;241m*\u001B[39m\u001B[38;5;241m*\u001B[39mpasskwargs)\n\u001B[1;32m     85\u001B[0m         \u001B[38;5;28;01melse\u001B[39;00m:\n\u001B[0;32m---> 86\u001B[0m             \u001B[38;5;28;01mreturn\u001B[39;00m \u001B[43mreduction\u001B[49m\u001B[43m(\u001B[49m\u001B[43maxis\u001B[49m\u001B[38;5;241;43m=\u001B[39;49m\u001B[43maxis\u001B[49m\u001B[43m,\u001B[49m\u001B[43m \u001B[49m\u001B[43mout\u001B[49m\u001B[38;5;241;43m=\u001B[39;49m\u001B[43mout\u001B[49m\u001B[43m,\u001B[49m\u001B[43m \u001B[49m\u001B[38;5;241;43m*\u001B[39;49m\u001B[38;5;241;43m*\u001B[39;49m\u001B[43mpasskwargs\u001B[49m\u001B[43m)\u001B[49m\n\u001B[1;32m     88\u001B[0m \u001B[38;5;28;01mreturn\u001B[39;00m ufunc\u001B[38;5;241m.\u001B[39mreduce(obj, axis, dtype, out, \u001B[38;5;241m*\u001B[39m\u001B[38;5;241m*\u001B[39mpasskwargs)\n",
      "File \u001B[0;32m~/miniconda3/envs/BigData/lib/python3.10/site-packages/pandas/core/generic.py:11669\u001B[0m, in \u001B[0;36mNDFrame._add_numeric_operations.<locals>.min\u001B[0;34m(self, axis, skipna, numeric_only, **kwargs)\u001B[0m\n\u001B[1;32m  11650\u001B[0m \u001B[38;5;129m@doc\u001B[39m(\n\u001B[1;32m  11651\u001B[0m     _num_doc,\n\u001B[1;32m  11652\u001B[0m     desc\u001B[38;5;241m=\u001B[39m\u001B[38;5;124m\"\u001B[39m\u001B[38;5;124mReturn the minimum of the values over the requested axis.\u001B[39m\u001B[38;5;130;01m\\n\u001B[39;00m\u001B[38;5;130;01m\\n\u001B[39;00m\u001B[38;5;124m\"\u001B[39m\n\u001B[0;32m   (...)\u001B[0m\n\u001B[1;32m  11667\u001B[0m     \u001B[38;5;241m*\u001B[39m\u001B[38;5;241m*\u001B[39mkwargs,\n\u001B[1;32m  11668\u001B[0m ):\n\u001B[0;32m> 11669\u001B[0m     \u001B[38;5;28;01mreturn\u001B[39;00m \u001B[43mNDFrame\u001B[49m\u001B[38;5;241;43m.\u001B[39;49m\u001B[43mmin\u001B[49m\u001B[43m(\u001B[49m\u001B[38;5;28;43mself\u001B[39;49m\u001B[43m,\u001B[49m\u001B[43m \u001B[49m\u001B[43maxis\u001B[49m\u001B[43m,\u001B[49m\u001B[43m \u001B[49m\u001B[43mskipna\u001B[49m\u001B[43m,\u001B[49m\u001B[43m \u001B[49m\u001B[43mnumeric_only\u001B[49m\u001B[43m,\u001B[49m\u001B[43m \u001B[49m\u001B[38;5;241;43m*\u001B[39;49m\u001B[38;5;241;43m*\u001B[39;49m\u001B[43mkwargs\u001B[49m\u001B[43m)\u001B[49m\n",
      "File \u001B[0;32m~/miniconda3/envs/BigData/lib/python3.10/site-packages/pandas/core/generic.py:11169\u001B[0m, in \u001B[0;36mNDFrame.min\u001B[0;34m(self, axis, skipna, numeric_only, **kwargs)\u001B[0m\n\u001B[1;32m  11162\u001B[0m \u001B[38;5;28;01mdef\u001B[39;00m \u001B[38;5;21mmin\u001B[39m(\n\u001B[1;32m  11163\u001B[0m     \u001B[38;5;28mself\u001B[39m,\n\u001B[1;32m  11164\u001B[0m     axis: Axis \u001B[38;5;241m|\u001B[39m \u001B[38;5;28;01mNone\u001B[39;00m \u001B[38;5;241m=\u001B[39m \u001B[38;5;241m0\u001B[39m,\n\u001B[0;32m   (...)\u001B[0m\n\u001B[1;32m  11167\u001B[0m     \u001B[38;5;241m*\u001B[39m\u001B[38;5;241m*\u001B[39mkwargs,\n\u001B[1;32m  11168\u001B[0m ):\n\u001B[0;32m> 11169\u001B[0m     \u001B[38;5;28;01mreturn\u001B[39;00m \u001B[38;5;28;43mself\u001B[39;49m\u001B[38;5;241;43m.\u001B[39;49m\u001B[43m_stat_function\u001B[49m\u001B[43m(\u001B[49m\n\u001B[1;32m  11170\u001B[0m \u001B[43m        \u001B[49m\u001B[38;5;124;43m\"\u001B[39;49m\u001B[38;5;124;43mmin\u001B[39;49m\u001B[38;5;124;43m\"\u001B[39;49m\u001B[43m,\u001B[49m\n\u001B[1;32m  11171\u001B[0m \u001B[43m        \u001B[49m\u001B[43mnanops\u001B[49m\u001B[38;5;241;43m.\u001B[39;49m\u001B[43mnanmin\u001B[49m\u001B[43m,\u001B[49m\n\u001B[1;32m  11172\u001B[0m \u001B[43m        \u001B[49m\u001B[43maxis\u001B[49m\u001B[43m,\u001B[49m\n\u001B[1;32m  11173\u001B[0m \u001B[43m        \u001B[49m\u001B[43mskipna\u001B[49m\u001B[43m,\u001B[49m\n\u001B[1;32m  11174\u001B[0m \u001B[43m        \u001B[49m\u001B[43mnumeric_only\u001B[49m\u001B[43m,\u001B[49m\n\u001B[1;32m  11175\u001B[0m \u001B[43m        \u001B[49m\u001B[38;5;241;43m*\u001B[39;49m\u001B[38;5;241;43m*\u001B[39;49m\u001B[43mkwargs\u001B[49m\u001B[43m,\u001B[49m\n\u001B[1;32m  11176\u001B[0m \u001B[43m    \u001B[49m\u001B[43m)\u001B[49m\n",
      "File \u001B[0;32m~/miniconda3/envs/BigData/lib/python3.10/site-packages/pandas/core/generic.py:11158\u001B[0m, in \u001B[0;36mNDFrame._stat_function\u001B[0;34m(self, name, func, axis, skipna, numeric_only, **kwargs)\u001B[0m\n\u001B[1;32m  11154\u001B[0m     nv\u001B[38;5;241m.\u001B[39mvalidate_stat_func((), kwargs, fname\u001B[38;5;241m=\u001B[39mname)\n\u001B[1;32m  11156\u001B[0m validate_bool_kwarg(skipna, \u001B[38;5;124m\"\u001B[39m\u001B[38;5;124mskipna\u001B[39m\u001B[38;5;124m\"\u001B[39m, none_allowed\u001B[38;5;241m=\u001B[39m\u001B[38;5;28;01mFalse\u001B[39;00m)\n\u001B[0;32m> 11158\u001B[0m \u001B[38;5;28;01mreturn\u001B[39;00m \u001B[38;5;28;43mself\u001B[39;49m\u001B[38;5;241;43m.\u001B[39;49m\u001B[43m_reduce\u001B[49m\u001B[43m(\u001B[49m\n\u001B[1;32m  11159\u001B[0m \u001B[43m    \u001B[49m\u001B[43mfunc\u001B[49m\u001B[43m,\u001B[49m\u001B[43m \u001B[49m\u001B[43mname\u001B[49m\u001B[38;5;241;43m=\u001B[39;49m\u001B[43mname\u001B[49m\u001B[43m,\u001B[49m\u001B[43m \u001B[49m\u001B[43maxis\u001B[49m\u001B[38;5;241;43m=\u001B[39;49m\u001B[43maxis\u001B[49m\u001B[43m,\u001B[49m\u001B[43m \u001B[49m\u001B[43mskipna\u001B[49m\u001B[38;5;241;43m=\u001B[39;49m\u001B[43mskipna\u001B[49m\u001B[43m,\u001B[49m\u001B[43m \u001B[49m\u001B[43mnumeric_only\u001B[49m\u001B[38;5;241;43m=\u001B[39;49m\u001B[43mnumeric_only\u001B[49m\n\u001B[1;32m  11160\u001B[0m \u001B[43m\u001B[49m\u001B[43m)\u001B[49m\n",
      "File \u001B[0;32m~/miniconda3/envs/BigData/lib/python3.10/site-packages/pandas/core/series.py:4670\u001B[0m, in \u001B[0;36mSeries._reduce\u001B[0;34m(self, op, name, axis, skipna, numeric_only, filter_type, **kwds)\u001B[0m\n\u001B[1;32m   4665\u001B[0m     \u001B[38;5;28;01mraise\u001B[39;00m \u001B[38;5;167;01mTypeError\u001B[39;00m(\n\u001B[1;32m   4666\u001B[0m         \u001B[38;5;124mf\u001B[39m\u001B[38;5;124m\"\u001B[39m\u001B[38;5;124mSeries.\u001B[39m\u001B[38;5;132;01m{\u001B[39;00mname\u001B[38;5;132;01m}\u001B[39;00m\u001B[38;5;124m does not allow \u001B[39m\u001B[38;5;132;01m{\u001B[39;00mkwd_name\u001B[38;5;132;01m}\u001B[39;00m\u001B[38;5;124m=\u001B[39m\u001B[38;5;132;01m{\u001B[39;00mnumeric_only\u001B[38;5;132;01m}\u001B[39;00m\u001B[38;5;124m \u001B[39m\u001B[38;5;124m\"\u001B[39m\n\u001B[1;32m   4667\u001B[0m         \u001B[38;5;124m\"\u001B[39m\u001B[38;5;124mwith non-numeric dtypes.\u001B[39m\u001B[38;5;124m\"\u001B[39m\n\u001B[1;32m   4668\u001B[0m     )\n\u001B[1;32m   4669\u001B[0m \u001B[38;5;28;01mwith\u001B[39;00m np\u001B[38;5;241m.\u001B[39merrstate(\u001B[38;5;28mall\u001B[39m\u001B[38;5;241m=\u001B[39m\u001B[38;5;124m\"\u001B[39m\u001B[38;5;124mignore\u001B[39m\u001B[38;5;124m\"\u001B[39m):\n\u001B[0;32m-> 4670\u001B[0m     \u001B[38;5;28;01mreturn\u001B[39;00m \u001B[43mop\u001B[49m\u001B[43m(\u001B[49m\u001B[43mdelegate\u001B[49m\u001B[43m,\u001B[49m\u001B[43m \u001B[49m\u001B[43mskipna\u001B[49m\u001B[38;5;241;43m=\u001B[39;49m\u001B[43mskipna\u001B[49m\u001B[43m,\u001B[49m\u001B[43m \u001B[49m\u001B[38;5;241;43m*\u001B[39;49m\u001B[38;5;241;43m*\u001B[39;49m\u001B[43mkwds\u001B[49m\u001B[43m)\u001B[49m\n",
      "File \u001B[0;32m~/miniconda3/envs/BigData/lib/python3.10/site-packages/pandas/core/nanops.py:158\u001B[0m, in \u001B[0;36mbottleneck_switch.__call__.<locals>.f\u001B[0;34m(values, axis, skipna, **kwds)\u001B[0m\n\u001B[1;32m    156\u001B[0m         result \u001B[38;5;241m=\u001B[39m alt(values, axis\u001B[38;5;241m=\u001B[39maxis, skipna\u001B[38;5;241m=\u001B[39mskipna, \u001B[38;5;241m*\u001B[39m\u001B[38;5;241m*\u001B[39mkwds)\n\u001B[1;32m    157\u001B[0m \u001B[38;5;28;01melse\u001B[39;00m:\n\u001B[0;32m--> 158\u001B[0m     result \u001B[38;5;241m=\u001B[39m \u001B[43malt\u001B[49m\u001B[43m(\u001B[49m\u001B[43mvalues\u001B[49m\u001B[43m,\u001B[49m\u001B[43m \u001B[49m\u001B[43maxis\u001B[49m\u001B[38;5;241;43m=\u001B[39;49m\u001B[43maxis\u001B[49m\u001B[43m,\u001B[49m\u001B[43m \u001B[49m\u001B[43mskipna\u001B[49m\u001B[38;5;241;43m=\u001B[39;49m\u001B[43mskipna\u001B[49m\u001B[43m,\u001B[49m\u001B[43m \u001B[49m\u001B[38;5;241;43m*\u001B[39;49m\u001B[38;5;241;43m*\u001B[39;49m\u001B[43mkwds\u001B[49m\u001B[43m)\u001B[49m\n\u001B[1;32m    160\u001B[0m \u001B[38;5;28;01mreturn\u001B[39;00m result\n",
      "File \u001B[0;32m~/miniconda3/envs/BigData/lib/python3.10/site-packages/pandas/core/nanops.py:421\u001B[0m, in \u001B[0;36m_datetimelike_compat.<locals>.new_func\u001B[0;34m(values, axis, skipna, mask, **kwargs)\u001B[0m\n\u001B[1;32m    418\u001B[0m \u001B[38;5;28;01mif\u001B[39;00m datetimelike \u001B[38;5;129;01mand\u001B[39;00m mask \u001B[38;5;129;01mis\u001B[39;00m \u001B[38;5;28;01mNone\u001B[39;00m:\n\u001B[1;32m    419\u001B[0m     mask \u001B[38;5;241m=\u001B[39m isna(values)\n\u001B[0;32m--> 421\u001B[0m result \u001B[38;5;241m=\u001B[39m \u001B[43mfunc\u001B[49m\u001B[43m(\u001B[49m\u001B[43mvalues\u001B[49m\u001B[43m,\u001B[49m\u001B[43m \u001B[49m\u001B[43maxis\u001B[49m\u001B[38;5;241;43m=\u001B[39;49m\u001B[43maxis\u001B[49m\u001B[43m,\u001B[49m\u001B[43m \u001B[49m\u001B[43mskipna\u001B[49m\u001B[38;5;241;43m=\u001B[39;49m\u001B[43mskipna\u001B[49m\u001B[43m,\u001B[49m\u001B[43m \u001B[49m\u001B[43mmask\u001B[49m\u001B[38;5;241;43m=\u001B[39;49m\u001B[43mmask\u001B[49m\u001B[43m,\u001B[49m\u001B[43m \u001B[49m\u001B[38;5;241;43m*\u001B[39;49m\u001B[38;5;241;43m*\u001B[39;49m\u001B[43mkwargs\u001B[49m\u001B[43m)\u001B[49m\n\u001B[1;32m    423\u001B[0m \u001B[38;5;28;01mif\u001B[39;00m datetimelike:\n\u001B[1;32m    424\u001B[0m     result \u001B[38;5;241m=\u001B[39m _wrap_results(result, orig_values\u001B[38;5;241m.\u001B[39mdtype, fill_value\u001B[38;5;241m=\u001B[39miNaT)\n",
      "File \u001B[0;32m~/miniconda3/envs/BigData/lib/python3.10/site-packages/pandas/core/nanops.py:1094\u001B[0m, in \u001B[0;36m_nanminmax.<locals>.reduction\u001B[0;34m(values, axis, skipna, mask)\u001B[0m\n\u001B[1;32m   1092\u001B[0m         result \u001B[38;5;241m=\u001B[39m np\u001B[38;5;241m.\u001B[39mnan\n\u001B[1;32m   1093\u001B[0m \u001B[38;5;28;01melse\u001B[39;00m:\n\u001B[0;32m-> 1094\u001B[0m     result \u001B[38;5;241m=\u001B[39m \u001B[38;5;28;43mgetattr\u001B[39;49m\u001B[43m(\u001B[49m\u001B[43mvalues\u001B[49m\u001B[43m,\u001B[49m\u001B[43m \u001B[49m\u001B[43mmeth\u001B[49m\u001B[43m)\u001B[49m\u001B[43m(\u001B[49m\u001B[43maxis\u001B[49m\u001B[43m)\u001B[49m\n\u001B[1;32m   1096\u001B[0m result \u001B[38;5;241m=\u001B[39m _maybe_null_out(result, axis, mask, values\u001B[38;5;241m.\u001B[39mshape)\n\u001B[1;32m   1097\u001B[0m \u001B[38;5;28;01mreturn\u001B[39;00m result\n",
      "File \u001B[0;32m~/miniconda3/envs/BigData/lib/python3.10/site-packages/numpy/core/_methods.py:45\u001B[0m, in \u001B[0;36m_amin\u001B[0;34m(a, axis, out, keepdims, initial, where)\u001B[0m\n\u001B[1;32m     43\u001B[0m \u001B[38;5;28;01mdef\u001B[39;00m \u001B[38;5;21m_amin\u001B[39m(a, axis\u001B[38;5;241m=\u001B[39m\u001B[38;5;28;01mNone\u001B[39;00m, out\u001B[38;5;241m=\u001B[39m\u001B[38;5;28;01mNone\u001B[39;00m, keepdims\u001B[38;5;241m=\u001B[39m\u001B[38;5;28;01mFalse\u001B[39;00m,\n\u001B[1;32m     44\u001B[0m           initial\u001B[38;5;241m=\u001B[39m_NoValue, where\u001B[38;5;241m=\u001B[39m\u001B[38;5;28;01mTrue\u001B[39;00m):\n\u001B[0;32m---> 45\u001B[0m     \u001B[38;5;28;01mreturn\u001B[39;00m \u001B[43mumr_minimum\u001B[49m\u001B[43m(\u001B[49m\u001B[43ma\u001B[49m\u001B[43m,\u001B[49m\u001B[43m \u001B[49m\u001B[43maxis\u001B[49m\u001B[43m,\u001B[49m\u001B[43m \u001B[49m\u001B[38;5;28;43;01mNone\u001B[39;49;00m\u001B[43m,\u001B[49m\u001B[43m \u001B[49m\u001B[43mout\u001B[49m\u001B[43m,\u001B[49m\u001B[43m \u001B[49m\u001B[43mkeepdims\u001B[49m\u001B[43m,\u001B[49m\u001B[43m \u001B[49m\u001B[43minitial\u001B[49m\u001B[43m,\u001B[49m\u001B[43m \u001B[49m\u001B[43mwhere\u001B[49m\u001B[43m)\u001B[49m\n",
      "\u001B[0;31mTypeError\u001B[0m: '<=' not supported between instances of 'str' and 'float'"
     ]
    }
   ],
   "source": [
    "# 데이터를 주단위로 뽑아서 최소,최대 평균, 표준표차를 구하여라\n",
    "\n",
    "ans = df.resample('W').agg(['min','max','mean','std'])\n",
    "print(ans.head(5))"
   ],
   "metadata": {
    "collapsed": false
   }
  },
  {
   "cell_type": "code",
   "execution_count": null,
   "outputs": [],
   "source": [],
   "metadata": {
    "collapsed": false
   }
  }
 ],
 "metadata": {
  "kernelspec": {
   "display_name": "Python 3",
   "language": "python",
   "name": "python3"
  },
  "language_info": {
   "codemirror_mode": {
    "name": "ipython",
    "version": 2
   },
   "file_extension": ".py",
   "mimetype": "text/x-python",
   "name": "python",
   "nbconvert_exporter": "python",
   "pygments_lexer": "ipython2",
   "version": "2.7.6"
  }
 },
 "nbformat": 4,
 "nbformat_minor": 0
}
