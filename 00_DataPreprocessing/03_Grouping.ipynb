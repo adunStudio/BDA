{
 "cells": [
  {
   "cell_type": "code",
   "execution_count": 1,
   "metadata": {
    "collapsed": true
   },
   "outputs": [],
   "source": [
    "import pandas as pd"
   ]
  },
  {
   "cell_type": "code",
   "execution_count": 2,
   "outputs": [],
   "source": [
    "df = pd.read_csv('https://raw.githubusercontent.com/Datamanim/pandas/main/AB_NYC_2019.csv')"
   ],
   "metadata": {
    "collapsed": false
   }
  },
  {
   "cell_type": "code",
   "execution_count": 4,
   "outputs": [
    {
     "name": "stdout",
     "output_type": "stream",
     "text": [
      "     id                                              name  host_id  \\\n",
      "0  2539                Clean & quiet apt home by the park     2787   \n",
      "1  2595                             Skylit Midtown Castle     2845   \n",
      "2  3647               THE VILLAGE OF HARLEM....NEW YORK !     4632   \n",
      "3  3831                   Cozy Entire Floor of Brownstone     4869   \n",
      "4  5022  Entire Apt: Spacious Studio/Loft by central park     7192   \n",
      "\n",
      "     host_name neighbourhood_group neighbourhood  latitude  longitude  \\\n",
      "0         John            Brooklyn    Kensington  40.64749  -73.97237   \n",
      "1     Jennifer           Manhattan       Midtown  40.75362  -73.98377   \n",
      "2    Elisabeth           Manhattan        Harlem  40.80902  -73.94190   \n",
      "3  LisaRoxanne            Brooklyn  Clinton Hill  40.68514  -73.95976   \n",
      "4        Laura           Manhattan   East Harlem  40.79851  -73.94399   \n",
      "\n",
      "         room_type  price  minimum_nights  number_of_reviews last_review  \\\n",
      "0     Private room    149               1                  9  2018-10-19   \n",
      "1  Entire home/apt    225               1                 45  2019-05-21   \n",
      "2     Private room    150               3                  0         NaN   \n",
      "3  Entire home/apt     89               1                270  2019-07-05   \n",
      "4  Entire home/apt     80              10                  9  2018-11-19   \n",
      "\n",
      "   reviews_per_month  calculated_host_listings_count  availability_365  \n",
      "0               0.21                               6               365  \n",
      "1               0.38                               2               355  \n",
      "2                NaN                               1               365  \n",
      "3               4.64                               1               194  \n",
      "4               0.10                               1                 0  \n"
     ]
    }
   ],
   "source": [
    "print(df.head())"
   ],
   "metadata": {
    "collapsed": false
   }
  },
  {
   "cell_type": "code",
   "execution_count": 5,
   "outputs": [
    {
     "name": "stdout",
     "output_type": "stream",
     "text": [
      "<class 'pandas.core.frame.DataFrame'>\n",
      "RangeIndex: 48895 entries, 0 to 48894\n",
      "Data columns (total 16 columns):\n",
      " #   Column                          Non-Null Count  Dtype  \n",
      "---  ------                          --------------  -----  \n",
      " 0   id                              48895 non-null  int64  \n",
      " 1   name                            48879 non-null  object \n",
      " 2   host_id                         48895 non-null  int64  \n",
      " 3   host_name                       48874 non-null  object \n",
      " 4   neighbourhood_group             48895 non-null  object \n",
      " 5   neighbourhood                   48895 non-null  object \n",
      " 6   latitude                        48895 non-null  float64\n",
      " 7   longitude                       48895 non-null  float64\n",
      " 8   room_type                       48895 non-null  object \n",
      " 9   price                           48895 non-null  int64  \n",
      " 10  minimum_nights                  48895 non-null  int64  \n",
      " 11  number_of_reviews               48895 non-null  int64  \n",
      " 12  last_review                     38843 non-null  object \n",
      " 13  reviews_per_month               38843 non-null  float64\n",
      " 14  calculated_host_listings_count  48895 non-null  int64  \n",
      " 15  availability_365                48895 non-null  int64  \n",
      "dtypes: float64(3), int64(7), object(6)\n",
      "memory usage: 6.0+ MB\n"
     ]
    }
   ],
   "source": [
    "df.info()"
   ],
   "metadata": {
    "collapsed": false
   }
  },
  {
   "cell_type": "code",
   "execution_count": 6,
   "outputs": [
    {
     "data": {
      "text/plain": "                 id       host_id      latitude     longitude         price  \\\ncount  4.889500e+04  4.889500e+04  48895.000000  48895.000000  48895.000000   \nmean   1.901714e+07  6.762001e+07     40.728949    -73.952170    152.720687   \nstd    1.098311e+07  7.861097e+07      0.054530      0.046157    240.154170   \nmin    2.539000e+03  2.438000e+03     40.499790    -74.244420      0.000000   \n25%    9.471945e+06  7.822033e+06     40.690100    -73.983070     69.000000   \n50%    1.967728e+07  3.079382e+07     40.723070    -73.955680    106.000000   \n75%    2.915218e+07  1.074344e+08     40.763115    -73.936275    175.000000   \nmax    3.648724e+07  2.743213e+08     40.913060    -73.712990  10000.000000   \n\n       minimum_nights  number_of_reviews  reviews_per_month  \\\ncount    48895.000000       48895.000000       38843.000000   \nmean         7.029962          23.274466           1.373221   \nstd         20.510550          44.550582           1.680442   \nmin          1.000000           0.000000           0.010000   \n25%          1.000000           1.000000           0.190000   \n50%          3.000000           5.000000           0.720000   \n75%          5.000000          24.000000           2.020000   \nmax       1250.000000         629.000000          58.500000   \n\n       calculated_host_listings_count  availability_365  \ncount                    48895.000000      48895.000000  \nmean                         7.143982        112.781327  \nstd                         32.952519        131.622289  \nmin                          1.000000          0.000000  \n25%                          1.000000          0.000000  \n50%                          1.000000         45.000000  \n75%                          2.000000        227.000000  \nmax                        327.000000        365.000000  ",
      "text/html": "<div>\n<style scoped>\n    .dataframe tbody tr th:only-of-type {\n        vertical-align: middle;\n    }\n\n    .dataframe tbody tr th {\n        vertical-align: top;\n    }\n\n    .dataframe thead th {\n        text-align: right;\n    }\n</style>\n<table border=\"1\" class=\"dataframe\">\n  <thead>\n    <tr style=\"text-align: right;\">\n      <th></th>\n      <th>id</th>\n      <th>host_id</th>\n      <th>latitude</th>\n      <th>longitude</th>\n      <th>price</th>\n      <th>minimum_nights</th>\n      <th>number_of_reviews</th>\n      <th>reviews_per_month</th>\n      <th>calculated_host_listings_count</th>\n      <th>availability_365</th>\n    </tr>\n  </thead>\n  <tbody>\n    <tr>\n      <th>count</th>\n      <td>4.889500e+04</td>\n      <td>4.889500e+04</td>\n      <td>48895.000000</td>\n      <td>48895.000000</td>\n      <td>48895.000000</td>\n      <td>48895.000000</td>\n      <td>48895.000000</td>\n      <td>38843.000000</td>\n      <td>48895.000000</td>\n      <td>48895.000000</td>\n    </tr>\n    <tr>\n      <th>mean</th>\n      <td>1.901714e+07</td>\n      <td>6.762001e+07</td>\n      <td>40.728949</td>\n      <td>-73.952170</td>\n      <td>152.720687</td>\n      <td>7.029962</td>\n      <td>23.274466</td>\n      <td>1.373221</td>\n      <td>7.143982</td>\n      <td>112.781327</td>\n    </tr>\n    <tr>\n      <th>std</th>\n      <td>1.098311e+07</td>\n      <td>7.861097e+07</td>\n      <td>0.054530</td>\n      <td>0.046157</td>\n      <td>240.154170</td>\n      <td>20.510550</td>\n      <td>44.550582</td>\n      <td>1.680442</td>\n      <td>32.952519</td>\n      <td>131.622289</td>\n    </tr>\n    <tr>\n      <th>min</th>\n      <td>2.539000e+03</td>\n      <td>2.438000e+03</td>\n      <td>40.499790</td>\n      <td>-74.244420</td>\n      <td>0.000000</td>\n      <td>1.000000</td>\n      <td>0.000000</td>\n      <td>0.010000</td>\n      <td>1.000000</td>\n      <td>0.000000</td>\n    </tr>\n    <tr>\n      <th>25%</th>\n      <td>9.471945e+06</td>\n      <td>7.822033e+06</td>\n      <td>40.690100</td>\n      <td>-73.983070</td>\n      <td>69.000000</td>\n      <td>1.000000</td>\n      <td>1.000000</td>\n      <td>0.190000</td>\n      <td>1.000000</td>\n      <td>0.000000</td>\n    </tr>\n    <tr>\n      <th>50%</th>\n      <td>1.967728e+07</td>\n      <td>3.079382e+07</td>\n      <td>40.723070</td>\n      <td>-73.955680</td>\n      <td>106.000000</td>\n      <td>3.000000</td>\n      <td>5.000000</td>\n      <td>0.720000</td>\n      <td>1.000000</td>\n      <td>45.000000</td>\n    </tr>\n    <tr>\n      <th>75%</th>\n      <td>2.915218e+07</td>\n      <td>1.074344e+08</td>\n      <td>40.763115</td>\n      <td>-73.936275</td>\n      <td>175.000000</td>\n      <td>5.000000</td>\n      <td>24.000000</td>\n      <td>2.020000</td>\n      <td>2.000000</td>\n      <td>227.000000</td>\n    </tr>\n    <tr>\n      <th>max</th>\n      <td>3.648724e+07</td>\n      <td>2.743213e+08</td>\n      <td>40.913060</td>\n      <td>-73.712990</td>\n      <td>10000.000000</td>\n      <td>1250.000000</td>\n      <td>629.000000</td>\n      <td>58.500000</td>\n      <td>327.000000</td>\n      <td>365.000000</td>\n    </tr>\n  </tbody>\n</table>\n</div>"
     },
     "execution_count": 6,
     "metadata": {},
     "output_type": "execute_result"
    }
   ],
   "source": [
    "df.describe()"
   ],
   "metadata": {
    "collapsed": false
   }
  },
  {
   "cell_type": "code",
   "execution_count": 17,
   "outputs": [
    {
     "name": "stdout",
     "output_type": "stream",
     "text": [
      "host_name\n",
      "'Cil                        1\n",
      "(Ari) HENRY LEE             1\n",
      "(Email hidden by Airbnb)    6\n",
      "(Mary) Haiy                 1\n",
      "-TheQueensCornerLot         1\n",
      "dtype: int64\n"
     ]
    }
   ],
   "source": [
    "# 데이터의 각 host_name의 빈도수를 구하고 host_name으로 정렬하여 상위 5개를 출력하라\n",
    "\n",
    "Ans = df.groupby('host_name').size()\n",
    "print(Ans.head())\n",
    "\n",
    "#Ans = df.value_counts().sort_index()\n",
    "#print(Ans)"
   ],
   "metadata": {
    "collapsed": false
   }
  },
  {
   "cell_type": "code",
   "execution_count": 83,
   "outputs": [
    {
     "name": "stdout",
     "output_type": "stream",
     "text": [
      "              counts\n",
      "host_name           \n",
      "Michael          417\n",
      "David            403\n",
      "Sonder (NYC)     327\n",
      "John             294\n",
      "Alex             279\n",
      "...              ...\n",
      "Jerbean            1\n",
      "Jerald             1\n",
      "Jeonghoon          1\n",
      "Jeny               1\n",
      "현선                 1\n",
      "\n",
      "[11452 rows x 1 columns]\n"
     ]
    }
   ],
   "source": [
    "# 데이터의 각 host_name의 빈도수를 구하고 빈도수 기준 내림차순 정렬한 데이터 프레임을 만들어라. 빈도수 컬럼은 counts로 명명하라\n",
    "Ans = df['host_name'].value_counts().to_frame()\n",
    "Ans.columns = ['counts']\n",
    "Ans.sort_values('counts',ascending=False)\n",
    "\n",
    "Ans = df.groupby('host_name').size().to_frame().rename(columns={0:'counts'}).sort_values('counts',ascending=False)\n",
    "\n",
    "print(Ans)"
   ],
   "metadata": {
    "collapsed": false
   }
  },
  {
   "cell_type": "code",
   "execution_count": 92,
   "outputs": [
    {
     "name": "stdout",
     "output_type": "stream",
     "text": [
      "    neighbourhood_group  neighbourhood  size\n",
      "0                 Bronx       Allerton    42\n",
      "1                 Bronx     Baychester     7\n",
      "2                 Bronx        Belmont    24\n",
      "3                 Bronx      Bronxdale    19\n",
      "4                 Bronx    Castle Hill     9\n",
      "..                  ...            ...   ...\n",
      "216       Staten Island    Tottenville     7\n",
      "217       Staten Island  West Brighton    18\n",
      "218       Staten Island    Westerleigh     2\n",
      "219       Staten Island    Willowbrook     1\n",
      "220       Staten Island        Woodrow     1\n",
      "\n",
      "[221 rows x 3 columns]\n"
     ]
    }
   ],
   "source": [
    "# neighbourhood_group의 값에 따른 neighbourhood컬럼 값의 갯수를 구하여라\n",
    "\n",
    "ans = df.groupby(['neighbourhood_group', 'neighbourhood'], as_index=False).size()\n",
    "\n",
    "print(ans)"
   ],
   "metadata": {
    "collapsed": false
   }
  },
  {
   "cell_type": "code",
   "execution_count": 98,
   "outputs": [
    {
     "ename": "KeyError",
     "evalue": "'size'",
     "output_type": "error",
     "traceback": [
      "\u001B[0;31m---------------------------------------------------------------------------\u001B[0m",
      "\u001B[0;31mKeyError\u001B[0m                                  Traceback (most recent call last)",
      "Cell \u001B[0;32mIn[98], line 4\u001B[0m\n\u001B[1;32m      1\u001B[0m \u001B[38;5;66;03m# neighbourhood_group의 값에 따른 neighbourhood컬럼 값 중 neighbourhood_group그룹의 최댓값들을 출력하라\u001B[39;00m\n\u001B[1;32m      3\u001B[0m ans \u001B[38;5;241m=\u001B[39m df\u001B[38;5;241m.\u001B[39mgroupby([\u001B[38;5;124m'\u001B[39m\u001B[38;5;124mneighbourhood_group\u001B[39m\u001B[38;5;124m'\u001B[39m, \u001B[38;5;124m'\u001B[39m\u001B[38;5;124mneighbourhood\u001B[39m\u001B[38;5;124m'\u001B[39m])\u001B[38;5;241m.\u001B[39msize()\u001B[38;5;241m.\u001B[39mgroupby(\u001B[38;5;124m'\u001B[39m\u001B[38;5;124mneighbourhood_group\u001B[39m\u001B[38;5;124m'\u001B[39m)\u001B[38;5;241m.\u001B[39mmax()\n\u001B[0;32m----> 4\u001B[0m ans \u001B[38;5;241m=\u001B[39m \u001B[43mdf\u001B[49m\u001B[38;5;241;43m.\u001B[39;49m\u001B[43msort_values\u001B[49m\u001B[43m(\u001B[49m\u001B[43m[\u001B[49m\u001B[38;5;124;43m'\u001B[39;49m\u001B[38;5;124;43mneighbourhood_group\u001B[39;49m\u001B[38;5;124;43m'\u001B[39;49m\u001B[43m,\u001B[49m\u001B[43m \u001B[49m\u001B[38;5;124;43m'\u001B[39;49m\u001B[38;5;124;43msize\u001B[39;49m\u001B[38;5;124;43m'\u001B[39;49m\u001B[43m]\u001B[49m\u001B[43m)\u001B[49m\n\u001B[1;32m      5\u001B[0m \u001B[38;5;28mprint\u001B[39m(ans)\n",
      "File \u001B[0;32m~/miniconda3/envs/BigData/lib/python3.10/site-packages/pandas/core/frame.py:6740\u001B[0m, in \u001B[0;36mDataFrame.sort_values\u001B[0;34m(self, by, axis, ascending, inplace, kind, na_position, ignore_index, key)\u001B[0m\n\u001B[1;32m   6735\u001B[0m     \u001B[38;5;28;01mraise\u001B[39;00m \u001B[38;5;167;01mValueError\u001B[39;00m(\n\u001B[1;32m   6736\u001B[0m         \u001B[38;5;124mf\u001B[39m\u001B[38;5;124m\"\u001B[39m\u001B[38;5;124mLength of ascending (\u001B[39m\u001B[38;5;132;01m{\u001B[39;00m\u001B[38;5;28mlen\u001B[39m(ascending)\u001B[38;5;132;01m}\u001B[39;00m\u001B[38;5;124m)\u001B[39m\u001B[38;5;124m\"\u001B[39m  \u001B[38;5;66;03m# type: ignore[arg-type]\u001B[39;00m\n\u001B[1;32m   6737\u001B[0m         \u001B[38;5;124mf\u001B[39m\u001B[38;5;124m\"\u001B[39m\u001B[38;5;124m != length of by (\u001B[39m\u001B[38;5;132;01m{\u001B[39;00m\u001B[38;5;28mlen\u001B[39m(by)\u001B[38;5;132;01m}\u001B[39;00m\u001B[38;5;124m)\u001B[39m\u001B[38;5;124m\"\u001B[39m\n\u001B[1;32m   6738\u001B[0m     )\n\u001B[1;32m   6739\u001B[0m \u001B[38;5;28;01mif\u001B[39;00m \u001B[38;5;28mlen\u001B[39m(by) \u001B[38;5;241m>\u001B[39m \u001B[38;5;241m1\u001B[39m:\n\u001B[0;32m-> 6740\u001B[0m     keys \u001B[38;5;241m=\u001B[39m [\u001B[38;5;28mself\u001B[39m\u001B[38;5;241m.\u001B[39m_get_label_or_level_values(x, axis\u001B[38;5;241m=\u001B[39maxis) \u001B[38;5;28;01mfor\u001B[39;00m x \u001B[38;5;129;01min\u001B[39;00m by]\n\u001B[1;32m   6742\u001B[0m     \u001B[38;5;66;03m# need to rewrap columns in Series to apply key function\u001B[39;00m\n\u001B[1;32m   6743\u001B[0m     \u001B[38;5;28;01mif\u001B[39;00m key \u001B[38;5;129;01mis\u001B[39;00m \u001B[38;5;129;01mnot\u001B[39;00m \u001B[38;5;28;01mNone\u001B[39;00m:\n\u001B[1;32m   6744\u001B[0m         \u001B[38;5;66;03m# error: List comprehension has incompatible type List[Series];\u001B[39;00m\n\u001B[1;32m   6745\u001B[0m         \u001B[38;5;66;03m# expected List[ndarray]\u001B[39;00m\n",
      "File \u001B[0;32m~/miniconda3/envs/BigData/lib/python3.10/site-packages/pandas/core/frame.py:6740\u001B[0m, in \u001B[0;36m<listcomp>\u001B[0;34m(.0)\u001B[0m\n\u001B[1;32m   6735\u001B[0m     \u001B[38;5;28;01mraise\u001B[39;00m \u001B[38;5;167;01mValueError\u001B[39;00m(\n\u001B[1;32m   6736\u001B[0m         \u001B[38;5;124mf\u001B[39m\u001B[38;5;124m\"\u001B[39m\u001B[38;5;124mLength of ascending (\u001B[39m\u001B[38;5;132;01m{\u001B[39;00m\u001B[38;5;28mlen\u001B[39m(ascending)\u001B[38;5;132;01m}\u001B[39;00m\u001B[38;5;124m)\u001B[39m\u001B[38;5;124m\"\u001B[39m  \u001B[38;5;66;03m# type: ignore[arg-type]\u001B[39;00m\n\u001B[1;32m   6737\u001B[0m         \u001B[38;5;124mf\u001B[39m\u001B[38;5;124m\"\u001B[39m\u001B[38;5;124m != length of by (\u001B[39m\u001B[38;5;132;01m{\u001B[39;00m\u001B[38;5;28mlen\u001B[39m(by)\u001B[38;5;132;01m}\u001B[39;00m\u001B[38;5;124m)\u001B[39m\u001B[38;5;124m\"\u001B[39m\n\u001B[1;32m   6738\u001B[0m     )\n\u001B[1;32m   6739\u001B[0m \u001B[38;5;28;01mif\u001B[39;00m \u001B[38;5;28mlen\u001B[39m(by) \u001B[38;5;241m>\u001B[39m \u001B[38;5;241m1\u001B[39m:\n\u001B[0;32m-> 6740\u001B[0m     keys \u001B[38;5;241m=\u001B[39m [\u001B[38;5;28;43mself\u001B[39;49m\u001B[38;5;241;43m.\u001B[39;49m\u001B[43m_get_label_or_level_values\u001B[49m\u001B[43m(\u001B[49m\u001B[43mx\u001B[49m\u001B[43m,\u001B[49m\u001B[43m \u001B[49m\u001B[43maxis\u001B[49m\u001B[38;5;241;43m=\u001B[39;49m\u001B[43maxis\u001B[49m\u001B[43m)\u001B[49m \u001B[38;5;28;01mfor\u001B[39;00m x \u001B[38;5;129;01min\u001B[39;00m by]\n\u001B[1;32m   6742\u001B[0m     \u001B[38;5;66;03m# need to rewrap columns in Series to apply key function\u001B[39;00m\n\u001B[1;32m   6743\u001B[0m     \u001B[38;5;28;01mif\u001B[39;00m key \u001B[38;5;129;01mis\u001B[39;00m \u001B[38;5;129;01mnot\u001B[39;00m \u001B[38;5;28;01mNone\u001B[39;00m:\n\u001B[1;32m   6744\u001B[0m         \u001B[38;5;66;03m# error: List comprehension has incompatible type List[Series];\u001B[39;00m\n\u001B[1;32m   6745\u001B[0m         \u001B[38;5;66;03m# expected List[ndarray]\u001B[39;00m\n",
      "File \u001B[0;32m~/miniconda3/envs/BigData/lib/python3.10/site-packages/pandas/core/generic.py:1778\u001B[0m, in \u001B[0;36mNDFrame._get_label_or_level_values\u001B[0;34m(self, key, axis)\u001B[0m\n\u001B[1;32m   1776\u001B[0m     values \u001B[38;5;241m=\u001B[39m \u001B[38;5;28mself\u001B[39m\u001B[38;5;241m.\u001B[39maxes[axis]\u001B[38;5;241m.\u001B[39mget_level_values(key)\u001B[38;5;241m.\u001B[39m_values\n\u001B[1;32m   1777\u001B[0m \u001B[38;5;28;01melse\u001B[39;00m:\n\u001B[0;32m-> 1778\u001B[0m     \u001B[38;5;28;01mraise\u001B[39;00m \u001B[38;5;167;01mKeyError\u001B[39;00m(key)\n\u001B[1;32m   1780\u001B[0m \u001B[38;5;66;03m# Check for duplicates\u001B[39;00m\n\u001B[1;32m   1781\u001B[0m \u001B[38;5;28;01mif\u001B[39;00m values\u001B[38;5;241m.\u001B[39mndim \u001B[38;5;241m>\u001B[39m \u001B[38;5;241m1\u001B[39m:\n",
      "\u001B[0;31mKeyError\u001B[0m: 'size'"
     ]
    }
   ],
   "source": [
    "# neighbourhood_group의 값에 따른 neighbourhood컬럼 값 중 neighbourhood_group그룹의 최댓값들을 출력하라\n",
    "\n",
    "ans = df.groupby(['neighbourhood_group', 'neighbourhood']).size().groupby('neighbourhood_group').max()\n",
    "print(ans)"
   ],
   "metadata": {
    "collapsed": false
   }
  },
  {
   "cell_type": "code",
   "execution_count": 136,
   "outputs": [
    {
     "name": "stdout",
     "output_type": "stream",
     "text": [
      "                          price                         \n",
      "                           mean           var    max min\n",
      "neighbourhood_group                                     \n",
      "Bronx                 87.496792  11386.885081   2500   0\n",
      "Brooklyn             124.383207  34921.719135  10000   0\n",
      "Manhattan            196.875814  84904.159185  10000   0\n",
      "Queens                99.517649  27923.130227  10000  10\n",
      "Staten Island        114.812332  77073.088342   5000  13\n"
     ]
    }
   ],
   "source": [
    "# neighbourhood_group 값에 따른 price값의 평균, 분산, 최대, 최소 값을 구하여라\n",
    "ans = df[['neighbourhood_group', 'price']].groupby('neighbourhood_group').agg(['mean','var','max','min'])\n",
    "#ans = df[['neighbourhood_group', 'price']].groupby('neighbourhood_group').describe()\n",
    "#\n",
    "\n",
    "#ans = df.groupby('neighbourhood_group')['price'].agg(['mean','var','max','min'])\n",
    "print(ans)"
   ],
   "metadata": {
    "collapsed": false
   }
  },
  {
   "cell_type": "code",
   "execution_count": 137,
   "outputs": [
    {
     "name": "stdout",
     "output_type": "stream",
     "text": [
      "neighbourhood    neighbourhood_group\n",
      "Allerton         Bronx                   87.595238\n",
      "Arden Heights    Staten Island           67.250000\n",
      "Arrochar         Staten Island          115.000000\n",
      "Arverne          Queens                 171.779221\n",
      "Astoria          Queens                 117.187778\n",
      "                                           ...    \n",
      "Windsor Terrace  Brooklyn               138.993631\n",
      "Woodhaven        Queens                  67.170455\n",
      "Woodlawn         Bronx                   60.090909\n",
      "Woodrow          Staten Island          700.000000\n",
      "Woodside         Queens                  85.097872\n",
      "Name: price, Length: 221, dtype: float64\n"
     ]
    }
   ],
   "source": [
    "# neighbourhood 값과 neighbourhood_group 값에 따른 price 의 평균을 구하라\n",
    "\n",
    "ans = df.groupby(['neighbourhood', 'neighbourhood_group'])['price'].mean()\n",
    "print(ans)"
   ],
   "metadata": {
    "collapsed": false
   }
  },
  {
   "cell_type": "code",
   "execution_count": 138,
   "outputs": [
    {
     "name": "stdout",
     "output_type": "stream",
     "text": [
      "neighbourhood_group      Bronx    Brooklyn  Manhattan      Queens  \\\n",
      "neighbourhood                                                       \n",
      "Allerton             87.595238         NaN        NaN         NaN   \n",
      "Arden Heights              NaN         NaN        NaN         NaN   \n",
      "Arrochar                   NaN         NaN        NaN         NaN   \n",
      "Arverne                    NaN         NaN        NaN  171.779221   \n",
      "Astoria                    NaN         NaN        NaN  117.187778   \n",
      "...                        ...         ...        ...         ...   \n",
      "Windsor Terrace            NaN  138.993631        NaN         NaN   \n",
      "Woodhaven                  NaN         NaN        NaN   67.170455   \n",
      "Woodlawn             60.090909         NaN        NaN         NaN   \n",
      "Woodrow                    NaN         NaN        NaN         NaN   \n",
      "Woodside                   NaN         NaN        NaN   85.097872   \n",
      "\n",
      "neighbourhood_group  Staten Island  \n",
      "neighbourhood                       \n",
      "Allerton                       NaN  \n",
      "Arden Heights                67.25  \n",
      "Arrochar                    115.00  \n",
      "Arverne                        NaN  \n",
      "Astoria                        NaN  \n",
      "...                            ...  \n",
      "Windsor Terrace                NaN  \n",
      "Woodhaven                      NaN  \n",
      "Woodlawn                       NaN  \n",
      "Woodrow                     700.00  \n",
      "Woodside                       NaN  \n",
      "\n",
      "[221 rows x 5 columns]\n"
     ]
    }
   ],
   "source": [
    "# neighbourhood 값과 neighbourhood_group 값에 따른 price 의 평균을 계층적 indexing 없이 구하라\n",
    "\n",
    "ans = df.groupby(['neighbourhood', 'neighbourhood_group'])['price'].mean().unstack()\n",
    "print(ans)"
   ],
   "metadata": {
    "collapsed": false
   }
  },
  {
   "cell_type": "code",
   "execution_count": 139,
   "outputs": [
    {
     "name": "stdout",
     "output_type": "stream",
     "text": [
      "neighbourhood_group       Bronx    Brooklyn  Manhattan      Queens  \\\n",
      "neighbourhood                                                        \n",
      "Allerton              87.595238 -999.000000     -999.0 -999.000000   \n",
      "Arden Heights       -999.000000 -999.000000     -999.0 -999.000000   \n",
      "Arrochar            -999.000000 -999.000000     -999.0 -999.000000   \n",
      "Arverne             -999.000000 -999.000000     -999.0  171.779221   \n",
      "Astoria             -999.000000 -999.000000     -999.0  117.187778   \n",
      "...                         ...         ...        ...         ...   \n",
      "Windsor Terrace     -999.000000  138.993631     -999.0 -999.000000   \n",
      "Woodhaven           -999.000000 -999.000000     -999.0   67.170455   \n",
      "Woodlawn              60.090909 -999.000000     -999.0 -999.000000   \n",
      "Woodrow             -999.000000 -999.000000     -999.0 -999.000000   \n",
      "Woodside            -999.000000 -999.000000     -999.0   85.097872   \n",
      "\n",
      "neighbourhood_group  Staten Island  \n",
      "neighbourhood                       \n",
      "Allerton                   -999.00  \n",
      "Arden Heights                67.25  \n",
      "Arrochar                    115.00  \n",
      "Arverne                    -999.00  \n",
      "Astoria                    -999.00  \n",
      "...                            ...  \n",
      "Windsor Terrace            -999.00  \n",
      "Woodhaven                  -999.00  \n",
      "Woodlawn                   -999.00  \n",
      "Woodrow                     700.00  \n",
      "Woodside                   -999.00  \n",
      "\n",
      "[221 rows x 5 columns]\n"
     ]
    }
   ],
   "source": [
    "# neighbourhood 값과 neighbourhood_group 값에 따른 price 의 평균을 계층적 indexing 없이 구하고 nan 값은 -999값으로 채워라\n",
    "\n",
    "ans = df.groupby(['neighbourhood', 'neighbourhood_group'])['price'].mean().unstack().fillna(-999)\n",
    "print(ans)"
   ],
   "metadata": {
    "collapsed": false
   }
  },
  {
   "cell_type": "code",
   "execution_count": 141,
   "outputs": [
    {
     "name": "stdout",
     "output_type": "stream",
     "text": [
      "                     mean            var    max  min\n",
      "neighbourhood                                       \n",
      "Arverne        171.779221   37383.411141   1500   35\n",
      "Astoria        117.187778  122428.811196  10000   25\n",
      "Bay Terrace    142.000000    6816.400000    258   32\n",
      "Bayside        157.948718  166106.470985   2600   30\n",
      "Bayswater       87.470588    2330.889706    230   45\n"
     ]
    }
   ],
   "source": [
    "# 데이터중 neighbourhood_group 값이 Queens값을 가지는 데이터들 중 neighbourhood 그룹별로 price값의 평균, 분산, 최대, 최소값을 구하라\n",
    "\n",
    "ans = df.loc[df['neighbourhood_group'] == 'Queens'].groupby('neighbourhood')['price'].agg(['mean', 'var', 'max', 'min'])\n",
    "\n",
    "print(ans.head())"
   ],
   "metadata": {
    "collapsed": false
   }
  },
  {
   "cell_type": "code",
   "execution_count": 183,
   "outputs": [
    {
     "name": "stdout",
     "output_type": "stream",
     "text": [
      "room_type            Entire home/apt  Private room  Shared room\n",
      "neighbourhood_group                                            \n",
      "Bronx                            379           652           60\n",
      "Brooklyn                        9559         10132          413\n",
      "Manhattan                      13199          7982          480\n",
      "Queens                          2096          3372          198\n",
      "Staten Island                    176           188            9\n",
      "[[  379   652    60]\n",
      " [ 9559 10132   413]\n",
      " [13199  7982   480]\n",
      " [ 2096  3372   198]\n",
      " [  176   188     9]]\n",
      "neighbourhood_group\n",
      "Bronx             1091\n",
      "Brooklyn         20104\n",
      "Manhattan        21661\n",
      "Queens            5666\n",
      "Staten Island      373\n",
      "dtype: int64\n",
      "room_type            Entire home/apt  Private room  Shared room\n",
      "neighbourhood_group                                            \n",
      "Bronx                       0.347388      0.597617     0.054995\n",
      "Brooklyn                    0.475478      0.503979     0.020543\n",
      "Manhattan                   0.609344      0.368496     0.022160\n",
      "Queens                      0.369926      0.595129     0.034945\n",
      "Staten Island               0.471850      0.504021     0.024129\n"
     ]
    }
   ],
   "source": [
    "# 데이터중 neighbourhood_group 값에 따른 room_type 컬럼의 숫자를 구하고 neighbourhood_group 값을 기준으로 각 값의 비율을 구하여라\n",
    "ans = df[['neighbourhood_group', 'room_type']].groupby(['neighbourhood_group','room_type']).size().unstack()\n",
    "print(ans)\n",
    "print(ans.values)\n",
    "print(ans.sum(axis=1))\n",
    "ans.loc[:,:] = (ans.values / ans.sum(axis=1).values.reshape(-1, 1))\n",
    "print(ans)"
   ],
   "metadata": {
    "collapsed": false
   }
  }
 ],
 "metadata": {
  "kernelspec": {
   "display_name": "Python 3",
   "language": "python",
   "name": "python3"
  },
  "language_info": {
   "codemirror_mode": {
    "name": "ipython",
    "version": 2
   },
   "file_extension": ".py",
   "mimetype": "text/x-python",
   "name": "python",
   "nbconvert_exporter": "python",
   "pygments_lexer": "ipython2",
   "version": "2.7.6"
  }
 },
 "nbformat": 4,
 "nbformat_minor": 0
}
