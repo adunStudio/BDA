{
 "cells": [
  {
   "cell_type": "code",
   "execution_count": 2,
   "metadata": {
    "collapsed": true
   },
   "outputs": [],
   "source": [
    "import pandas as pd"
   ]
  },
  {
   "cell_type": "code",
   "execution_count": 3,
   "outputs": [],
   "source": [
    "# 데이터를 로드하라. 컬럼이 한글이기에 적절한 처리해줘야함\n",
    "DataUrl = 'https://raw.githubusercontent.com/Datamanim/pandas/main/Jeju.csv'\n",
    "df = pd.read_csv(DataUrl,encoding='euc-kr')"
   ],
   "metadata": {
    "collapsed": false
   }
  },
  {
   "cell_type": "code",
   "execution_count": 4,
   "outputs": [
    {
     "data": {
      "text/plain": "         id          일자   시도명 읍면동명         거주인구       근무인구        방문인구  \\\n9618  32066  2020-04-30   제주시  도두동    28397.481   3144.895   84052.697   \n9619  32067  2020-04-30  서귀포시  안덕면   348037.846  29106.286  251129.660   \n9620  32068  2020-04-30   제주시   연동  1010643.372  65673.477  447622.068   \n\n           총 유동인구   평균 속도  평균 소요 시간  평균 기온  일강수량  평균 풍속  \n9618   115595.073  41.053    29.421   20.3   0.0    3.0  \n9619   628273.792  46.595    49.189   17.6   0.0    3.5  \n9620  1523938.917  40.863    27.765   14.1   0.0    4.8  ",
      "text/html": "<div>\n<style scoped>\n    .dataframe tbody tr th:only-of-type {\n        vertical-align: middle;\n    }\n\n    .dataframe tbody tr th {\n        vertical-align: top;\n    }\n\n    .dataframe thead th {\n        text-align: right;\n    }\n</style>\n<table border=\"1\" class=\"dataframe\">\n  <thead>\n    <tr style=\"text-align: right;\">\n      <th></th>\n      <th>id</th>\n      <th>일자</th>\n      <th>시도명</th>\n      <th>읍면동명</th>\n      <th>거주인구</th>\n      <th>근무인구</th>\n      <th>방문인구</th>\n      <th>총 유동인구</th>\n      <th>평균 속도</th>\n      <th>평균 소요 시간</th>\n      <th>평균 기온</th>\n      <th>일강수량</th>\n      <th>평균 풍속</th>\n    </tr>\n  </thead>\n  <tbody>\n    <tr>\n      <th>9618</th>\n      <td>32066</td>\n      <td>2020-04-30</td>\n      <td>제주시</td>\n      <td>도두동</td>\n      <td>28397.481</td>\n      <td>3144.895</td>\n      <td>84052.697</td>\n      <td>115595.073</td>\n      <td>41.053</td>\n      <td>29.421</td>\n      <td>20.3</td>\n      <td>0.0</td>\n      <td>3.0</td>\n    </tr>\n    <tr>\n      <th>9619</th>\n      <td>32067</td>\n      <td>2020-04-30</td>\n      <td>서귀포시</td>\n      <td>안덕면</td>\n      <td>348037.846</td>\n      <td>29106.286</td>\n      <td>251129.660</td>\n      <td>628273.792</td>\n      <td>46.595</td>\n      <td>49.189</td>\n      <td>17.6</td>\n      <td>0.0</td>\n      <td>3.5</td>\n    </tr>\n    <tr>\n      <th>9620</th>\n      <td>32068</td>\n      <td>2020-04-30</td>\n      <td>제주시</td>\n      <td>연동</td>\n      <td>1010643.372</td>\n      <td>65673.477</td>\n      <td>447622.068</td>\n      <td>1523938.917</td>\n      <td>40.863</td>\n      <td>27.765</td>\n      <td>14.1</td>\n      <td>0.0</td>\n      <td>4.8</td>\n    </tr>\n  </tbody>\n</table>\n</div>"
     },
     "execution_count": 4,
     "metadata": {},
     "output_type": "execute_result"
    }
   ],
   "source": [
    "# 데이터 마지막 3개행을 출력하라\n",
    "df.tail(3)"
   ],
   "metadata": {
    "collapsed": false
   }
  },
  {
   "cell_type": "code",
   "execution_count": 5,
   "outputs": [
    {
     "name": "stdout",
     "output_type": "stream",
     "text": [
      "Help on method tail in module pandas.core.generic:\n",
      "\n",
      "tail(n: 'int' = 5) -> 'NDFrameT' method of pandas.core.frame.DataFrame instance\n",
      "    Return the last `n` rows.\n",
      "    \n",
      "    This function returns last `n` rows from the object based on\n",
      "    position. It is useful for quickly verifying data, for example,\n",
      "    after sorting or appending rows.\n",
      "    \n",
      "    For negative values of `n`, this function returns all rows except\n",
      "    the first `|n|` rows, equivalent to ``df[|n|:]``.\n",
      "    \n",
      "    If n is larger than the number of rows, this function returns all rows.\n",
      "    \n",
      "    Parameters\n",
      "    ----------\n",
      "    n : int, default 5\n",
      "        Number of rows to select.\n",
      "    \n",
      "    Returns\n",
      "    -------\n",
      "    type of caller\n",
      "        The last `n` rows of the caller object.\n",
      "    \n",
      "    See Also\n",
      "    --------\n",
      "    DataFrame.head : The first `n` rows of the caller object.\n",
      "    \n",
      "    Examples\n",
      "    --------\n",
      "    >>> df = pd.DataFrame({'animal': ['alligator', 'bee', 'falcon', 'lion',\n",
      "    ...                    'monkey', 'parrot', 'shark', 'whale', 'zebra']})\n",
      "    >>> df\n",
      "          animal\n",
      "    0  alligator\n",
      "    1        bee\n",
      "    2     falcon\n",
      "    3       lion\n",
      "    4     monkey\n",
      "    5     parrot\n",
      "    6      shark\n",
      "    7      whale\n",
      "    8      zebra\n",
      "    \n",
      "    Viewing the last 5 lines\n",
      "    \n",
      "    >>> df.tail()\n",
      "       animal\n",
      "    4  monkey\n",
      "    5  parrot\n",
      "    6   shark\n",
      "    7   whale\n",
      "    8   zebra\n",
      "    \n",
      "    Viewing the last `n` lines (three in this case)\n",
      "    \n",
      "    >>> df.tail(3)\n",
      "      animal\n",
      "    6  shark\n",
      "    7  whale\n",
      "    8  zebra\n",
      "    \n",
      "    For negative values of `n`\n",
      "    \n",
      "    >>> df.tail(-3)\n",
      "       animal\n",
      "    3    lion\n",
      "    4  monkey\n",
      "    5  parrot\n",
      "    6   shark\n",
      "    7   whale\n",
      "    8   zebra\n",
      "\n"
     ]
    }
   ],
   "source": [
    "help(df.tail)"
   ],
   "metadata": {
    "collapsed": false
   }
  },
  {
   "cell_type": "code",
   "execution_count": 6,
   "outputs": [],
   "source": [
    "# 수치형: 관측된 값이 수치로 표현 (int, float), 키 몸무게 성적 사고 건수\n",
    "# 범주형: 관측된 결과가 몇 개의 범주 또는 항목, 성별 혈액형 지형"
   ],
   "metadata": {
    "collapsed": false
   }
  },
  {
   "cell_type": "code",
   "execution_count": 7,
   "outputs": [
    {
     "name": "stdout",
     "output_type": "stream",
     "text": [
      "Help on method select_dtypes in module pandas.core.frame:\n",
      "\n",
      "select_dtypes(include=None, exclude=None) -> 'DataFrame' method of pandas.core.frame.DataFrame instance\n",
      "    Return a subset of the DataFrame's columns based on the column dtypes.\n",
      "    \n",
      "    Parameters\n",
      "    ----------\n",
      "    include, exclude : scalar or list-like\n",
      "        A selection of dtypes or strings to be included/excluded. At least\n",
      "        one of these parameters must be supplied.\n",
      "    \n",
      "    Returns\n",
      "    -------\n",
      "    DataFrame\n",
      "        The subset of the frame including the dtypes in ``include`` and\n",
      "        excluding the dtypes in ``exclude``.\n",
      "    \n",
      "    Raises\n",
      "    ------\n",
      "    ValueError\n",
      "        * If both of ``include`` and ``exclude`` are empty\n",
      "        * If ``include`` and ``exclude`` have overlapping elements\n",
      "        * If any kind of string dtype is passed in.\n",
      "    \n",
      "    See Also\n",
      "    --------\n",
      "    DataFrame.dtypes: Return Series with the data type of each column.\n",
      "    \n",
      "    Notes\n",
      "    -----\n",
      "    * To select all *numeric* types, use ``np.number`` or ``'number'``\n",
      "    * To select strings you must use the ``object`` dtype, but note that\n",
      "      this will return *all* object dtype columns\n",
      "    * See the `numpy dtype hierarchy\n",
      "      <https://numpy.org/doc/stable/reference/arrays.scalars.html>`__\n",
      "    * To select datetimes, use ``np.datetime64``, ``'datetime'`` or\n",
      "      ``'datetime64'``\n",
      "    * To select timedeltas, use ``np.timedelta64``, ``'timedelta'`` or\n",
      "      ``'timedelta64'``\n",
      "    * To select Pandas categorical dtypes, use ``'category'``\n",
      "    * To select Pandas datetimetz dtypes, use ``'datetimetz'`` (new in\n",
      "      0.20.0) or ``'datetime64[ns, tz]'``\n",
      "    \n",
      "    Examples\n",
      "    --------\n",
      "    >>> df = pd.DataFrame({'a': [1, 2] * 3,\n",
      "    ...                    'b': [True, False] * 3,\n",
      "    ...                    'c': [1.0, 2.0] * 3})\n",
      "    >>> df\n",
      "            a      b  c\n",
      "    0       1   True  1.0\n",
      "    1       2  False  2.0\n",
      "    2       1   True  1.0\n",
      "    3       2  False  2.0\n",
      "    4       1   True  1.0\n",
      "    5       2  False  2.0\n",
      "    \n",
      "    >>> df.select_dtypes(include='bool')\n",
      "       b\n",
      "    0  True\n",
      "    1  False\n",
      "    2  True\n",
      "    3  False\n",
      "    4  True\n",
      "    5  False\n",
      "    \n",
      "    >>> df.select_dtypes(include=['float64'])\n",
      "       c\n",
      "    0  1.0\n",
      "    1  2.0\n",
      "    2  1.0\n",
      "    3  2.0\n",
      "    4  1.0\n",
      "    5  2.0\n",
      "    \n",
      "    >>> df.select_dtypes(exclude=['int64'])\n",
      "           b    c\n",
      "    0   True  1.0\n",
      "    1  False  2.0\n",
      "    2   True  1.0\n",
      "    3  False  2.0\n",
      "    4   True  1.0\n",
      "    5  False  2.0\n",
      "\n"
     ]
    }
   ],
   "source": [
    "help(df.select_dtypes)"
   ],
   "metadata": {
    "collapsed": false
   }
  },
  {
   "cell_type": "code",
   "execution_count": 8,
   "outputs": [
    {
     "name": "stdout",
     "output_type": "stream",
     "text": [
      "<class 'pandas.core.frame.DataFrame'>\n",
      "RangeIndex: 9621 entries, 0 to 9620\n",
      "Data columns (total 13 columns):\n",
      " #   Column    Non-Null Count  Dtype  \n",
      "---  ------    --------------  -----  \n",
      " 0   id        9621 non-null   int64  \n",
      " 1   일자        9621 non-null   object \n",
      " 2   시도명       9621 non-null   object \n",
      " 3   읍면동명      9621 non-null   object \n",
      " 4   거주인구      9621 non-null   float64\n",
      " 5   근무인구      9621 non-null   float64\n",
      " 6   방문인구      9621 non-null   float64\n",
      " 7   총 유동인구    9621 non-null   float64\n",
      " 8   평균 속도     9621 non-null   float64\n",
      " 9   평균 소요 시간  9621 non-null   float64\n",
      " 10  평균 기온     9621 non-null   float64\n",
      " 11  일강수량      9621 non-null   float64\n",
      " 12  평균 풍속     9621 non-null   float64\n",
      "dtypes: float64(9), int64(1), object(3)\n",
      "memory usage: 977.3+ KB\n"
     ]
    }
   ],
   "source": [
    "df.info()"
   ],
   "metadata": {
    "collapsed": false
   }
  },
  {
   "cell_type": "code",
   "execution_count": 9,
   "outputs": [
    {
     "data": {
      "text/plain": "Index(['id', '거주인구', '근무인구', '방문인구', '총 유동인구', '평균 속도', '평균 소요 시간', '평균 기온',\n       '일강수량', '평균 풍속'],\n      dtype='object')"
     },
     "execution_count": 9,
     "metadata": {},
     "output_type": "execute_result"
    }
   ],
   "source": [
    "# 수치형 변수를 가진 컬럼을 출력하라\n",
    "df.select_dtypes(exclude=object).columns"
   ],
   "metadata": {
    "collapsed": false
   }
  },
  {
   "cell_type": "code",
   "execution_count": 10,
   "outputs": [
    {
     "data": {
      "text/plain": "Index(['일자', '시도명', '읍면동명'], dtype='object')"
     },
     "execution_count": 10,
     "metadata": {},
     "output_type": "execute_result"
    }
   ],
   "source": [
    "# 범주형 변수를 가진 컬럼을 출력하라\n",
    "df.select_dtypes(include=object).columns"
   ],
   "metadata": {
    "collapsed": false
   }
  },
  {
   "cell_type": "code",
   "execution_count": 11,
   "outputs": [
    {
     "name": "stdout",
     "output_type": "stream",
     "text": [
      "id          0\n",
      "일자          0\n",
      "시도명         0\n",
      "읍면동명        0\n",
      "거주인구        0\n",
      "근무인구        0\n",
      "방문인구        0\n",
      "총 유동인구      0\n",
      "평균 속도       0\n",
      "평균 소요 시간    0\n",
      "평균 기온       0\n",
      "일강수량        0\n",
      "평균 풍속       0\n",
      "dtype: int64\n"
     ]
    }
   ],
   "source": [
    "# 각 컬럼의 결측치 숫자를 파악하라\n",
    "#print(df.isnull())\n",
    "print(df.isnull().sum())"
   ],
   "metadata": {
    "collapsed": false
   }
  },
  {
   "cell_type": "code",
   "execution_count": 12,
   "outputs": [
    {
     "name": "stdout",
     "output_type": "stream",
     "text": [
      "<class 'pandas.core.frame.DataFrame'>\n",
      "RangeIndex: 9621 entries, 0 to 9620\n",
      "Data columns (total 13 columns):\n",
      " #   Column    Non-Null Count  Dtype  \n",
      "---  ------    --------------  -----  \n",
      " 0   id        9621 non-null   int64  \n",
      " 1   일자        9621 non-null   object \n",
      " 2   시도명       9621 non-null   object \n",
      " 3   읍면동명      9621 non-null   object \n",
      " 4   거주인구      9621 non-null   float64\n",
      " 5   근무인구      9621 non-null   float64\n",
      " 6   방문인구      9621 non-null   float64\n",
      " 7   총 유동인구    9621 non-null   float64\n",
      " 8   평균 속도     9621 non-null   float64\n",
      " 9   평균 소요 시간  9621 non-null   float64\n",
      " 10  평균 기온     9621 non-null   float64\n",
      " 11  일강수량      9621 non-null   float64\n",
      " 12  평균 풍속     9621 non-null   float64\n",
      "dtypes: float64(9), int64(1), object(3)\n",
      "memory usage: 977.3+ KB\n"
     ]
    }
   ],
   "source": [
    "# 각 컬럼의 데이터수, 데이터타입을 한번에 확인하라\n",
    "df.info()"
   ],
   "metadata": {
    "collapsed": false
   }
  },
  {
   "cell_type": "code",
   "execution_count": 13,
   "outputs": [
    {
     "name": "stdout",
     "output_type": "stream",
     "text": [
      "                 id          거주인구           근무인구           방문인구        총 유동인구  \\\n",
      "count   9621.000000  9.621000e+03    9621.000000    9621.000000  9.621000e+03   \n",
      "mean   27258.000000  3.174315e+05   35471.201510  195889.561802  5.487922e+05   \n",
      "std     2777.487804  2.982079e+05   40381.214775  140706.090325  4.608802e+05   \n",
      "min    22448.000000  9.305552e+03    1407.936000   11538.322000  2.225181e+04   \n",
      "25%    24853.000000  9.539939e+04   12074.498000   99632.153000  2.216910e+05   \n",
      "50%    27258.000000  2.221105e+05   21960.928000  152805.335000  3.866935e+05   \n",
      "75%    29663.000000  4.106671e+05   40192.032000  236325.109000  6.406918e+05   \n",
      "max    32068.000000  1.364504e+06  263476.965000  723459.209000  2.066484e+06   \n",
      "\n",
      "             평균 속도     평균 소요 시간        평균 기온         일강수량        평균 풍속  \n",
      "count  9621.000000  9621.000000  9621.000000  9621.000000  9621.000000  \n",
      "mean     41.109084    37.215873    13.550828     6.972426     2.753171  \n",
      "std       8.758631    12.993786     7.745515    27.617260     1.498538  \n",
      "min      24.333000    12.667000    -9.600000     0.000000     0.000000  \n",
      "25%      34.250000    27.889000     7.600000     0.000000     1.700000  \n",
      "50%      39.640000    34.500000    13.400000     0.000000     2.400000  \n",
      "75%      49.105000    46.176000    19.700000     1.500000     3.400000  \n",
      "max     103.000000   172.200000    30.400000   587.500000    13.333000  \n"
     ]
    }
   ],
   "source": [
    "# 각 수치형 변수의 분포(사분위, 평균, 표준편차, 최대 , 최소)를 확인하라\n",
    "print(df.describe())"
   ],
   "metadata": {
    "collapsed": false
   }
  },
  {
   "cell_type": "code",
   "execution_count": 14,
   "outputs": [
    {
     "data": {
      "text/plain": "0         32249.987\n1        213500.997\n2       1212382.218\n3         33991.653\n4        155036.925\n           ...     \n9616     228260.005\n9617     459959.064\n9618      28397.481\n9619     348037.846\n9620    1010643.372\nName: 거주인구, Length: 9621, dtype: float64"
     },
     "execution_count": 14,
     "metadata": {},
     "output_type": "execute_result"
    }
   ],
   "source": [
    "# 거주인구 컬럼의 값들을 출력하라\n",
    "df['거주인구']"
   ],
   "metadata": {
    "collapsed": false
   }
  },
  {
   "cell_type": "code",
   "execution_count": 15,
   "outputs": [
    {
     "data": {
      "text/plain": "0         32249.987\n1        213500.997\n2       1212382.218\n3         33991.653\n4        155036.925\n           ...     \n9616     228260.005\n9617     459959.064\n9618      28397.481\n9619     348037.846\n9620    1010643.372\nName: 거주인구, Length: 9621, dtype: float64"
     },
     "execution_count": 15,
     "metadata": {},
     "output_type": "execute_result"
    }
   ],
   "source": [
    "df.iloc[:,4]"
   ],
   "metadata": {
    "collapsed": false
   }
  },
  {
   "cell_type": "code",
   "execution_count": 16,
   "outputs": [
    {
     "data": {
      "text/plain": "0         32249.987\n1        213500.997\n2       1212382.218\n3         33991.653\n4        155036.925\n           ...     \n9616     228260.005\n9617     459959.064\n9618      28397.481\n9619     348037.846\n9620    1010643.372\nName: 거주인구, Length: 9621, dtype: float64"
     },
     "execution_count": 16,
     "metadata": {},
     "output_type": "execute_result"
    }
   ],
   "source": [
    "df.loc[:,'거주인구']"
   ],
   "metadata": {
    "collapsed": false
   }
  },
  {
   "cell_type": "code",
   "execution_count": 24,
   "outputs": [
    {
     "name": "stdout",
     "output_type": "stream",
     "text": [
      "14.854999999999997\n",
      "8.758631111827016\n"
     ]
    }
   ],
   "source": [
    "# 평균 속도 컬럼의 4분위 범위(IQR) 값을 구하여라\n",
    "# Q1: ~25\n",
    "# Q2; ~50\n",
    "# Q3: ~75\n",
    "# Q4: ~100\n",
    "# 사분위수 범위는 가장 작은 값부터 가장 큰 값까지 순서대로 나열했을 때 중간 50% 의 값을 나타냅니다.\n",
    "# 75% - 25%\n",
    "print(df['평균 속도'].quantile(0.75) - df['평균 속도'].quantile(0.25))\n",
    "print(df['평균 속도'].std())"
   ],
   "metadata": {
    "collapsed": false
   }
  },
  {
   "cell_type": "code",
   "execution_count": 18,
   "outputs": [
    {
     "data": {
      "text/plain": "41"
     },
     "execution_count": 18,
     "metadata": {},
     "output_type": "execute_result"
    }
   ],
   "source": [
    "# 읍면동명 컬럼의 유일값 갯수를 출력하라\n",
    "df[\"읍면동명\"].unique().size"
   ],
   "metadata": {
    "collapsed": false
   }
  },
  {
   "cell_type": "code",
   "execution_count": 19,
   "outputs": [
    {
     "data": {
      "text/plain": "41"
     },
     "execution_count": 19,
     "metadata": {},
     "output_type": "execute_result"
    }
   ],
   "source": [
    "df.읍면동명.nunique()"
   ],
   "metadata": {
    "collapsed": false
   }
  }
 ],
 "metadata": {
  "kernelspec": {
   "display_name": "Python 3",
   "language": "python",
   "name": "python3"
  },
  "language_info": {
   "codemirror_mode": {
    "name": "ipython",
    "version": 2
   },
   "file_extension": ".py",
   "mimetype": "text/x-python",
   "name": "python",
   "nbconvert_exporter": "python",
   "pygments_lexer": "ipython2",
   "version": "2.7.6"
  }
 },
 "nbformat": 4,
 "nbformat_minor": 0
}
