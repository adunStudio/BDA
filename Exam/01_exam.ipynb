{
 "cells": [
  {
   "cell_type": "markdown",
   "source": [
    "https://www.datamanim.com/dataset/practice/q1.html"
   ],
   "metadata": {
    "collapsed": false
   }
  },
  {
   "cell_type": "markdown",
   "source": [
    "작업 1유형\n",
    "Attention\n",
    "\n",
    "데이터 출처 : https://archive.ics.uci.edu/ml/datasets/Bank+Marketing (후처리 작업)\n",
    "데이터 설명 : 은행의 전화 마케팅에 대해 고객의 반응 여부\n",
    "dataurl : https://raw.githubusercontent.com/Datamanim/datarepo/main/bank/train.csv"
   ],
   "metadata": {
    "collapsed": false
   }
  },
  {
   "cell_type": "code",
   "execution_count": 73,
   "outputs": [],
   "source": [
    "import pandas as pd"
   ],
   "metadata": {
    "collapsed": false
   }
  },
  {
   "cell_type": "code",
   "execution_count": 74,
   "outputs": [
    {
     "data": {
      "text/plain": "      ID  age         job  marital  education default  balance housing loan  \\\n0  13829   29  technician   single   tertiary      no    18254      no   no   \n1  22677   26    services   single  secondary      no      512     yes  yes   \n2  10541   30  management   single  secondary      no      135      no   no   \n3  13689   41  technician  married    unknown      no       30     yes   no   \n4  11304   27      admin.   single  secondary      no      321      no  yes   \n\n    contact  day month  campaign  pdays  previous poutcome   y  \n0  cellular   11   may         2     -1         0  unknown  no  \n1   unknown    5   jun         3     -1         0  unknown  no  \n2  cellular   14   aug         2     -1         0  unknown  no  \n3  cellular   10   jul         1     -1         0  unknown  no  \n4   unknown    2   sep         1     -1         0  unknown  no  ",
      "text/html": "<div>\n<style scoped>\n    .dataframe tbody tr th:only-of-type {\n        vertical-align: middle;\n    }\n\n    .dataframe tbody tr th {\n        vertical-align: top;\n    }\n\n    .dataframe thead th {\n        text-align: right;\n    }\n</style>\n<table border=\"1\" class=\"dataframe\">\n  <thead>\n    <tr style=\"text-align: right;\">\n      <th></th>\n      <th>ID</th>\n      <th>age</th>\n      <th>job</th>\n      <th>marital</th>\n      <th>education</th>\n      <th>default</th>\n      <th>balance</th>\n      <th>housing</th>\n      <th>loan</th>\n      <th>contact</th>\n      <th>day</th>\n      <th>month</th>\n      <th>campaign</th>\n      <th>pdays</th>\n      <th>previous</th>\n      <th>poutcome</th>\n      <th>y</th>\n    </tr>\n  </thead>\n  <tbody>\n    <tr>\n      <th>0</th>\n      <td>13829</td>\n      <td>29</td>\n      <td>technician</td>\n      <td>single</td>\n      <td>tertiary</td>\n      <td>no</td>\n      <td>18254</td>\n      <td>no</td>\n      <td>no</td>\n      <td>cellular</td>\n      <td>11</td>\n      <td>may</td>\n      <td>2</td>\n      <td>-1</td>\n      <td>0</td>\n      <td>unknown</td>\n      <td>no</td>\n    </tr>\n    <tr>\n      <th>1</th>\n      <td>22677</td>\n      <td>26</td>\n      <td>services</td>\n      <td>single</td>\n      <td>secondary</td>\n      <td>no</td>\n      <td>512</td>\n      <td>yes</td>\n      <td>yes</td>\n      <td>unknown</td>\n      <td>5</td>\n      <td>jun</td>\n      <td>3</td>\n      <td>-1</td>\n      <td>0</td>\n      <td>unknown</td>\n      <td>no</td>\n    </tr>\n    <tr>\n      <th>2</th>\n      <td>10541</td>\n      <td>30</td>\n      <td>management</td>\n      <td>single</td>\n      <td>secondary</td>\n      <td>no</td>\n      <td>135</td>\n      <td>no</td>\n      <td>no</td>\n      <td>cellular</td>\n      <td>14</td>\n      <td>aug</td>\n      <td>2</td>\n      <td>-1</td>\n      <td>0</td>\n      <td>unknown</td>\n      <td>no</td>\n    </tr>\n    <tr>\n      <th>3</th>\n      <td>13689</td>\n      <td>41</td>\n      <td>technician</td>\n      <td>married</td>\n      <td>unknown</td>\n      <td>no</td>\n      <td>30</td>\n      <td>yes</td>\n      <td>no</td>\n      <td>cellular</td>\n      <td>10</td>\n      <td>jul</td>\n      <td>1</td>\n      <td>-1</td>\n      <td>0</td>\n      <td>unknown</td>\n      <td>no</td>\n    </tr>\n    <tr>\n      <th>4</th>\n      <td>11304</td>\n      <td>27</td>\n      <td>admin.</td>\n      <td>single</td>\n      <td>secondary</td>\n      <td>no</td>\n      <td>321</td>\n      <td>no</td>\n      <td>yes</td>\n      <td>unknown</td>\n      <td>2</td>\n      <td>sep</td>\n      <td>1</td>\n      <td>-1</td>\n      <td>0</td>\n      <td>unknown</td>\n      <td>no</td>\n    </tr>\n  </tbody>\n</table>\n</div>"
     },
     "metadata": {},
     "output_type": "display_data"
    }
   ],
   "source": [
    "df = pd.read_csv(\"https://raw.githubusercontent.com/Datamanim/datarepo/main/bank/train.csv\")\n",
    "display(df.head())"
   ],
   "metadata": {
    "collapsed": false
   }
  },
  {
   "cell_type": "code",
   "execution_count": 75,
   "outputs": [
    {
     "name": "stdout",
     "output_type": "stream",
     "text": [
      "<class 'pandas.core.frame.DataFrame'>\n",
      "RangeIndex: 12870 entries, 0 to 12869\n",
      "Data columns (total 17 columns):\n",
      " #   Column     Non-Null Count  Dtype \n",
      "---  ------     --------------  ----- \n",
      " 0   ID         12870 non-null  int64 \n",
      " 1   age        12870 non-null  int64 \n",
      " 2   job        12870 non-null  object\n",
      " 3   marital    12870 non-null  object\n",
      " 4   education  12870 non-null  object\n",
      " 5   default    12870 non-null  object\n",
      " 6   balance    12870 non-null  int64 \n",
      " 7   housing    12870 non-null  object\n",
      " 8   loan       12870 non-null  object\n",
      " 9   contact    12870 non-null  object\n",
      " 10  day        12870 non-null  int64 \n",
      " 11  month      12870 non-null  object\n",
      " 12  campaign   12870 non-null  int64 \n",
      " 13  pdays      12870 non-null  int64 \n",
      " 14  previous   12870 non-null  int64 \n",
      " 15  poutcome   12870 non-null  object\n",
      " 16  y          12870 non-null  object\n",
      "dtypes: int64(7), object(10)\n",
      "memory usage: 1.7+ MB\n"
     ]
    }
   ],
   "source": [
    "df.info()"
   ],
   "metadata": {
    "collapsed": false
   }
  },
  {
   "cell_type": "code",
   "execution_count": 76,
   "outputs": [
    {
     "data": {
      "text/plain": "30"
     },
     "metadata": {},
     "output_type": "display_data"
    }
   ],
   "source": [
    "\"\"\"\n",
    "Question1\n",
    "\n",
    "마케팅 응답 고객들의 나이를 10살 단위로 변환 했을 때, 가장 많은 인원을 가진 나이대는? (0~9 : 0 , 10~19 : 10)\n",
    "\"\"\"\n",
    "df['age2'] = df['age'] // 10 * 10\n",
    "#display(df)\n",
    "ans = df['age2'].value_counts().sort_values(ascending=False).index[0]\n",
    "display(int(ans))"
   ],
   "metadata": {
    "collapsed": false
   }
  },
  {
   "cell_type": "code",
   "execution_count": 77,
   "outputs": [
    {
     "data": {
      "text/plain": "5056"
     },
     "metadata": {},
     "output_type": "display_data"
    }
   ],
   "source": [
    "\"\"\"\n",
    "Question2\n",
    "\n",
    "마케팅 응답 고객들의 나이를 10살 단위로 변환 했을 때, 가장 많은 나이대 구간의 인원은 몇명인가?\n",
    "\"\"\"\n",
    "ans = df['age2'].value_counts().sort_values(ascending=False).values[0]\n",
    "display(int(ans))"
   ],
   "metadata": {
    "collapsed": false
   }
  },
  {
   "cell_type": "code",
   "execution_count": 78,
   "outputs": [
    {
     "name": "stdout",
     "output_type": "stream",
     "text": [
      "504\n"
     ]
    }
   ],
   "source": [
    "\"\"\"\n",
    "Question3\n",
    "\n",
    "나이가 25살 이상 29살 미만인 응답 고객들중 housing컬럼의 값이 yes인 고객의 수는?\n",
    "\"\"\"\n",
    "ans = len(df.loc[(25 <= df['age']) & (df['age'] < 29) & (df['housing'] == 'yes')])\n",
    "print(int(ans))"
   ],
   "metadata": {
    "collapsed": false
   }
  },
  {
   "cell_type": "code",
   "execution_count": 79,
   "outputs": [
    {
     "name": "stdout",
     "output_type": "stream",
     "text": [
      "['job' 'month']\n"
     ]
    }
   ],
   "source": [
    "\"\"\"\n",
    "Question4\n",
    "\n",
    "numeric한 값을 가지지 않은 컬럼들중 unique한 값을 가장 많이 가지는 컬럼은?\n",
    "\"\"\"\n",
    "\n",
    "lst= []\n",
    "for col in df.select_dtypes(exclude='int'):\n",
    "    target = df[col]\n",
    "    lst.append([col,target.nunique()])\n",
    "\n",
    "dfs  = pd.DataFrame(lst).sort_values(1,ascending=False)\n",
    "result = dfs[dfs[1] ==dfs[1].max()][0].values\n",
    "print(result)"
   ],
   "metadata": {
    "collapsed": false
   }
  },
  {
   "cell_type": "code",
   "execution_count": 80,
   "outputs": [
    {
     "data": {
      "text/plain": "          ID  age          job   marital  education default  balance housing  \\\n1295   22866   39  blue-collar   married    primary      no     2288     yes   \n1697   22860   23   management    single   tertiary      no     1807      no   \n4196   22853   36   management  divorced   tertiary      no     5195     yes   \n279    22849   22      student    single  secondary      no     1925      no   \n3539   22848   31  blue-collar   married  secondary      no     1766      no   \n...      ...  ...          ...       ...        ...     ...      ...     ...   \n9400   22495   45  blue-collar  divorced  secondary      no     1951     yes   \n7922   22492   38       admin.   married   tertiary      no     1988      no   \n7153   22491   65      retired   married    primary      no     3629      no   \n10465  22489   57       admin.    single  secondary      no     5768     yes   \n10143  22484   46       admin.   married  secondary      no     3098     yes   \n\n      loan    contact  day month  campaign  pdays  previous poutcome    y  \\\n1295    no   cellular   15   may         1     -1         0  unknown   no   \n1697    no   cellular   27   jul         1     -1         0  unknown  yes   \n4196    no    unknown    2   jun        25     -1         0  unknown   no   \n279     no   cellular    4   may         1     -1         0  unknown   no   \n3539   yes   cellular    5   jun         2     -1         0  unknown  yes   \n...    ...        ...  ...   ...       ...    ...       ...      ...  ...   \n9400    no   cellular    4   feb         1     -1         0  unknown   no   \n7922    no   cellular    2   jun         1     67         4  success  yes   \n7153    no   cellular   27   apr         1     -1         0  unknown  yes   \n10465   no    unknown   19   jun         1     -1         0  unknown  yes   \n10143   no  telephone   21   nov         9     -1         0  unknown   no   \n\n       age2  \n1295     30  \n1697     20  \n4196     30  \n279      20  \n3539     30  \n...     ...  \n9400     40  \n7922     30  \n7153     60  \n10465    50  \n10143    40  \n\n[100 rows x 18 columns]",
      "text/html": "<div>\n<style scoped>\n    .dataframe tbody tr th:only-of-type {\n        vertical-align: middle;\n    }\n\n    .dataframe tbody tr th {\n        vertical-align: top;\n    }\n\n    .dataframe thead th {\n        text-align: right;\n    }\n</style>\n<table border=\"1\" class=\"dataframe\">\n  <thead>\n    <tr style=\"text-align: right;\">\n      <th></th>\n      <th>ID</th>\n      <th>age</th>\n      <th>job</th>\n      <th>marital</th>\n      <th>education</th>\n      <th>default</th>\n      <th>balance</th>\n      <th>housing</th>\n      <th>loan</th>\n      <th>contact</th>\n      <th>day</th>\n      <th>month</th>\n      <th>campaign</th>\n      <th>pdays</th>\n      <th>previous</th>\n      <th>poutcome</th>\n      <th>y</th>\n      <th>age2</th>\n    </tr>\n  </thead>\n  <tbody>\n    <tr>\n      <th>1295</th>\n      <td>22866</td>\n      <td>39</td>\n      <td>blue-collar</td>\n      <td>married</td>\n      <td>primary</td>\n      <td>no</td>\n      <td>2288</td>\n      <td>yes</td>\n      <td>no</td>\n      <td>cellular</td>\n      <td>15</td>\n      <td>may</td>\n      <td>1</td>\n      <td>-1</td>\n      <td>0</td>\n      <td>unknown</td>\n      <td>no</td>\n      <td>30</td>\n    </tr>\n    <tr>\n      <th>1697</th>\n      <td>22860</td>\n      <td>23</td>\n      <td>management</td>\n      <td>single</td>\n      <td>tertiary</td>\n      <td>no</td>\n      <td>1807</td>\n      <td>no</td>\n      <td>no</td>\n      <td>cellular</td>\n      <td>27</td>\n      <td>jul</td>\n      <td>1</td>\n      <td>-1</td>\n      <td>0</td>\n      <td>unknown</td>\n      <td>yes</td>\n      <td>20</td>\n    </tr>\n    <tr>\n      <th>4196</th>\n      <td>22853</td>\n      <td>36</td>\n      <td>management</td>\n      <td>divorced</td>\n      <td>tertiary</td>\n      <td>no</td>\n      <td>5195</td>\n      <td>yes</td>\n      <td>no</td>\n      <td>unknown</td>\n      <td>2</td>\n      <td>jun</td>\n      <td>25</td>\n      <td>-1</td>\n      <td>0</td>\n      <td>unknown</td>\n      <td>no</td>\n      <td>30</td>\n    </tr>\n    <tr>\n      <th>279</th>\n      <td>22849</td>\n      <td>22</td>\n      <td>student</td>\n      <td>single</td>\n      <td>secondary</td>\n      <td>no</td>\n      <td>1925</td>\n      <td>no</td>\n      <td>no</td>\n      <td>cellular</td>\n      <td>4</td>\n      <td>may</td>\n      <td>1</td>\n      <td>-1</td>\n      <td>0</td>\n      <td>unknown</td>\n      <td>no</td>\n      <td>20</td>\n    </tr>\n    <tr>\n      <th>3539</th>\n      <td>22848</td>\n      <td>31</td>\n      <td>blue-collar</td>\n      <td>married</td>\n      <td>secondary</td>\n      <td>no</td>\n      <td>1766</td>\n      <td>no</td>\n      <td>yes</td>\n      <td>cellular</td>\n      <td>5</td>\n      <td>jun</td>\n      <td>2</td>\n      <td>-1</td>\n      <td>0</td>\n      <td>unknown</td>\n      <td>yes</td>\n      <td>30</td>\n    </tr>\n    <tr>\n      <th>...</th>\n      <td>...</td>\n      <td>...</td>\n      <td>...</td>\n      <td>...</td>\n      <td>...</td>\n      <td>...</td>\n      <td>...</td>\n      <td>...</td>\n      <td>...</td>\n      <td>...</td>\n      <td>...</td>\n      <td>...</td>\n      <td>...</td>\n      <td>...</td>\n      <td>...</td>\n      <td>...</td>\n      <td>...</td>\n      <td>...</td>\n    </tr>\n    <tr>\n      <th>9400</th>\n      <td>22495</td>\n      <td>45</td>\n      <td>blue-collar</td>\n      <td>divorced</td>\n      <td>secondary</td>\n      <td>no</td>\n      <td>1951</td>\n      <td>yes</td>\n      <td>no</td>\n      <td>cellular</td>\n      <td>4</td>\n      <td>feb</td>\n      <td>1</td>\n      <td>-1</td>\n      <td>0</td>\n      <td>unknown</td>\n      <td>no</td>\n      <td>40</td>\n    </tr>\n    <tr>\n      <th>7922</th>\n      <td>22492</td>\n      <td>38</td>\n      <td>admin.</td>\n      <td>married</td>\n      <td>tertiary</td>\n      <td>no</td>\n      <td>1988</td>\n      <td>no</td>\n      <td>no</td>\n      <td>cellular</td>\n      <td>2</td>\n      <td>jun</td>\n      <td>1</td>\n      <td>67</td>\n      <td>4</td>\n      <td>success</td>\n      <td>yes</td>\n      <td>30</td>\n    </tr>\n    <tr>\n      <th>7153</th>\n      <td>22491</td>\n      <td>65</td>\n      <td>retired</td>\n      <td>married</td>\n      <td>primary</td>\n      <td>no</td>\n      <td>3629</td>\n      <td>no</td>\n      <td>no</td>\n      <td>cellular</td>\n      <td>27</td>\n      <td>apr</td>\n      <td>1</td>\n      <td>-1</td>\n      <td>0</td>\n      <td>unknown</td>\n      <td>yes</td>\n      <td>60</td>\n    </tr>\n    <tr>\n      <th>10465</th>\n      <td>22489</td>\n      <td>57</td>\n      <td>admin.</td>\n      <td>single</td>\n      <td>secondary</td>\n      <td>no</td>\n      <td>5768</td>\n      <td>yes</td>\n      <td>no</td>\n      <td>unknown</td>\n      <td>19</td>\n      <td>jun</td>\n      <td>1</td>\n      <td>-1</td>\n      <td>0</td>\n      <td>unknown</td>\n      <td>yes</td>\n      <td>50</td>\n    </tr>\n    <tr>\n      <th>10143</th>\n      <td>22484</td>\n      <td>46</td>\n      <td>admin.</td>\n      <td>married</td>\n      <td>secondary</td>\n      <td>no</td>\n      <td>3098</td>\n      <td>yes</td>\n      <td>no</td>\n      <td>telephone</td>\n      <td>21</td>\n      <td>nov</td>\n      <td>9</td>\n      <td>-1</td>\n      <td>0</td>\n      <td>unknown</td>\n      <td>no</td>\n      <td>40</td>\n    </tr>\n  </tbody>\n</table>\n<p>100 rows × 18 columns</p>\n</div>"
     },
     "metadata": {},
     "output_type": "display_data"
    },
    {
     "name": "stdout",
     "output_type": "stream",
     "text": [
      "3473.73\n"
     ]
    }
   ],
   "source": [
    "\"\"\"\n",
    "Question5\n",
    "\n",
    "balance 컬럼값들의 평균값 이상을 가지는 데이터를 ID값을 기준으로 내림차순 정렬했을때 상위 100개 데이터의 balance값의 평균은?\n",
    "\"\"\"\n",
    "target = df.loc[df['balance'] >= df['balance'].mean()]\n",
    "target = target.sort_values(by='ID', ascending=False)[:100]\n",
    "display(target)\n",
    "print(target['balance'].mean())"
   ],
   "metadata": {
    "collapsed": false
   }
  },
  {
   "cell_type": "code",
   "execution_count": 81,
   "outputs": [
    {
     "data": {
      "text/plain": "(15, 'may')"
     },
     "metadata": {},
     "output_type": "display_data"
    }
   ],
   "source": [
    "\"\"\"\n",
    "Question6\n",
    "\n",
    "가장 많은 광고를 집행했던 날짜는 언제인가? (데이터 그대로 일(숫자),달(영문)으로 표기)\n",
    "\"\"\"\n",
    "ans = df[['day', 'month']].value_counts().index[0]\n",
    "display(ans)"
   ],
   "metadata": {
    "collapsed": false
   }
  },
  {
   "cell_type": "code",
   "execution_count": 82,
   "outputs": [
    {
     "data": {
      "text/plain": "'\\nQuestion7\\n\\n데이터의 job이 unknown 상태인 고객들의 age 컬럼 값의 정규성을 검정하고자 한다. 샤피로 검정의 p-value값을 구하여라\\n'"
     },
     "execution_count": 82,
     "metadata": {},
     "output_type": "execute_result"
    }
   ],
   "source": [
    "\"\"\"\n",
    "Question7\n",
    "\n",
    "데이터의 job이 unknown 상태인 고객들의 age 컬럼 값의 정규성을 검정하고자 한다. 샤피로 검정의 p-value값을 구하여라\n",
    "\"\"\""
   ],
   "metadata": {
    "collapsed": false
   }
  },
  {
   "cell_type": "code",
   "execution_count": 83,
   "outputs": [
    {
     "data": {
      "text/plain": "'\\nQuestion8\\n\\nage와 balance의 상관계수를 구하여라\\n'"
     },
     "execution_count": 83,
     "metadata": {},
     "output_type": "execute_result"
    }
   ],
   "source": [
    "\"\"\"\n",
    "Question8\n",
    "\n",
    "age와 balance의 상관계수를 구하여라\n",
    "\"\"\""
   ],
   "metadata": {
    "collapsed": false
   }
  },
  {
   "cell_type": "code",
   "execution_count": 84,
   "outputs": [
    {
     "data": {
      "text/plain": "'\\nQuestion9\\n\\ny 변수와 education 변수는 독립인지 카이제곱검정을 통해 확인하려한다. p-value값을 출력하라\\n'"
     },
     "execution_count": 84,
     "metadata": {},
     "output_type": "execute_result"
    }
   ],
   "source": [
    "\"\"\"\n",
    "Question9\n",
    "\n",
    "y 변수와 education 변수는 독립인지 카이제곱검정을 통해 확인하려한다. p-value값을 출력하라\n",
    "\"\"\""
   ],
   "metadata": {
    "collapsed": false
   }
  },
  {
   "cell_type": "code",
   "execution_count": 85,
   "outputs": [
    {
     "data": {
      "text/plain": "'\\nQuestion10\\n\\n각 job에 따라 divorced/married 인원의 비율을 확인 했을 때 그 값이 가장 높은 값은?\\n'"
     },
     "execution_count": 85,
     "metadata": {},
     "output_type": "execute_result"
    }
   ],
   "source": [
    "\"\"\"\n",
    "Question10\n",
    "\n",
    "각 job에 따라 divorced/married 인원의 비율을 확인 했을 때 그 값이 가장 높은 값은?\n",
    "\"\"\"\n"
   ],
   "metadata": {
    "collapsed": false
   }
  },
  {
   "cell_type": "markdown",
   "source": [
    "작업 2유형\n",
    "Attention\n",
    "\n",
    "데이터 출처 : https://archive.ics.uci.edu/ml/datasets/Bank+Marketing (후처리 작업)\n",
    "데이터 설명 : 은행의 전화 마케팅에 대해 고객의 반응 여부\n",
    "train : https://raw.githubusercontent.com/Datamanim/datarepo/main/bank/train.csv\n",
    "test : https://raw.githubusercontent.com/Datamanim/datarepo/main/bank/test.csv\n",
    "submission : https://raw.githubusercontent.com/Datamanim/datarepo/main/bank/submission.csv"
   ],
   "metadata": {
    "collapsed": false
   }
  },
  {
   "cell_type": "code",
   "execution_count": 86,
   "outputs": [
    {
     "data": {
      "text/plain": "      ID  age         job  marital  education default  balance housing loan  \\\n0  13829   29  technician   single   tertiary      no    18254      no   no   \n1  22677   26    services   single  secondary      no      512     yes  yes   \n2  10541   30  management   single  secondary      no      135      no   no   \n3  13689   41  technician  married    unknown      no       30     yes   no   \n4  11304   27      admin.   single  secondary      no      321      no  yes   \n\n    contact  day month  campaign  pdays  previous poutcome   y  \n0  cellular   11   may         2     -1         0  unknown  no  \n1   unknown    5   jun         3     -1         0  unknown  no  \n2  cellular   14   aug         2     -1         0  unknown  no  \n3  cellular   10   jul         1     -1         0  unknown  no  \n4   unknown    2   sep         1     -1         0  unknown  no  ",
      "text/html": "<div>\n<style scoped>\n    .dataframe tbody tr th:only-of-type {\n        vertical-align: middle;\n    }\n\n    .dataframe tbody tr th {\n        vertical-align: top;\n    }\n\n    .dataframe thead th {\n        text-align: right;\n    }\n</style>\n<table border=\"1\" class=\"dataframe\">\n  <thead>\n    <tr style=\"text-align: right;\">\n      <th></th>\n      <th>ID</th>\n      <th>age</th>\n      <th>job</th>\n      <th>marital</th>\n      <th>education</th>\n      <th>default</th>\n      <th>balance</th>\n      <th>housing</th>\n      <th>loan</th>\n      <th>contact</th>\n      <th>day</th>\n      <th>month</th>\n      <th>campaign</th>\n      <th>pdays</th>\n      <th>previous</th>\n      <th>poutcome</th>\n      <th>y</th>\n    </tr>\n  </thead>\n  <tbody>\n    <tr>\n      <th>0</th>\n      <td>13829</td>\n      <td>29</td>\n      <td>technician</td>\n      <td>single</td>\n      <td>tertiary</td>\n      <td>no</td>\n      <td>18254</td>\n      <td>no</td>\n      <td>no</td>\n      <td>cellular</td>\n      <td>11</td>\n      <td>may</td>\n      <td>2</td>\n      <td>-1</td>\n      <td>0</td>\n      <td>unknown</td>\n      <td>no</td>\n    </tr>\n    <tr>\n      <th>1</th>\n      <td>22677</td>\n      <td>26</td>\n      <td>services</td>\n      <td>single</td>\n      <td>secondary</td>\n      <td>no</td>\n      <td>512</td>\n      <td>yes</td>\n      <td>yes</td>\n      <td>unknown</td>\n      <td>5</td>\n      <td>jun</td>\n      <td>3</td>\n      <td>-1</td>\n      <td>0</td>\n      <td>unknown</td>\n      <td>no</td>\n    </tr>\n    <tr>\n      <th>2</th>\n      <td>10541</td>\n      <td>30</td>\n      <td>management</td>\n      <td>single</td>\n      <td>secondary</td>\n      <td>no</td>\n      <td>135</td>\n      <td>no</td>\n      <td>no</td>\n      <td>cellular</td>\n      <td>14</td>\n      <td>aug</td>\n      <td>2</td>\n      <td>-1</td>\n      <td>0</td>\n      <td>unknown</td>\n      <td>no</td>\n    </tr>\n    <tr>\n      <th>3</th>\n      <td>13689</td>\n      <td>41</td>\n      <td>technician</td>\n      <td>married</td>\n      <td>unknown</td>\n      <td>no</td>\n      <td>30</td>\n      <td>yes</td>\n      <td>no</td>\n      <td>cellular</td>\n      <td>10</td>\n      <td>jul</td>\n      <td>1</td>\n      <td>-1</td>\n      <td>0</td>\n      <td>unknown</td>\n      <td>no</td>\n    </tr>\n    <tr>\n      <th>4</th>\n      <td>11304</td>\n      <td>27</td>\n      <td>admin.</td>\n      <td>single</td>\n      <td>secondary</td>\n      <td>no</td>\n      <td>321</td>\n      <td>no</td>\n      <td>yes</td>\n      <td>unknown</td>\n      <td>2</td>\n      <td>sep</td>\n      <td>1</td>\n      <td>-1</td>\n      <td>0</td>\n      <td>unknown</td>\n      <td>no</td>\n    </tr>\n  </tbody>\n</table>\n</div>"
     },
     "metadata": {},
     "output_type": "display_data"
    },
    {
     "data": {
      "text/plain": "      ID  age          job   marital  education default  balance housing loan  \\\n0  53608   32   management    single   tertiary      no    12569      no   no   \n1  51055   25     services    single  secondary      no      801      no   no   \n2  52573   46  blue-collar   married  secondary      no     1728     yes   no   \n3  50458   39   management  divorced  secondary      no       51      no   no   \n4  52272   31     services    single   tertiary      no     1626      no   no   \n\n    contact  day month  campaign  pdays  previous poutcome  \n0  cellular    1   jul         2    295         2  success  \n1  cellular    5   jun         2     -1         0  unknown  \n2   unknown   26   may         2     -1         0  unknown  \n3   unknown   17   jun         2     -1         0  unknown  \n4   unknown   31   jul         1     -1         0  unknown  ",
      "text/html": "<div>\n<style scoped>\n    .dataframe tbody tr th:only-of-type {\n        vertical-align: middle;\n    }\n\n    .dataframe tbody tr th {\n        vertical-align: top;\n    }\n\n    .dataframe thead th {\n        text-align: right;\n    }\n</style>\n<table border=\"1\" class=\"dataframe\">\n  <thead>\n    <tr style=\"text-align: right;\">\n      <th></th>\n      <th>ID</th>\n      <th>age</th>\n      <th>job</th>\n      <th>marital</th>\n      <th>education</th>\n      <th>default</th>\n      <th>balance</th>\n      <th>housing</th>\n      <th>loan</th>\n      <th>contact</th>\n      <th>day</th>\n      <th>month</th>\n      <th>campaign</th>\n      <th>pdays</th>\n      <th>previous</th>\n      <th>poutcome</th>\n    </tr>\n  </thead>\n  <tbody>\n    <tr>\n      <th>0</th>\n      <td>53608</td>\n      <td>32</td>\n      <td>management</td>\n      <td>single</td>\n      <td>tertiary</td>\n      <td>no</td>\n      <td>12569</td>\n      <td>no</td>\n      <td>no</td>\n      <td>cellular</td>\n      <td>1</td>\n      <td>jul</td>\n      <td>2</td>\n      <td>295</td>\n      <td>2</td>\n      <td>success</td>\n    </tr>\n    <tr>\n      <th>1</th>\n      <td>51055</td>\n      <td>25</td>\n      <td>services</td>\n      <td>single</td>\n      <td>secondary</td>\n      <td>no</td>\n      <td>801</td>\n      <td>no</td>\n      <td>no</td>\n      <td>cellular</td>\n      <td>5</td>\n      <td>jun</td>\n      <td>2</td>\n      <td>-1</td>\n      <td>0</td>\n      <td>unknown</td>\n    </tr>\n    <tr>\n      <th>2</th>\n      <td>52573</td>\n      <td>46</td>\n      <td>blue-collar</td>\n      <td>married</td>\n      <td>secondary</td>\n      <td>no</td>\n      <td>1728</td>\n      <td>yes</td>\n      <td>no</td>\n      <td>unknown</td>\n      <td>26</td>\n      <td>may</td>\n      <td>2</td>\n      <td>-1</td>\n      <td>0</td>\n      <td>unknown</td>\n    </tr>\n    <tr>\n      <th>3</th>\n      <td>50458</td>\n      <td>39</td>\n      <td>management</td>\n      <td>divorced</td>\n      <td>secondary</td>\n      <td>no</td>\n      <td>51</td>\n      <td>no</td>\n      <td>no</td>\n      <td>unknown</td>\n      <td>17</td>\n      <td>jun</td>\n      <td>2</td>\n      <td>-1</td>\n      <td>0</td>\n      <td>unknown</td>\n    </tr>\n    <tr>\n      <th>4</th>\n      <td>52272</td>\n      <td>31</td>\n      <td>services</td>\n      <td>single</td>\n      <td>tertiary</td>\n      <td>no</td>\n      <td>1626</td>\n      <td>no</td>\n      <td>no</td>\n      <td>unknown</td>\n      <td>31</td>\n      <td>jul</td>\n      <td>1</td>\n      <td>-1</td>\n      <td>0</td>\n      <td>unknown</td>\n    </tr>\n  </tbody>\n</table>\n</div>"
     },
     "metadata": {},
     "output_type": "display_data"
    }
   ],
   "source": [
    "import pandas as pd\n",
    "\n",
    "data       = pd.read_csv(\"https://raw.githubusercontent.com/Datamanim/datarepo/main/bank/train.csv\")\n",
    "validation = pd.read_csv(\"https://raw.githubusercontent.com/Datamanim/datarepo/main/bank/test.csv\")\n",
    "\n",
    "display(data.head())\n",
    "display(validation.head())"
   ],
   "metadata": {
    "collapsed": false
   }
  },
  {
   "cell_type": "code",
   "execution_count": 87,
   "outputs": [],
   "source": [
    "y = data['y']"
   ],
   "metadata": {
    "collapsed": false
   }
  },
  {
   "cell_type": "code",
   "execution_count": 88,
   "outputs": [
    {
     "data": {
      "text/plain": "       age         job  marital  education default  balance housing loan  \\\n0       29  technician   single   tertiary      no    18254      no   no   \n1       26    services   single  secondary      no      512     yes  yes   \n2       30  management   single  secondary      no      135      no   no   \n3       41  technician  married    unknown      no       30     yes   no   \n4       27      admin.   single  secondary      no      321      no  yes   \n...    ...         ...      ...        ...     ...      ...     ...  ...   \n12865   47  technician  married  secondary      no     1167     yes   no   \n12866   31     unknown  married  secondary      no      111      no   no   \n12867   37  unemployed   single   tertiary      no     1316     yes   no   \n12868   42  management  married   tertiary      no      479     yes   no   \n12869   24    services   single  secondary      no        0      no   no   \n\n        contact  day month  campaign  pdays  previous poutcome  \n0      cellular   11   may         2     -1         0  unknown  \n1       unknown    5   jun         3     -1         0  unknown  \n2      cellular   14   aug         2     -1         0  unknown  \n3      cellular   10   jul         1     -1         0  unknown  \n4       unknown    2   sep         1     -1         0  unknown  \n...         ...  ...   ...       ...    ...       ...      ...  \n12865  cellular   30   apr         1     87         5  failure  \n12866  cellular   21   nov         2     93         2  failure  \n12867  cellular   18   nov         1    172         2  failure  \n12868   unknown   28   may         2     -1         0  unknown  \n12869   unknown   16   may         1     -1         0  unknown  \n\n[12870 rows x 15 columns]",
      "text/html": "<div>\n<style scoped>\n    .dataframe tbody tr th:only-of-type {\n        vertical-align: middle;\n    }\n\n    .dataframe tbody tr th {\n        vertical-align: top;\n    }\n\n    .dataframe thead th {\n        text-align: right;\n    }\n</style>\n<table border=\"1\" class=\"dataframe\">\n  <thead>\n    <tr style=\"text-align: right;\">\n      <th></th>\n      <th>age</th>\n      <th>job</th>\n      <th>marital</th>\n      <th>education</th>\n      <th>default</th>\n      <th>balance</th>\n      <th>housing</th>\n      <th>loan</th>\n      <th>contact</th>\n      <th>day</th>\n      <th>month</th>\n      <th>campaign</th>\n      <th>pdays</th>\n      <th>previous</th>\n      <th>poutcome</th>\n    </tr>\n  </thead>\n  <tbody>\n    <tr>\n      <th>0</th>\n      <td>29</td>\n      <td>technician</td>\n      <td>single</td>\n      <td>tertiary</td>\n      <td>no</td>\n      <td>18254</td>\n      <td>no</td>\n      <td>no</td>\n      <td>cellular</td>\n      <td>11</td>\n      <td>may</td>\n      <td>2</td>\n      <td>-1</td>\n      <td>0</td>\n      <td>unknown</td>\n    </tr>\n    <tr>\n      <th>1</th>\n      <td>26</td>\n      <td>services</td>\n      <td>single</td>\n      <td>secondary</td>\n      <td>no</td>\n      <td>512</td>\n      <td>yes</td>\n      <td>yes</td>\n      <td>unknown</td>\n      <td>5</td>\n      <td>jun</td>\n      <td>3</td>\n      <td>-1</td>\n      <td>0</td>\n      <td>unknown</td>\n    </tr>\n    <tr>\n      <th>2</th>\n      <td>30</td>\n      <td>management</td>\n      <td>single</td>\n      <td>secondary</td>\n      <td>no</td>\n      <td>135</td>\n      <td>no</td>\n      <td>no</td>\n      <td>cellular</td>\n      <td>14</td>\n      <td>aug</td>\n      <td>2</td>\n      <td>-1</td>\n      <td>0</td>\n      <td>unknown</td>\n    </tr>\n    <tr>\n      <th>3</th>\n      <td>41</td>\n      <td>technician</td>\n      <td>married</td>\n      <td>unknown</td>\n      <td>no</td>\n      <td>30</td>\n      <td>yes</td>\n      <td>no</td>\n      <td>cellular</td>\n      <td>10</td>\n      <td>jul</td>\n      <td>1</td>\n      <td>-1</td>\n      <td>0</td>\n      <td>unknown</td>\n    </tr>\n    <tr>\n      <th>4</th>\n      <td>27</td>\n      <td>admin.</td>\n      <td>single</td>\n      <td>secondary</td>\n      <td>no</td>\n      <td>321</td>\n      <td>no</td>\n      <td>yes</td>\n      <td>unknown</td>\n      <td>2</td>\n      <td>sep</td>\n      <td>1</td>\n      <td>-1</td>\n      <td>0</td>\n      <td>unknown</td>\n    </tr>\n    <tr>\n      <th>...</th>\n      <td>...</td>\n      <td>...</td>\n      <td>...</td>\n      <td>...</td>\n      <td>...</td>\n      <td>...</td>\n      <td>...</td>\n      <td>...</td>\n      <td>...</td>\n      <td>...</td>\n      <td>...</td>\n      <td>...</td>\n      <td>...</td>\n      <td>...</td>\n      <td>...</td>\n    </tr>\n    <tr>\n      <th>12865</th>\n      <td>47</td>\n      <td>technician</td>\n      <td>married</td>\n      <td>secondary</td>\n      <td>no</td>\n      <td>1167</td>\n      <td>yes</td>\n      <td>no</td>\n      <td>cellular</td>\n      <td>30</td>\n      <td>apr</td>\n      <td>1</td>\n      <td>87</td>\n      <td>5</td>\n      <td>failure</td>\n    </tr>\n    <tr>\n      <th>12866</th>\n      <td>31</td>\n      <td>unknown</td>\n      <td>married</td>\n      <td>secondary</td>\n      <td>no</td>\n      <td>111</td>\n      <td>no</td>\n      <td>no</td>\n      <td>cellular</td>\n      <td>21</td>\n      <td>nov</td>\n      <td>2</td>\n      <td>93</td>\n      <td>2</td>\n      <td>failure</td>\n    </tr>\n    <tr>\n      <th>12867</th>\n      <td>37</td>\n      <td>unemployed</td>\n      <td>single</td>\n      <td>tertiary</td>\n      <td>no</td>\n      <td>1316</td>\n      <td>yes</td>\n      <td>no</td>\n      <td>cellular</td>\n      <td>18</td>\n      <td>nov</td>\n      <td>1</td>\n      <td>172</td>\n      <td>2</td>\n      <td>failure</td>\n    </tr>\n    <tr>\n      <th>12868</th>\n      <td>42</td>\n      <td>management</td>\n      <td>married</td>\n      <td>tertiary</td>\n      <td>no</td>\n      <td>479</td>\n      <td>yes</td>\n      <td>no</td>\n      <td>unknown</td>\n      <td>28</td>\n      <td>may</td>\n      <td>2</td>\n      <td>-1</td>\n      <td>0</td>\n      <td>unknown</td>\n    </tr>\n    <tr>\n      <th>12869</th>\n      <td>24</td>\n      <td>services</td>\n      <td>single</td>\n      <td>secondary</td>\n      <td>no</td>\n      <td>0</td>\n      <td>no</td>\n      <td>no</td>\n      <td>unknown</td>\n      <td>16</td>\n      <td>may</td>\n      <td>1</td>\n      <td>-1</td>\n      <td>0</td>\n      <td>unknown</td>\n    </tr>\n  </tbody>\n</table>\n<p>12870 rows × 15 columns</p>\n</div>"
     },
     "metadata": {},
     "output_type": "display_data"
    },
    {
     "data": {
      "text/plain": "      age            job   marital  education default  balance housing loan  \\\n0      32     management    single   tertiary      no    12569      no   no   \n1      25       services    single  secondary      no      801      no   no   \n2      46    blue-collar   married  secondary      no     1728     yes   no   \n3      39     management  divorced  secondary      no       51      no   no   \n4      31       services    single   tertiary      no     1626      no   no   \n...   ...            ...       ...        ...     ...      ...     ...  ...   \n4286   47         admin.   married  secondary      no      520      no   no   \n4287   33     technician   married  secondary      no      133      no   no   \n4288   40         admin.   married  secondary      no     2574     yes   no   \n4289   39    blue-collar   married  secondary      no     2467      no   no   \n4290   46  self-employed   married    primary      no       49      no   no   \n\n        contact  day month  campaign  pdays  previous poutcome  \n0      cellular    1   jul         2    295         2  success  \n1      cellular    5   jun         2     -1         0  unknown  \n2       unknown   26   may         2     -1         0  unknown  \n3       unknown   17   jun         2     -1         0  unknown  \n4       unknown   31   jul         1     -1         0  unknown  \n...         ...  ...   ...       ...    ...       ...      ...  \n4286  telephone    9   feb         6     -1         0  unknown  \n4287   cellular   12   nov         2    192         1  success  \n4288   cellular   20   nov         1     -1         0  unknown  \n4289   cellular   19   jul         2    276         3    other  \n4290   cellular   27   aug         6     -1         0  unknown  \n\n[4291 rows x 15 columns]",
      "text/html": "<div>\n<style scoped>\n    .dataframe tbody tr th:only-of-type {\n        vertical-align: middle;\n    }\n\n    .dataframe tbody tr th {\n        vertical-align: top;\n    }\n\n    .dataframe thead th {\n        text-align: right;\n    }\n</style>\n<table border=\"1\" class=\"dataframe\">\n  <thead>\n    <tr style=\"text-align: right;\">\n      <th></th>\n      <th>age</th>\n      <th>job</th>\n      <th>marital</th>\n      <th>education</th>\n      <th>default</th>\n      <th>balance</th>\n      <th>housing</th>\n      <th>loan</th>\n      <th>contact</th>\n      <th>day</th>\n      <th>month</th>\n      <th>campaign</th>\n      <th>pdays</th>\n      <th>previous</th>\n      <th>poutcome</th>\n    </tr>\n  </thead>\n  <tbody>\n    <tr>\n      <th>0</th>\n      <td>32</td>\n      <td>management</td>\n      <td>single</td>\n      <td>tertiary</td>\n      <td>no</td>\n      <td>12569</td>\n      <td>no</td>\n      <td>no</td>\n      <td>cellular</td>\n      <td>1</td>\n      <td>jul</td>\n      <td>2</td>\n      <td>295</td>\n      <td>2</td>\n      <td>success</td>\n    </tr>\n    <tr>\n      <th>1</th>\n      <td>25</td>\n      <td>services</td>\n      <td>single</td>\n      <td>secondary</td>\n      <td>no</td>\n      <td>801</td>\n      <td>no</td>\n      <td>no</td>\n      <td>cellular</td>\n      <td>5</td>\n      <td>jun</td>\n      <td>2</td>\n      <td>-1</td>\n      <td>0</td>\n      <td>unknown</td>\n    </tr>\n    <tr>\n      <th>2</th>\n      <td>46</td>\n      <td>blue-collar</td>\n      <td>married</td>\n      <td>secondary</td>\n      <td>no</td>\n      <td>1728</td>\n      <td>yes</td>\n      <td>no</td>\n      <td>unknown</td>\n      <td>26</td>\n      <td>may</td>\n      <td>2</td>\n      <td>-1</td>\n      <td>0</td>\n      <td>unknown</td>\n    </tr>\n    <tr>\n      <th>3</th>\n      <td>39</td>\n      <td>management</td>\n      <td>divorced</td>\n      <td>secondary</td>\n      <td>no</td>\n      <td>51</td>\n      <td>no</td>\n      <td>no</td>\n      <td>unknown</td>\n      <td>17</td>\n      <td>jun</td>\n      <td>2</td>\n      <td>-1</td>\n      <td>0</td>\n      <td>unknown</td>\n    </tr>\n    <tr>\n      <th>4</th>\n      <td>31</td>\n      <td>services</td>\n      <td>single</td>\n      <td>tertiary</td>\n      <td>no</td>\n      <td>1626</td>\n      <td>no</td>\n      <td>no</td>\n      <td>unknown</td>\n      <td>31</td>\n      <td>jul</td>\n      <td>1</td>\n      <td>-1</td>\n      <td>0</td>\n      <td>unknown</td>\n    </tr>\n    <tr>\n      <th>...</th>\n      <td>...</td>\n      <td>...</td>\n      <td>...</td>\n      <td>...</td>\n      <td>...</td>\n      <td>...</td>\n      <td>...</td>\n      <td>...</td>\n      <td>...</td>\n      <td>...</td>\n      <td>...</td>\n      <td>...</td>\n      <td>...</td>\n      <td>...</td>\n      <td>...</td>\n    </tr>\n    <tr>\n      <th>4286</th>\n      <td>47</td>\n      <td>admin.</td>\n      <td>married</td>\n      <td>secondary</td>\n      <td>no</td>\n      <td>520</td>\n      <td>no</td>\n      <td>no</td>\n      <td>telephone</td>\n      <td>9</td>\n      <td>feb</td>\n      <td>6</td>\n      <td>-1</td>\n      <td>0</td>\n      <td>unknown</td>\n    </tr>\n    <tr>\n      <th>4287</th>\n      <td>33</td>\n      <td>technician</td>\n      <td>married</td>\n      <td>secondary</td>\n      <td>no</td>\n      <td>133</td>\n      <td>no</td>\n      <td>no</td>\n      <td>cellular</td>\n      <td>12</td>\n      <td>nov</td>\n      <td>2</td>\n      <td>192</td>\n      <td>1</td>\n      <td>success</td>\n    </tr>\n    <tr>\n      <th>4288</th>\n      <td>40</td>\n      <td>admin.</td>\n      <td>married</td>\n      <td>secondary</td>\n      <td>no</td>\n      <td>2574</td>\n      <td>yes</td>\n      <td>no</td>\n      <td>cellular</td>\n      <td>20</td>\n      <td>nov</td>\n      <td>1</td>\n      <td>-1</td>\n      <td>0</td>\n      <td>unknown</td>\n    </tr>\n    <tr>\n      <th>4289</th>\n      <td>39</td>\n      <td>blue-collar</td>\n      <td>married</td>\n      <td>secondary</td>\n      <td>no</td>\n      <td>2467</td>\n      <td>no</td>\n      <td>no</td>\n      <td>cellular</td>\n      <td>19</td>\n      <td>jul</td>\n      <td>2</td>\n      <td>276</td>\n      <td>3</td>\n      <td>other</td>\n    </tr>\n    <tr>\n      <th>4290</th>\n      <td>46</td>\n      <td>self-employed</td>\n      <td>married</td>\n      <td>primary</td>\n      <td>no</td>\n      <td>49</td>\n      <td>no</td>\n      <td>no</td>\n      <td>cellular</td>\n      <td>27</td>\n      <td>aug</td>\n      <td>6</td>\n      <td>-1</td>\n      <td>0</td>\n      <td>unknown</td>\n    </tr>\n  </tbody>\n</table>\n<p>4291 rows × 15 columns</p>\n</div>"
     },
     "metadata": {},
     "output_type": "display_data"
    }
   ],
   "source": [
    "data_drop       = data.drop(columns=['ID', 'y'])\n",
    "validation_drop = validation.drop(columns=['ID'])[data_drop.columns]\n",
    "display(data_drop)\n",
    "display(validation_drop)"
   ],
   "metadata": {
    "collapsed": false
   }
  },
  {
   "cell_type": "code",
   "execution_count": 89,
   "outputs": [
    {
     "data": {
      "text/plain": "       age  balance  day  campaign  pdays  previous  job_admin.  \\\n0       29    18254   11         2     -1         0       False   \n1       26      512    5         3     -1         0       False   \n2       30      135   14         2     -1         0       False   \n3       41       30   10         1     -1         0       False   \n4       27      321    2         1     -1         0        True   \n...    ...      ...  ...       ...    ...       ...         ...   \n12865   47     1167   30         1     87         5       False   \n12866   31      111   21         2     93         2       False   \n12867   37     1316   18         1    172         2       False   \n12868   42      479   28         2     -1         0       False   \n12869   24        0   16         1     -1         0       False   \n\n       job_blue-collar  job_entrepreneur  job_housemaid  ...  month_jun  \\\n0                False             False          False  ...      False   \n1                False             False          False  ...       True   \n2                False             False          False  ...      False   \n3                False             False          False  ...      False   \n4                False             False          False  ...      False   \n...                ...               ...            ...  ...        ...   \n12865            False             False          False  ...      False   \n12866            False             False          False  ...      False   \n12867            False             False          False  ...      False   \n12868            False             False          False  ...      False   \n12869            False             False          False  ...      False   \n\n       month_mar  month_may  month_nov  month_oct  month_sep  \\\n0          False       True      False      False      False   \n1          False      False      False      False      False   \n2          False      False      False      False      False   \n3          False      False      False      False      False   \n4          False      False      False      False       True   \n...          ...        ...        ...        ...        ...   \n12865      False      False      False      False      False   \n12866      False      False       True      False      False   \n12867      False      False       True      False      False   \n12868      False       True      False      False      False   \n12869      False       True      False      False      False   \n\n       poutcome_failure  poutcome_other  poutcome_success  poutcome_unknown  \n0                 False           False             False              True  \n1                 False           False             False              True  \n2                 False           False             False              True  \n3                 False           False             False              True  \n4                 False           False             False              True  \n...                 ...             ...               ...               ...  \n12865              True           False             False             False  \n12866              True           False             False             False  \n12867              True           False             False             False  \n12868             False           False             False              True  \n12869             False           False             False              True  \n\n[12870 rows x 50 columns]",
      "text/html": "<div>\n<style scoped>\n    .dataframe tbody tr th:only-of-type {\n        vertical-align: middle;\n    }\n\n    .dataframe tbody tr th {\n        vertical-align: top;\n    }\n\n    .dataframe thead th {\n        text-align: right;\n    }\n</style>\n<table border=\"1\" class=\"dataframe\">\n  <thead>\n    <tr style=\"text-align: right;\">\n      <th></th>\n      <th>age</th>\n      <th>balance</th>\n      <th>day</th>\n      <th>campaign</th>\n      <th>pdays</th>\n      <th>previous</th>\n      <th>job_admin.</th>\n      <th>job_blue-collar</th>\n      <th>job_entrepreneur</th>\n      <th>job_housemaid</th>\n      <th>...</th>\n      <th>month_jun</th>\n      <th>month_mar</th>\n      <th>month_may</th>\n      <th>month_nov</th>\n      <th>month_oct</th>\n      <th>month_sep</th>\n      <th>poutcome_failure</th>\n      <th>poutcome_other</th>\n      <th>poutcome_success</th>\n      <th>poutcome_unknown</th>\n    </tr>\n  </thead>\n  <tbody>\n    <tr>\n      <th>0</th>\n      <td>29</td>\n      <td>18254</td>\n      <td>11</td>\n      <td>2</td>\n      <td>-1</td>\n      <td>0</td>\n      <td>False</td>\n      <td>False</td>\n      <td>False</td>\n      <td>False</td>\n      <td>...</td>\n      <td>False</td>\n      <td>False</td>\n      <td>True</td>\n      <td>False</td>\n      <td>False</td>\n      <td>False</td>\n      <td>False</td>\n      <td>False</td>\n      <td>False</td>\n      <td>True</td>\n    </tr>\n    <tr>\n      <th>1</th>\n      <td>26</td>\n      <td>512</td>\n      <td>5</td>\n      <td>3</td>\n      <td>-1</td>\n      <td>0</td>\n      <td>False</td>\n      <td>False</td>\n      <td>False</td>\n      <td>False</td>\n      <td>...</td>\n      <td>True</td>\n      <td>False</td>\n      <td>False</td>\n      <td>False</td>\n      <td>False</td>\n      <td>False</td>\n      <td>False</td>\n      <td>False</td>\n      <td>False</td>\n      <td>True</td>\n    </tr>\n    <tr>\n      <th>2</th>\n      <td>30</td>\n      <td>135</td>\n      <td>14</td>\n      <td>2</td>\n      <td>-1</td>\n      <td>0</td>\n      <td>False</td>\n      <td>False</td>\n      <td>False</td>\n      <td>False</td>\n      <td>...</td>\n      <td>False</td>\n      <td>False</td>\n      <td>False</td>\n      <td>False</td>\n      <td>False</td>\n      <td>False</td>\n      <td>False</td>\n      <td>False</td>\n      <td>False</td>\n      <td>True</td>\n    </tr>\n    <tr>\n      <th>3</th>\n      <td>41</td>\n      <td>30</td>\n      <td>10</td>\n      <td>1</td>\n      <td>-1</td>\n      <td>0</td>\n      <td>False</td>\n      <td>False</td>\n      <td>False</td>\n      <td>False</td>\n      <td>...</td>\n      <td>False</td>\n      <td>False</td>\n      <td>False</td>\n      <td>False</td>\n      <td>False</td>\n      <td>False</td>\n      <td>False</td>\n      <td>False</td>\n      <td>False</td>\n      <td>True</td>\n    </tr>\n    <tr>\n      <th>4</th>\n      <td>27</td>\n      <td>321</td>\n      <td>2</td>\n      <td>1</td>\n      <td>-1</td>\n      <td>0</td>\n      <td>True</td>\n      <td>False</td>\n      <td>False</td>\n      <td>False</td>\n      <td>...</td>\n      <td>False</td>\n      <td>False</td>\n      <td>False</td>\n      <td>False</td>\n      <td>False</td>\n      <td>True</td>\n      <td>False</td>\n      <td>False</td>\n      <td>False</td>\n      <td>True</td>\n    </tr>\n    <tr>\n      <th>...</th>\n      <td>...</td>\n      <td>...</td>\n      <td>...</td>\n      <td>...</td>\n      <td>...</td>\n      <td>...</td>\n      <td>...</td>\n      <td>...</td>\n      <td>...</td>\n      <td>...</td>\n      <td>...</td>\n      <td>...</td>\n      <td>...</td>\n      <td>...</td>\n      <td>...</td>\n      <td>...</td>\n      <td>...</td>\n      <td>...</td>\n      <td>...</td>\n      <td>...</td>\n      <td>...</td>\n    </tr>\n    <tr>\n      <th>12865</th>\n      <td>47</td>\n      <td>1167</td>\n      <td>30</td>\n      <td>1</td>\n      <td>87</td>\n      <td>5</td>\n      <td>False</td>\n      <td>False</td>\n      <td>False</td>\n      <td>False</td>\n      <td>...</td>\n      <td>False</td>\n      <td>False</td>\n      <td>False</td>\n      <td>False</td>\n      <td>False</td>\n      <td>False</td>\n      <td>True</td>\n      <td>False</td>\n      <td>False</td>\n      <td>False</td>\n    </tr>\n    <tr>\n      <th>12866</th>\n      <td>31</td>\n      <td>111</td>\n      <td>21</td>\n      <td>2</td>\n      <td>93</td>\n      <td>2</td>\n      <td>False</td>\n      <td>False</td>\n      <td>False</td>\n      <td>False</td>\n      <td>...</td>\n      <td>False</td>\n      <td>False</td>\n      <td>False</td>\n      <td>True</td>\n      <td>False</td>\n      <td>False</td>\n      <td>True</td>\n      <td>False</td>\n      <td>False</td>\n      <td>False</td>\n    </tr>\n    <tr>\n      <th>12867</th>\n      <td>37</td>\n      <td>1316</td>\n      <td>18</td>\n      <td>1</td>\n      <td>172</td>\n      <td>2</td>\n      <td>False</td>\n      <td>False</td>\n      <td>False</td>\n      <td>False</td>\n      <td>...</td>\n      <td>False</td>\n      <td>False</td>\n      <td>False</td>\n      <td>True</td>\n      <td>False</td>\n      <td>False</td>\n      <td>True</td>\n      <td>False</td>\n      <td>False</td>\n      <td>False</td>\n    </tr>\n    <tr>\n      <th>12868</th>\n      <td>42</td>\n      <td>479</td>\n      <td>28</td>\n      <td>2</td>\n      <td>-1</td>\n      <td>0</td>\n      <td>False</td>\n      <td>False</td>\n      <td>False</td>\n      <td>False</td>\n      <td>...</td>\n      <td>False</td>\n      <td>False</td>\n      <td>True</td>\n      <td>False</td>\n      <td>False</td>\n      <td>False</td>\n      <td>False</td>\n      <td>False</td>\n      <td>False</td>\n      <td>True</td>\n    </tr>\n    <tr>\n      <th>12869</th>\n      <td>24</td>\n      <td>0</td>\n      <td>16</td>\n      <td>1</td>\n      <td>-1</td>\n      <td>0</td>\n      <td>False</td>\n      <td>False</td>\n      <td>False</td>\n      <td>False</td>\n      <td>...</td>\n      <td>False</td>\n      <td>False</td>\n      <td>True</td>\n      <td>False</td>\n      <td>False</td>\n      <td>False</td>\n      <td>False</td>\n      <td>False</td>\n      <td>False</td>\n      <td>True</td>\n    </tr>\n  </tbody>\n</table>\n<p>12870 rows × 50 columns</p>\n</div>"
     },
     "metadata": {},
     "output_type": "display_data"
    },
    {
     "data": {
      "text/plain": "      age  balance  day  campaign  pdays  previous  job_admin.  \\\n0      32    12569    1         2    295         2       False   \n1      25      801    5         2     -1         0       False   \n2      46     1728   26         2     -1         0       False   \n3      39       51   17         2     -1         0       False   \n4      31     1626   31         1     -1         0       False   \n...   ...      ...  ...       ...    ...       ...         ...   \n4286   47      520    9         6     -1         0        True   \n4287   33      133   12         2    192         1       False   \n4288   40     2574   20         1     -1         0        True   \n4289   39     2467   19         2    276         3       False   \n4290   46       49   27         6     -1         0       False   \n\n      job_blue-collar  job_entrepreneur  job_housemaid  ...  month_jun  \\\n0               False             False          False  ...      False   \n1               False             False          False  ...       True   \n2                True             False          False  ...      False   \n3               False             False          False  ...       True   \n4               False             False          False  ...      False   \n...               ...               ...            ...  ...        ...   \n4286            False             False          False  ...      False   \n4287            False             False          False  ...      False   \n4288            False             False          False  ...      False   \n4289             True             False          False  ...      False   \n4290            False             False          False  ...      False   \n\n      month_mar  month_may  month_nov  month_oct  month_sep  poutcome_failure  \\\n0         False      False      False      False      False             False   \n1         False      False      False      False      False             False   \n2         False       True      False      False      False             False   \n3         False      False      False      False      False             False   \n4         False      False      False      False      False             False   \n...         ...        ...        ...        ...        ...               ...   \n4286      False      False      False      False      False             False   \n4287      False      False       True      False      False             False   \n4288      False      False       True      False      False             False   \n4289      False      False      False      False      False             False   \n4290      False      False      False      False      False             False   \n\n      poutcome_other  poutcome_success  poutcome_unknown  \n0              False              True             False  \n1              False             False              True  \n2              False             False              True  \n3              False             False              True  \n4              False             False              True  \n...              ...               ...               ...  \n4286           False             False              True  \n4287           False              True             False  \n4288           False             False              True  \n4289            True             False             False  \n4290           False             False              True  \n\n[4291 rows x 50 columns]",
      "text/html": "<div>\n<style scoped>\n    .dataframe tbody tr th:only-of-type {\n        vertical-align: middle;\n    }\n\n    .dataframe tbody tr th {\n        vertical-align: top;\n    }\n\n    .dataframe thead th {\n        text-align: right;\n    }\n</style>\n<table border=\"1\" class=\"dataframe\">\n  <thead>\n    <tr style=\"text-align: right;\">\n      <th></th>\n      <th>age</th>\n      <th>balance</th>\n      <th>day</th>\n      <th>campaign</th>\n      <th>pdays</th>\n      <th>previous</th>\n      <th>job_admin.</th>\n      <th>job_blue-collar</th>\n      <th>job_entrepreneur</th>\n      <th>job_housemaid</th>\n      <th>...</th>\n      <th>month_jun</th>\n      <th>month_mar</th>\n      <th>month_may</th>\n      <th>month_nov</th>\n      <th>month_oct</th>\n      <th>month_sep</th>\n      <th>poutcome_failure</th>\n      <th>poutcome_other</th>\n      <th>poutcome_success</th>\n      <th>poutcome_unknown</th>\n    </tr>\n  </thead>\n  <tbody>\n    <tr>\n      <th>0</th>\n      <td>32</td>\n      <td>12569</td>\n      <td>1</td>\n      <td>2</td>\n      <td>295</td>\n      <td>2</td>\n      <td>False</td>\n      <td>False</td>\n      <td>False</td>\n      <td>False</td>\n      <td>...</td>\n      <td>False</td>\n      <td>False</td>\n      <td>False</td>\n      <td>False</td>\n      <td>False</td>\n      <td>False</td>\n      <td>False</td>\n      <td>False</td>\n      <td>True</td>\n      <td>False</td>\n    </tr>\n    <tr>\n      <th>1</th>\n      <td>25</td>\n      <td>801</td>\n      <td>5</td>\n      <td>2</td>\n      <td>-1</td>\n      <td>0</td>\n      <td>False</td>\n      <td>False</td>\n      <td>False</td>\n      <td>False</td>\n      <td>...</td>\n      <td>True</td>\n      <td>False</td>\n      <td>False</td>\n      <td>False</td>\n      <td>False</td>\n      <td>False</td>\n      <td>False</td>\n      <td>False</td>\n      <td>False</td>\n      <td>True</td>\n    </tr>\n    <tr>\n      <th>2</th>\n      <td>46</td>\n      <td>1728</td>\n      <td>26</td>\n      <td>2</td>\n      <td>-1</td>\n      <td>0</td>\n      <td>False</td>\n      <td>True</td>\n      <td>False</td>\n      <td>False</td>\n      <td>...</td>\n      <td>False</td>\n      <td>False</td>\n      <td>True</td>\n      <td>False</td>\n      <td>False</td>\n      <td>False</td>\n      <td>False</td>\n      <td>False</td>\n      <td>False</td>\n      <td>True</td>\n    </tr>\n    <tr>\n      <th>3</th>\n      <td>39</td>\n      <td>51</td>\n      <td>17</td>\n      <td>2</td>\n      <td>-1</td>\n      <td>0</td>\n      <td>False</td>\n      <td>False</td>\n      <td>False</td>\n      <td>False</td>\n      <td>...</td>\n      <td>True</td>\n      <td>False</td>\n      <td>False</td>\n      <td>False</td>\n      <td>False</td>\n      <td>False</td>\n      <td>False</td>\n      <td>False</td>\n      <td>False</td>\n      <td>True</td>\n    </tr>\n    <tr>\n      <th>4</th>\n      <td>31</td>\n      <td>1626</td>\n      <td>31</td>\n      <td>1</td>\n      <td>-1</td>\n      <td>0</td>\n      <td>False</td>\n      <td>False</td>\n      <td>False</td>\n      <td>False</td>\n      <td>...</td>\n      <td>False</td>\n      <td>False</td>\n      <td>False</td>\n      <td>False</td>\n      <td>False</td>\n      <td>False</td>\n      <td>False</td>\n      <td>False</td>\n      <td>False</td>\n      <td>True</td>\n    </tr>\n    <tr>\n      <th>...</th>\n      <td>...</td>\n      <td>...</td>\n      <td>...</td>\n      <td>...</td>\n      <td>...</td>\n      <td>...</td>\n      <td>...</td>\n      <td>...</td>\n      <td>...</td>\n      <td>...</td>\n      <td>...</td>\n      <td>...</td>\n      <td>...</td>\n      <td>...</td>\n      <td>...</td>\n      <td>...</td>\n      <td>...</td>\n      <td>...</td>\n      <td>...</td>\n      <td>...</td>\n      <td>...</td>\n    </tr>\n    <tr>\n      <th>4286</th>\n      <td>47</td>\n      <td>520</td>\n      <td>9</td>\n      <td>6</td>\n      <td>-1</td>\n      <td>0</td>\n      <td>True</td>\n      <td>False</td>\n      <td>False</td>\n      <td>False</td>\n      <td>...</td>\n      <td>False</td>\n      <td>False</td>\n      <td>False</td>\n      <td>False</td>\n      <td>False</td>\n      <td>False</td>\n      <td>False</td>\n      <td>False</td>\n      <td>False</td>\n      <td>True</td>\n    </tr>\n    <tr>\n      <th>4287</th>\n      <td>33</td>\n      <td>133</td>\n      <td>12</td>\n      <td>2</td>\n      <td>192</td>\n      <td>1</td>\n      <td>False</td>\n      <td>False</td>\n      <td>False</td>\n      <td>False</td>\n      <td>...</td>\n      <td>False</td>\n      <td>False</td>\n      <td>False</td>\n      <td>True</td>\n      <td>False</td>\n      <td>False</td>\n      <td>False</td>\n      <td>False</td>\n      <td>True</td>\n      <td>False</td>\n    </tr>\n    <tr>\n      <th>4288</th>\n      <td>40</td>\n      <td>2574</td>\n      <td>20</td>\n      <td>1</td>\n      <td>-1</td>\n      <td>0</td>\n      <td>True</td>\n      <td>False</td>\n      <td>False</td>\n      <td>False</td>\n      <td>...</td>\n      <td>False</td>\n      <td>False</td>\n      <td>False</td>\n      <td>True</td>\n      <td>False</td>\n      <td>False</td>\n      <td>False</td>\n      <td>False</td>\n      <td>False</td>\n      <td>True</td>\n    </tr>\n    <tr>\n      <th>4289</th>\n      <td>39</td>\n      <td>2467</td>\n      <td>19</td>\n      <td>2</td>\n      <td>276</td>\n      <td>3</td>\n      <td>False</td>\n      <td>True</td>\n      <td>False</td>\n      <td>False</td>\n      <td>...</td>\n      <td>False</td>\n      <td>False</td>\n      <td>False</td>\n      <td>False</td>\n      <td>False</td>\n      <td>False</td>\n      <td>False</td>\n      <td>True</td>\n      <td>False</td>\n      <td>False</td>\n    </tr>\n    <tr>\n      <th>4290</th>\n      <td>46</td>\n      <td>49</td>\n      <td>27</td>\n      <td>6</td>\n      <td>-1</td>\n      <td>0</td>\n      <td>False</td>\n      <td>False</td>\n      <td>False</td>\n      <td>False</td>\n      <td>...</td>\n      <td>False</td>\n      <td>False</td>\n      <td>False</td>\n      <td>False</td>\n      <td>False</td>\n      <td>False</td>\n      <td>False</td>\n      <td>False</td>\n      <td>False</td>\n      <td>True</td>\n    </tr>\n  </tbody>\n</table>\n<p>4291 rows × 50 columns</p>\n</div>"
     },
     "metadata": {},
     "output_type": "display_data"
    }
   ],
   "source": [
    "data_dummies       = pd.get_dummies(data_drop)\n",
    "validation_dummies = pd.get_dummies(validation_drop)\n",
    "y_dummies = pd.get_dummies(y)\n",
    "\n",
    "display(data_dummies)\n",
    "display(validation_dummies)"
   ],
   "metadata": {
    "collapsed": false
   }
  },
  {
   "cell_type": "code",
   "execution_count": 90,
   "outputs": [
    {
     "data": {
      "text/plain": "['AdaBoostClassifier',\n 'AdaBoostRegressor',\n 'BaggingClassifier',\n 'BaggingRegressor',\n 'BaseEnsemble',\n 'ExtraTreesClassifier',\n 'ExtraTreesRegressor',\n 'GradientBoostingClassifier',\n 'GradientBoostingRegressor',\n 'HistGradientBoostingClassifier',\n 'HistGradientBoostingRegressor',\n 'IsolationForest',\n 'RandomForestClassifier',\n 'RandomForestRegressor',\n 'RandomTreesEmbedding',\n 'StackingClassifier',\n 'StackingRegressor',\n 'VotingClassifier',\n 'VotingRegressor',\n '__all__',\n '__builtins__',\n '__cached__',\n '__doc__',\n '__file__',\n '__loader__',\n '__name__',\n '__package__',\n '__path__',\n '__spec__',\n '_bagging',\n '_base',\n '_forest',\n '_gb',\n '_gb_losses',\n '_gradient_boosting',\n '_hist_gradient_boosting',\n '_iforest',\n '_stacking',\n '_voting',\n '_weight_boosting']"
     },
     "execution_count": 90,
     "metadata": {},
     "output_type": "execute_result"
    }
   ],
   "source": [
    "import sklearn.ensemble\n",
    "\n",
    "dir(sklearn.ensemble)\n"
   ],
   "metadata": {
    "collapsed": false
   }
  },
  {
   "cell_type": "code",
   "execution_count": 91,
   "outputs": [],
   "source": [
    "from sklearn.model_selection import train_test_split\n",
    "\n",
    "train_input, test_input, train_target, test_target = train_test_split(data_dummies, y, stratify=y, random_state=1)"
   ],
   "metadata": {
    "collapsed": false
   }
  },
  {
   "cell_type": "code",
   "execution_count": 92,
   "outputs": [
    {
     "name": "stdout",
     "output_type": "stream",
     "text": [
      "1.0\n",
      "0.785891858297079\n"
     ]
    }
   ],
   "source": [
    "from sklearn.ensemble import RandomForestClassifier\n",
    "\n",
    "rf = RandomForestClassifier()\n",
    "rf.fit(train_input, train_target)\n",
    "\n",
    "print(rf.score(train_input, train_target))\n",
    "print(rf.score(test_input, test_target))"
   ],
   "metadata": {
    "collapsed": false
   }
  },
  {
   "cell_type": "code",
   "execution_count": 93,
   "outputs": [
    {
     "name": "stdout",
     "output_type": "stream",
     "text": [
      "1.0\n",
      "0.7779418637509782\n"
     ]
    },
    {
     "data": {
      "text/plain": "         ID  predict\n0     53608     0.88\n1     51055     0.80\n2     52573     0.01\n3     50458     0.23\n4     52272     0.25\n...     ...      ...\n4286  50332     0.15\n4287  51293     0.89\n4288  54023     0.11\n4289  53775     0.62\n4290  51945     0.03\n\n[4291 rows x 2 columns]",
      "text/html": "<div>\n<style scoped>\n    .dataframe tbody tr th:only-of-type {\n        vertical-align: middle;\n    }\n\n    .dataframe tbody tr th {\n        vertical-align: top;\n    }\n\n    .dataframe thead th {\n        text-align: right;\n    }\n</style>\n<table border=\"1\" class=\"dataframe\">\n  <thead>\n    <tr style=\"text-align: right;\">\n      <th></th>\n      <th>ID</th>\n      <th>predict</th>\n    </tr>\n  </thead>\n  <tbody>\n    <tr>\n      <th>0</th>\n      <td>53608</td>\n      <td>0.88</td>\n    </tr>\n    <tr>\n      <th>1</th>\n      <td>51055</td>\n      <td>0.80</td>\n    </tr>\n    <tr>\n      <th>2</th>\n      <td>52573</td>\n      <td>0.01</td>\n    </tr>\n    <tr>\n      <th>3</th>\n      <td>50458</td>\n      <td>0.23</td>\n    </tr>\n    <tr>\n      <th>4</th>\n      <td>52272</td>\n      <td>0.25</td>\n    </tr>\n    <tr>\n      <th>...</th>\n      <td>...</td>\n      <td>...</td>\n    </tr>\n    <tr>\n      <th>4286</th>\n      <td>50332</td>\n      <td>0.15</td>\n    </tr>\n    <tr>\n      <th>4287</th>\n      <td>51293</td>\n      <td>0.89</td>\n    </tr>\n    <tr>\n      <th>4288</th>\n      <td>54023</td>\n      <td>0.11</td>\n    </tr>\n    <tr>\n      <th>4289</th>\n      <td>53775</td>\n      <td>0.62</td>\n    </tr>\n    <tr>\n      <th>4290</th>\n      <td>51945</td>\n      <td>0.03</td>\n    </tr>\n  </tbody>\n</table>\n<p>4291 rows × 2 columns</p>\n</div>"
     },
     "metadata": {},
     "output_type": "display_data"
    }
   ],
   "source": [
    "from sklearn.metrics import roc_auc_score\n",
    "\n",
    "train_pred = rf.predict_proba(train_input)\n",
    "test_pred  = rf.predict_proba(test_input)\n",
    "val_pred   = rf.predict_proba(validation_dummies)\n",
    "\n",
    "print(roc_auc_score(train_target, train_pred[:,1]))\n",
    "print(roc_auc_score(test_target, test_pred[:,1]))\n",
    "\n",
    "result = pd.DataFrame()\n",
    "result['ID'] = validation['ID']\n",
    "result['predict'] = val_pred[:,1]\n",
    "\n",
    "display(result)"
   ],
   "metadata": {
    "collapsed": false
   }
  }
 ],
 "metadata": {
  "kernelspec": {
   "display_name": "Python 3",
   "language": "python",
   "name": "python3"
  },
  "language_info": {
   "codemirror_mode": {
    "name": "ipython",
    "version": 2
   },
   "file_extension": ".py",
   "mimetype": "text/x-python",
   "name": "python",
   "nbconvert_exporter": "python",
   "pygments_lexer": "ipython2",
   "version": "2.7.6"
  }
 },
 "nbformat": 4,
 "nbformat_minor": 0
}
